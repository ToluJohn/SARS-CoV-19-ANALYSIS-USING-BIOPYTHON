{
 "cells": [
  {
   "cell_type": "code",
   "execution_count": 1,
   "metadata": {},
   "outputs": [],
   "source": [
    "from Bio.Seq import Seq\n",
    "from Bio import SeqIO"
   ]
  },
  {
   "cell_type": "code",
   "execution_count": 2,
   "metadata": {},
   "outputs": [],
   "source": [
    "# Biopython Library for pairwise alignment of nucleotide sequence\n",
    "from Bio import pairwise2\n",
    "from Bio.pairwise2 import format_alignment"
   ]
  },
  {
   "cell_type": "code",
   "execution_count": 3,
   "metadata": {},
   "outputs": [
    {
     "data": {
      "text/plain": [
       "Seq('ATTGCATCGATGCTAATCG')"
      ]
     },
     "execution_count": 3,
     "metadata": {},
     "output_type": "execute_result"
    }
   ],
   "source": [
    "seq1= Seq('ATTGCATCGATGCTAATCG')\n",
    "seq1"
   ]
  },
  {
   "cell_type": "code",
   "execution_count": 4,
   "metadata": {},
   "outputs": [
    {
     "data": {
      "text/plain": [
       "Seq('ATTGCTCAAGACTAGCA')"
      ]
     },
     "execution_count": 4,
     "metadata": {},
     "output_type": "execute_result"
    }
   ],
   "source": [
    "seq2= Seq('ATTGCTCAAGACTAGCA')\n",
    "seq2"
   ]
  },
  {
   "cell_type": "code",
   "execution_count": 5,
   "metadata": {},
   "outputs": [
    {
     "data": {
      "text/plain": [
       "['BiopythonWarning',\n",
       " 'MAX_ALIGNMENTS',\n",
       " '_PRECISION',\n",
       " '__builtins__',\n",
       " '__cached__',\n",
       " '__doc__',\n",
       " '__file__',\n",
       " '__loader__',\n",
       " '__name__',\n",
       " '__package__',\n",
       " '__spec__',\n",
       " '_align',\n",
       " '_clean_alignments',\n",
       " '_find_gap_open',\n",
       " '_find_start',\n",
       " '_finish_backtrace',\n",
       " '_make_score_matrix_fast',\n",
       " '_make_score_matrix_generic',\n",
       " '_python_make_score_matrix_fast',\n",
       " '_python_rint',\n",
       " '_recover_alignments',\n",
       " '_reverse_matrices',\n",
       " 'affine_penalty',\n",
       " 'align',\n",
       " 'calc_affine_penalty',\n",
       " 'dictionary_match',\n",
       " 'format_alignment',\n",
       " 'identity_match',\n",
       " 'namedtuple',\n",
       " 'print_matrix',\n",
       " 'rint',\n",
       " 'warnings']"
      ]
     },
     "execution_count": 5,
     "metadata": {},
     "output_type": "execute_result"
    }
   ],
   "source": [
    "dir(pairwise2)"
   ]
  },
  {
   "cell_type": "code",
   "execution_count": 6,
   "metadata": {},
   "outputs": [
    {
     "data": {
      "text/plain": [
       "[Alignment(seqA='ATTGCATCGAT-G-CTAATCG--', seqB='ATTGC-TC-A-AGACT-A--GCA', score=13.0, start=0, end=23),\n",
       " Alignment(seqA='ATTGCATCGATG-CTAATCG--', seqB='ATTGC-TC-AAGACT-A--GCA', score=13.0, start=0, end=22),\n",
       " Alignment(seqA='ATTGCATCG-ATG-CTAATCG--', seqB='ATTGC-TC-AA-GACT-A--GCA', score=13.0, start=0, end=23),\n",
       " Alignment(seqA='ATTGCATCGATG-CTAATCG--', seqB='ATTGC-TCAA-GACT-A--GCA', score=13.0, start=0, end=22),\n",
       " Alignment(seqA='ATTGCATC--GATGCTAATCG--', seqB='ATTGC-TCAAGA--CT-A--GCA', score=13.0, start=0, end=23),\n",
       " Alignment(seqA='ATTGCATCGAT-G-CTAATCG--', seqB='ATTGC-TC-A-AGACTA---GCA', score=13.0, start=0, end=23),\n",
       " Alignment(seqA='ATTGCATCGATG-CTAATCG--', seqB='ATTGC-TC-AAGACTA---GCA', score=13.0, start=0, end=22),\n",
       " Alignment(seqA='ATTGCATCG-ATG-CTAATCG--', seqB='ATTGC-TC-AA-GACTA---GCA', score=13.0, start=0, end=23),\n",
       " Alignment(seqA='ATTGCATCGATG-CTAATCG--', seqB='ATTGC-TCAA-GACTA---GCA', score=13.0, start=0, end=22),\n",
       " Alignment(seqA='ATTGCATC--GATGCTAATCG--', seqB='ATTGC-TCAAGA--CTA---GCA', score=13.0, start=0, end=23),\n",
       " Alignment(seqA='ATTGCATCGAT-G-CTAAT-CG-', seqB='ATTGC-TC-A-AGACT-A-GC-A', score=13.0, start=0, end=23),\n",
       " Alignment(seqA='ATTGCATCGATG-CTAAT-CG-', seqB='ATTGC-TC-AAGACT-A-GC-A', score=13.0, start=0, end=22),\n",
       " Alignment(seqA='ATTGCATCG-ATG-CTAAT-CG-', seqB='ATTGC-TC-AA-GACT-A-GC-A', score=13.0, start=0, end=23),\n",
       " Alignment(seqA='ATTGCATCGATG-CTAAT-CG-', seqB='ATTGC-TCAA-GACT-A-GC-A', score=13.0, start=0, end=22),\n",
       " Alignment(seqA='ATTGCATC--GATGCTAAT-CG-', seqB='ATTGC-TCAAGA--CT-A-GC-A', score=13.0, start=0, end=23),\n",
       " Alignment(seqA='ATTGCATCGAT-G-CTAAT-CG-', seqB='ATTGC-TC-A-AGACTA--GC-A', score=13.0, start=0, end=23),\n",
       " Alignment(seqA='ATTGCATCGATG-CTAAT-CG-', seqB='ATTGC-TC-AAGACTA--GC-A', score=13.0, start=0, end=22),\n",
       " Alignment(seqA='ATTGCATCG-ATG-CTAAT-CG-', seqB='ATTGC-TC-AA-GACTA--GC-A', score=13.0, start=0, end=23),\n",
       " Alignment(seqA='ATTGCATCGATG-CTAAT-CG-', seqB='ATTGC-TCAA-GACTA--GC-A', score=13.0, start=0, end=22),\n",
       " Alignment(seqA='ATTGCATC--GATGCTAAT-CG-', seqB='ATTGC-TCAAGA--CTA--GC-A', score=13.0, start=0, end=23),\n",
       " Alignment(seqA='ATTGCATCGAT-G-CTAATCG-', seqB='ATTGC-TC-A-AGACT-AGC-A', score=13.0, start=0, end=22),\n",
       " Alignment(seqA='ATTGCATCGATG-CTAATCG-', seqB='ATTGC-TC-AAGACT-AGC-A', score=13.0, start=0, end=21),\n",
       " Alignment(seqA='ATTGCATCG-ATG-CTAATCG-', seqB='ATTGC-TC-AA-GACT-AGC-A', score=13.0, start=0, end=22),\n",
       " Alignment(seqA='ATTGCATCGATG-CTAATCG-', seqB='ATTGC-TCAA-GACT-AGC-A', score=13.0, start=0, end=21),\n",
       " Alignment(seqA='ATTGCATC--GATGCTAATCG-', seqB='ATTGC-TCAAGA--CT-AGC-A', score=13.0, start=0, end=22),\n",
       " Alignment(seqA='ATTGCATCGAT-G-CTAATCG-', seqB='ATTGC-TC-A-AGACTA-GC-A', score=13.0, start=0, end=22),\n",
       " Alignment(seqA='ATTGCATCGATG-CTAATCG-', seqB='ATTGC-TC-AAGACTA-GC-A', score=13.0, start=0, end=21),\n",
       " Alignment(seqA='ATTGCATCG-ATG-CTAATCG-', seqB='ATTGC-TC-AA-GACTA-GC-A', score=13.0, start=0, end=22),\n",
       " Alignment(seqA='ATTGCATCGATG-CTAATCG-', seqB='ATTGC-TCAA-GACTA-GC-A', score=13.0, start=0, end=21),\n",
       " Alignment(seqA='ATTGCATC--GATGCTAATCG-', seqB='ATTGC-TCAAGA--CTA-GC-A', score=13.0, start=0, end=22),\n",
       " Alignment(seqA='ATTGCATCGAT-G-CTAATCG-', seqB='ATTGC-TC-A-AGACTAG-C-A', score=13.0, start=0, end=22),\n",
       " Alignment(seqA='ATTGCATCGATG-CTAATCG-', seqB='ATTGC-TC-AAGACTAG-C-A', score=13.0, start=0, end=21),\n",
       " Alignment(seqA='ATTGCATCG-ATG-CTAATCG-', seqB='ATTGC-TC-AA-GACTAG-C-A', score=13.0, start=0, end=22),\n",
       " Alignment(seqA='ATTGCATCGATG-CTAATCG-', seqB='ATTGC-TCAA-GACTAG-C-A', score=13.0, start=0, end=21),\n",
       " Alignment(seqA='ATTGCATC--GATGCTAATCG-', seqB='ATTGC-TCAAGA--CTAG-C-A', score=13.0, start=0, end=22),\n",
       " Alignment(seqA='ATTGCATCGAT-G-CTAAT-CG', seqB='ATTGC-TC-A-AGACT-A-GCA', score=13.0, start=0, end=22),\n",
       " Alignment(seqA='ATTGCATCGATG-CTAAT-CG', seqB='ATTGC-TC-AAGACT-A-GCA', score=13.0, start=0, end=21),\n",
       " Alignment(seqA='ATTGCATCG-ATG-CTAAT-CG', seqB='ATTGC-TC-AA-GACT-A-GCA', score=13.0, start=0, end=22),\n",
       " Alignment(seqA='ATTGCATCGATG-CTAAT-CG', seqB='ATTGC-TCAA-GACT-A-GCA', score=13.0, start=0, end=21),\n",
       " Alignment(seqA='ATTGCATC--GATGCTAAT-CG', seqB='ATTGC-TCAAGA--CT-A-GCA', score=13.0, start=0, end=22),\n",
       " Alignment(seqA='ATTGCATCGAT-G-CTAAT-CG', seqB='ATTGC-TC-A-AGACTA--GCA', score=13.0, start=0, end=22),\n",
       " Alignment(seqA='ATTGCATCGATG-CTAAT-CG', seqB='ATTGC-TC-AAGACTA--GCA', score=13.0, start=0, end=21),\n",
       " Alignment(seqA='ATTGCATCG-ATG-CTAAT-CG', seqB='ATTGC-TC-AA-GACTA--GCA', score=13.0, start=0, end=22),\n",
       " Alignment(seqA='ATTGCATCGATG-CTAAT-CG', seqB='ATTGC-TCAA-GACTA--GCA', score=13.0, start=0, end=21),\n",
       " Alignment(seqA='ATTGCATC--GATGCTAAT-CG', seqB='ATTGC-TCAAGA--CTA--GCA', score=13.0, start=0, end=22),\n",
       " Alignment(seqA='ATTGCATCGAT-G-CTAATCG', seqB='ATTGC-TC-A-AGACT-AGCA', score=13.0, start=0, end=21),\n",
       " Alignment(seqA='ATTGCATCGATG-CTAATCG', seqB='ATTGC-TC-AAGACT-AGCA', score=13.0, start=0, end=20),\n",
       " Alignment(seqA='ATTGCATCG-ATG-CTAATCG', seqB='ATTGC-TC-AA-GACT-AGCA', score=13.0, start=0, end=21),\n",
       " Alignment(seqA='ATTGCATCGATG-CTAATCG', seqB='ATTGC-TCAA-GACT-AGCA', score=13.0, start=0, end=20),\n",
       " Alignment(seqA='ATTGCATC--GATGCTAATCG', seqB='ATTGC-TCAAGA--CT-AGCA', score=13.0, start=0, end=21),\n",
       " Alignment(seqA='ATTGCATCGAT-G-CTAATCG', seqB='ATTGC-TC-A-AGACTA-GCA', score=13.0, start=0, end=21),\n",
       " Alignment(seqA='ATTGCATCGATG-CTAATCG', seqB='ATTGC-TC-AAGACTA-GCA', score=13.0, start=0, end=20),\n",
       " Alignment(seqA='ATTGCATCG-ATG-CTAATCG', seqB='ATTGC-TC-AA-GACTA-GCA', score=13.0, start=0, end=21),\n",
       " Alignment(seqA='ATTGCATCGATG-CTAATCG', seqB='ATTGC-TCAA-GACTA-GCA', score=13.0, start=0, end=20),\n",
       " Alignment(seqA='ATTGCATC--GATGCTAATCG', seqB='ATTGC-TCAAGA--CTA-GCA', score=13.0, start=0, end=21),\n",
       " Alignment(seqA='ATTGCATCGAT-G-CTAATCG', seqB='ATTGC-TC-A-AGACTAG-CA', score=13.0, start=0, end=21),\n",
       " Alignment(seqA='ATTGCATCGATG-CTAATCG', seqB='ATTGC-TC-AAGACTAG-CA', score=13.0, start=0, end=20),\n",
       " Alignment(seqA='ATTGCATCG-ATG-CTAATCG', seqB='ATTGC-TC-AA-GACTAG-CA', score=13.0, start=0, end=21),\n",
       " Alignment(seqA='ATTGCATCGATG-CTAATCG', seqB='ATTGC-TCAA-GACTAG-CA', score=13.0, start=0, end=20),\n",
       " Alignment(seqA='ATTGCATC--GATGCTAATCG', seqB='ATTGC-TCAAGA--CTAG-CA', score=13.0, start=0, end=21),\n",
       " Alignment(seqA='ATTGCATCGAT-G-CTA--ATCG', seqB='ATTGC-TC-A-AGACTAGCA---', score=13.0, start=0, end=23),\n",
       " Alignment(seqA='ATTGCATCGATG-CTA--ATCG', seqB='ATTGC-TC-AAGACTAGCA---', score=13.0, start=0, end=22),\n",
       " Alignment(seqA='ATTGCATCG-ATG-CTA--ATCG', seqB='ATTGC-TC-AA-GACTAGCA---', score=13.0, start=0, end=23),\n",
       " Alignment(seqA='ATTGCATCGATG-CTA--ATCG', seqB='ATTGC-TCAA-GACTAGCA---', score=13.0, start=0, end=22),\n",
       " Alignment(seqA='ATTGCATC--GATGCTA--ATCG', seqB='ATTGC-TCAAGA--CTAGCA---', score=13.0, start=0, end=23),\n",
       " Alignment(seqA='ATTGCATC--GA-T-GCTAATCG', seqB='ATTGC-TCAAGACTAGC--A---', score=13.0, start=0, end=23),\n",
       " Alignment(seqA='ATTGCATC--GA-T-GCTAATCG', seqB='ATTGC-TCAAGACTAGC-A----', score=13.0, start=0, end=23)]"
      ]
     },
     "execution_count": 6,
     "metadata": {},
     "output_type": "execute_result"
    }
   ],
   "source": [
    "alignment= pairwise2.align.globalxx(seq1,seq2)\n",
    "alignment"
   ]
  },
  {
   "cell_type": "code",
   "execution_count": 7,
   "metadata": {},
   "outputs": [
    {
     "name": "stdout",
     "output_type": "stream",
     "text": [
      "ATTGCATCGAT-G-CTAATCG--\n",
      "||||| || |  | || |  |  \n",
      "ATTGC-TC-A-AGACT-A--GCA\n",
      "  Score=13\n",
      "\n"
     ]
    }
   ],
   "source": [
    "print(format_alignment(*alignment[0]))"
   ]
  },
  {
   "cell_type": "code",
   "execution_count": 8,
   "metadata": {},
   "outputs": [
    {
     "name": "stdout",
     "output_type": "stream",
     "text": [
      "ATTGCATCGAT-G-CTAATCG--\n",
      "||||| || |  | || |  |  \n",
      "ATTGC-TC-A-AGACT-A--GCA\n",
      "  Score=13\n",
      "\n",
      "ATTGCATCGATG-CTAATCG--\n",
      "||||| || |.| || |  |  \n",
      "ATTGC-TC-AAGACT-A--GCA\n",
      "  Score=13\n",
      "\n",
      "ATTGCATCG-ATG-CTAATCG--\n",
      "||||| ||  | | || |  |  \n",
      "ATTGC-TC-AA-GACT-A--GCA\n",
      "  Score=13\n",
      "\n",
      "ATTGCATCGATG-CTAATCG--\n",
      "||||| ||.| | || |  |  \n",
      "ATTGC-TCAA-GACT-A--GCA\n",
      "  Score=13\n",
      "\n",
      "ATTGCATC--GATGCTAATCG--\n",
      "||||| ||  ||  || |  |  \n",
      "ATTGC-TCAAGA--CT-A--GCA\n",
      "  Score=13\n",
      "\n",
      "ATTGCATCGAT-G-CTAATCG--\n",
      "||||| || |  | |||   |  \n",
      "ATTGC-TC-A-AGACTA---GCA\n",
      "  Score=13\n",
      "\n",
      "ATTGCATCGATG-CTAATCG--\n",
      "||||| || |.| |||   |  \n",
      "ATTGC-TC-AAGACTA---GCA\n",
      "  Score=13\n",
      "\n",
      "ATTGCATCG-ATG-CTAATCG--\n",
      "||||| ||  | | |||   |  \n",
      "ATTGC-TC-AA-GACTA---GCA\n",
      "  Score=13\n",
      "\n",
      "ATTGCATCGATG-CTAATCG--\n",
      "||||| ||.| | |||   |  \n",
      "ATTGC-TCAA-GACTA---GCA\n",
      "  Score=13\n",
      "\n",
      "ATTGCATC--GATGCTAATCG--\n",
      "||||| ||  ||  |||   |  \n",
      "ATTGC-TCAAGA--CTA---GCA\n",
      "  Score=13\n",
      "\n",
      "ATTGCATCGAT-G-CTAAT-CG-\n",
      "||||| || |  | || |  |  \n",
      "ATTGC-TC-A-AGACT-A-GC-A\n",
      "  Score=13\n",
      "\n",
      "ATTGCATCGATG-CTAAT-CG-\n",
      "||||| || |.| || |  |  \n",
      "ATTGC-TC-AAGACT-A-GC-A\n",
      "  Score=13\n",
      "\n",
      "ATTGCATCG-ATG-CTAAT-CG-\n",
      "||||| ||  | | || |  |  \n",
      "ATTGC-TC-AA-GACT-A-GC-A\n",
      "  Score=13\n",
      "\n",
      "ATTGCATCGATG-CTAAT-CG-\n",
      "||||| ||.| | || |  |  \n",
      "ATTGC-TCAA-GACT-A-GC-A\n",
      "  Score=13\n",
      "\n",
      "ATTGCATC--GATGCTAAT-CG-\n",
      "||||| ||  ||  || |  |  \n",
      "ATTGC-TCAAGA--CT-A-GC-A\n",
      "  Score=13\n",
      "\n",
      "ATTGCATCGAT-G-CTAAT-CG-\n",
      "||||| || |  | |||   |  \n",
      "ATTGC-TC-A-AGACTA--GC-A\n",
      "  Score=13\n",
      "\n",
      "ATTGCATCGATG-CTAAT-CG-\n",
      "||||| || |.| |||   |  \n",
      "ATTGC-TC-AAGACTA--GC-A\n",
      "  Score=13\n",
      "\n",
      "ATTGCATCG-ATG-CTAAT-CG-\n",
      "||||| ||  | | |||   |  \n",
      "ATTGC-TC-AA-GACTA--GC-A\n",
      "  Score=13\n",
      "\n",
      "ATTGCATCGATG-CTAAT-CG-\n",
      "||||| ||.| | |||   |  \n",
      "ATTGC-TCAA-GACTA--GC-A\n",
      "  Score=13\n",
      "\n",
      "ATTGCATC--GATGCTAAT-CG-\n",
      "||||| ||  ||  |||   |  \n",
      "ATTGC-TCAAGA--CTA--GC-A\n",
      "  Score=13\n",
      "\n",
      "ATTGCATCGAT-G-CTAATCG-\n",
      "||||| || |  | || |.|  \n",
      "ATTGC-TC-A-AGACT-AGC-A\n",
      "  Score=13\n",
      "\n",
      "ATTGCATCGATG-CTAATCG-\n",
      "||||| || |.| || |.|  \n",
      "ATTGC-TC-AAGACT-AGC-A\n",
      "  Score=13\n",
      "\n",
      "ATTGCATCG-ATG-CTAATCG-\n",
      "||||| ||  | | || |.|  \n",
      "ATTGC-TC-AA-GACT-AGC-A\n",
      "  Score=13\n",
      "\n",
      "ATTGCATCGATG-CTAATCG-\n",
      "||||| ||.| | || |.|  \n",
      "ATTGC-TCAA-GACT-AGC-A\n",
      "  Score=13\n",
      "\n",
      "ATTGCATC--GATGCTAATCG-\n",
      "||||| ||  ||  || |.|  \n",
      "ATTGC-TCAAGA--CT-AGC-A\n",
      "  Score=13\n",
      "\n",
      "ATTGCATCGAT-G-CTAATCG-\n",
      "||||| || |  | ||| .|  \n",
      "ATTGC-TC-A-AGACTA-GC-A\n",
      "  Score=13\n",
      "\n",
      "ATTGCATCGATG-CTAATCG-\n",
      "||||| || |.| ||| .|  \n",
      "ATTGC-TC-AAGACTA-GC-A\n",
      "  Score=13\n",
      "\n",
      "ATTGCATCG-ATG-CTAATCG-\n",
      "||||| ||  | | ||| .|  \n",
      "ATTGC-TC-AA-GACTA-GC-A\n",
      "  Score=13\n",
      "\n",
      "ATTGCATCGATG-CTAATCG-\n",
      "||||| ||.| | ||| .|  \n",
      "ATTGC-TCAA-GACTA-GC-A\n",
      "  Score=13\n",
      "\n",
      "ATTGCATC--GATGCTAATCG-\n",
      "||||| ||  ||  ||| .|  \n",
      "ATTGC-TCAAGA--CTA-GC-A\n",
      "  Score=13\n",
      "\n",
      "ATTGCATCGAT-G-CTAATCG-\n",
      "||||| || |  | |||. |  \n",
      "ATTGC-TC-A-AGACTAG-C-A\n",
      "  Score=13\n",
      "\n",
      "ATTGCATCGATG-CTAATCG-\n",
      "||||| || |.| |||. |  \n",
      "ATTGC-TC-AAGACTAG-C-A\n",
      "  Score=13\n",
      "\n",
      "ATTGCATCG-ATG-CTAATCG-\n",
      "||||| ||  | | |||. |  \n",
      "ATTGC-TC-AA-GACTAG-C-A\n",
      "  Score=13\n",
      "\n",
      "ATTGCATCGATG-CTAATCG-\n",
      "||||| ||.| | |||. |  \n",
      "ATTGC-TCAA-GACTAG-C-A\n",
      "  Score=13\n",
      "\n",
      "ATTGCATC--GATGCTAATCG-\n",
      "||||| ||  ||  |||. |  \n",
      "ATTGC-TCAAGA--CTAG-C-A\n",
      "  Score=13\n",
      "\n",
      "ATTGCATCGAT-G-CTAAT-CG\n",
      "||||| || |  | || |  |.\n",
      "ATTGC-TC-A-AGACT-A-GCA\n",
      "  Score=13\n",
      "\n",
      "ATTGCATCGATG-CTAAT-CG\n",
      "||||| || |.| || |  |.\n",
      "ATTGC-TC-AAGACT-A-GCA\n",
      "  Score=13\n",
      "\n",
      "ATTGCATCG-ATG-CTAAT-CG\n",
      "||||| ||  | | || |  |.\n",
      "ATTGC-TC-AA-GACT-A-GCA\n",
      "  Score=13\n",
      "\n",
      "ATTGCATCGATG-CTAAT-CG\n",
      "||||| ||.| | || |  |.\n",
      "ATTGC-TCAA-GACT-A-GCA\n",
      "  Score=13\n",
      "\n",
      "ATTGCATC--GATGCTAAT-CG\n",
      "||||| ||  ||  || |  |.\n",
      "ATTGC-TCAAGA--CT-A-GCA\n",
      "  Score=13\n",
      "\n",
      "ATTGCATCGAT-G-CTAAT-CG\n",
      "||||| || |  | |||   |.\n",
      "ATTGC-TC-A-AGACTA--GCA\n",
      "  Score=13\n",
      "\n",
      "ATTGCATCGATG-CTAAT-CG\n",
      "||||| || |.| |||   |.\n",
      "ATTGC-TC-AAGACTA--GCA\n",
      "  Score=13\n",
      "\n",
      "ATTGCATCG-ATG-CTAAT-CG\n",
      "||||| ||  | | |||   |.\n",
      "ATTGC-TC-AA-GACTA--GCA\n",
      "  Score=13\n",
      "\n",
      "ATTGCATCGATG-CTAAT-CG\n",
      "||||| ||.| | |||   |.\n",
      "ATTGC-TCAA-GACTA--GCA\n",
      "  Score=13\n",
      "\n",
      "ATTGCATC--GATGCTAAT-CG\n",
      "||||| ||  ||  |||   |.\n",
      "ATTGC-TCAAGA--CTA--GCA\n",
      "  Score=13\n",
      "\n",
      "ATTGCATCGAT-G-CTAATCG\n",
      "||||| || |  | || |.|.\n",
      "ATTGC-TC-A-AGACT-AGCA\n",
      "  Score=13\n",
      "\n",
      "ATTGCATCGATG-CTAATCG\n",
      "||||| || |.| || |.|.\n",
      "ATTGC-TC-AAGACT-AGCA\n",
      "  Score=13\n",
      "\n",
      "ATTGCATCG-ATG-CTAATCG\n",
      "||||| ||  | | || |.|.\n",
      "ATTGC-TC-AA-GACT-AGCA\n",
      "  Score=13\n",
      "\n",
      "ATTGCATCGATG-CTAATCG\n",
      "||||| ||.| | || |.|.\n",
      "ATTGC-TCAA-GACT-AGCA\n",
      "  Score=13\n",
      "\n",
      "ATTGCATC--GATGCTAATCG\n",
      "||||| ||  ||  || |.|.\n",
      "ATTGC-TCAAGA--CT-AGCA\n",
      "  Score=13\n",
      "\n",
      "ATTGCATCGAT-G-CTAATCG\n",
      "||||| || |  | ||| .|.\n",
      "ATTGC-TC-A-AGACTA-GCA\n",
      "  Score=13\n",
      "\n",
      "ATTGCATCGATG-CTAATCG\n",
      "||||| || |.| ||| .|.\n",
      "ATTGC-TC-AAGACTA-GCA\n",
      "  Score=13\n",
      "\n",
      "ATTGCATCG-ATG-CTAATCG\n",
      "||||| ||  | | ||| .|.\n",
      "ATTGC-TC-AA-GACTA-GCA\n",
      "  Score=13\n",
      "\n",
      "ATTGCATCGATG-CTAATCG\n",
      "||||| ||.| | ||| .|.\n",
      "ATTGC-TCAA-GACTA-GCA\n",
      "  Score=13\n",
      "\n",
      "ATTGCATC--GATGCTAATCG\n",
      "||||| ||  ||  ||| .|.\n",
      "ATTGC-TCAAGA--CTA-GCA\n",
      "  Score=13\n",
      "\n",
      "ATTGCATCGAT-G-CTAATCG\n",
      "||||| || |  | |||. |.\n",
      "ATTGC-TC-A-AGACTAG-CA\n",
      "  Score=13\n",
      "\n",
      "ATTGCATCGATG-CTAATCG\n",
      "||||| || |.| |||. |.\n",
      "ATTGC-TC-AAGACTAG-CA\n",
      "  Score=13\n",
      "\n",
      "ATTGCATCG-ATG-CTAATCG\n",
      "||||| ||  | | |||. |.\n",
      "ATTGC-TC-AA-GACTAG-CA\n",
      "  Score=13\n",
      "\n",
      "ATTGCATCGATG-CTAATCG\n",
      "||||| ||.| | |||. |.\n",
      "ATTGC-TCAA-GACTAG-CA\n",
      "  Score=13\n",
      "\n",
      "ATTGCATC--GATGCTAATCG\n",
      "||||| ||  ||  |||. |.\n",
      "ATTGC-TCAAGA--CTAG-CA\n",
      "  Score=13\n",
      "\n",
      "ATTGCATCGAT-G-CTA--ATCG\n",
      "||||| || |  | |||  |   \n",
      "ATTGC-TC-A-AGACTAGCA---\n",
      "  Score=13\n",
      "\n",
      "ATTGCATCGATG-CTA--ATCG\n",
      "||||| || |.| |||  |   \n",
      "ATTGC-TC-AAGACTAGCA---\n",
      "  Score=13\n",
      "\n",
      "ATTGCATCG-ATG-CTA--ATCG\n",
      "||||| ||  | | |||  |   \n",
      "ATTGC-TC-AA-GACTAGCA---\n",
      "  Score=13\n",
      "\n",
      "ATTGCATCGATG-CTA--ATCG\n",
      "||||| ||.| | |||  |   \n",
      "ATTGC-TCAA-GACTAGCA---\n",
      "  Score=13\n",
      "\n",
      "ATTGCATC--GATGCTA--ATCG\n",
      "||||| ||  ||  |||  |   \n",
      "ATTGC-TCAAGA--CTAGCA---\n",
      "  Score=13\n",
      "\n",
      "ATTGCATC--GA-T-GCTAATCG\n",
      "||||| ||  || | ||  |   \n",
      "ATTGC-TCAAGACTAGC--A---\n",
      "  Score=13\n",
      "\n",
      "ATTGCATC--GA-T-GCTAATCG\n",
      "||||| ||  || | || |    \n",
      "ATTGC-TCAAGACTAGC-A----\n",
      "  Score=13\n",
      "\n"
     ]
    }
   ],
   "source": [
    "for a in alignment:\n",
    "    print(format_alignment(*a))"
   ]
  },
  {
   "cell_type": "code",
   "execution_count": 9,
   "metadata": {},
   "outputs": [
    {
     "data": {
      "text/plain": [
       "13.0"
      ]
     },
     "execution_count": 9,
     "metadata": {},
     "output_type": "execute_result"
    }
   ],
   "source": [
    "alignments= pairwise2.align.globalxx(seq1,seq2, score_only=True, one_alignment_only=True)\n",
    "alignments"
   ]
  },
  {
   "cell_type": "code",
   "execution_count": 10,
   "metadata": {},
   "outputs": [
    {
     "data": {
      "text/plain": [
       "0.6842105263157895"
      ]
     },
     "execution_count": 10,
     "metadata": {},
     "output_type": "execute_result"
    }
   ],
   "source": [
    "#Determine the percentage similarity\n",
    "alignments/len(seq1)"
   ]
  },
  {
   "cell_type": "code",
   "execution_count": 11,
   "metadata": {},
   "outputs": [
    {
     "data": {
      "text/plain": [
       "12"
      ]
     },
     "execution_count": 11,
     "metadata": {},
     "output_type": "execute_result"
    }
   ],
   "source": [
    "# Determine the Hamming Distance between two sequences (For dissimilarity measurement)\n",
    "def hamming_distance(lhs,rhs):\n",
    "    return len([(x,y) for x, y in zip (lhs,rhs) if x!=y])\n",
    "hamming_distance(seq1,seq2)"
   ]
  },
  {
   "cell_type": "code",
   "execution_count": 12,
   "metadata": {},
   "outputs": [],
   "source": [
    "# DOT PLOT :TO GRAPHICALLY SHOW THE SIMILARITY OR DISSIMILARITY OF BIOLOGICAL SEQUENCES\n",
    "import matplotlib.pyplot as plt\n",
    "import numpy as np"
   ]
  },
  {
   "cell_type": "code",
   "execution_count": 13,
   "metadata": {},
   "outputs": [
    {
     "data": {
      "image/png": "[encoded data removed]",
      "text/plain": [
       "<Figure size 432x288 with 1 Axes>"
      ]
     },
     "metadata": {
      "needs_background": "light"
     },
     "output_type": "display_data"
    }
   ],
   "source": [
    "X, Y = seq1, seq2\n",
    "X, Y = np.array(list(X)), np.array(list(Y))\n",
    "\n",
    "plt.imshow(X==Y[:,None])        # the magic happens here, contourf should work similarly\n",
    "plt.xticks(np.arange(len(X)), X)\n",
    "plt.yticks(np.arange(len(Y)), Y)\n",
    "plt.show()"
   ]
  },
  {
   "cell_type": "code",
   "execution_count": 14,
   "metadata": {},
   "outputs": [],
   "source": [
    "# READ THE FASTA FILE TO DNA SEQUENCES\n",
    "covid= SeqIO.read('SARS.fasta', 'fasta')\n",
    "ebola= SeqIO.read('Ebola.fasta', 'fasta')\n",
    "MERS= SeqIO.read('MERS.fasta', 'fasta')\n",
    "Nig_SARS= SeqIO.read('SARS-NIG.fasta', 'fasta')\n",
    "SARS= SeqIO.read('Severe.fasta', 'fasta')"
   ]
  },
  {
   "cell_type": "code",
   "execution_count": 15,
   "metadata": {},
   "outputs": [
    {
     "data": {
      "text/plain": [
       "SeqRecord(seq=Seq('ATTAAAGGTTTATACCTTCCCAGGTAACAAACCAACCAACTTTCGATCTCTTGT...AAA', SingleLetterAlphabet()), id='NC_045512.2', name='NC_045512.2', description='NC_045512.2 Severe acute respiratory syndrome coronavirus 2 isolate Wuhan-Hu-1, complete genome', dbxrefs=[])"
      ]
     },
     "execution_count": 15,
     "metadata": {},
     "output_type": "execute_result"
    }
   ],
   "source": [
    "covid"
   ]
  },
  {
   "cell_type": "code",
   "execution_count": 16,
   "metadata": {},
   "outputs": [
    {
     "data": {
      "text/plain": [
       "SeqRecord(seq=Seq('ATATTAGGTTTTTACCTACCCAGGAAAAGCCAACCAACCTCGATCTCTTGTAGA...AAA', SingleLetterAlphabet()), id='NC_004718.3', name='NC_004718.3', description='NC_004718.3 SARS coronavirus, complete genome', dbxrefs=[])"
      ]
     },
     "execution_count": 16,
     "metadata": {},
     "output_type": "execute_result"
    }
   ],
   "source": [
    "SARS"
   ]
  },
  {
   "cell_type": "code",
   "execution_count": 17,
   "metadata": {},
   "outputs": [
    {
     "data": {
      "text/plain": [
       "SeqRecord(seq=Seq('ATTTTTAGGATCTTTTGTGTGCGAATAACTATGAGGAAGATTAATAATTTTCCT...ATT', SingleLetterAlphabet()), id='KY786024.1', name='KY786024.1', description='KY786024.1 Ebola virus strain Ebola virus/M.fascicularis-wt/GAB/2001/untreated-CCJ046D7, complete genome', dbxrefs=[])"
      ]
     },
     "execution_count": 17,
     "metadata": {},
     "output_type": "execute_result"
    }
   ],
   "source": [
    "ebola"
   ]
  },
  {
   "cell_type": "code",
   "execution_count": 18,
   "metadata": {},
   "outputs": [
    {
     "data": {
      "text/plain": [
       "SeqRecord(seq=Seq('GTCTCTTGTACGTCTCGGTCACAATACACGGTTTCGTCCGGTGCGTGGCAATTC...TGC', SingleLetterAlphabet()), id='KJ556336.1', name='KJ556336.1', description='KJ556336.1 Middle East respiratory syndrome coronavirus isolate Jeddah_1_2013, complete genome', dbxrefs=[])"
      ]
     },
     "execution_count": 18,
     "metadata": {},
     "output_type": "execute_result"
    }
   ],
   "source": [
    "MERS"
   ]
  },
  {
   "cell_type": "code",
   "execution_count": 19,
   "metadata": {},
   "outputs": [
    {
     "data": {
      "text/plain": [
       "SeqRecord(seq=Seq('TTTCGATCTCTTGTAGATCTGTTCTCTAAACGAACTTTAAAATCTGTGTGGCTG...GAG', SingleLetterAlphabet()), id='MT576584.1', name='MT576584.1', description='MT576584.1 Severe acute respiratory syndrome coronavirus 2 isolate SARS-CoV-2/human/NGA/NG57752/2020, complete genome', dbxrefs=[])"
      ]
     },
     "execution_count": 19,
     "metadata": {},
     "output_type": "execute_result"
    }
   ],
   "source": [
    "Nig_SARS"
   ]
  },
  {
   "cell_type": "code",
   "execution_count": 20,
   "metadata": {},
   "outputs": [
    {
     "data": {
      "text/plain": [
       "29903"
      ]
     },
     "execution_count": 20,
     "metadata": {},
     "output_type": "execute_result"
    }
   ],
   "source": [
    "# COMPARE THE LENGTHS OF THE VIRAL DNA SEQUENCES\n",
    "covid_dna= covid.seq\n",
    "len(covid_dna)"
   ]
  },
  {
   "cell_type": "code",
   "execution_count": 21,
   "metadata": {},
   "outputs": [
    {
     "data": {
      "text/plain": [
       "29751"
      ]
     },
     "execution_count": 21,
     "metadata": {},
     "output_type": "execute_result"
    }
   ],
   "source": [
    "SARS_dna= SARS.seq\n",
    "len(SARS_dna)"
   ]
  },
  {
   "cell_type": "code",
   "execution_count": 22,
   "metadata": {},
   "outputs": [
    {
     "data": {
      "text/plain": [
       "29760"
      ]
     },
     "execution_count": 22,
     "metadata": {},
     "output_type": "execute_result"
    }
   ],
   "source": [
    "Nig_DNA= Nig_SARS.seq\n",
    "len(Nig_DNA)"
   ]
  },
  {
   "cell_type": "code",
   "execution_count": 23,
   "metadata": {},
   "outputs": [
    {
     "data": {
      "text/plain": [
       "18871"
      ]
     },
     "execution_count": 23,
     "metadata": {},
     "output_type": "execute_result"
    }
   ],
   "source": [
    "ebola_dna= ebola.seq\n",
    "len(ebola_dna)"
   ]
  },
  {
   "cell_type": "code",
   "execution_count": 24,
   "metadata": {},
   "outputs": [
    {
     "data": {
      "text/plain": [
       "29890"
      ]
     },
     "execution_count": 24,
     "metadata": {},
     "output_type": "execute_result"
    }
   ],
   "source": [
    "MERS_dna= MERS.seq\n",
    "len(MERS_dna)"
   ]
  },
  {
   "cell_type": "markdown",
   "metadata": {},
   "source": [
    "# COMPARE THE GUANINE-CYTOSINE CONTENT OF EACH VIRUS"
   ]
  },
  {
   "cell_type": "code",
   "execution_count": 25,
   "metadata": {},
   "outputs": [],
   "source": [
    "from Bio.SeqUtils import GC"
   ]
  },
  {
   "cell_type": "code",
   "execution_count": 26,
   "metadata": {},
   "outputs": [
    {
     "name": "stdout",
     "output_type": "stream",
     "text": [
      "The GC Content of Covid_DNA is  37.97277865097148\n",
      "The GC Content of Nig_DNA is  38.01411290322581\n",
      "The GC Content of SARS_DNA is  40.7616550704178\n",
      "The GC Content of MERS_DNA is  41.17765138842422\n",
      "The GC Content of Ebola_DNA is  41.248476498330774\n"
     ]
    }
   ],
   "source": [
    "print('The GC Content of Covid_DNA is ', GC(covid_dna))\n",
    "print('The GC Content of Nig_DNA is ', GC(Nig_DNA))\n",
    "print('The GC Content of SARS_DNA is ', GC(SARS_dna))\n",
    "print('The GC Content of MERS_DNA is ', GC(MERS_dna))\n",
    "print('The GC Content of Ebola_DNA is ', GC(ebola_dna))"
   ]
  },
  {
   "cell_type": "markdown",
   "metadata": {},
   "source": [
    "NARRATIVE\n",
    "Considering the GC content of the above organisms, it can be deduced that Ebola Virus is the most stable of the 5"
   ]
  },
  {
   "cell_type": "markdown",
   "metadata": {},
   "source": [
    "# PROTEIN SYNTHESIS VIA TRANSLATION"
   ]
  },
  {
   "cell_type": "code",
   "execution_count": 27,
   "metadata": {},
   "outputs": [
    {
     "name": "stderr",
     "output_type": "stream",
     "text": [
      "C:\\Users\\HP\\anaconda3\\lib\\site-packages\\Bio\\Seq.py:2742: BiopythonWarning: Partial codon, len(sequence) not a multiple of three. Explicitly trim the sequence or add trailing N before translation. This may become an error in future.\n",
      "  BiopythonWarning,\n"
     ]
    }
   ],
   "source": [
    "covid_protein= covid_dna.translate()\n",
    "Nig_protein= Nig_DNA.translate()\n",
    "SARS_protein= SARS_dna.translate()\n",
    "MERS_protein= MERS_dna.translate()\n",
    "ebola_protein= ebola_dna.translate()"
   ]
  },
  {
   "cell_type": "code",
   "execution_count": 28,
   "metadata": {},
   "outputs": [
    {
     "data": {
      "text/plain": [
       "Seq('IKGLYLPR*QTNQLSISCRSVL*TNFKICVAVTRLHA*CTHAV*LITNYCR*QD...KKK', HasStopCodon(ExtendedIUPACProtein(), '*'))"
      ]
     },
     "execution_count": 28,
     "metadata": {},
     "output_type": "execute_result"
    }
   ],
   "source": [
    "covid_protein"
   ]
  },
  {
   "cell_type": "code",
   "execution_count": 29,
   "metadata": {},
   "outputs": [
    {
     "data": {
      "text/plain": [
       "'IleLysGlyLeuTyrLeuProArgTerGlnThrAsnGlnLeuSerIleSerCysArgSerValLeuTerThrAsnPheLysIleCysValAlaValThrArgLeuHisAlaTerCysThrHisAlaValTerLeuIleThrAsnTyrCysArgTerGlnAspThrSerAsnSerSerIlePheCysArgLeuLeuThrValSerSerValLeuGlnProIleIleSerThrSerArgPheArgProGlyValThrGluArgTerAspGlyGluProCysProTrpPheGlnArgGluAsnThrArgProThrGlnPheAlaCysPheThrGlySerArgArgAlaArgThrTrpLeuTrpArgLeuArgGlyGlyGlyLeuIleArgGlyThrSerThrSerTerArgTrpHisLeuTrpLeuSerArgSerTerLysArgArgPheAlaSerThrTerThrAlaLeuCysValHisGlnThrPheGlyCysSerAsnCysThrSerTrpSerCysTyrGlyTerAlaGlySerArgThrArgArgHisSerValArgSerTerTrpTerAspThrTrpCysProCysProSerCysGlyArgAsnThrSerGlyLeuProGlnGlySerSerSerTerGluArgTerTerArgSerTrpTrpProTerLeuArgArgArgSerLysValIleTerLeuArgArgArgAlaTrpHisTerSerLeuTerArgPheSerArgLysLeuGluHisTerThrTerGlnTrpCysTyrProTerThrHisAlaTerAlaTerArgArgGlyIleHisSerLeuCysArgTerGlnLeuLeuTrpProTerTrpLeuProSerTerValHisTerArgProSerSerThrCysTrpTerSerPheMetHisPheValArgThrThrGlyLeuTyrTerHisTerGluGlyCysIleLeuLeuProTerThrTerAlaTerAsnCysLeuValHisGlyThrPheTerLysGluLeuTerIleAlaAspThrPheTerAsnTerIleGlyLysGluIleTerHisLeuGlnTrpGlyMetSerLysPheCysIleSerLeuLysPheHisAsnGlnAspTyrSerThrLysGlyTerLysGluLysAlaTerTrpLeuTyrGlyTerAsnSerIleCysLeuSerSerCysValThrLysTerMetGlnProAsnValProPheAsnSerHisGluValTerSerLeuTrpTerAsnPheMetAlaAspGlyArgPheCysTerSerHisLeuArgIleLeuTrpHisTerGluPheAspTerArgArgCysHisTyrLeuTrpLeuLeuThrProLysCysCysCysTerAsnLeuLeuSerSerMetSerGlnPheArgSerArgThrTerAlaTerSerCysArgIleProTerTerIleTrpLeuGluAsnHisSerSerTerGlyTrpSerHisTyrCysLeuTrpArgLeuCysValLeuLeuCysTrpLeuProTerGlnValCysLeuLeuGlySerThrCysTerArgTerHisArgLeuTerProTyrArgCysCysTrpArgArgPheArgArgSerTerTerGlnProSerTerAsnThrProLysArgGluSerGlnHisGlnTyrCysTrpTerLeuTerThrTerTerArgAspArgHisTyrPheGlyIlePhePheCysPheHisLysCysPheCysGlyAsnCysGluArgPheGlyLeuTerSerIleGlnThrAsnCysTerIleLeuTrpTerPheTerSerTyrLysArgLysSerTerLysArgCysLeuGluTyrTrpTerThrGluIleAsnThrGluSerSerLeuCysIleCysIleArgGlyCysSerCysCysThrIleAsnPheLeuProHisSerTerAsnCysSerLysPheCysAlaCysPheThrGluGlyArgTyrAsnAsnThrArgTrpAsnPheThrValPheThrGluThrHisTerCysTyrAspValHisIleTerPheGlyTyrTerGlnSerSerCysAsnGlyLeuHisTyrArgTrpCysCysSerValAspPheAlaValAlaAsnTerHisLeuTrpHisCysLeuTerLysThrGlnThrArgProTerLeuAlaTerArgGluValTerGlyArgCysArgValSerTerArgArgLeuGlyAsnCysTerIleTyrLeuAsnLeuCysLeuTerAsnCysArgTrpThrAsnCysHisLeuCysLysGlyAsnTerGlyGluCysSerAspIleLeuTerAlaCysLysTerIlePheGlyPheValCysTerLeuTyrHisTyrTrpTrpSerTerThrTerSerLeuGluPheArgTerAsnIleCysHisAlaLeuLysGlyIleValGlnLysValCysTerIleGlnArgArgAsnTrpProThrHisAlaSerLysSerProLysArgAsnTyrLeuLeuArgGlyArgAsnThrSerHisArgSerValAsnArgGlySerCysLeuGluAsnTrpTerPheThrThrIleArgThrThrTyrTerTerSerCysTerSerSerIleGlyTrpTyrThrSerLeuTyrTerArgAlaTyrValAlaArgAsnGlnArgHisArgLysValLeuCysProCysThrTerTyrAspGlyAsnLysGlnTyrLeuHisThrGlnArgArgCysThrAsnLysGlyTyrPheTrpTerTerHisCysAspArgSerAlaArgLeuGlnGluCysGluTyrHisPheTerThrTerTerLysAspTerTerSerThrTerTerGluValLeuCysLeuTyrSerTerThrArgTyrArgSerLysTerValArgLeuCysCysGlyArgCysCysHisLysAsnPheAlaThrSerIleTerIleThrTyrThrThrGlyHisTerPheArgTerValGluTyrGlyTyrIleLeuLeuIleTerTerValTrpTerValTerIleGlyPheThrTyrValLeuPhePheLeuProSerArgTerGlyTerArgArgArgTerLeuTerArgArgArgValTerAlaIleAsnSerIleTerValTrpTyrTerArgTerLeuProArgTerThrPheGlyIleTrpCysHisPheCysCysSerSerThrTerArgArgAlaArgArgArgLeuValArgTerTerTerSerThrAsnCysTrpSerThrArgArgGlnTerGlyGlnSerAspAsnTyrTyrSerAsnAsnCysTerGlySerThrSerIleArgAspGlyThrTyrThrSerCysSerAspTyrTerSerGluTerPheTerTrpLeuPheLysThrTyrTerGlnCysIleHisTerLysCysArgHisCysGlyArgSerTerLysGlyLysThrAsnSerGlyCysTerCysSerGlnCysLeuProTerThrTrpArgArgCysCysArgSerLeuLysTerGlyTyrTerGlnCysHisAlaSerTerIleTerTerLeuHisSerTyrTerTrpThrThrTerSerGlyTrpTerLeuCysPheLysArgThrGlnSerCysTerThrLeuSerSerCysCysArgProLysCysTerGlnArgTerArgHisSerThrSerTerGluCysLeuTerLysPheTerSerAlaArgSerSerThrCysThrIleIleIleSerTrpTyrPheTrpCysTerProTyrThrPhePheLysSerLeuCysArgTyrCysSerHisLysCysLeuLeuSerCysLeuTerTerLysSerLeuTerGlnThrCysPheLysLeuPheGlyAsnGluGluTerLysAlaSerTerThrLysAspArgTerAspSerTerArgGlySerTerAlaIleTyrAsnTerLysTerThrPheSerTerThrGluLysThrArgTerTerGluAsnGlnSerLeuCysTerArgSerTyrAsnAsnSerGlyArgAsnTerValProHisArgLysLeuValThrLeuTyrTerHisTerTrpGlnSerSerSerArgPheCysHisSerCysTerTerHisTerHisHisPheLeuLysGluArgCysSerIleTyrSerGlyTerCysCysSerArgGlyCysPheAsnCysCysGlyTyrThrTyrTerLysGlyTrpTrpHisTyrTerAsnAlaSerGluSerPheGluLysSerAlaAsnArgGlnLeuTyrAsnHisLeuProGlySerGlyPheLysTrpLeuHisCysArgGlyGlyLysAspSerAlaTerLysValTerLysCysLeuLeuHisSerThrIleTyrTyrLeuTerTerGluAlaArgAsnSerTrpAsnCysPheLeuGluPheAlaArgAsnAlaCysThrCysArgArgAsnThrGlnIleAsnAlaCysLeuCysGlyAsnTerSerHisSerPheAsnTyrThrAlaTerIleTerGlyTyrTerAsnThrArgGlyCysGlyTerLeuTrpCysTerIleLeuLeuLeuHisGlnTerAsnAsnCysSerValThrTyrGlnHisThrTerArgSerLysTerAsnSerCysTyrAsnAlaThrTrpLeuCysAsnThrTrpLeuLysPheGlyArgSerCysSerValTyrGluIleSerGlnSerAlaSerTyrSerPheCysPhePheThrTerCysCysTyrSerValTerTrpLeuSerTyrPhePhePheTerAsnThrTerArgThrPheTyrTerAsnHisLeuThrCysTrpPheLeuTerArgLeuValLeuPheTrpThrIleTyrThrThrArgTyrArgIleSerTerGluArgTerTerLysCysIleLeuHisTerTerSerTyrHisIleProProArgTrpTerSerTyrHisLeuTerGlnSerTerAspThrSerPhePheGluArgSerGluAspTyrTerGlyValTyrAsnSerArgGlnHisTerProProHisAlaSerCysGlyHisValAsnAspIleTrpThrThrValTrpSerAsnLeuPheGlyTrpSerTerCysTyrTerAsnLysThrSerTerPheThrTerArgTerAsnIleLeuCysPheThrTerTerTerHisSerThrCysTerGlyPheTerValLeuProHisAsnTerSerTerPheSerGlyTerValHisValSerIleLysSerHisTerLysValGluIleProThrSerTerTrpPheAsnPheTyrTerMetGlyArgTerGlnLeuLeuSerCysHisCysIleValAsnThrProThrAsnArgValGluValTerSerThrCysSerThrArgCysLeuLeuGlnSerLysGlyTrpTerSerCysTerLeuLeuCysThrTyrLeuSerLeuLeuTerTerAspSerArgTerValArgTerCysTerArgAsnAsnGluLeuLeuValSerThrCysGlnPheArgPheLeuGlnLysSerLeuGluArgGlyValTerAsnLeuTrpThrThrAlaAspAsnProTerGlyCysArgSerCysTyrValHisGlyHisThrPheLeuTerThrIleTerGluArgCysSerAspThrLeuTyrValTrpTerThrSerTyrLysIleSerSerThrThrGlyValThrPheCysTyrAspValSerThrThrCysSerValTerThrTerAlaTrpTyrIleTyrLeuCysTerTerValHisTrpTerLeuProValTrpSerLeuTerThrTyrAsnPheTerArgAsnPheValLeuHisArgArgCysPheThrTyrLysValLeuArgIleGlnArgSerTyrTyrGlyCysPheLeuGlnArgLysGlnLeuHisAsnAsnHisLysThrSerTyrLeuTerIleGlyTrpCysCysLeuTyrArgAsnTerProTerValGlyGlnLeuLeuTerGluArgGlnPheLeuPheHisArgAlaThrAsnTerSerCysThrLysProThrIleSerLysArgLysLeuArgTerPheTerValCysMetTerTerTyrGlnIleCysTerTerPheLysProValAsnTrpLeuTerGluThrCysPheLysArgAlaTerSerTyrIlePheProTerLeuLysTrpTerCysGlyGlyTyrTerLeuTerThrLeuHisThrLeuPheTerGluArgSerTerIleValThrTerThrTyrCysLeuAlaCysTerGlnCysAsnTerTerSerHisValTerThrLysTyrLeuValTyrThrLeuSerLeuGluHisLysThrSerTerAsnIleLysPheValTerCysThrGluValArgGlyArgAlaGlyAsnGlyTerSerCysLeuArgArgSerLysThrSerLeuTerArgSerSerGlyLysSerTyrHisThrGluArgArgSerTerValTerCysGluAsnTyrArgSerCysArgArgHisTyrThrTerThrSerLysTerTerPheLysAsnTyrArgArgGlyTrpProHisArgSerAsnGlyCysLeuCysArgGlnPheTerSerTyrTyrTerGluThrTerTerIleIleTerSerIleArgPheGluAsnProCysTyrSerTrpPheSerCysCysTerTerCysProLeuGlyTyrTyrSerTerLeuCysTerAlaPheSerTerGlnSerCysTerTyrAsnTyrTerHisSerTyrThrValPheLysProCysLeuTyrTerLeuTyrAlaLeuPheLeuTyrPheIleAlaThrIleValTyrPheTyrTerLysTyrLysPheTerAsnTerSerIleTyrAlaAspTyrTyrSerLysGluTyrCysTerGluCysArgTerIleLeuSerArgGlyPheIleTerLeuPheGluValThrTerPhePheTerThrAspLysTyrTyrAsnLeuValPheThrIleLysCysLeuProArgPhePheAsnLeuLeuAsnArgCysPheArgCysPheAsnValTerPheArgHisAlaPheLeuLeuTyrTrpLeuGlnArgArgLeuPheGluLeuTyrTerCysHisTyrCysAsnLeuLeuTyrTrpPheTyrThrLeuTerCysLeuSerTerTrpPheArgPhePheArgHisLeuSerPhePheArgAsnTyrThrAsnTyrHisPheIlePheTerMetGlyPheAsnCysPheTrpLeuSerCysArgValValPheGlyIleTyrSerPheHisTerValPheLeuCysThrTrpIleGlyCysAsnHisAlaIleValPheGlnLeuPheCysSerThrPheTyrTerTerPheLeuAlaTyrValValAsnAsnTerSerCysThrAsnGlyProAspPheSerTyrGlyTerAsnValHisLeuLeuCysIleIleLeuLeuCysMetGluLysLeuCysAlaCysCysArgArgLeuTerPheIleAsnLeuTyrAspValLeuGlnThrTerTerSerAsnLysSerArgMetTyrAsnTyrCysTerTrpCysTerLysValLeuLeuCysLeuCysTerTrpArgTerArgLeuLeuGlnThrThrGlnLeuGluLeuCysTerLeuTerTyrIleLeuCysTrpTerTyrIleTyrTerTerTerSerCysGluArgLeuValThrThrValTerLysThrAsnLysSerTyrTerProValPheLeuHisArgTerTerCysTyrSerGluGluTrpPheHisProSerLeuLeuTerTerSerTrpSerLysAspLeuTerLysThrPheSerLeuSerPheCysTerLeuArgGlnProGluSerTerTerHisTerArgPheIleAlaTyrTerCysTyrSerPheTerTrpTerIleLysMetTerArgIleIleCysLysIleSerValCysLeuLeuGlnSerAlaTyrValSerThrTyrThrValThrArgSerGlyIleSerValTerCysTrpTerTerCysGlySerCysSerTerAsnValTerCysLeuArgTerTyrValPheIleAsnPheTerArgThrAsnGlyLysThrGlnAsnThrSerCysAsnCysArgSerTerThrCysLysGluCysValLeuArgGlnCysLeuIleTyrPheTyrPheSerSerSerAlaArgValCysTerPheArgCysArgAsnTerArgCysCysTerMetSerTerIleValThrSerIleTerHisArgSerTyrTrpArgTerLeuTerTerLeuTyrAlaHisLeuTerGlnSerTerLysHisAspThrProTerProTrpCysLeuTyrTerLeuTerCysAlaSerTyrTerCysAlaGlySerLysLysSerGlnHisCysPheAspMetGluArgTerArgPheHisValIleValTerThrThrThrLysThrAsnThrTerCysCysTerLysGluTerLeuThrPheTerValAspMetCysAsnTyrTerThrSerCysTerCysCysAsnAsnLysAspSerThrTerGlyTrpTerAsnCysTerTerLeuValGluAlaValAsnTerSerTyrThrCysValProPheCysCysCysTyrPheLeuPheAsnAsnThrCysSerCysHisValTerThrTyrTerLeuPheLysTerAsnHisArgIleGlnGlyTyrTerTrpTrpCysHisSerTerHisSerIleTyrArgTyrLeuPheCysTerGlnThrCysTerPheTerHisMetValTerProAlaTrpTrpTerLeuTyrTerTerGlnSerLeuProIleAspCysCysSerHisAsnLysArgSerGlyPheCysArgAlaTrpPheAlaTrpHisAspIleThrHisAsnTerTrpTerLeuPheAlaPheLeuThrTerSerPheTerCysSerTrpTerHisLeuLeuHisThrIleLysThrTyrArgValHisTerLeuCysAsnIleSerLeuCysPheGlyCysTerMetTyrAsnPheTerArgCysPheTrpTerAlaSerThrIleLeuLeuTerTyrGlnCysThrArgArgPheCysCysLeuTerLysPheThrProTerHisThrLeuCysAlaHisGlyTrpLeuTyrTyrSerIleSerTerHisLeuProTerArgPheCysTerSerGlyAsnAsnPheTerPheTerValLeuTerAlaArgHisLeuTerLysIleArgSerTrpCysLeuCysIleTyrTerTrpTerMetGlyThrTerGlnTerLeuLeuGlnIlePheThrArgSerPheLeuTrpCysArgCysCysLysPheThrTyrTerTyrValTyrThrThrAsnSerThrTyrTrpCysPheGlyHisIleSerIleTyrSerSerTrpTrpTyrCysSerTyrArgSerAsnMetProCysLeuLeuPheTyrGluValTerLysSerPheTrpTerIleGlnSerCysSerCysLeuTerTyrPheThrIleProTyrValIleHisCysThrLeuPheAsnThrSerLeuLeuIleLeuThrTrpCysLeuPheCysTyrLeuLeuValLeuAspIleLeuSerTyrTerTerCysPhePhePheSerThrTyrSerValAspGlyTyrValHisThrPheSerThrPheLeuAspAsnAsnCysLeuTyrHisLeuTyrPheHisLysAlaPheLeuLeuValLeuTerTerLeuProLysGluThrCysSerLeuTerTrpCysPheLeuTerTyrPheTerArgSerCysAlaValHisLeuPheValLysTerArgAsnValSerLysValAlaTerTerCysAlaIleThrSerTyrAlaIleTerTerIleLeuSerSerLeuTerTerValGlnValPheTerTrpSerAsnGlyTyrAsnTerLeuGlnArgSerCysLeuLeuSerSerArgLysGlySerGlnTerLeuGlnTerLeuArgPheTerCysSerLeuProThrThrThrAsnLeuTyrHisLeuSerCysPheAlaGluTrpPheTerLysAsnGlyIleProIleTrpTerSerTerGlyLeuTyrGlyThrSerAsnLeuTrpTyrAsnTyrThrTerArgSerLeuAlaTerTerArgSerLeuLeuSerLysThrCysAspLeuHisLeuTerArgHisAlaTerProTerLeuTerArgPheThrHisSerTerValTerSerTerPheLeuGlyThrGlyTrpTerCysSerThrGlnGlyTyrTrpThrPheTyrAlaLysLeuCysThrTerAlaTerGlyTerTyrSerGlnSerTerAspThrTerValTerValCysSerHisSerThrArgThrAspPhePheSerValSerLeuLeuGlnTrpPheThrIleTrpCysLeuProMetCysTyrGluAlaGlnPheHisTyrTerGlyPheIleProTerTrpPheMetTrpTerCysTrpPheTerHisArgLeuTerLeuCysLeuPheLeuLeuHisAlaProTyrGlyIleThrAsnTrpSerSerCysTrpHisArgLeuArgArgTerLeuLeuTrpThrPheCysTerGlnAlaAsnSerThrSerSerTrpTyrGlyHisAsnTyrTyrSerTerCysPheSerLeuValValArgCysCysTyrLysTrpArgGlnValValSerGlnSerIleTyrHisAsnSerTerTerLeuTerProCysGlyTyrGluValGlnLeuTerThrSerAsnThrArgProCysTerHisThrArgThrSerPheCysSerAsnTrpAsnCysArgPheArgTyrValCysPheIleLysArgIleThrAlaLysTrpTyrGluTrpThrTyrHisIleGlyTerCysPheIleArgArgTerIleTyrThrPheTerCysCysTerThrMetLeuArgCysTyrPheProLysCysSerGluLysAsnAsnGlnGlyTyrThrProLeuValValThrHisAsnPheAspPheThrPheSerPheSerProGluTyrSerMetValPheValLeuPhePheValTerLysCysLeuPheThrPheCysTyrGlyTyrTyrCysTyrValCysPheCysAsnAspValCysGlnThrTerAlaCysIleSerLeuPheValPheValThrPheSerCysHisCysSerLeuPheTerTyrGlyLeuTyrAlaCysTerLeuGlyAspAlaTyrTyrAspMetValGlyTyrGlyTerTyrTerPheValTrpPheTerAlaLysArgLeuCysTyrValCysIleSerCysSerValThrAsnProTyrAspSerLysAsnCysValTerTerTrpCysTerGluSerValAspThrTyrGluCysLeuAspThrArgLeuTerSerLeuLeuTrpTerCysPheArgSerSerHisPheHisValGlySerTyrAsnLeuCysTyrPheTerLeuLeuArgCysSerTyrAsnCysHisValPheGlyGlnArgTyrCysPheTyrValCysTerValLeuProTyrPheLeuHisAsnTrpTerTyrThrSerValTyrAsnAlaSerLeuLeuPheLeuArgLeuPheLeuTyrLeuLeuLeuTrpProLeuLeuPheThrGlnProLeuLeuTerThrAspSerTrpCysLeuTerLeuLeuSerPheTyrThrGlyValTerIleTyrGluPheThrGlyThrThrProThrGlnGluTerHisArgCysLeuGlnThrGlnHisTerIleValGlyCysTrpTrpGlnThrLeuTyrGlnSerSerHisCysThrValTerAsnValArgCysLysValHisIleSerSerLeuThrLeuSerPheAlaThrThrGlnSerArgIleIleIleTerIleValGlySerMetCysProValThrGlnTerHisSerLeuSerTerArgTyrTyrTerSerLeuTerLysAsnGlyPheThrThrPheCysPheAlaPheHisAlaGlyCysCysArgHisLysGlnAlaLeuTerArgAsnAlaGlyGlnGlnGlyAsnLeuThrSerTyrSerLeuArgValTerPheProSerIleIleCysSerPheCysTyrCysSerArgSerLeuTerAlaGlyCysCysTerTrpTerPheTerSerCysSerTerLysValGluGluValPheGluCysGlyTerIleTerIleTerProTerCysSerHisAlaThrTerValGlyLysAspGlyTerSerSerTyrAspProAsnValTerThrGlyTerIleTerGlyGlnGluGlyLysSerTyrTerCysTyrAlaAspAsnAlaPheHisTyrAlaTerLysValGlyTerTerCysThrGlnGlnHisTyrGlnGlnCysLysArgTrpLeuCysSerLeuGluHisAsnThrSerTyrAsnSerSerGlnThrAsnGlyCysHisThrArgLeuTerHisIleTerLysTyrValTerTrpTyrAsnIleTyrLeuCysIleSerIleValGlyAsnProThrGlyCysArgCysArgTerTerAsnCysSerThrTerTerAsnTerTyrGlyGlnPheThrTerPheSerMetAlaSerTyrCysAsnSerPheLysGlyGlnPheCysCysGlnIleThrGluTerTerAlaTerSerCysCysThrThrThrAspValLeuCysCysArgTyrTyrThrAsnCysLeuHisTerTerGlnCysValSerLeuLeuGlnHisAsnLysGlyArgTerValCysThrCysThrValIleArgPheThrGlyPheGluMetGlyTerIleProTerGluTerTrpAsnTrpTyrTyrLeuTyrArgThrGlyThrThrLeuTerValCysTyrArgHisThrTerArgSerTerSerGluValPheIleLeuTyrTerArgIleLysGlnProLysTerArgTyrGlyThrTrpTerPheSerCysHisSerThrSerThrSerTrpTerCysAsnArgSerAlaCysGlnPheAsnCysIleIlePheLeuCysPheCysCysArgCysCysTerSerLeuGlnArgLeuSerSerTerTrpGlyThrThrAsnHisTerLeuCysTerAspValValTyrThrHisTrpTyrTrpSerGlyAsnAsnSerTyrThrGlySerGlnTyrGlySerArgIleLeuTrpTrpCysIleValLeuSerValLeuProLeuProHisArgSerSerLysSerTerArgIleLeuTerLeuLysArgTerValCysThrAsnThrTyrAsnLeuCysTerTerProCysGlyPheTyrThrTerLysHisSerLeuTyrArgLeuArgTyrValGluArgLeuTrpLeuTerLeuTerSerThrProArgThrHisAlaSerValSerTerCysThrIleValPheLysArgValCysGlyValSerAlaAlaArgLeuThrProCysGlyThrGlyThrSerThrAspValValTyrArgAlaPheAspIleTyrAsnAspLysValAlaGlyPheAlaLysPheLeuLysThrAsnCysCysArgPheGlnGluLysAspGluAspAspAsnLeuIleAspSerTyrPheValValLysArgHisThrPheSerAsnTyrGlnHisGluGluThrIleTyrAsnLeuLeuLysAspCysProAlaValAlaLysHisAspPhePheLysPheArgIleAspGlyAspMetValProHisIleSerArgGlnArgLeuThrLysTyrThrMetAlaAspLeuValTyrAlaLeuArgHisPheAspGluGlyAsnCysAspThrLeuLysGluIleLeuValThrTyrAsnCysCysAspAspAspTyrPheAsnLysLysAspTrpTyrAspPheValGluAsnProAspIleLeuArgValTyrAlaAsnLeuGlyGluArgValArgGlnAlaLeuLeuLysThrValGlnPheCysAspAlaMetArgAsnAlaGlyIleValGlyValLeuThrLeuAspAsnGlnAspLeuAsnGlyAsnTrpTyrAspPheGlyAspPheIleGlnThrThrProGlySerGlyValProValValAspSerTyrTyrSerLeuLeuMetProIleLeuThrLeuThrArgAlaLeuThrAlaGluSerHisValAspThrAspLeuThrLysProTyrIleLysTrpAspLeuLeuLysTyrAspPheThrGluGluArgLeuLysLeuPheAspArgTyrPheLysTyrTrpAspGlnThrTyrHisProAsnCysValAsnCysLeuAspAspArgCysIleLeuHisCysAlaAsnPheAsnValLeuPheSerThrValPheProProThrSerPheGlyProLeuValArgLysIlePheValAspGlyValProPheValValSerThrGlyTyrHisPheArgGluLeuGlyValValHisAsnGlnAspValAsnLeuHisSerSerArgLeuSerPheLysGluLeuLeuValTyrAlaAlaAspProAlaMetHisAlaAlaSerGlyAsnLeuLeuLeuAspLysArgThrThrCysPheSerValAlaAlaLeuThrAsnAsnValAlaPheGlnThrValLysProGlyAsnPheAsnLysAspPheTyrAspPheAlaValSerLysGlyPhePheLysGluGlySerSerValGluLeuLysHisPhePhePheAlaGlnAspGlyAsnAlaAlaIleSerAspTyrAspTyrTyrArgTyrAsnLeuProThrMetCysAspIleArgGlnLeuLeuPheValValGluValValAspLysTyrPheAspCysTyrAspGlyGlyCysIleAsnAlaAsnGlnValIleValAsnAsnLeuAspLysSerAlaGlyPheProPheAsnLysTrpGlyLysAlaArgLeuTyrTyrAspSerMetSerTyrGluAspGlnAspAlaLeuPheAlaTyrThrLysArgAsnValIleProThrIleThrGlnMetAsnLeuLysTyrAlaIleSerAlaLysAsnArgAlaArgThrValAlaGlyValSerIleCysSerThrMetThrAsnArgGlnPheHisGlnLysLeuLeuLysSerIleAlaAlaThrArgGlyAlaThrValValIleGlyThrSerLysPheTyrGlyGlyTrpHisAsnMetLeuLysThrValTyrSerAspValGluAsnProHisLeuMetGlyTrpAspTyrProLysCysAspArgAlaMetProAsnMetLeuArgIleMetAlaSerLeuValLeuAlaArgLysHisThrThrCysCysSerLeuSerHisArgPheTyrArgLeuAlaAsnGluCysAlaGlnValLeuSerGluMetValMetCysGlyGlySerLeuTyrValLysProGlyGlyThrSerSerGlyAspAlaThrThrAlaTyrAlaAsnSerValPheAsnIleCysGlnAlaValThrAlaAsnValAsnAlaLeuLeuSerThrAspGlyAsnLysIleAlaAspLysTyrValArgAsnLeuGlnHisArgLeuTyrGluCysLeuTyrArgAsnArgAspValAspThrAspPheValAsnGluPheTyrAlaTyrLeuArgLysHisPheSerMetMetIleLeuSerAspAspAlaValValCysPheAsnSerThrTyrAlaSerGlnGlyLeuValAlaSerIleLysAsnPheLysSerValLeuTyrTyrGlnAsnAsnValPheMetSerGluAlaLysCysTrpThrGluThrAspLeuThrLysGlyProHisGluPheCysSerGlnHisThrMetLeuValLysGlnGlyAspAspTyrValTyrLeuProTyrProAspProSerArgIleLeuGlyAlaGlyCysPheValAspAspIleValLysThrAspGlyThrLeuMetIleGluArgPheValSerLeuAlaIleAspAlaTyrProLeuThrLysHisProAsnGlnGluTyrAlaAspValPheHisLeuTyrLeuGlnTyrIleArgLysLeuHisAspGluLeuThrGlyHisMetLeuAspMetTyrSerValMetLeuThrAsnAspAsnThrSerArgTyrTrpGluProGluPheTyrGluAlaMetTyrThrProHisThrValLeuGlnAlaValGlyAlaCysValLeuCysAsnSerGlnThrSerLeuArgCysGlyAlaCysIleArgArgProPheLeuCysCysLysCysCysTyrAspHisValIleSerThrSerHisLysLeuValLeuSerValAsnProTyrValCysAsnAlaProGlyCysAspValThrAspValThrGlnLeuTyrLeuGlyGlyMetSerTyrTyrCysLysSerHisLysProProIleSerPheProLeuCysAlaAsnGlyGlnValPheGlyLeuTyrLysAsnThrCysValGlySerAspAsnValThrAspPheAsnAlaIleAlaThrCysAspTrpThrAsnAlaGlyAspTyrIleLeuAlaAsnThrCysThrGluArgLeuLysLeuPheAlaAlaGluThrLeuLysAlaThrGluGluThrPheLysLeuSerTyrGlyIleAlaThrValArgGluValLeuSerAspArgGluLeuHisLeuSerTrpGluValGlyLysProArgProProLeuAsnArgAsnTyrValPheThrGlyTyrArgValThrLysAsnSerLysValGlnIleGlyGluTyrThrPheGluLysGlyAspTyrGlyAspAlaValValTyrArgGlyThrThrThrTyrLysLeuAsnValGlyAspTyrPheValLeuThrSerHisThrValMetProLeuSerAlaProThrLeuValProGlnGluHisTyrValArgIleThrGlyLeuTyrProThrLeuAsnIleSerAspGluPheSerSerAsnValAlaAsnTyrGlnLysValGlyMetGlnLysTyrSerThrLeuGlnGlyProProGlyThrGlyLysSerHisPheAlaIleGlyLeuAlaLeuTyrTyrProSerAlaArgIleValTyrThrAlaCysSerHisAlaAlaValAspAlaLeuCysGluLysAlaLeuLysTyrLeuProIleAspLysCysSerArgIleIleProAlaArgAlaArgValGluCysPheAspLysPheLysValAsnSerThrLeuGluGlnTyrValPheCysThrValAsnAlaLeuProGluThrThrAlaAspIleValValPheAspGluIleSerMetAlaThrAsnTyrAspLeuSerValValAsnAlaArgLeuArgAlaLysHisTyrValTyrIleGlyAspProAlaGlnLeuProAlaProArgThrLeuLeuThrLysGlyThrLeuGluProGluTyrPheAsnSerValCysArgLeuMetLysThrIleGlyProAspMetPheLeuGlyThrCysArgArgCysProAlaGluIleValAspThrValSerAlaLeuValTyrAspAsnLysLeuLysAlaHisLysAspLysSerAlaGlnCysPheLysMetPheTyrLysGlyValIleThrHisAspValSerSerAlaIleAsnArgProGlnIleGlyValValArgGluPheLeuThrArgAsnProAlaTrpArgLysAlaValPheIleSerProTyrAsnSerGlnAsnAlaValAlaSerLysIleLeuGlyLeuProThrGlnThrValAspSerSerGlnGlySerGluTyrAspTyrValIlePheThrGlnThrThrGluThrAlaHisSerCysAsnValAsnArgPheAsnValAlaIleThrArgAlaLysValGlyIleLeuCysIleMetSerAspArgAspLeuTyrAspLysLeuGlnPheThrSerLeuGluIleProArgArgAsnValAlaThrLeuGlnAlaGluAsnValThrGlyLeuPheLysAspCysSerLysValIleThrGlyLeuHisProThrGlnAlaProThrHisLeuSerValAspThrLysPheLysThrGluGlyLeuCysValAspIleProGlyIleProLysAspMetThrTyrArgArgLeuIleSerMetMetGlyPheLysMetAsnTyrGlnValAsnGlyTyrProAsnMetPheIleThrArgGluGluAlaIleArgHisValArgAlaTrpIleGlyPheAspValGluGlyCysHisAlaThrArgGluAlaValGlyThrAsnLeuProLeuGlnLeuGlyPheSerThrGlyValAsnLeuValAlaValProThrGlyTyrValAspThrProAsnAsnThrAspPheSerArgValSerAlaLysProProProGlyAspGlnPheLysHisLeuIleProLeuMetTyrLysGlyLeuProTrpAsnValValArgIleLysIleValGlnMetLeuSerAspThrLeuLysAsnLeuSerAspArgValValPheValLeuTrpAlaHisGlyPheGluLeuThrSerMetLysTyrPheValLysIleGlyProGluArgThrCysCysLeuCysAspArgArgAlaThrCysPheSerThrAlaSerAspThrTyrAlaCysTrpHisHisSerIleGlyPheAspTyrValTyrAsnProPheMetIleAspValGlnGlnTrpGlyPheThrGlyAsnLeuGlnSerAsnHisAspLeuTyrCysGlnValHisGlyAsnAlaHisValAlaSerCysAspAlaIleMetThrArgCysLeuAlaValHisGluCysPheValLysArgValAspTrpThrIleGluTyrProIleIleGlyAspGluLeuLysIleAsnAlaAlaCysArgLysValGlnHisMetValValLysAlaAlaLeuLeuAlaAspLysPheProValLeuHisAspIleGlyAsnProLysAlaIleLysCysValProGlnAlaAspValGluTrpLysPheTyrAspAlaGlnProCysSerAspLysAlaTyrLysIleGluGluLeuPheTyrSerTyrAlaThrHisSerAspLysPheThrAspGlyValCysLeuPheTrpAsnCysAsnValAspArgTyrProAlaAsnSerIleValCysArgPheAspThrArgValLeuSerAsnLeuAsnLeuProGlyCysAspGlyGlySerLeuTyrValAsnLysHisAlaPheHisThrProAlaPheAspLysSerAlaPheValAsnLeuLysGlnLeuProPhePheTyrTyrSerAspSerProCysGluSerHisGlyLysGlnValValSerAspIleAspTyrValProLeuLysSerAlaThrCysIleThrArgCysAsnLeuGlyGlyAlaValCysArgHisHisAlaAsnGluTyrArgLeuTyrLeuAspAlaTyrAsnMetMetIleSerAlaGlyPheSerLeuTrpValTyrLysGlnPheAspThrTyrAsnLeuTrpAsnThrPheThrArgLeuGlnSerLeuGluAsnValAlaPheAsnValValAsnLysGlyHisPheAspGlyGlnGlnGlyGluValProValSerIleIleAsnAsnThrValTyrThrLysValAspGlyValAspValGluLeuPheGluAsnLysThrThrLeuProValAsnValAlaPheGluLeuTrpAlaLysArgAsnIleLysProValProGluValLysIleLeuAsnAsnLeuGlyValAspIleAlaAlaAsnThrValIleTrpAspTyrLysArgAspAlaProAlaHisIleSerThrIleGlyValCysSerMetThrAspIleAlaLysLysProThrGluThrIleCysAlaProLeuThrValPhePheAspGlyArgValAspGlyGlnValAspLeuPheArgAsnAlaArgAsnGlyValLeuIleThrGluGlySerValLysGlyLeuGlnProSerValGlyProLysGlnAlaSerLeuAsnGlyValThrLeuIleGlyGluAlaValLysThrGlnPheAsnTyrTyrLysLysValAspGlyValValGlnGlnLeuProGluThrTyrPheThrGlnSerArgAsnLeuGlnGluPheLysProArgSerGlnMetGluIleAspPheLeuGluLeuAlaMetAspGluPheIleGluArgTyrLysLeuGluGlyTyrAlaPheGluHisIleValTyrGlyAspPheSerHisSerGlnLeuGlyGlyLeuHisLeuLeuIleGlyLeuAlaLysArgPheLysGluSerProPheGluLeuGluAspPheIleProMetAspSerThrValLysAsnTyrPheIleThrAspAlaGlnThrGlySerSerLysCysValCysSerValIleAspLeuLeuLeuAspAspPheValGluIleIleLysSerGlnAspLeuSerValValSerLysValValLysValThrIleAspTyrThrGluIleSerPheMetLeuTrpCysLysAspGlyHisValGluThrPheTyrProLysLeuGlnSerSerGlnAlaTrpGlnProGlyValAlaMetProAsnLeuTyrLysMetGlnArgMetLeuLeuGluLysCysAspLeuGlnAsnTyrGlyAspSerAlaThrLeuProLysGlyIleMetMetAsnValAlaLysTyrThrGlnLeuCysGlnTyrLeuAsnThrLeuThrLeuAlaValProTyrAsnMetArgValIleHisPheGlyAlaGlySerAspLysGlyValAlaProGlyThrAlaValLeuArgGlnTrpLeuProThrGlyThrLeuLeuValAspSerAspLeuAsnAspPheValSerAspAlaAspSerThrLeuIleGlyAspCysAlaThrValHisThrAlaAsnLysTrpAspLeuIleIleSerAspMetTyrAspProLysThrLysAsnValThrLysGluAsnAspSerLysGluGlyPhePheThrTyrIleCysGlyPheIleGlnGlnLysLeuAlaLeuGlyGlySerValAlaIleLysIleThrGluHisSerTrpAsnAlaAspLeuTyrLysLeuMetGlyHisPheAlaTrpTrpThrAlaPheValThrAsnValAsnAlaSerSerSerGluAlaPheLeuIleGlyCysAsnTyrLeuGlyLysProArgGluGlnIleAspGlyTyrValMetHisAlaAsnTyrIlePheTrpArgAsnThrAsnProIleGlnLeuSerSerTyrSerLeuPheAspMetSerLysPheProLeuLysLeuArgGlyThrAlaValMetSerLeuLysGluGlyGlnIleAsnAspMetIleLeuSerLeuLeuSerLysGlyArgLeuIleIleArgGluAsnAsnArgValValIleSerSerAspValLeuValAsnAsnTerThrAsnAsnValCysPheSerCysPheIleAlaThrSerLeuTerSerValCysTerSerTyrAsnGlnAsnSerIleThrProCysIleHisTerPhePheHisThrTrpCysLeuLeuProTerGlnSerPheGlnIleLeuSerPheThrPheAsnSerGlyLeuValLeuThrPheLeuPheGlnCysTyrLeuValProCysTyrThrCysLeuTrpAspGlnTrpTyrTerGluValTerTerProCysProThrIleTerTerTrpCysLeuPheCysPheHisTerGluValTerHisAsnLysArgLeuAspPheTrpTyrTyrPheArgPheGluAspProValProThrTyrCysTerTerArgTyrTerCysCysTyrTerSerLeuTerIleSerIleLeuTerTerSerIlePheGlyCysLeuLeuProGlnLysGlnGlnLysLeuAspGlyLysTerValGlnSerLeuPheTerCysGluTerLeuHisPheTerIleCysLeuSerAlaPheSerTyrGlyProTerArgLysThrGlyTerPheGlnLysSerTerGlyIleCysValTerGluTyrTerTrpLeuPheTerAsnIlePheTerAlaHisAlaTyrTerPheSerAlaTerSerProSerGlyPhePheGlyPheArgThrIleGlyArgPheAlaAsnArgTyrTerHisHisTerValSerAsnPheThrCysPheThrTerLysLeuPheAspSerTrpTerPhePhePheArgLeuAspSerTrpCysCysSerLeuLeuCysGlyLeuSerSerThrTerAspPheSerIleLysIleTerTerLysTrpAsnHisTyrArgCysCysArgLeuCysThrTerProSerLeuArgAsnLysValTyrValGluIleLeuHisCysArgLysArgAsnLeuSerAsnPheTerLeuTerSerProThrAsnArgIleTyrCysTerIleSerTerTyrTyrLysLeuValProPheTrpTerSerPheTerArgHisGlnIleCysIleCysLeuCysLeuGluGlnGluGluAsnGlnGlnLeuCysCysTerLeuPheCysProIleTerPheArgIleIlePheHisPheTerValLeuTrpSerValSerTyrTerIleLysTerSerLeuLeuTyrTerCysLeuCysArgPheIleCysAsnTerArgTerTerSerGlnThrAsnArgSerArgAlaAsnTrpLysAspCysTerLeuTerLeuTerIleThrArgTerPheTyrArgLeuArgTyrSerLeuGluPheTerGlnSerTerPheTerGlyTrpTrpTerLeuTerLeuProValTerIleValTerGluValTerSerGlnThrPheTerGluArgTyrPheAsnTerAsnLeuSerGlyArgTerHisThrLeuTerTrpCysTerArgPheTerLeuLeuLeuSerPheThrIleIleTrpPheProThrHisTerTrpCysTrpLeuProThrIleGlnSerSerSerThrPhePheTerThrSerThrCysThrSerAsnCysLeuTrpThrTerLysValTyrTerPheGlyTerLysGlnMetCysGlnPheGlnLeuGlnTrpPheAsnArgHisArgCysSerTyrTerValTerGlnLysValSerAlaPheProThrIleTrpGlnArgHisCysTerHisTyrTerCysCysProTerSerThrAspThrTerAspSerTerHisTyrThrMetPhePheTrpTrpCysGlnCysTyrAsnThrArgAsnLysTyrPheTerProGlyCysCysSerLeuSerGlyCysTerLeuHisArgSerProCysCysTyrSerCysArgSerThrTyrSerTyrLeuAlaCysLeuPheTyrArgPheTerCysPheSerAsnThrCysArgLeuPheAsnArgGlyTerThrCysGlnGlnLeuIleTerValTerHisThrHisTrpCysArgTyrMetArgTerLeuSerAspSerAspTerPheSerSerAlaGlyThrTerCysSerTerSerIleHisHisCysLeuHisTyrValThrTrpCysArgLysPheSerCysLeuLeuTerTerLeuTyrCysHisThrHisLysPheTyrTyrTerCysTyrHisArgAsnSerThrSerValTyrAspGlnAspIleSerArgLeuTyrAsnValHisLeuTrpTerPheAsnTerMetGlnGlnSerPheValAlaIleTrpGlnPheLeuTyrThrIleLysProCysPheAsnTrpAsnSerCysTerThrArgGlnLysHisProArgSerPheCysThrSerGlnThrAsnLeuGlnAsnThrThrAsnTerArgPheTrpTrpPheTerPhePheThrAsnIleThrArgSerIleLysThrLysGlnGluValIleTyrTerArgSerThrPheGlnGlnSerAspThrCysArgCysTrpLeuHisGlnThrIleTrpTerLeuProTrpTerTyrCysCysTerArgProHisLeuCysThrLysValTerArgProTyrCysPheAlaThrPheAlaHisArgTerAsnAspCysSerIleHisPheCysThrValSerGlyTyrAsnHisPheTrpLeuAspLeuTrpCysArgCysCysIleThrAsnThrIleCysTyrAlaAsnGlyLeuTerValTerTrpTyrTrpSerTyrThrGluCysSerLeuTerGluProLysIleAspCysGlnProIleTerTerCysTyrTrpGlnAsnSerArgLeuThrPhePheHisSerLysCysThrTrpLysThrSerArgCysGlyGlnProLysCysThrSerPheLysHisAlaCysTerThrThrTerLeuGlnPheTrpCysAsnPheLysCysPheLysTerTyrProPheThrSerTerGlnSerTerGlyTerSerAlaAsnTerTerValAspHisArgGlnThrSerLysPheAlaAspIleCysAspSerThrIleAsnTerSerCysArgAsnGlnSerPheCysTerSerCysCysTyrTerAsnValArgValCysThrTrpThrIleLysLysSerTerPheLeuTrpLysGlyLeuSerSerTyrValLeuProSerValSerThrSerTrpCysSerLeuLeuAlaCysAspLeuCysProCysThrArgLysGluLeuHisAsnCysSerCysHisLeuSerTerTrpLysSerThrLeuSerSerTerArgCysLeuCysPheLysTrpHisThrLeuValCysAsnThrLysGluPheLeuTerThrThrAsnHisTyrTyrArgGlnHisIleCysValTrpTerLeuTerCysCysAsnArgAsnCysGlnGlnHisSerLeuTerSerPheAlaThrTerIleArgLeuIleGlnGlyGlyValArgTerIlePheTerGluSerTyrIleThrArgCysTerPheArgTerHisLeuTrpHisTerCysPheSerCysLysHisSerLysArgAsnTerProProGlnTerGlyCysGlnGluPheLysTerIleSerHisArgSerProArgThrTrpLysValTerAlaValTyrLysMetAlaMetValHisLeuAlaArgPheTyrSerTrpLeuAspCysHisSerAsnGlyAspAsnTyrAlaLeuLeuTyrAspGlnLeuLeuTerLeuSerGlnGlyLeuLeuPheLeuTrpIleLeuLeuGlnIleTerTerArgArgLeuTerAlaSerAlaGlnArgSerGlnIleThrLeuHisIleAsnGluLeuMetAspLeuPheMetArgIlePheThrIleGlyThrValThrLeuLysGlnGlyGluIleLysAspAlaThrProSerAspPheValArgAlaThrAlaThrIleProIleGlnAlaSerLeuProPheGlyTrpLeuIleValGlyValAlaLeuLeuAlaValPheGlnSerAlaSerLysIleIleThrLeuLysLysArgTrpGlnLeuAlaLeuSerLysGlyValHisPheValCysAsnLeuLeuLeuLeuPheValThrValTyrSerHisLeuLeuLeuValAlaAlaGlyLeuGluAlaProPheLeuTyrLeuTyrAlaLeuValTyrPheLeuGlnSerIleAsnPheValArgIleIleMetArgLeuTrpLeuCysTrpLysCysArgSerLysAsnProLeuLeuTyrAspAlaAsnTyrPheLeuCysTrpHisThrAsnCysTyrAspTyrCysIleProTyrAsnSerValThrSerSerIleValIleThrSerGlyAspGlyThrThrSerProIleSerGluHisAspTyrGlnIleGlyGlyTyrThrGluLysTrpGluSerGlyValLysAspCysValValLeuHisSerTyrPheThrSerAspTyrTyrGlnLeuTyrSerThrGlnLeuSerThrAspThrGlyValGluHisValThrPhePheIleTyrAsnLysIleValAspGluProGluGluHisValGlnIleHisThrIleAspGlySerSerGlyValValAsnProValMetGluProIleTyrAspGluProThrThrThrThrSerValProLeuTerAlaGlnAlaAspGluTyrGluLeuMetTyrSerPheValSerGluGluThrGlyThrLeuIleValAsnSerValLeuLeuPheLeuAlaPheValValPheLeuLeuValThrLeuAlaIleLeuThrAlaLeuArgLeuCysAlaTyrCysCysAsnIleValAsnValSerLeuValLysProSerPheTyrValTyrSerArgValLysAsnLeuAsnSerSerArgValProAspLeuLeuValTerThrAsnTerIleLeuTyrTerPhePheCysLeuGluLeuTerPheTerProTrpGlnIleProThrValLeuLeuProLeuLysSerLeuLysSerSerLeuAsnAsnGlyThrTerTerTerValSerTyrSerLeuHisGlyPheValPheTyrAsnLeuProMetProThrGlyIleGlyPheCysIleTerLeuSerTerPheSerSerGlyCysTyrGlyGlnTerLeuTerLeuValLeuCysLeuLeuLeuPheThrGluTerIleGlySerProValGluLeuLeuSerGlnTrpLeuValLeuTerAlaTerCysGlySerAlaThrSerLeuLeuLeuSerAspCysLeuArgValArgValProCysGlyHisSerIleGlnLysLeuThrPhePheSerThrCysHisSerMetAlaLeuPheTerProAspArgPheTerLysValAsnSerTerSerGluLeuTerSerPheValAspIlePheValLeuLeuAspThrIleTerAspAlaValThrSerArgThrCysLeuLysLysSerLeuLeuLeuHisHisGluArgPheLeuIleThrAsnTrpGluLeuArgSerValTerGlnValThrGlnValLeuLeuHisThrValAlaThrGlyLeuAlaThrIleAsnTerThrGlnThrIleProValAlaValThrIleLeuLeuCysLeuTyrSerLysTerGlnGlnMetPheHisLeuValAspPheGlnValThrIleAlaGluIleLeuLeuIleIleMetArgThrPheLysValSerIleTrpAsnLeuAspTyrIleIleAsnLeuIleIleLysAsnLeuSerLysSerLeuThrGluAsnLysTyrSerGlnLeuAspGluGluGlnProMetGluIleAspTerThrAsnMetLysIleIleLeuPheLeuAlaLeuIleThrLeuAlaThrCysGluLeuTyrHisTyrGlnGluCysValArgGlyThrThrValLeuLeuLysGluProCysSerSerGlyThrTyrGluGlyAsnSerProPheHisProLeuAlaAspAsnLysPheAlaLeuThrCysPheSerThrGlnPheAlaPheAlaCysProAspGlyValLysHisValTyrGlnLeuArgAlaArgSerValSerProLysLeuPheIleArgGlnGluGluValGlnGluLeuTyrSerProIlePheLeuIleValAlaAlaIleValPheIleThrLeuCysPheThrLeuLysArgLysThrGluTerLeuAsnPheHisTerLeuThrSerIleCysAlaPheTerProPheCysTyrSerLeuPheTerLeuCysLeuLeuSerPheGlySerHisLeuAsnCysLysIleIleMetLysLeuValThrProLysArgThrTerAsnPheLeuPheSerTerGluSerSerGlnLeuTerLeuHisPheThrLysAsnValValTyrSerHisValLeuAsnIleAsnHisMetTerLeuMetThrArgValLeuPheThrSerIleLeuAsnGlyIleLeuGluTerGluLeuGluAsnGlnHisLeuTerLeuAsnCysAlaTrpMetArgLeuValLeuAsnHisProPheSerThrSerIleSerValIleIleGlnPheProValTyrLeuLeuGlnLeuIleAlaArgAsnLeuAsnTrpValValLeuTerCysValValArgSerMetLysThrPheTerSerIleMetThrPheValLeuPheTerIleSerSerLysArgThrAsnTerAsnValTerTerTrpThrProLysSerAlaLysCysThrProHisTyrValTrpTrpThrLeuArgPheAsnTrpGlnTerProGluTrpArgThrGlnTrpGlyAlaIleLysThrThrSerAlaProArgPheThrGlnTerTyrCysValLeuValHisArgSerHisSerThrTrpGlnGlyArgProTerIleProSerArgThrArgArgSerAsnTerHisGlnTerGlnSerArgTerProAsnTrpLeuLeuProLysSerTyrGlnThrAsnSerTrpTrpTerArgTerAsnGluArgSerGlnSerLysMetValPheLeuLeuProArgAsnTrpAlaArgSerTrpThrSerLeuTrpCysTerGlnArgArgHisHisMetGlyCysAsnTerGlySerLeuGluTyrThrLysArgSerHisTrpHisProGlnSerCysTerGlnCysCysAsnArgAlaThrThrSerSerArgAsnAsnIleAlaLysArgLeuLeuArgArgArgGluGlnArgArgGlnSerSerLeuPheSerPheLeuIleThrTerSerGlnGlnPheLysLysPheAsnSerArgGlnGlnTerGlyAsnPheSerCysTerAsnGlyTrpGlnTrpArgTerCysCysSerCysPheAlaAlaAlaTerGlnIleGluProAlaTerGluGlnAsnValTrpTerArgProThrThrThrArgProAsnCysHisTerGluIleCysCysTerGlyPheTerGluAlaSerAlaLysThrTyrCysHisTerSerIleGlnCysAsnThrSerPheArgGlnThrTrpSerArgThrAsnProArgLysPheTrpGlyProGlyThrAsnGlnThrArgAsnTerLeuGlnThrLeuAlaAlaAsnCysThrIleCysProGlnArgPheSerValLeuArgAsnValAlaHisTrpHisGlySerHisThrPheGlyAsnValValAspLeuHisArgCysHisGlnIleGlyTerGlnArgSerLysPheGlnArgSerSerHisPheAlaGluTerAlaTyrTerArgIleGlnAsnIleProThrAsnArgAlaTerLysGlyGlnLysGluGluGlyTerTerAsnSerSerLeuThrAlaGluThrGluGluThrAlaAsnCysAspSerSerSerCysCysArgPheGlyTerPheLeuGlnThrIleAlaThrIleHisGluGlnCysTerLeuAsnSerGlyLeuAsnSerCysArgProHisLysAlaAspGlyLeuTyrLysArgPheArgPheSerValTyrAspIleTerSerThrLeuValGlnAsnGluPheSerTerLeuHisSerThrSerArgCysSerTerLeuTerSerHisIleAlaIlePheAsnGlnCysValThrLeuGlyArgThrTerLysSerHisHisIlePheThrGluAlaThrArgSerThrIleGluCysThrValAsnAsnAlaArgGluSerCysLeuTyrGlyArgAlaLeuMetCysLysIleAsnPheSerSerAlaIleProMetTerPheTerTerLeuLeuArgArgMetThrLysLysLysLysLysLysLysLysLysLys'"
      ]
     },
     "execution_count": 29,
     "metadata": {},
     "output_type": "execute_result"
    }
   ],
   "source": [
    "from Bio.SeqUtils import seq3\n",
    "seq3(covid_protein)"
   ]
  },
  {
   "cell_type": "code",
   "execution_count": 30,
   "metadata": {},
   "outputs": [
    {
     "data": {
      "text/plain": [
       "[Seq('IKGLYLPR', HasStopCodon(ExtendedIUPACProtein(), '*')),\n",
       " Seq('QTNQLSISCRSVL', HasStopCodon(ExtendedIUPACProtein(), '*')),\n",
       " Seq('TNFKICVAVTRLHA', HasStopCodon(ExtendedIUPACProtein(), '*')),\n",
       " Seq('CTHAV', HasStopCodon(ExtendedIUPACProtein(), '*')),\n",
       " Seq('LITNYCR', HasStopCodon(ExtendedIUPACProtein(), '*')),\n",
       " Seq('QDTSNSSIFCRLLTVSSVLQPIISTSRFRPGVTER', HasStopCodon(ExtendedIUPACProtein(), '*')),\n",
       " Seq('DGEPCPWFQRENTRPTQFACFTGSRRARTWLWRLRGGGLIRGTSTS', HasStopCodon(ExtendedIUPACProtein(), '*')),\n",
       " Seq('RWHLWLSRS', HasStopCodon(ExtendedIUPACProtein(), '*')),\n",
       " Seq('KRRFAST', HasStopCodon(ExtendedIUPACProtein(), '*')),\n",
       " Seq('TALCVHQTFGCSNCTSWSCYG', HasStopCodon(ExtendedIUPACProtein(), '*')),\n",
       " Seq('AGSRTRRHSVRS', HasStopCodon(ExtendedIUPACProtein(), '*')),\n",
       " Seq('W', HasStopCodon(ExtendedIUPACProtein(), '*')),\n",
       " Seq('DTWCPCPSCGRNTSGLPQGSSS', HasStopCodon(ExtendedIUPACProtein(), '*')),\n",
       " Seq('ER', HasStopCodon(ExtendedIUPACProtein(), '*')),\n",
       " Seq('', HasStopCodon(ExtendedIUPACProtein(), '*')),\n",
       " Seq('RSWWP', HasStopCodon(ExtendedIUPACProtein(), '*')),\n",
       " Seq('LRRRSKVI', HasStopCodon(ExtendedIUPACProtein(), '*')),\n",
       " Seq('LRRRAWH', HasStopCodon(ExtendedIUPACProtein(), '*')),\n",
       " Seq('SL', HasStopCodon(ExtendedIUPACProtein(), '*')),\n",
       " Seq('RFSRKLEH', HasStopCodon(ExtendedIUPACProtein(), '*')),\n",
       " Seq('T', HasStopCodon(ExtendedIUPACProtein(), '*')),\n",
       " Seq('QWCYP', HasStopCodon(ExtendedIUPACProtein(), '*')),\n",
       " Seq('THA', HasStopCodon(ExtendedIUPACProtein(), '*')),\n",
       " Seq('A', HasStopCodon(ExtendedIUPACProtein(), '*')),\n",
       " Seq('RRGIHSLCR', HasStopCodon(ExtendedIUPACProtein(), '*')),\n",
       " Seq('QLLWP', HasStopCodon(ExtendedIUPACProtein(), '*')),\n",
       " Seq('WLPS', HasStopCodon(ExtendedIUPACProtein(), '*')),\n",
       " Seq('VH', HasStopCodon(ExtendedIUPACProtein(), '*')),\n",
       " Seq('RPSSTCW', HasStopCodon(ExtendedIUPACProtein(), '*')),\n",
       " Seq('SFMHFVRTTGLY', HasStopCodon(ExtendedIUPACProtein(), '*')),\n",
       " Seq('H', HasStopCodon(ExtendedIUPACProtein(), '*')),\n",
       " Seq('EGCILLP', HasStopCodon(ExtendedIUPACProtein(), '*')),\n",
       " Seq('T', HasStopCodon(ExtendedIUPACProtein(), '*')),\n",
       " Seq('A', HasStopCodon(ExtendedIUPACProtein(), '*')),\n",
       " Seq('NCLVHGTF', HasStopCodon(ExtendedIUPACProtein(), '*')),\n",
       " Seq('KEL', HasStopCodon(ExtendedIUPACProtein(), '*')),\n",
       " Seq('IADTF', HasStopCodon(ExtendedIUPACProtein(), '*')),\n",
       " Seq('N', HasStopCodon(ExtendedIUPACProtein(), '*')),\n",
       " Seq('IGKEI', HasStopCodon(ExtendedIUPACProtein(), '*')),\n",
       " Seq('HLQWGMSKFCISLKFHNQDYSTKG', HasStopCodon(ExtendedIUPACProtein(), '*')),\n",
       " Seq('KEKA', HasStopCodon(ExtendedIUPACProtein(), '*')),\n",
       " Seq('WLYG', HasStopCodon(ExtendedIUPACProtein(), '*')),\n",
       " Seq('NSICLSSCVTK', HasStopCodon(ExtendedIUPACProtein(), '*')),\n",
       " Seq('MQPNVPFNSHEV', HasStopCodon(ExtendedIUPACProtein(), '*')),\n",
       " Seq('SLW', HasStopCodon(ExtendedIUPACProtein(), '*')),\n",
       " Seq('NFMADGRFC', HasStopCodon(ExtendedIUPACProtein(), '*')),\n",
       " Seq('SHLRILWH', HasStopCodon(ExtendedIUPACProtein(), '*')),\n",
       " Seq('EFD', HasStopCodon(ExtendedIUPACProtein(), '*')),\n",
       " Seq('RRCHYLWLLTPKCCC', HasStopCodon(ExtendedIUPACProtein(), '*')),\n",
       " Seq('NLLSSMSQFRSRT', HasStopCodon(ExtendedIUPACProtein(), '*')),\n",
       " Seq('A', HasStopCodon(ExtendedIUPACProtein(), '*')),\n",
       " Seq('SCRIP', HasStopCodon(ExtendedIUPACProtein(), '*')),\n",
       " Seq('', HasStopCodon(ExtendedIUPACProtein(), '*')),\n",
       " Seq('IWLENHSS', HasStopCodon(ExtendedIUPACProtein(), '*')),\n",
       " Seq('GWSHYCLWRLCVLLCWLP', HasStopCodon(ExtendedIUPACProtein(), '*')),\n",
       " Seq('QVCLLGSTC', HasStopCodon(ExtendedIUPACProtein(), '*')),\n",
       " Seq('R', HasStopCodon(ExtendedIUPACProtein(), '*')),\n",
       " Seq('HRL', HasStopCodon(ExtendedIUPACProtein(), '*')),\n",
       " Seq('PYRCCWRRFRRS', HasStopCodon(ExtendedIUPACProtein(), '*')),\n",
       " Seq('', HasStopCodon(ExtendedIUPACProtein(), '*')),\n",
       " Seq('QPS', HasStopCodon(ExtendedIUPACProtein(), '*')),\n",
       " Seq('NTPKRESQHQYCW', HasStopCodon(ExtendedIUPACProtein(), '*')),\n",
       " Seq('L', HasStopCodon(ExtendedIUPACProtein(), '*')),\n",
       " Seq('T', HasStopCodon(ExtendedIUPACProtein(), '*')),\n",
       " Seq('', HasStopCodon(ExtendedIUPACProtein(), '*')),\n",
       " Seq('RDRHYFGIFFCFHKCFCGNCERFGL', HasStopCodon(ExtendedIUPACProtein(), '*')),\n",
       " Seq('SIQTNC', HasStopCodon(ExtendedIUPACProtein(), '*')),\n",
       " Seq('ILW', HasStopCodon(ExtendedIUPACProtein(), '*')),\n",
       " Seq('F', HasStopCodon(ExtendedIUPACProtein(), '*')),\n",
       " Seq('SYKRKS', HasStopCodon(ExtendedIUPACProtein(), '*')),\n",
       " Seq('KRCLEYW', HasStopCodon(ExtendedIUPACProtein(), '*')),\n",
       " Seq('TEINTESSLCICIRGCSCCTINFLPHS', HasStopCodon(ExtendedIUPACProtein(), '*')),\n",
       " Seq('NCSKFCACFTEGRYNNTRWNFTVFTETH', HasStopCodon(ExtendedIUPACProtein(), '*')),\n",
       " Seq('CYDVHI', HasStopCodon(ExtendedIUPACProtein(), '*')),\n",
       " Seq('FGY', HasStopCodon(ExtendedIUPACProtein(), '*')),\n",
       " Seq('QSSCNGLHYRWCCSVDFAVAN', HasStopCodon(ExtendedIUPACProtein(), '*')),\n",
       " Seq('HLWHCL', HasStopCodon(ExtendedIUPACProtein(), '*')),\n",
       " Seq('KTQTRP', HasStopCodon(ExtendedIUPACProtein(), '*')),\n",
       " Seq('LA', HasStopCodon(ExtendedIUPACProtein(), '*')),\n",
       " Seq('REV', HasStopCodon(ExtendedIUPACProtein(), '*')),\n",
       " Seq('GRCRVS', HasStopCodon(ExtendedIUPACProtein(), '*')),\n",
       " Seq('RRLGNC', HasStopCodon(ExtendedIUPACProtein(), '*')),\n",
       " Seq('IYLNLCL', HasStopCodon(ExtendedIUPACProtein(), '*')),\n",
       " Seq('NCRWTNCHLCKGN', HasStopCodon(ExtendedIUPACProtein(), '*')),\n",
       " Seq('GECSDIL', HasStopCodon(ExtendedIUPACProtein(), '*')),\n",
       " Seq('ACK', HasStopCodon(ExtendedIUPACProtein(), '*')),\n",
       " Seq('IFGFVC', HasStopCodon(ExtendedIUPACProtein(), '*')),\n",
       " Seq('LYHYWWS', HasStopCodon(ExtendedIUPACProtein(), '*')),\n",
       " Seq('T', HasStopCodon(ExtendedIUPACProtein(), '*')),\n",
       " Seq('SLEFR', HasStopCodon(ExtendedIUPACProtein(), '*')),\n",
       " Seq('NICHALKGIVQKVC', HasStopCodon(ExtendedIUPACProtein(), '*')),\n",
       " Seq('IQRRNWPTHASKSPKRNYLLRGRNTSHRSVNRGSCLENW', HasStopCodon(ExtendedIUPACProtein(), '*')),\n",
       " Seq('FTTIRTTY', HasStopCodon(ExtendedIUPACProtein(), '*')),\n",
       " Seq('', HasStopCodon(ExtendedIUPACProtein(), '*')),\n",
       " Seq('SC', HasStopCodon(ExtendedIUPACProtein(), '*')),\n",
       " Seq('SSIGWYTSLY', HasStopCodon(ExtendedIUPACProtein(), '*')),\n",
       " Seq('RAYVARNQRHRKVLCPCT', HasStopCodon(ExtendedIUPACProtein(), '*')),\n",
       " Seq('YDGNKQYLHTQRRCTNKGYFW', HasStopCodon(ExtendedIUPACProtein(), '*')),\n",
       " Seq('', HasStopCodon(ExtendedIUPACProtein(), '*')),\n",
       " Seq('HCDRSARLQECEYHF', HasStopCodon(ExtendedIUPACProtein(), '*')),\n",
       " Seq('T', HasStopCodon(ExtendedIUPACProtein(), '*')),\n",
       " Seq('', HasStopCodon(ExtendedIUPACProtein(), '*')),\n",
       " Seq('KD', HasStopCodon(ExtendedIUPACProtein(), '*')),\n",
       " Seq('', HasStopCodon(ExtendedIUPACProtein(), '*')),\n",
       " Seq('ST', HasStopCodon(ExtendedIUPACProtein(), '*')),\n",
       " Seq('', HasStopCodon(ExtendedIUPACProtein(), '*')),\n",
       " Seq('EVLCLYS', HasStopCodon(ExtendedIUPACProtein(), '*')),\n",
       " Seq('TRYRSK', HasStopCodon(ExtendedIUPACProtein(), '*')),\n",
       " Seq('VRLCCGRCCHKNFATSI', HasStopCodon(ExtendedIUPACProtein(), '*')),\n",
       " Seq('ITYTTGH', HasStopCodon(ExtendedIUPACProtein(), '*')),\n",
       " Seq('FR', HasStopCodon(ExtendedIUPACProtein(), '*')),\n",
       " Seq('VEYGYILLI', HasStopCodon(ExtendedIUPACProtein(), '*')),\n",
       " Seq('', HasStopCodon(ExtendedIUPACProtein(), '*')),\n",
       " Seq('VW', HasStopCodon(ExtendedIUPACProtein(), '*')),\n",
       " Seq('V', HasStopCodon(ExtendedIUPACProtein(), '*')),\n",
       " Seq('IGFTYVLFFLPSR', HasStopCodon(ExtendedIUPACProtein(), '*')),\n",
       " Seq('G', HasStopCodon(ExtendedIUPACProtein(), '*')),\n",
       " Seq('RRR', HasStopCodon(ExtendedIUPACProtein(), '*')),\n",
       " Seq('L', HasStopCodon(ExtendedIUPACProtein(), '*')),\n",
       " Seq('RRRV', HasStopCodon(ExtendedIUPACProtein(), '*')),\n",
       " Seq('AINSI', HasStopCodon(ExtendedIUPACProtein(), '*')),\n",
       " Seq('VWY', HasStopCodon(ExtendedIUPACProtein(), '*')),\n",
       " Seq('R', HasStopCodon(ExtendedIUPACProtein(), '*')),\n",
       " Seq('LPR', HasStopCodon(ExtendedIUPACProtein(), '*')),\n",
       " Seq('TFGIWCHFCCSST', HasStopCodon(ExtendedIUPACProtein(), '*')),\n",
       " Seq('RRARRRLVR', HasStopCodon(ExtendedIUPACProtein(), '*')),\n",
       " Seq('', HasStopCodon(ExtendedIUPACProtein(), '*')),\n",
       " Seq('', HasStopCodon(ExtendedIUPACProtein(), '*')),\n",
       " Seq('STNCWSTRRQ', HasStopCodon(ExtendedIUPACProtein(), '*')),\n",
       " Seq('GQSDNYYSNNC', HasStopCodon(ExtendedIUPACProtein(), '*')),\n",
       " Seq('GSTSIRDGTYTSCSDY', HasStopCodon(ExtendedIUPACProtein(), '*')),\n",
       " Seq('SE', HasStopCodon(ExtendedIUPACProtein(), '*')),\n",
       " Seq('F', HasStopCodon(ExtendedIUPACProtein(), '*')),\n",
       " Seq('WLFKTY', HasStopCodon(ExtendedIUPACProtein(), '*')),\n",
       " Seq('QCIH', HasStopCodon(ExtendedIUPACProtein(), '*')),\n",
       " Seq('KCRHCGRS', HasStopCodon(ExtendedIUPACProtein(), '*')),\n",
       " Seq('KGKTNSGC', HasStopCodon(ExtendedIUPACProtein(), '*')),\n",
       " Seq('CSQCLP', HasStopCodon(ExtendedIUPACProtein(), '*')),\n",
       " Seq('TWRRCCRSLK', HasStopCodon(ExtendedIUPACProtein(), '*')),\n",
       " Seq('GY', HasStopCodon(ExtendedIUPACProtein(), '*')),\n",
       " Seq('QCHAS', HasStopCodon(ExtendedIUPACProtein(), '*')),\n",
       " Seq('I', HasStopCodon(ExtendedIUPACProtein(), '*')),\n",
       " Seq('', HasStopCodon(ExtendedIUPACProtein(), '*')),\n",
       " Seq('LHSY', HasStopCodon(ExtendedIUPACProtein(), '*')),\n",
       " Seq('WTT', HasStopCodon(ExtendedIUPACProtein(), '*')),\n",
       " Seq('SGW', HasStopCodon(ExtendedIUPACProtein(), '*')),\n",
       " Seq('LCFKRTQSC', HasStopCodon(ExtendedIUPACProtein(), '*')),\n",
       " Seq('TLSSCCRPKC', HasStopCodon(ExtendedIUPACProtein(), '*')),\n",
       " Seq('QR', HasStopCodon(ExtendedIUPACProtein(), '*')),\n",
       " Seq('RHSTS', HasStopCodon(ExtendedIUPACProtein(), '*')),\n",
       " Seq('ECL', HasStopCodon(ExtendedIUPACProtein(), '*')),\n",
       " Seq('KF', HasStopCodon(ExtendedIUPACProtein(), '*')),\n",
       " Seq('SARSSTCTIIISWYFWC', HasStopCodon(ExtendedIUPACProtein(), '*')),\n",
       " Seq('PYTFFKSLCRYCSHKCLLSCL', HasStopCodon(ExtendedIUPACProtein(), '*')),\n",
       " Seq('', HasStopCodon(ExtendedIUPACProtein(), '*')),\n",
       " Seq('KSL', HasStopCodon(ExtendedIUPACProtein(), '*')),\n",
       " Seq('QTCFKLFGNEE', HasStopCodon(ExtendedIUPACProtein(), '*')),\n",
       " Seq('KAS', HasStopCodon(ExtendedIUPACProtein(), '*')),\n",
       " Seq('TKDR', HasStopCodon(ExtendedIUPACProtein(), '*')),\n",
       " Seq('DS', HasStopCodon(ExtendedIUPACProtein(), '*')),\n",
       " Seq('RGS', HasStopCodon(ExtendedIUPACProtein(), '*')),\n",
       " Seq('AIYN', HasStopCodon(ExtendedIUPACProtein(), '*')),\n",
       " Seq('K', HasStopCodon(ExtendedIUPACProtein(), '*')),\n",
       " Seq('TFS', HasStopCodon(ExtendedIUPACProtein(), '*')),\n",
       " Seq('TEKTR', HasStopCodon(ExtendedIUPACProtein(), '*')),\n",
       " Seq('', HasStopCodon(ExtendedIUPACProtein(), '*')),\n",
       " Seq('ENQSLC', HasStopCodon(ExtendedIUPACProtein(), '*')),\n",
       " Seq('RSYNNSGRN', HasStopCodon(ExtendedIUPACProtein(), '*')),\n",
       " Seq('VPHRKLVTLY', HasStopCodon(ExtendedIUPACProtein(), '*')),\n",
       " Seq('H', HasStopCodon(ExtendedIUPACProtein(), '*')),\n",
       " Seq('WQSSSRFCHSC', HasStopCodon(ExtendedIUPACProtein(), '*')),\n",
       " Seq('', HasStopCodon(ExtendedIUPACProtein(), '*')),\n",
       " Seq('H', HasStopCodon(ExtendedIUPACProtein(), '*')),\n",
       " Seq('HHFLKERCSIYSG', HasStopCodon(ExtendedIUPACProtein(), '*')),\n",
       " Seq('CCSRGCFNCCGYTY', HasStopCodon(ExtendedIUPACProtein(), '*')),\n",
       " Seq('KGWWHY', HasStopCodon(ExtendedIUPACProtein(), '*')),\n",
       " Seq('NASESFEKSANRQLYNHLPGSGFKWLHCRGGKDSA', HasStopCodon(ExtendedIUPACProtein(), '*')),\n",
       " Seq('KV', HasStopCodon(ExtendedIUPACProtein(), '*')),\n",
       " Seq('KCLLHSTIYYL', HasStopCodon(ExtendedIUPACProtein(), '*')),\n",
       " Seq('', HasStopCodon(ExtendedIUPACProtein(), '*')),\n",
       " Seq('EARNSWNCFLEFARNACTCRRNTQINACLCGN', HasStopCodon(ExtendedIUPACProtein(), '*')),\n",
       " Seq('SHSFNYTA', HasStopCodon(ExtendedIUPACProtein(), '*')),\n",
       " Seq('I', HasStopCodon(ExtendedIUPACProtein(), '*')),\n",
       " Seq('GY', HasStopCodon(ExtendedIUPACProtein(), '*')),\n",
       " Seq('NTRGCG', HasStopCodon(ExtendedIUPACProtein(), '*')),\n",
       " Seq('LWC', HasStopCodon(ExtendedIUPACProtein(), '*')),\n",
       " Seq('ILLLHQ', HasStopCodon(ExtendedIUPACProtein(), '*')),\n",
       " Seq('NNCSVTYQHT', HasStopCodon(ExtendedIUPACProtein(), '*')),\n",
       " Seq('RSK', HasStopCodon(ExtendedIUPACProtein(), '*')),\n",
       " Seq('NSCYNATWLCNTWLKFGRSCSVYEISQSASYSFCFFT', HasStopCodon(ExtendedIUPACProtein(), '*')),\n",
       " Seq('CCYSV', HasStopCodon(ExtendedIUPACProtein(), '*')),\n",
       " Seq('WLSYFFF', HasStopCodon(ExtendedIUPACProtein(), '*')),\n",
       " Seq('NT', HasStopCodon(ExtendedIUPACProtein(), '*')),\n",
       " Seq('RTFY', HasStopCodon(ExtendedIUPACProtein(), '*')),\n",
       " Seq('NHLTCWFL', HasStopCodon(ExtendedIUPACProtein(), '*')),\n",
       " Seq('RLVLFWTIYTTRYRIS', HasStopCodon(ExtendedIUPACProtein(), '*')),\n",
       " Seq('ER', HasStopCodon(ExtendedIUPACProtein(), '*')),\n",
       " Seq('', HasStopCodon(ExtendedIUPACProtein(), '*')),\n",
       " Seq('KCILH', HasStopCodon(ExtendedIUPACProtein(), '*')),\n",
       " Seq('', HasStopCodon(ExtendedIUPACProtein(), '*')),\n",
       " Seq('SYHIPPRW', HasStopCodon(ExtendedIUPACProtein(), '*')),\n",
       " Seq('SYHL', HasStopCodon(ExtendedIUPACProtein(), '*')),\n",
       " Seq('QS', HasStopCodon(ExtendedIUPACProtein(), '*')),\n",
       " Seq('DTSFFERSEDY', HasStopCodon(ExtendedIUPACProtein(), '*')),\n",
       " Seq('GVYNSRQH', HasStopCodon(ExtendedIUPACProtein(), '*')),\n",
       " Seq('PPHASCGHVNDIWTTVWSNLFGWS', HasStopCodon(ExtendedIUPACProtein(), '*')),\n",
       " Seq('CY', HasStopCodon(ExtendedIUPACProtein(), '*')),\n",
       " Seq('NKTS', HasStopCodon(ExtendedIUPACProtein(), '*')),\n",
       " Seq('FT', HasStopCodon(ExtendedIUPACProtein(), '*')),\n",
       " Seq('R', HasStopCodon(ExtendedIUPACProtein(), '*')),\n",
       " Seq('NILCFT', HasStopCodon(ExtendedIUPACProtein(), '*')),\n",
       " Seq('', HasStopCodon(ExtendedIUPACProtein(), '*')),\n",
       " Seq('', HasStopCodon(ExtendedIUPACProtein(), '*')),\n",
       " Seq('HSTC', HasStopCodon(ExtendedIUPACProtein(), '*')),\n",
       " Seq('GF', HasStopCodon(ExtendedIUPACProtein(), '*')),\n",
       " Seq('VLPHN', HasStopCodon(ExtendedIUPACProtein(), '*')),\n",
       " Seq('S', HasStopCodon(ExtendedIUPACProtein(), '*')),\n",
       " Seq('FSG', HasStopCodon(ExtendedIUPACProtein(), '*')),\n",
       " Seq('VHVSIKSH', HasStopCodon(ExtendedIUPACProtein(), '*')),\n",
       " Seq('KVEIPTS', HasStopCodon(ExtendedIUPACProtein(), '*')),\n",
       " Seq('WFNFY', HasStopCodon(ExtendedIUPACProtein(), '*')),\n",
       " Seq('MGR', HasStopCodon(ExtendedIUPACProtein(), '*')),\n",
       " Seq('QLLSCHCIVNTPTNRVEV', HasStopCodon(ExtendedIUPACProtein(), '*')),\n",
       " Seq('STCSTRCLLQSKGW', HasStopCodon(ExtendedIUPACProtein(), '*')),\n",
       " Seq('SC', HasStopCodon(ExtendedIUPACProtein(), '*')),\n",
       " Seq('LLCTYLSLL', HasStopCodon(ExtendedIUPACProtein(), '*')),\n",
       " Seq('', HasStopCodon(ExtendedIUPACProtein(), '*')),\n",
       " Seq('DSR', HasStopCodon(ExtendedIUPACProtein(), '*')),\n",
       " Seq('VR', HasStopCodon(ExtendedIUPACProtein(), '*')),\n",
       " Seq('C', HasStopCodon(ExtendedIUPACProtein(), '*')),\n",
       " Seq('RNNELLVSTCQFRFLQKSLERGV', HasStopCodon(ExtendedIUPACProtein(), '*')),\n",
       " Seq('NLWTTADNP', HasStopCodon(ExtendedIUPACProtein(), '*')),\n",
       " Seq('GCRSCYVHGHTFL', HasStopCodon(ExtendedIUPACProtein(), '*')),\n",
       " Seq('TI', HasStopCodon(ExtendedIUPACProtein(), '*')),\n",
       " Seq('ERCSDTLYVW', HasStopCodon(ExtendedIUPACProtein(), '*')),\n",
       " Seq('TSYKISSTTGVTFCYDVSTTCSV', HasStopCodon(ExtendedIUPACProtein(), '*')),\n",
       " Seq('T', HasStopCodon(ExtendedIUPACProtein(), '*')),\n",
       " Seq('AWYIYLC', HasStopCodon(ExtendedIUPACProtein(), '*')),\n",
       " Seq('', HasStopCodon(ExtendedIUPACProtein(), '*')),\n",
       " Seq('VHW', HasStopCodon(ExtendedIUPACProtein(), '*')),\n",
       " Seq('LPVWSL', HasStopCodon(ExtendedIUPACProtein(), '*')),\n",
       " Seq('TYNF', HasStopCodon(ExtendedIUPACProtein(), '*')),\n",
       " Seq('RNFVLHRRCFTYKVLRIQRSYYGCFLQRKQLHNNHKTSYL', HasStopCodon(ExtendedIUPACProtein(), '*')),\n",
       " Seq('IGWCCLYRN', HasStopCodon(ExtendedIUPACProtein(), '*')),\n",
       " Seq('P', HasStopCodon(ExtendedIUPACProtein(), '*')),\n",
       " Seq('VGQLL', HasStopCodon(ExtendedIUPACProtein(), '*')),\n",
       " Seq('ERQFLFHRATN', HasStopCodon(ExtendedIUPACProtein(), '*')),\n",
       " Seq('SCTKPTISKRKLR', HasStopCodon(ExtendedIUPACProtein(), '*')),\n",
       " Seq('F', HasStopCodon(ExtendedIUPACProtein(), '*')),\n",
       " Seq('VCM', HasStopCodon(ExtendedIUPACProtein(), '*')),\n",
       " Seq('', HasStopCodon(ExtendedIUPACProtein(), '*')),\n",
       " Seq('YQIC', HasStopCodon(ExtendedIUPACProtein(), '*')),\n",
       " Seq('', HasStopCodon(ExtendedIUPACProtein(), '*')),\n",
       " Seq('FKPVNWL', HasStopCodon(ExtendedIUPACProtein(), '*')),\n",
       " Seq('ETCFKRA', HasStopCodon(ExtendedIUPACProtein(), '*')),\n",
       " Seq('SYIFP', HasStopCodon(ExtendedIUPACProtein(), '*')),\n",
       " Seq('LKW', HasStopCodon(ExtendedIUPACProtein(), '*')),\n",
       " Seq('CGGY', HasStopCodon(ExtendedIUPACProtein(), '*')),\n",
       " Seq('L', HasStopCodon(ExtendedIUPACProtein(), '*')),\n",
       " Seq('TLHTLF', HasStopCodon(ExtendedIUPACProtein(), '*')),\n",
       " Seq('ERS', HasStopCodon(ExtendedIUPACProtein(), '*')),\n",
       " Seq('IVT', HasStopCodon(ExtendedIUPACProtein(), '*')),\n",
       " Seq('TYCLAC', HasStopCodon(ExtendedIUPACProtein(), '*')),\n",
       " Seq('QCN', HasStopCodon(ExtendedIUPACProtein(), '*')),\n",
       " Seq('', HasStopCodon(ExtendedIUPACProtein(), '*')),\n",
       " Seq('SHV', HasStopCodon(ExtendedIUPACProtein(), '*')),\n",
       " Seq('TKYLVYTLSLEHKTS', HasStopCodon(ExtendedIUPACProtein(), '*')),\n",
       " Seq('NIKFV', HasStopCodon(ExtendedIUPACProtein(), '*')),\n",
       " Seq('CTEVRGRAGNG', HasStopCodon(ExtendedIUPACProtein(), '*')),\n",
       " Seq('SCLRRSKTSL', HasStopCodon(ExtendedIUPACProtein(), '*')),\n",
       " Seq('RSSGKSYHTERRS', HasStopCodon(ExtendedIUPACProtein(), '*')),\n",
       " Seq('V', HasStopCodon(ExtendedIUPACProtein(), '*')),\n",
       " Seq('CENYRSCRRHYT', HasStopCodon(ExtendedIUPACProtein(), '*')),\n",
       " Seq('TSK', HasStopCodon(ExtendedIUPACProtein(), '*')),\n",
       " Seq('', HasStopCodon(ExtendedIUPACProtein(), '*')),\n",
       " Seq('FKNYRRGWPHRSNGCLCRQF', HasStopCodon(ExtendedIUPACProtein(), '*')),\n",
       " Seq('SYY', HasStopCodon(ExtendedIUPACProtein(), '*')),\n",
       " Seq('ET', HasStopCodon(ExtendedIUPACProtein(), '*')),\n",
       " Seq('', HasStopCodon(ExtendedIUPACProtein(), '*')),\n",
       " Seq('II', HasStopCodon(ExtendedIUPACProtein(), '*')),\n",
       " Seq('SIRFENPCYSWFSCC', HasStopCodon(ExtendedIUPACProtein(), '*')),\n",
       " Seq('', HasStopCodon(ExtendedIUPACProtein(), '*')),\n",
       " Seq('CPLGYYS', HasStopCodon(ExtendedIUPACProtein(), '*')),\n",
       " Seq('LC', HasStopCodon(ExtendedIUPACProtein(), '*')),\n",
       " Seq('AFS', HasStopCodon(ExtendedIUPACProtein(), '*')),\n",
       " Seq('QSC', HasStopCodon(ExtendedIUPACProtein(), '*')),\n",
       " Seq('YNY', HasStopCodon(ExtendedIUPACProtein(), '*')),\n",
       " Seq('HSYTVFKPCLY', HasStopCodon(ExtendedIUPACProtein(), '*')),\n",
       " Seq('LYALFLYFIATIVYFY', HasStopCodon(ExtendedIUPACProtein(), '*')),\n",
       " Seq('KYKF', HasStopCodon(ExtendedIUPACProtein(), '*')),\n",
       " Seq('N', HasStopCodon(ExtendedIUPACProtein(), '*')),\n",
       " Seq('SIYADYYSKEYC', HasStopCodon(ExtendedIUPACProtein(), '*')),\n",
       " Seq('ECR', HasStopCodon(ExtendedIUPACProtein(), '*')),\n",
       " Seq('ILSRGFI', HasStopCodon(ExtendedIUPACProtein(), '*')),\n",
       " Seq('LFEVT', HasStopCodon(ExtendedIUPACProtein(), '*')),\n",
       " Seq('FF', HasStopCodon(ExtendedIUPACProtein(), '*')),\n",
       " Seq('TDKYYNLVFTIKCLPRFFNLLNRCFRCFNV', HasStopCodon(ExtendedIUPACProtein(), '*')),\n",
       " Seq('FRHAFLLYWLQRRLFELY', HasStopCodon(ExtendedIUPACProtein(), '*')),\n",
       " Seq('CHYCNLLYWFYTL', HasStopCodon(ExtendedIUPACProtein(), '*')),\n",
       " Seq('CLS', HasStopCodon(ExtendedIUPACProtein(), '*')),\n",
       " Seq('WFRFFRHLSFFRNYTNYHFIF', HasStopCodon(ExtendedIUPACProtein(), '*')),\n",
       " Seq('MGFNCFWLSCRVVFGIYSFH', HasStopCodon(ExtendedIUPACProtein(), '*')),\n",
       " Seq('VFLCTWIGCNHAIVFQLFCSTFY', HasStopCodon(ExtendedIUPACProtein(), '*')),\n",
       " Seq('', HasStopCodon(ExtendedIUPACProtein(), '*')),\n",
       " Seq('FLAYVVNN', HasStopCodon(ExtendedIUPACProtein(), '*')),\n",
       " Seq('SCTNGPDFSYG', HasStopCodon(ExtendedIUPACProtein(), '*')),\n",
       " Seq('NVHLLCIILLCMEKLCACCRRL', HasStopCodon(ExtendedIUPACProtein(), '*')),\n",
       " Seq('FINLYDVLQT', HasStopCodon(ExtendedIUPACProtein(), '*')),\n",
       " Seq('', HasStopCodon(ExtendedIUPACProtein(), '*')),\n",
       " Seq('SNKSRMYNYC', HasStopCodon(ExtendedIUPACProtein(), '*')),\n",
       " Seq('WC', HasStopCodon(ExtendedIUPACProtein(), '*')),\n",
       " Seq('KVLLCLC', HasStopCodon(ExtendedIUPACProtein(), '*')),\n",
       " Seq('WR', HasStopCodon(ExtendedIUPACProtein(), '*')),\n",
       " Seq('RLLQTTQLELC', HasStopCodon(ExtendedIUPACProtein(), '*')),\n",
       " Seq('L', HasStopCodon(ExtendedIUPACProtein(), '*')),\n",
       " Seq('YILCW', HasStopCodon(ExtendedIUPACProtein(), '*')),\n",
       " Seq('YIY', HasStopCodon(ExtendedIUPACProtein(), '*')),\n",
       " Seq('', HasStopCodon(ExtendedIUPACProtein(), '*')),\n",
       " Seq('', HasStopCodon(ExtendedIUPACProtein(), '*')),\n",
       " Seq('SCERLVTTV', HasStopCodon(ExtendedIUPACProtein(), '*')),\n",
       " Seq('KTNKSY', HasStopCodon(ExtendedIUPACProtein(), '*')),\n",
       " Seq('PVFLHR', HasStopCodon(ExtendedIUPACProtein(), '*')),\n",
       " Seq('', HasStopCodon(ExtendedIUPACProtein(), '*')),\n",
       " Seq('CYSEEWFHPSLL', HasStopCodon(ExtendedIUPACProtein(), '*')),\n",
       " Seq('', HasStopCodon(ExtendedIUPACProtein(), '*')),\n",
       " Seq('SWSKDL', HasStopCodon(ExtendedIUPACProtein(), '*')),\n",
       " Seq('KTFSLSFC', HasStopCodon(ExtendedIUPACProtein(), '*')),\n",
       " Seq('LRQPES', HasStopCodon(ExtendedIUPACProtein(), '*')),\n",
       " Seq('', HasStopCodon(ExtendedIUPACProtein(), '*')),\n",
       " Seq('H', HasStopCodon(ExtendedIUPACProtein(), '*')),\n",
       " Seq('RFIAY', HasStopCodon(ExtendedIUPACProtein(), '*')),\n",
       " Seq('CYSF', HasStopCodon(ExtendedIUPACProtein(), '*')),\n",
       " Seq('W', HasStopCodon(ExtendedIUPACProtein(), '*')),\n",
       " Seq('IKM', HasStopCodon(ExtendedIUPACProtein(), '*')),\n",
       " Seq('RIICKISVCLLQSAYVSTYTVTRSGISV', HasStopCodon(ExtendedIUPACProtein(), '*')),\n",
       " Seq('CW', HasStopCodon(ExtendedIUPACProtein(), '*')),\n",
       " Seq('', HasStopCodon(ExtendedIUPACProtein(), '*')),\n",
       " Seq('CGSCS', HasStopCodon(ExtendedIUPACProtein(), '*')),\n",
       " Seq('NV', HasStopCodon(ExtendedIUPACProtein(), '*')),\n",
       " Seq('CLR', HasStopCodon(ExtendedIUPACProtein(), '*')),\n",
       " Seq('YVFINF', HasStopCodon(ExtendedIUPACProtein(), '*')),\n",
       " Seq('RTNGKTQNTSCNCRS', HasStopCodon(ExtendedIUPACProtein(), '*')),\n",
       " Seq('TCKECVLRQCLIYFYFSSSARVC', HasStopCodon(ExtendedIUPACProtein(), '*')),\n",
       " Seq('FRCRN', HasStopCodon(ExtendedIUPACProtein(), '*')),\n",
       " Seq('RCC', HasStopCodon(ExtendedIUPACProtein(), '*')),\n",
       " Seq('MS', HasStopCodon(ExtendedIUPACProtein(), '*')),\n",
       " Seq('IVTSI', HasStopCodon(ExtendedIUPACProtein(), '*')),\n",
       " Seq('HRSYWR', HasStopCodon(ExtendedIUPACProtein(), '*')),\n",
       " Seq('L', HasStopCodon(ExtendedIUPACProtein(), '*')),\n",
       " Seq('', HasStopCodon(ExtendedIUPACProtein(), '*')),\n",
       " Seq('LYAHL', HasStopCodon(ExtendedIUPACProtein(), '*')),\n",
       " Seq('QS', HasStopCodon(ExtendedIUPACProtein(), '*')),\n",
       " Seq('KHDTP', HasStopCodon(ExtendedIUPACProtein(), '*')),\n",
       " Seq('PWCLY', HasStopCodon(ExtendedIUPACProtein(), '*')),\n",
       " Seq('L', HasStopCodon(ExtendedIUPACProtein(), '*')),\n",
       " Seq('CASY', HasStopCodon(ExtendedIUPACProtein(), '*')),\n",
       " Seq('CAGSKKSQHCFDMER', HasStopCodon(ExtendedIUPACProtein(), '*')),\n",
       " Seq('RFHVIV', HasStopCodon(ExtendedIUPACProtein(), '*')),\n",
       " Seq('TTTKTNT', HasStopCodon(ExtendedIUPACProtein(), '*')),\n",
       " Seq('CC', HasStopCodon(ExtendedIUPACProtein(), '*')),\n",
       " Seq('KE', HasStopCodon(ExtendedIUPACProtein(), '*')),\n",
       " Seq('LTF', HasStopCodon(ExtendedIUPACProtein(), '*')),\n",
       " Seq('VDMCNY', HasStopCodon(ExtendedIUPACProtein(), '*')),\n",
       " Seq('TSC', HasStopCodon(ExtendedIUPACProtein(), '*')),\n",
       " Seq('CCNNKDST', HasStopCodon(ExtendedIUPACProtein(), '*')),\n",
       " Seq('GW', HasStopCodon(ExtendedIUPACProtein(), '*')),\n",
       " Seq('NC', HasStopCodon(ExtendedIUPACProtein(), '*')),\n",
       " Seq('', HasStopCodon(ExtendedIUPACProtein(), '*')),\n",
       " Seq('LVEAVN', HasStopCodon(ExtendedIUPACProtein(), '*')),\n",
       " Seq('SYTCVPFCCCYFLFNNTCSCHV', HasStopCodon(ExtendedIUPACProtein(), '*')),\n",
       " Seq('TY', HasStopCodon(ExtendedIUPACProtein(), '*')),\n",
       " Seq('LFK', HasStopCodon(ExtendedIUPACProtein(), '*')),\n",
       " Seq('NHRIQGY', HasStopCodon(ExtendedIUPACProtein(), '*')),\n",
       " Seq('WWCHS', HasStopCodon(ExtendedIUPACProtein(), '*')),\n",
       " Seq('HSIYRYLFC', HasStopCodon(ExtendedIUPACProtein(), '*')),\n",
       " Seq('QTC', HasStopCodon(ExtendedIUPACProtein(), '*')),\n",
       " Seq('F', HasStopCodon(ExtendedIUPACProtein(), '*')),\n",
       " Seq('HMV', HasStopCodon(ExtendedIUPACProtein(), '*')),\n",
       " Seq('PAWW', HasStopCodon(ExtendedIUPACProtein(), '*')),\n",
       " Seq('LY', HasStopCodon(ExtendedIUPACProtein(), '*')),\n",
       " Seq('', HasStopCodon(ExtendedIUPACProtein(), '*')),\n",
       " Seq('QSLPIDCCSHNKRSGFCRAWFAWHDITHN', HasStopCodon(ExtendedIUPACProtein(), '*')),\n",
       " Seq('W', HasStopCodon(ExtendedIUPACProtein(), '*')),\n",
       " Seq('LFAFLT', HasStopCodon(ExtendedIUPACProtein(), '*')),\n",
       " Seq('SF', HasStopCodon(ExtendedIUPACProtein(), '*')),\n",
       " Seq('CSW', HasStopCodon(ExtendedIUPACProtein(), '*')),\n",
       " Seq('HLLHTIKTYRVH', HasStopCodon(ExtendedIUPACProtein(), '*')),\n",
       " Seq('LCNISLCFGC', HasStopCodon(ExtendedIUPACProtein(), '*')),\n",
       " Seq('MYNF', HasStopCodon(ExtendedIUPACProtein(), '*')),\n",
       " Seq('RCFW', HasStopCodon(ExtendedIUPACProtein(), '*')),\n",
       " Seq('ASTILL', HasStopCodon(ExtendedIUPACProtein(), '*')),\n",
       " Seq('YQCTRRFCCL', HasStopCodon(ExtendedIUPACProtein(), '*')),\n",
       " Seq('KFTP', HasStopCodon(ExtendedIUPACProtein(), '*')),\n",
       " Seq('HTLCAHGWLYYSIS', HasStopCodon(ExtendedIUPACProtein(), '*')),\n",
       " Seq('HLP', HasStopCodon(ExtendedIUPACProtein(), '*')),\n",
       " Seq('RFC', HasStopCodon(ExtendedIUPACProtein(), '*')),\n",
       " Seq('SGNNF', HasStopCodon(ExtendedIUPACProtein(), '*')),\n",
       " Seq('F', HasStopCodon(ExtendedIUPACProtein(), '*')),\n",
       " Seq('VL', HasStopCodon(ExtendedIUPACProtein(), '*')),\n",
       " Seq('ARHL', HasStopCodon(ExtendedIUPACProtein(), '*')),\n",
       " Seq('KIRSWCLCIY', HasStopCodon(ExtendedIUPACProtein(), '*')),\n",
       " Seq('W', HasStopCodon(ExtendedIUPACProtein(), '*')),\n",
       " Seq('MGT', HasStopCodon(ExtendedIUPACProtein(), '*')),\n",
       " Seq('Q', HasStopCodon(ExtendedIUPACProtein(), '*')),\n",
       " Seq('LLQIFTRSFLWCRCCKFTY', HasStopCodon(ExtendedIUPACProtein(), '*')),\n",
       " Seq('YVYTTNSTYWCFGHISIYSSWWYCSYRSNMPCLLFYEV', HasStopCodon(ExtendedIUPACProtein(), '*')),\n",
       " Seq('KSFW', HasStopCodon(ExtendedIUPACProtein(), '*')),\n",
       " Seq('IQSCSCL', HasStopCodon(ExtendedIUPACProtein(), '*')),\n",
       " Seq('YFTIPYVIHCTLFNTSLLILTWCLFCYLLVLDILSY', HasStopCodon(ExtendedIUPACProtein(), '*')),\n",
       " Seq('', HasStopCodon(ExtendedIUPACProtein(), '*')),\n",
       " Seq('CFFFSTYSVDGYVHTFSTFLDNNCLYHLYFHKAFLLVL', HasStopCodon(ExtendedIUPACProtein(), '*')),\n",
       " Seq('', HasStopCodon(ExtendedIUPACProtein(), '*')),\n",
       " Seq('LPKETCSL', HasStopCodon(ExtendedIUPACProtein(), '*')),\n",
       " Seq('WCFL', HasStopCodon(ExtendedIUPACProtein(), '*')),\n",
       " Seq('YF', HasStopCodon(ExtendedIUPACProtein(), '*')),\n",
       " Seq('RSCAVHLFVK', HasStopCodon(ExtendedIUPACProtein(), '*')),\n",
       " Seq('RNVSKVA', HasStopCodon(ExtendedIUPACProtein(), '*')),\n",
       " Seq('', HasStopCodon(ExtendedIUPACProtein(), '*')),\n",
       " Seq('CAITSYAI', HasStopCodon(ExtendedIUPACProtein(), '*')),\n",
       " Seq('', HasStopCodon(ExtendedIUPACProtein(), '*')),\n",
       " Seq('ILSSL', HasStopCodon(ExtendedIUPACProtein(), '*')),\n",
       " Seq('', HasStopCodon(ExtendedIUPACProtein(), '*')),\n",
       " Seq('VQVF', HasStopCodon(ExtendedIUPACProtein(), '*')),\n",
       " Seq('WSNGYN', HasStopCodon(ExtendedIUPACProtein(), '*')),\n",
       " Seq('LQRSCLLSSRKGSQ', HasStopCodon(ExtendedIUPACProtein(), '*')),\n",
       " Seq('LQ', HasStopCodon(ExtendedIUPACProtein(), '*')),\n",
       " Seq('LRF', HasStopCodon(ExtendedIUPACProtein(), '*')),\n",
       " Seq('CSLPTTTNLYHLSCFAEWF', HasStopCodon(ExtendedIUPACProtein(), '*')),\n",
       " Seq('KNGIPIW', HasStopCodon(ExtendedIUPACProtein(), '*')),\n",
       " Seq('S', HasStopCodon(ExtendedIUPACProtein(), '*')),\n",
       " Seq('GLYGTSNLWYNYT', HasStopCodon(ExtendedIUPACProtein(), '*')),\n",
       " Seq('RSLA', HasStopCodon(ExtendedIUPACProtein(), '*')),\n",
       " Seq('', HasStopCodon(ExtendedIUPACProtein(), '*')),\n",
       " Seq('RSLLSKTCDLHL', HasStopCodon(ExtendedIUPACProtein(), '*')),\n",
       " Seq('RHA', HasStopCodon(ExtendedIUPACProtein(), '*')),\n",
       " Seq('P', HasStopCodon(ExtendedIUPACProtein(), '*')),\n",
       " Seq('L', HasStopCodon(ExtendedIUPACProtein(), '*')),\n",
       " Seq('RFTHS', HasStopCodon(ExtendedIUPACProtein(), '*')),\n",
       " Seq('V', HasStopCodon(ExtendedIUPACProtein(), '*')),\n",
       " Seq('S', HasStopCodon(ExtendedIUPACProtein(), '*')),\n",
       " Seq('FLGTGW', HasStopCodon(ExtendedIUPACProtein(), '*')),\n",
       " Seq('CSTQGYWTFYAKLCT', HasStopCodon(ExtendedIUPACProtein(), '*')),\n",
       " Seq('A', HasStopCodon(ExtendedIUPACProtein(), '*')),\n",
       " Seq('G', HasStopCodon(ExtendedIUPACProtein(), '*')),\n",
       " Seq('YSQS', HasStopCodon(ExtendedIUPACProtein(), '*')),\n",
       " Seq('DT', HasStopCodon(ExtendedIUPACProtein(), '*')),\n",
       " Seq('V', HasStopCodon(ExtendedIUPACProtein(), '*')),\n",
       " Seq('VCSHSTRTDFFSVSLLQWFTIWCLPMCYEAQFHY', HasStopCodon(ExtendedIUPACProtein(), '*')),\n",
       " Seq('GFIP', HasStopCodon(ExtendedIUPACProtein(), '*')),\n",
       " Seq('WFMW', HasStopCodon(ExtendedIUPACProtein(), '*')),\n",
       " Seq('CWF', HasStopCodon(ExtendedIUPACProtein(), '*')),\n",
       " Seq('HRL', HasStopCodon(ExtendedIUPACProtein(), '*')),\n",
       " Seq('LCLFLLHAPYGITNWSSCWHRLRR', HasStopCodon(ExtendedIUPACProtein(), '*')),\n",
       " Seq('LLWTFC', HasStopCodon(ExtendedIUPACProtein(), '*')),\n",
       " Seq('QANSTSSWYGHNYYS', HasStopCodon(ExtendedIUPACProtein(), '*')),\n",
       " Seq('CFSLVVRCCYKWRQVVSQSIYHNS', HasStopCodon(ExtendedIUPACProtein(), '*')),\n",
       " Seq('', HasStopCodon(ExtendedIUPACProtein(), '*')),\n",
       " Seq('L', HasStopCodon(ExtendedIUPACProtein(), '*')),\n",
       " Seq('PCGYEVQL', HasStopCodon(ExtendedIUPACProtein(), '*')),\n",
       " Seq('TSNTRPC', HasStopCodon(ExtendedIUPACProtein(), '*')),\n",
       " Seq('HTRTSFCSNWNCRFRYVCFIKRITAKWYEWTYHIG', HasStopCodon(ExtendedIUPACProtein(), '*')),\n",
       " Seq('CFIRR', HasStopCodon(ExtendedIUPACProtein(), '*')),\n",
       " Seq('IYTF', HasStopCodon(ExtendedIUPACProtein(), '*')),\n",
       " Seq('CC', HasStopCodon(ExtendedIUPACProtein(), '*')),\n",
       " Seq('TMLRCYFPKCSEKNNQGYTPLVVTHNFDFTFSFSPEYSMVFVLFFV', HasStopCodon(ExtendedIUPACProtein(), '*')),\n",
       " Seq('KCLFTFCYGYYCYVCFCNDVCQT', HasStopCodon(ExtendedIUPACProtein(), '*')),\n",
       " Seq('ACISLFVFVTFSCHCSLF', HasStopCodon(ExtendedIUPACProtein(), '*')),\n",
       " Seq('YGLYAC', HasStopCodon(ExtendedIUPACProtein(), '*')),\n",
       " Seq('LGDAYYDMVGYG', HasStopCodon(ExtendedIUPACProtein(), '*')),\n",
       " Seq('Y', HasStopCodon(ExtendedIUPACProtein(), '*')),\n",
       " Seq('FVWF', HasStopCodon(ExtendedIUPACProtein(), '*')),\n",
       " Seq('AKRLCYVCISCSVTNPYDSKNCV', HasStopCodon(ExtendedIUPACProtein(), '*')),\n",
       " Seq('', HasStopCodon(ExtendedIUPACProtein(), '*')),\n",
       " Seq('WC', HasStopCodon(ExtendedIUPACProtein(), '*')),\n",
       " Seq('ESVDTYECLDTRL', HasStopCodon(ExtendedIUPACProtein(), '*')),\n",
       " Seq('SLLW', HasStopCodon(ExtendedIUPACProtein(), '*')),\n",
       " Seq('CFRSSHFHVGSYNLCYF', HasStopCodon(ExtendedIUPACProtein(), '*')),\n",
       " Seq('LLRCSYNCHVFGQRYCFYVC', HasStopCodon(ExtendedIUPACProtein(), '*')),\n",
       " Seq('VLPYFLHNW', HasStopCodon(ExtendedIUPACProtein(), '*')),\n",
       " Seq('YTSVYNASLLFLRLFLYLLLWPLLFTQPLL', HasStopCodon(ExtendedIUPACProtein(), '*')),\n",
       " Seq('TDSWCL', HasStopCodon(ExtendedIUPACProtein(), '*')),\n",
       " Seq('LLSFYTGV', HasStopCodon(ExtendedIUPACProtein(), '*')),\n",
       " Seq('IYEFTGTTPTQE', HasStopCodon(ExtendedIUPACProtein(), '*')),\n",
       " Seq('HRCLQTQH', HasStopCodon(ExtendedIUPACProtein(), '*')),\n",
       " Seq('IVGCWWQTLYQSSHCTV', HasStopCodon(ExtendedIUPACProtein(), '*')),\n",
       " Seq('NVRCKVHISSLTLSFATTQSRIII', HasStopCodon(ExtendedIUPACProtein(), '*')),\n",
       " Seq('IVGSMCPVTQ', HasStopCodon(ExtendedIUPACProtein(), '*')),\n",
       " Seq('HSLS', HasStopCodon(ExtendedIUPACProtein(), '*')),\n",
       " Seq('RYY', HasStopCodon(ExtendedIUPACProtein(), '*')),\n",
       " Seq('SL', HasStopCodon(ExtendedIUPACProtein(), '*')),\n",
       " Seq('KNGFTTFCFAFHAGCCRHKQAL', HasStopCodon(ExtendedIUPACProtein(), '*')),\n",
       " Seq('RNAGQQGNLTSYSLRV', HasStopCodon(ExtendedIUPACProtein(), '*')),\n",
       " Seq('FPSIICSFCYCSRSL', HasStopCodon(ExtendedIUPACProtein(), '*')),\n",
       " Seq('AGCC', HasStopCodon(ExtendedIUPACProtein(), '*')),\n",
       " Seq('W', HasStopCodon(ExtendedIUPACProtein(), '*')),\n",
       " Seq('F', HasStopCodon(ExtendedIUPACProtein(), '*')),\n",
       " Seq('SCS', HasStopCodon(ExtendedIUPACProtein(), '*')),\n",
       " Seq('KVEEVFECG', HasStopCodon(ExtendedIUPACProtein(), '*')),\n",
       " Seq('I', HasStopCodon(ExtendedIUPACProtein(), '*')),\n",
       " Seq('I', HasStopCodon(ExtendedIUPACProtein(), '*')),\n",
       " Seq('P', HasStopCodon(ExtendedIUPACProtein(), '*')),\n",
       " Seq('CSHAT', HasStopCodon(ExtendedIUPACProtein(), '*')),\n",
       " Seq('VGKDG', HasStopCodon(ExtendedIUPACProtein(), '*')),\n",
       " Seq('SSYDPNV', HasStopCodon(ExtendedIUPACProtein(), '*')),\n",
       " Seq('TG', HasStopCodon(ExtendedIUPACProtein(), '*')),\n",
       " Seq('I', HasStopCodon(ExtendedIUPACProtein(), '*')),\n",
       " Seq('GQEGKSY', HasStopCodon(ExtendedIUPACProtein(), '*')),\n",
       " Seq('CYADNAFHYA', HasStopCodon(ExtendedIUPACProtein(), '*')),\n",
       " Seq('KVG', HasStopCodon(ExtendedIUPACProtein(), '*')),\n",
       " Seq('', HasStopCodon(ExtendedIUPACProtein(), '*')),\n",
       " Seq('CTQQHYQQCKRWLCSLEHNTSYNSSQTNGCHTRL', HasStopCodon(ExtendedIUPACProtein(), '*')),\n",
       " Seq('HI', HasStopCodon(ExtendedIUPACProtein(), '*')),\n",
       " Seq('KYV', HasStopCodon(ExtendedIUPACProtein(), '*')),\n",
       " Seq('WYNIYLCISIVGNPTGCRCR', HasStopCodon(ExtendedIUPACProtein(), '*')),\n",
       " Seq('', HasStopCodon(ExtendedIUPACProtein(), '*')),\n",
       " Seq('NCST', HasStopCodon(ExtendedIUPACProtein(), '*')),\n",
       " Seq('', HasStopCodon(ExtendedIUPACProtein(), '*')),\n",
       " Seq('N', HasStopCodon(ExtendedIUPACProtein(), '*')),\n",
       " Seq('YGQFT', HasStopCodon(ExtendedIUPACProtein(), '*')),\n",
       " Seq('FSMASYCNSFKGQFCCQITE', HasStopCodon(ExtendedIUPACProtein(), '*')),\n",
       " Seq('', HasStopCodon(ExtendedIUPACProtein(), '*')),\n",
       " Seq('A', HasStopCodon(ExtendedIUPACProtein(), '*')),\n",
       " Seq('SCCTTTDVLCCRYYTNCLH', HasStopCodon(ExtendedIUPACProtein(), '*')),\n",
       " Seq('', HasStopCodon(ExtendedIUPACProtein(), '*')),\n",
       " Seq('QCVSLLQHNKGR', HasStopCodon(ExtendedIUPACProtein(), '*')),\n",
       " Seq('VCTCTVIRFTGFEMG', HasStopCodon(ExtendedIUPACProtein(), '*')),\n",
       " Seq('IP', HasStopCodon(ExtendedIUPACProtein(), '*')),\n",
       " Seq('E', HasStopCodon(ExtendedIUPACProtein(), '*')),\n",
       " Seq('WNWYYLYRTGTTL', HasStopCodon(ExtendedIUPACProtein(), '*')),\n",
       " Seq('VCYRHT', HasStopCodon(ExtendedIUPACProtein(), '*')),\n",
       " Seq('RS', HasStopCodon(ExtendedIUPACProtein(), '*')),\n",
       " Seq('SEVFILY', HasStopCodon(ExtendedIUPACProtein(), '*')),\n",
       " Seq('RIKQPK', HasStopCodon(ExtendedIUPACProtein(), '*')),\n",
       " Seq('RYGTW', HasStopCodon(ExtendedIUPACProtein(), '*')),\n",
       " Seq('FSCHSTSTSW', HasStopCodon(ExtendedIUPACProtein(), '*')),\n",
       " Seq('CNRSACQFNCIIFLCFCCRCC', HasStopCodon(ExtendedIUPACProtein(), '*')),\n",
       " Seq('SLQRLSS', HasStopCodon(ExtendedIUPACProtein(), '*')),\n",
       " Seq('WGTTNH', HasStopCodon(ExtendedIUPACProtein(), '*')),\n",
       " Seq('LC', HasStopCodon(ExtendedIUPACProtein(), '*')),\n",
       " Seq('DVVYTHWYWSGNNSYTGSQYGSRILWWCIVLSVLPLPHRSSKS', HasStopCodon(ExtendedIUPACProtein(), '*')),\n",
       " Seq('RIL', HasStopCodon(ExtendedIUPACProtein(), '*')),\n",
       " Seq('LKR', HasStopCodon(ExtendedIUPACProtein(), '*')),\n",
       " Seq('VCTNTYNLC', HasStopCodon(ExtendedIUPACProtein(), '*')),\n",
       " Seq('', HasStopCodon(ExtendedIUPACProtein(), '*')),\n",
       " Seq('PCGFYT', HasStopCodon(ExtendedIUPACProtein(), '*')),\n",
       " Seq('KHSLYRLRYVERLWL', HasStopCodon(ExtendedIUPACProtein(), '*')),\n",
       " Seq('L', HasStopCodon(ExtendedIUPACProtein(), '*')),\n",
       " Seq('STPRTHASVS', HasStopCodon(ExtendedIUPACProtein(), '*')),\n",
       " Seq('CTIVFKRVCGVSAARLTPCGTGTSTDVVYRAFDIYNDKVAGFAKFLKTNCCRFQ...VNN', HasStopCodon(ExtendedIUPACProtein(), '*')),\n",
       " Seq('TNNVCFSCFIATSL', HasStopCodon(ExtendedIUPACProtein(), '*')),\n",
       " Seq('SVC', HasStopCodon(ExtendedIUPACProtein(), '*')),\n",
       " Seq('SYNQNSITPCIH', HasStopCodon(ExtendedIUPACProtein(), '*')),\n",
       " Seq('FFHTWCLLP', HasStopCodon(ExtendedIUPACProtein(), '*')),\n",
       " Seq('QSFQILSFTFNSGLVLTFLFQCYLVPCYTCLWDQWY', HasStopCodon(ExtendedIUPACProtein(), '*')),\n",
       " Seq('EV', HasStopCodon(ExtendedIUPACProtein(), '*')),\n",
       " Seq('', HasStopCodon(ExtendedIUPACProtein(), '*')),\n",
       " Seq('PCPTI', HasStopCodon(ExtendedIUPACProtein(), '*')),\n",
       " Seq('', HasStopCodon(ExtendedIUPACProtein(), '*')),\n",
       " Seq('WCLFCFH', HasStopCodon(ExtendedIUPACProtein(), '*')),\n",
       " Seq('EV', HasStopCodon(ExtendedIUPACProtein(), '*')),\n",
       " Seq('HNKRLDFWYYFRFEDPVPTYC', HasStopCodon(ExtendedIUPACProtein(), '*')),\n",
       " Seq('', HasStopCodon(ExtendedIUPACProtein(), '*')),\n",
       " Seq('RY', HasStopCodon(ExtendedIUPACProtein(), '*')),\n",
       " Seq('CCY', HasStopCodon(ExtendedIUPACProtein(), '*')),\n",
       " Seq('SL', HasStopCodon(ExtendedIUPACProtein(), '*')),\n",
       " Seq('ISIL', HasStopCodon(ExtendedIUPACProtein(), '*')),\n",
       " Seq('', HasStopCodon(ExtendedIUPACProtein(), '*')),\n",
       " Seq('SIFGCLLPQKQQKLDGK', HasStopCodon(ExtendedIUPACProtein(), '*')),\n",
       " Seq('VQSLF', HasStopCodon(ExtendedIUPACProtein(), '*')),\n",
       " Seq('CE', HasStopCodon(ExtendedIUPACProtein(), '*')),\n",
       " Seq('LHF', HasStopCodon(ExtendedIUPACProtein(), '*')),\n",
       " Seq('ICLSAFSYGP', HasStopCodon(ExtendedIUPACProtein(), '*')),\n",
       " Seq('RKTG', HasStopCodon(ExtendedIUPACProtein(), '*')),\n",
       " Seq('FQKS', HasStopCodon(ExtendedIUPACProtein(), '*')),\n",
       " Seq('GICV', HasStopCodon(ExtendedIUPACProtein(), '*')),\n",
       " Seq('EY', HasStopCodon(ExtendedIUPACProtein(), '*')),\n",
       " Seq('WLF', HasStopCodon(ExtendedIUPACProtein(), '*')),\n",
       " Seq('NIF', HasStopCodon(ExtendedIUPACProtein(), '*')),\n",
       " Seq('AHAY', HasStopCodon(ExtendedIUPACProtein(), '*')),\n",
       " Seq('FSA', HasStopCodon(ExtendedIUPACProtein(), '*')),\n",
       " Seq('SPSGFFGFRTIGRFANRY', HasStopCodon(ExtendedIUPACProtein(), '*')),\n",
       " Seq('HH', HasStopCodon(ExtendedIUPACProtein(), '*')),\n",
       " Seq('VSNFTCFT', HasStopCodon(ExtendedIUPACProtein(), '*')),\n",
       " Seq('KLFDSW', HasStopCodon(ExtendedIUPACProtein(), '*')),\n",
       " Seq('FFFRLDSWCCSLLCGLSST', HasStopCodon(ExtendedIUPACProtein(), '*')),\n",
       " Seq('DFSIKI', HasStopCodon(ExtendedIUPACProtein(), '*')),\n",
       " Seq('', HasStopCodon(ExtendedIUPACProtein(), '*')),\n",
       " Seq('KWNHYRCCRLCT', HasStopCodon(ExtendedIUPACProtein(), '*')),\n",
       " Seq('PSLRNKVYVEILHCRKRNLSNF', HasStopCodon(ExtendedIUPACProtein(), '*')),\n",
       " Seq('L', HasStopCodon(ExtendedIUPACProtein(), '*')),\n",
       " Seq('SPTNRIYC', HasStopCodon(ExtendedIUPACProtein(), '*')),\n",
       " Seq('IS', HasStopCodon(ExtendedIUPACProtein(), '*')),\n",
       " Seq('YYKLVPFW', HasStopCodon(ExtendedIUPACProtein(), '*')),\n",
       " Seq('SF', HasStopCodon(ExtendedIUPACProtein(), '*')),\n",
       " Seq('RHQICICLCLEQEENQQLCC', HasStopCodon(ExtendedIUPACProtein(), '*')),\n",
       " Seq('LFCPI', HasStopCodon(ExtendedIUPACProtein(), '*')),\n",
       " Seq('FRIIFHF', HasStopCodon(ExtendedIUPACProtein(), '*')),\n",
       " Seq('VLWSVSY', HasStopCodon(ExtendedIUPACProtein(), '*')),\n",
       " Seq('IK', HasStopCodon(ExtendedIUPACProtein(), '*')),\n",
       " Seq('SLLY', HasStopCodon(ExtendedIUPACProtein(), '*')),\n",
       " Seq('CLCRFICN', HasStopCodon(ExtendedIUPACProtein(), '*')),\n",
       " Seq('R', HasStopCodon(ExtendedIUPACProtein(), '*')),\n",
       " Seq('', HasStopCodon(ExtendedIUPACProtein(), '*')),\n",
       " Seq('SQTNRSRANWKDC', HasStopCodon(ExtendedIUPACProtein(), '*')),\n",
       " Seq('L', HasStopCodon(ExtendedIUPACProtein(), '*')),\n",
       " Seq('L', HasStopCodon(ExtendedIUPACProtein(), '*')),\n",
       " Seq('ITR', HasStopCodon(ExtendedIUPACProtein(), '*')),\n",
       " Seq('FYRLRYSLEF', HasStopCodon(ExtendedIUPACProtein(), '*')),\n",
       " Seq('QS', HasStopCodon(ExtendedIUPACProtein(), '*')),\n",
       " Seq('F', HasStopCodon(ExtendedIUPACProtein(), '*')),\n",
       " Seq('GWW', HasStopCodon(ExtendedIUPACProtein(), '*')),\n",
       " Seq('L', HasStopCodon(ExtendedIUPACProtein(), '*')),\n",
       " Seq('LPV', HasStopCodon(ExtendedIUPACProtein(), '*')),\n",
       " Seq('IV', HasStopCodon(ExtendedIUPACProtein(), '*')),\n",
       " Seq('EV', HasStopCodon(ExtendedIUPACProtein(), '*')),\n",
       " Seq('SQTF', HasStopCodon(ExtendedIUPACProtein(), '*')),\n",
       " Seq('ERYFN', HasStopCodon(ExtendedIUPACProtein(), '*')),\n",
       " Seq('NLSGR', HasStopCodon(ExtendedIUPACProtein(), '*')),\n",
       " Seq('HTL', HasStopCodon(ExtendedIUPACProtein(), '*')),\n",
       " Seq('WC', HasStopCodon(ExtendedIUPACProtein(), '*')),\n",
       " Seq('RF', HasStopCodon(ExtendedIUPACProtein(), '*')),\n",
       " Seq('LLLSFTIIWFPTH', HasStopCodon(ExtendedIUPACProtein(), '*')),\n",
       " Seq('WCWLPTIQSSSTFF', HasStopCodon(ExtendedIUPACProtein(), '*')),\n",
       " Seq('TSTCTSNCLWT', HasStopCodon(ExtendedIUPACProtein(), '*')),\n",
       " Seq('KVY', HasStopCodon(ExtendedIUPACProtein(), '*')),\n",
       " Seq('FG', HasStopCodon(ExtendedIUPACProtein(), '*')),\n",
       " Seq('KQMCQFQLQWFNRHRCSY', HasStopCodon(ExtendedIUPACProtein(), '*')),\n",
       " Seq('V', HasStopCodon(ExtendedIUPACProtein(), '*')),\n",
       " Seq('QKVSAFPTIWQRHC', HasStopCodon(ExtendedIUPACProtein(), '*')),\n",
       " Seq('HY', HasStopCodon(ExtendedIUPACProtein(), '*')),\n",
       " Seq('CCP', HasStopCodon(ExtendedIUPACProtein(), '*')),\n",
       " Seq('STDT', HasStopCodon(ExtendedIUPACProtein(), '*')),\n",
       " Seq('DS', HasStopCodon(ExtendedIUPACProtein(), '*')),\n",
       " Seq('HYTMFFWWCQCYNTRNKYF', HasStopCodon(ExtendedIUPACProtein(), '*')),\n",
       " Seq('PGCCSLSGC', HasStopCodon(ExtendedIUPACProtein(), '*')),\n",
       " Seq('LHRSPCCYSCRSTYSYLACLFYRF', HasStopCodon(ExtendedIUPACProtein(), '*')),\n",
       " Seq('CFSNTCRLFNRG', HasStopCodon(ExtendedIUPACProtein(), '*')),\n",
       " Seq('TCQQLI', HasStopCodon(ExtendedIUPACProtein(), '*')),\n",
       " Seq('V', HasStopCodon(ExtendedIUPACProtein(), '*')),\n",
       " Seq('HTHWCRYMR', HasStopCodon(ExtendedIUPACProtein(), '*')),\n",
       " Seq('LSDSD', HasStopCodon(ExtendedIUPACProtein(), '*')),\n",
       " Seq('FSSAGT', HasStopCodon(ExtendedIUPACProtein(), '*')),\n",
       " Seq('CS', HasStopCodon(ExtendedIUPACProtein(), '*')),\n",
       " Seq('SIHHCLHYVTWCRKFSCLL', HasStopCodon(ExtendedIUPACProtein(), '*')),\n",
       " Seq('', HasStopCodon(ExtendedIUPACProtein(), '*')),\n",
       " Seq('LYCHTHKFYY', HasStopCodon(ExtendedIUPACProtein(), '*')),\n",
       " Seq('CYHRNSTSVYDQDISRLYNVHLW', HasStopCodon(ExtendedIUPACProtein(), '*')),\n",
       " Seq('FN', HasStopCodon(ExtendedIUPACProtein(), '*')),\n",
       " Seq('MQQSFVAIWQFLYTIKPCFNWNSC', HasStopCodon(ExtendedIUPACProtein(), '*')),\n",
       " Seq('TRQKHPRSFCTSQTNLQNTTN', HasStopCodon(ExtendedIUPACProtein(), '*')),\n",
       " Seq('RFWWF', HasStopCodon(ExtendedIUPACProtein(), '*')),\n",
       " Seq('FFTNITRSIKTKQEVIY', HasStopCodon(ExtendedIUPACProtein(), '*')),\n",
       " Seq('RSTFQQSDTCRCWLHQTIW', HasStopCodon(ExtendedIUPACProtein(), '*')),\n",
       " Seq('LPW', HasStopCodon(ExtendedIUPACProtein(), '*')),\n",
       " Seq('YCC', HasStopCodon(ExtendedIUPACProtein(), '*')),\n",
       " Seq('RPHLCTKV', HasStopCodon(ExtendedIUPACProtein(), '*')),\n",
       " Seq('RPYCFATFAHR', HasStopCodon(ExtendedIUPACProtein(), '*')),\n",
       " Seq('NDCSIHFCTVSGYNHFWLDLWCRCCITNTICYANGL', HasStopCodon(ExtendedIUPACProtein(), '*')),\n",
       " Seq('V', HasStopCodon(ExtendedIUPACProtein(), '*')),\n",
       " Seq('WYWSYTECSL', HasStopCodon(ExtendedIUPACProtein(), '*')),\n",
       " Seq('EPKIDCQPI', HasStopCodon(ExtendedIUPACProtein(), '*')),\n",
       " Seq('', HasStopCodon(ExtendedIUPACProtein(), '*')),\n",
       " Seq('CYWQNSRLTFFHSKCTWKTSRCGQPKCTSFKHAC', HasStopCodon(ExtendedIUPACProtein(), '*')),\n",
       " Seq('TT', HasStopCodon(ExtendedIUPACProtein(), '*')),\n",
       " Seq('LQFWCNFKCFK', HasStopCodon(ExtendedIUPACProtein(), '*')),\n",
       " Seq('YPFTS', HasStopCodon(ExtendedIUPACProtein(), '*')),\n",
       " Seq('QS', HasStopCodon(ExtendedIUPACProtein(), '*')),\n",
       " Seq('G', HasStopCodon(ExtendedIUPACProtein(), '*')),\n",
       " Seq('SAN', HasStopCodon(ExtendedIUPACProtein(), '*')),\n",
       " Seq('', HasStopCodon(ExtendedIUPACProtein(), '*')),\n",
       " Seq('VDHRQTSKFADICDSTIN', HasStopCodon(ExtendedIUPACProtein(), '*')),\n",
       " Seq('SCRNQSFC', HasStopCodon(ExtendedIUPACProtein(), '*')),\n",
       " Seq('SCCY', HasStopCodon(ExtendedIUPACProtein(), '*')),\n",
       " Seq('NVRVCTWTIKKS', HasStopCodon(ExtendedIUPACProtein(), '*')),\n",
       " Seq('FLWKGLSSYVLPSVSTSWCSLLACDLCPCTRKELHNCSCHLS', HasStopCodon(ExtendedIUPACProtein(), '*')),\n",
       " Seq('WKSTLSS', HasStopCodon(ExtendedIUPACProtein(), '*')),\n",
       " Seq('RCLCFKWHTLVCNTKEFL', HasStopCodon(ExtendedIUPACProtein(), '*')),\n",
       " Seq('TTNHYYRQHICVW', HasStopCodon(ExtendedIUPACProtein(), '*')),\n",
       " Seq('L', HasStopCodon(ExtendedIUPACProtein(), '*')),\n",
       " Seq('CCNRNCQQHSL', HasStopCodon(ExtendedIUPACProtein(), '*')),\n",
       " Seq('SFAT', HasStopCodon(ExtendedIUPACProtein(), '*')),\n",
       " Seq('IRLIQGGVR', HasStopCodon(ExtendedIUPACProtein(), '*')),\n",
       " Seq('IF', HasStopCodon(ExtendedIUPACProtein(), '*')),\n",
       " Seq('ESYITRC', HasStopCodon(ExtendedIUPACProtein(), '*')),\n",
       " Seq('FR', HasStopCodon(ExtendedIUPACProtein(), '*')),\n",
       " Seq('HLWH', HasStopCodon(ExtendedIUPACProtein(), '*')),\n",
       " Seq('CFSCKHSKRN', HasStopCodon(ExtendedIUPACProtein(), '*')),\n",
       " Seq('PPQ', HasStopCodon(ExtendedIUPACProtein(), '*')),\n",
       " Seq('GCQEFK', HasStopCodon(ExtendedIUPACProtein(), '*')),\n",
       " Seq('ISHRSPRTWKV', HasStopCodon(ExtendedIUPACProtein(), '*')),\n",
       " Seq('AVYKMAMVHLARFYSWLDCHSNGDNYALLYDQLL', HasStopCodon(ExtendedIUPACProtein(), '*')),\n",
       " Seq('LSQGLLFLWILLQI', HasStopCodon(ExtendedIUPACProtein(), '*')),\n",
       " Seq('', HasStopCodon(ExtendedIUPACProtein(), '*')),\n",
       " Seq('RRL', HasStopCodon(ExtendedIUPACProtein(), '*')),\n",
       " Seq('ASAQRSQITLHINELMDLFMRIFTIGTVTLKQGEIKDATPSDFVRATATIPIQA...VPL', HasStopCodon(ExtendedIUPACProtein(), '*')),\n",
       " Seq('AQADEYELMYSFVSEETGTLIVNSVLLFLAFVVFLLVTLAILTALRLCAYCCNI...LLV', HasStopCodon(ExtendedIUPACProtein(), '*')),\n",
       " Seq('TN', HasStopCodon(ExtendedIUPACProtein(), '*')),\n",
       " Seq('ILY', HasStopCodon(ExtendedIUPACProtein(), '*')),\n",
       " Seq('FFCLEL', HasStopCodon(ExtendedIUPACProtein(), '*')),\n",
       " Seq('F', HasStopCodon(ExtendedIUPACProtein(), '*')),\n",
       " Seq('PWQIPTVLLPLKSLKSSLNNGT', HasStopCodon(ExtendedIUPACProtein(), '*')),\n",
       " Seq('', HasStopCodon(ExtendedIUPACProtein(), '*')),\n",
       " Seq('', HasStopCodon(ExtendedIUPACProtein(), '*')),\n",
       " Seq('VSYSLHGFVFYNLPMPTGIGFCI', HasStopCodon(ExtendedIUPACProtein(), '*')),\n",
       " Seq('LS', HasStopCodon(ExtendedIUPACProtein(), '*')),\n",
       " Seq('FSSGCYGQ', HasStopCodon(ExtendedIUPACProtein(), '*')),\n",
       " Seq('L', HasStopCodon(ExtendedIUPACProtein(), '*')),\n",
       " Seq('LVLCLLLFTE', HasStopCodon(ExtendedIUPACProtein(), '*')),\n",
       " Seq('IGSPVELLSQWLVL', HasStopCodon(ExtendedIUPACProtein(), '*')),\n",
       " Seq('A', HasStopCodon(ExtendedIUPACProtein(), '*')),\n",
       " Seq('CGSATSLLLSDCLRVRVPCGHSIQKLTFFSTCHSMALF', HasStopCodon(ExtendedIUPACProtein(), '*')),\n",
       " Seq('PDRF', HasStopCodon(ExtendedIUPACProtein(), '*')),\n",
       " Seq('KVNS', HasStopCodon(ExtendedIUPACProtein(), '*')),\n",
       " Seq('SEL', HasStopCodon(ExtendedIUPACProtein(), '*')),\n",
       " Seq('SFVDIFVLLDTI', HasStopCodon(ExtendedIUPACProtein(), '*')),\n",
       " Seq('DAVTSRTCLKKSLLLHHERFLITNWELRSV', HasStopCodon(ExtendedIUPACProtein(), '*')),\n",
       " Seq('QVTQVLLHTVATGLATIN', HasStopCodon(ExtendedIUPACProtein(), '*')),\n",
       " Seq('TQTIPVAVTILLCLYSK', HasStopCodon(ExtendedIUPACProtein(), '*')),\n",
       " Seq('QQMFHLVDFQVTIAEILLIIMRTFKVSIWNLDYIINLIIKNLSKSLTENKYSQL...EID', HasStopCodon(ExtendedIUPACProtein(), '*')),\n",
       " Seq('TNMKIILFLALITLATCELYHYQECVRGTTVLLKEPCSSGTYEGNSPFHPLADN...KTE', HasStopCodon(ExtendedIUPACProtein(), '*')),\n",
       " Seq('LNFH', HasStopCodon(ExtendedIUPACProtein(), '*')),\n",
       " Seq('LTSICAF', HasStopCodon(ExtendedIUPACProtein(), '*')),\n",
       " Seq('PFCYSLF', HasStopCodon(ExtendedIUPACProtein(), '*')),\n",
       " Seq('LCLLSFGSHLNCKIIMKLVTPKRT', HasStopCodon(ExtendedIUPACProtein(), '*')),\n",
       " Seq('NFLFS', HasStopCodon(ExtendedIUPACProtein(), '*')),\n",
       " Seq('ESSQL', HasStopCodon(ExtendedIUPACProtein(), '*')),\n",
       " Seq('LHFTKNVVYSHVLNINHM', HasStopCodon(ExtendedIUPACProtein(), '*')),\n",
       " Seq('LMTRVLFTSILNGILE', HasStopCodon(ExtendedIUPACProtein(), '*')),\n",
       " Seq('ELENQHL', HasStopCodon(ExtendedIUPACProtein(), '*')),\n",
       " Seq('LNCAWMRLVLNHPFSTSISVIIQFPVYLLQLIARNLNWVVL', HasStopCodon(ExtendedIUPACProtein(), '*')),\n",
       " Seq('CVVRSMKTF', HasStopCodon(ExtendedIUPACProtein(), '*')),\n",
       " Seq('SIMTFVLF', HasStopCodon(ExtendedIUPACProtein(), '*')),\n",
       " Seq('ISSKRTN', HasStopCodon(ExtendedIUPACProtein(), '*')),\n",
       " Seq('NV', HasStopCodon(ExtendedIUPACProtein(), '*')),\n",
       " Seq('', HasStopCodon(ExtendedIUPACProtein(), '*')),\n",
       " Seq('WTPKSAKCTPHYVWWTLRFNWQ', HasStopCodon(ExtendedIUPACProtein(), '*')),\n",
       " Seq('PEWRTQWGAIKTTSAPRFTQ', HasStopCodon(ExtendedIUPACProtein(), '*')),\n",
       " Seq('YCVLVHRSHSTWQGRP', HasStopCodon(ExtendedIUPACProtein(), '*')),\n",
       " Seq('IPSRTRRSN', HasStopCodon(ExtendedIUPACProtein(), '*')),\n",
       " Seq('HQ', HasStopCodon(ExtendedIUPACProtein(), '*')),\n",
       " Seq('QSR', HasStopCodon(ExtendedIUPACProtein(), '*')),\n",
       " Seq('PNWLLPKSYQTNSWW', HasStopCodon(ExtendedIUPACProtein(), '*')),\n",
       " Seq('R', HasStopCodon(ExtendedIUPACProtein(), '*')),\n",
       " Seq('NERSQSKMVFLLPRNWARSWTSLWC', HasStopCodon(ExtendedIUPACProtein(), '*')),\n",
       " Seq('QRRHHMGCN', HasStopCodon(ExtendedIUPACProtein(), '*')),\n",
       " Seq('GSLEYTKRSHWHPQSC', HasStopCodon(ExtendedIUPACProtein(), '*')),\n",
       " Seq('QCCNRATTSSRNNIAKRLLRRREQRRQSSLFSFLIT', HasStopCodon(ExtendedIUPACProtein(), '*')),\n",
       " Seq('SQQFKKFNSRQQ', HasStopCodon(ExtendedIUPACProtein(), '*')),\n",
       " Seq('GNFSC', HasStopCodon(ExtendedIUPACProtein(), '*')),\n",
       " Seq('NGWQWR', HasStopCodon(ExtendedIUPACProtein(), '*')),\n",
       " Seq('CCSCFAAA', HasStopCodon(ExtendedIUPACProtein(), '*')),\n",
       " Seq('QIEPA', HasStopCodon(ExtendedIUPACProtein(), '*')),\n",
       " Seq('EQNVW', HasStopCodon(ExtendedIUPACProtein(), '*')),\n",
       " Seq('RPTTTRPNCH', HasStopCodon(ExtendedIUPACProtein(), '*')),\n",
       " Seq('EICC', HasStopCodon(ExtendedIUPACProtein(), '*')),\n",
       " Seq('GF', HasStopCodon(ExtendedIUPACProtein(), '*')),\n",
       " Seq('EASAKTYCH', HasStopCodon(ExtendedIUPACProtein(), '*')),\n",
       " Seq('SIQCNTSFRQTWSRTNPRKFWGPGTNQTRN', HasStopCodon(ExtendedIUPACProtein(), '*')),\n",
       " Seq('LQTLAANCTICPQRFSVLRNVAHWHGSHTFGNVVDLHRCHQIG', HasStopCodon(ExtendedIUPACProtein(), '*')),\n",
       " Seq('QRSKFQRSSHFAE', HasStopCodon(ExtendedIUPACProtein(), '*')),\n",
       " Seq('AY', HasStopCodon(ExtendedIUPACProtein(), '*')),\n",
       " Seq('RIQNIPTNRA', HasStopCodon(ExtendedIUPACProtein(), '*')),\n",
       " Seq('KGQKEEG', HasStopCodon(ExtendedIUPACProtein(), '*')),\n",
       " Seq('', HasStopCodon(ExtendedIUPACProtein(), '*')),\n",
       " Seq('NSSLTAETEETANCDSSSCCRFG', HasStopCodon(ExtendedIUPACProtein(), '*')),\n",
       " Seq('FLQTIATIHEQC', HasStopCodon(ExtendedIUPACProtein(), '*')),\n",
       " Seq('LNSGLNSCRPHKADGLYKRFRFSVYDI', HasStopCodon(ExtendedIUPACProtein(), '*')),\n",
       " Seq('STLVQNEFS', HasStopCodon(ExtendedIUPACProtein(), '*')),\n",
       " Seq('LHSTSRCS', HasStopCodon(ExtendedIUPACProtein(), '*')),\n",
       " Seq('L', HasStopCodon(ExtendedIUPACProtein(), '*')),\n",
       " Seq('SHIAIFNQCVTLGRT', HasStopCodon(ExtendedIUPACProtein(), '*')),\n",
       " Seq('KSHHIFTEATRSTIECTVNNARESCLYGRALMCKINFSSAIPM', HasStopCodon(ExtendedIUPACProtein(), '*')),\n",
       " Seq('F', HasStopCodon(ExtendedIUPACProtein(), '*')),\n",
       " Seq('', HasStopCodon(ExtendedIUPACProtein(), '*')),\n",
       " Seq('LLRRMTKKKKKKKKKK', HasStopCodon(ExtendedIUPACProtein(), '*'))]"
      ]
     },
     "execution_count": 30,
     "metadata": {},
     "output_type": "execute_result"
    }
   ],
   "source": [
    "covid_aa= covid_protein.split('*')\n",
    "covid_aa"
   ]
  },
  {
   "cell_type": "code",
   "execution_count": 31,
   "metadata": {},
   "outputs": [
    {
     "name": "stdout",
     "output_type": "stream",
     "text": [
      "['IKGLYLPR', 'QTNQLSISCRSVL', 'TNFKICVAVTRLHA', 'CTHAV', 'LITNYCR', 'QDTSNSSIFCRLLTVSSVLQPIISTSRFRPGVTER', 'DGEPCPWFQRENTRPTQFACFTGSRRARTWLWRLRGGGLIRGTSTS', 'RWHLWLSRS', 'KRRFAST', 'TALCVHQTFGCSNCTSWSCYG', 'AGSRTRRHSVRS', 'W', 'DTWCPCPSCGRNTSGLPQGSSS', 'ER', '', 'RSWWP', 'LRRRSKVI', 'LRRRAWH', 'SL', 'RFSRKLEH', 'T', 'QWCYP', 'THA', 'A', 'RRGIHSLCR', 'QLLWP', 'WLPS', 'VH', 'RPSSTCW', 'SFMHFVRTTGLY', 'H', 'EGCILLP', 'T', 'A', 'NCLVHGTF', 'KEL', 'IADTF', 'N', 'IGKEI', 'HLQWGMSKFCISLKFHNQDYSTKG', 'KEKA', 'WLYG', 'NSICLSSCVTK', 'MQPNVPFNSHEV', 'SLW', 'NFMADGRFC', 'SHLRILWH', 'EFD', 'RRCHYLWLLTPKCCC', 'NLLSSMSQFRSRT', 'A', 'SCRIP', '', 'IWLENHSS', 'GWSHYCLWRLCVLLCWLP', 'QVCLLGSTC', 'R', 'HRL', 'PYRCCWRRFRRS', '', 'QPS', 'NTPKRESQHQYCW', 'L', 'T', '', 'RDRHYFGIFFCFHKCFCGNCERFGL', 'SIQTNC', 'ILW', 'F', 'SYKRKS', 'KRCLEYW', 'TEINTESSLCICIRGCSCCTINFLPHS', 'NCSKFCACFTEGRYNNTRWNFTVFTETH', 'CYDVHI', 'FGY', 'QSSCNGLHYRWCCSVDFAVAN', 'HLWHCL', 'KTQTRP', 'LA', 'REV', 'GRCRVS', 'RRLGNC', 'IYLNLCL', 'NCRWTNCHLCKGN', 'GECSDIL', 'ACK', 'IFGFVC', 'LYHYWWS', 'T', 'SLEFR', 'NICHALKGIVQKVC', 'IQRRNWPTHASKSPKRNYLLRGRNTSHRSVNRGSCLENW', 'FTTIRTTY', '', 'SC', 'SSIGWYTSLY', 'RAYVARNQRHRKVLCPCT', 'YDGNKQYLHTQRRCTNKGYFW', '', 'HCDRSARLQECEYHF', 'T', '', 'KD', '', 'ST', '', 'EVLCLYS', 'TRYRSK', 'VRLCCGRCCHKNFATSI', 'ITYTTGH', 'FR', 'VEYGYILLI', '', 'VW', 'V', 'IGFTYVLFFLPSR', 'G', 'RRR', 'L', 'RRRV', 'AINSI', 'VWY', 'R', 'LPR', 'TFGIWCHFCCSST', 'RRARRRLVR', '', '', 'STNCWSTRRQ', 'GQSDNYYSNNC', 'GSTSIRDGTYTSCSDY', 'SE', 'F', 'WLFKTY', 'QCIH', 'KCRHCGRS', 'KGKTNSGC', 'CSQCLP', 'TWRRCCRSLK', 'GY', 'QCHAS', 'I', '', 'LHSY', 'WTT', 'SGW', 'LCFKRTQSC', 'TLSSCCRPKC', 'QR', 'RHSTS', 'ECL', 'KF', 'SARSSTCTIIISWYFWC', 'PYTFFKSLCRYCSHKCLLSCL', '', 'KSL', 'QTCFKLFGNEE', 'KAS', 'TKDR', 'DS', 'RGS', 'AIYN', 'K', 'TFS', 'TEKTR', '', 'ENQSLC', 'RSYNNSGRN', 'VPHRKLVTLY', 'H', 'WQSSSRFCHSC', '', 'H', 'HHFLKERCSIYSG', 'CCSRGCFNCCGYTY', 'KGWWHY', 'NASESFEKSANRQLYNHLPGSGFKWLHCRGGKDSA', 'KV', 'KCLLHSTIYYL', '', 'EARNSWNCFLEFARNACTCRRNTQINACLCGN', 'SHSFNYTA', 'I', 'GY', 'NTRGCG', 'LWC', 'ILLLHQ', 'NNCSVTYQHT', 'RSK', 'NSCYNATWLCNTWLKFGRSCSVYEISQSASYSFCFFT', 'CCYSV', 'WLSYFFF', 'NT', 'RTFY', 'NHLTCWFL', 'RLVLFWTIYTTRYRIS', 'ER', '', 'KCILH', '', 'SYHIPPRW', 'SYHL', 'QS', 'DTSFFERSEDY', 'GVYNSRQH', 'PPHASCGHVNDIWTTVWSNLFGWS', 'CY', 'NKTS', 'FT', 'R', 'NILCFT', '', '', 'HSTC', 'GF', 'VLPHN', 'S', 'FSG', 'VHVSIKSH', 'KVEIPTS', 'WFNFY', 'MGR', 'QLLSCHCIVNTPTNRVEV', 'STCSTRCLLQSKGW', 'SC', 'LLCTYLSLL', '', 'DSR', 'VR', 'C', 'RNNELLVSTCQFRFLQKSLERGV', 'NLWTTADNP', 'GCRSCYVHGHTFL', 'TI', 'ERCSDTLYVW', 'TSYKISSTTGVTFCYDVSTTCSV', 'T', 'AWYIYLC', '', 'VHW', 'LPVWSL', 'TYNF', 'RNFVLHRRCFTYKVLRIQRSYYGCFLQRKQLHNNHKTSYL', 'IGWCCLYRN', 'P', 'VGQLL', 'ERQFLFHRATN', 'SCTKPTISKRKLR', 'F', 'VCM', '', 'YQIC', '', 'FKPVNWL', 'ETCFKRA', 'SYIFP', 'LKW', 'CGGY', 'L', 'TLHTLF', 'ERS', 'IVT', 'TYCLAC', 'QCN', '', 'SHV', 'TKYLVYTLSLEHKTS', 'NIKFV', 'CTEVRGRAGNG', 'SCLRRSKTSL', 'RSSGKSYHTERRS', 'V', 'CENYRSCRRHYT', 'TSK', '', 'FKNYRRGWPHRSNGCLCRQF', 'SYY', 'ET', '', 'II', 'SIRFENPCYSWFSCC', '', 'CPLGYYS', 'LC', 'AFS', 'QSC', 'YNY', 'HSYTVFKPCLY', 'LYALFLYFIATIVYFY', 'KYKF', 'N', 'SIYADYYSKEYC', 'ECR', 'ILSRGFI', 'LFEVT', 'FF', 'TDKYYNLVFTIKCLPRFFNLLNRCFRCFNV', 'FRHAFLLYWLQRRLFELY', 'CHYCNLLYWFYTL', 'CLS', 'WFRFFRHLSFFRNYTNYHFIF', 'MGFNCFWLSCRVVFGIYSFH', 'VFLCTWIGCNHAIVFQLFCSTFY', '', 'FLAYVVNN', 'SCTNGPDFSYG', 'NVHLLCIILLCMEKLCACCRRL', 'FINLYDVLQT', '', 'SNKSRMYNYC', 'WC', 'KVLLCLC', 'WR', 'RLLQTTQLELC', 'L', 'YILCW', 'YIY', '', '', 'SCERLVTTV', 'KTNKSY', 'PVFLHR', '', 'CYSEEWFHPSLL', '', 'SWSKDL', 'KTFSLSFC', 'LRQPES', '', 'H', 'RFIAY', 'CYSF', 'W', 'IKM', 'RIICKISVCLLQSAYVSTYTVTRSGISV', 'CW', '', 'CGSCS', 'NV', 'CLR', 'YVFINF', 'RTNGKTQNTSCNCRS', 'TCKECVLRQCLIYFYFSSSARVC', 'FRCRN', 'RCC', 'MS', 'IVTSI', 'HRSYWR', 'L', '', 'LYAHL', 'QS', 'KHDTP', 'PWCLY', 'L', 'CASY', 'CAGSKKSQHCFDMER', 'RFHVIV', 'TTTKTNT', 'CC', 'KE', 'LTF', 'VDMCNY', 'TSC', 'CCNNKDST', 'GW', 'NC', '', 'LVEAVN', 'SYTCVPFCCCYFLFNNTCSCHV', 'TY', 'LFK', 'NHRIQGY', 'WWCHS', 'HSIYRYLFC', 'QTC', 'F', 'HMV', 'PAWW', 'LY', '', 'QSLPIDCCSHNKRSGFCRAWFAWHDITHN', 'W', 'LFAFLT', 'SF', 'CSW', 'HLLHTIKTYRVH', 'LCNISLCFGC', 'MYNF', 'RCFW', 'ASTILL', 'YQCTRRFCCL', 'KFTP', 'HTLCAHGWLYYSIS', 'HLP', 'RFC', 'SGNNF', 'F', 'VL', 'ARHL', 'KIRSWCLCIY', 'W', 'MGT', 'Q', 'LLQIFTRSFLWCRCCKFTY', 'YVYTTNSTYWCFGHISIYSSWWYCSYRSNMPCLLFYEV', 'KSFW', 'IQSCSCL', 'YFTIPYVIHCTLFNTSLLILTWCLFCYLLVLDILSY', '', 'CFFFSTYSVDGYVHTFSTFLDNNCLYHLYFHKAFLLVL', '', 'LPKETCSL', 'WCFL', 'YF', 'RSCAVHLFVK', 'RNVSKVA', '', 'CAITSYAI', '', 'ILSSL', '', 'VQVF', 'WSNGYN', 'LQRSCLLSSRKGSQ', 'LQ', 'LRF', 'CSLPTTTNLYHLSCFAEWF', 'KNGIPIW', 'S', 'GLYGTSNLWYNYT', 'RSLA', '', 'RSLLSKTCDLHL', 'RHA', 'P', 'L', 'RFTHS', 'V', 'S', 'FLGTGW', 'CSTQGYWTFYAKLCT', 'A', 'G', 'YSQS', 'DT', 'V', 'VCSHSTRTDFFSVSLLQWFTIWCLPMCYEAQFHY', 'GFIP', 'WFMW', 'CWF', 'HRL', 'LCLFLLHAPYGITNWSSCWHRLRR', 'LLWTFC', 'QANSTSSWYGHNYYS', 'CFSLVVRCCYKWRQVVSQSIYHNS', '', 'L', 'PCGYEVQL', 'TSNTRPC', 'HTRTSFCSNWNCRFRYVCFIKRITAKWYEWTYHIG', 'CFIRR', 'IYTF', 'CC', 'TMLRCYFPKCSEKNNQGYTPLVVTHNFDFTFSFSPEYSMVFVLFFV', 'KCLFTFCYGYYCYVCFCNDVCQT', 'ACISLFVFVTFSCHCSLF', 'YGLYAC', 'LGDAYYDMVGYG', 'Y', 'FVWF', 'AKRLCYVCISCSVTNPYDSKNCV', '', 'WC', 'ESVDTYECLDTRL', 'SLLW', 'CFRSSHFHVGSYNLCYF', 'LLRCSYNCHVFGQRYCFYVC', 'VLPYFLHNW', 'YTSVYNASLLFLRLFLYLLLWPLLFTQPLL', 'TDSWCL', 'LLSFYTGV', 'IYEFTGTTPTQE', 'HRCLQTQH', 'IVGCWWQTLYQSSHCTV', 'NVRCKVHISSLTLSFATTQSRIII', 'IVGSMCPVTQ', 'HSLS', 'RYY', 'SL', 'KNGFTTFCFAFHAGCCRHKQAL', 'RNAGQQGNLTSYSLRV', 'FPSIICSFCYCSRSL', 'AGCC', 'W', 'F', 'SCS', 'KVEEVFECG', 'I', 'I', 'P', 'CSHAT', 'VGKDG', 'SSYDPNV', 'TG', 'I', 'GQEGKSY', 'CYADNAFHYA', 'KVG', '', 'CTQQHYQQCKRWLCSLEHNTSYNSSQTNGCHTRL', 'HI', 'KYV', 'WYNIYLCISIVGNPTGCRCR', '', 'NCST', '', 'N', 'YGQFT', 'FSMASYCNSFKGQFCCQITE', '', 'A', 'SCCTTTDVLCCRYYTNCLH', '', 'QCVSLLQHNKGR', 'VCTCTVIRFTGFEMG', 'IP', 'E', 'WNWYYLYRTGTTL', 'VCYRHT', 'RS', 'SEVFILY', 'RIKQPK', 'RYGTW', 'FSCHSTSTSW', 'CNRSACQFNCIIFLCFCCRCC', 'SLQRLSS', 'WGTTNH', 'LC', 'DVVYTHWYWSGNNSYTGSQYGSRILWWCIVLSVLPLPHRSSKS', 'RIL', 'LKR', 'VCTNTYNLC', '', 'PCGFYT', 'KHSLYRLRYVERLWL', 'L', 'STPRTHASVS', 'CTIVFKRVCGVSAARLTPCGTGTSTDVVYRAFDIYNDKVAGFAKFLKTNCCRFQEKDEDDNLIDSYFVVKRHTFSNYQHEETIYNLLKDCPAVAKHDFFKFRIDGDMVPHISRQRLTKYTMADLVYALRHFDEGNCDTLKEILVTYNCCDDDYFNKKDWYDFVENPDILRVYANLGERVRQALLKTVQFCDAMRNAGIVGVLTLDNQDLNGNWYDFGDFIQTTPGSGVPVVDSYYSLLMPILTLTRALTAESHVDTDLTKPYIKWDLLKYDFTEERLKLFDRYFKYWDQTYHPNCVNCLDDRCILHCANFNVLFSTVFPPTSFGPLVRKIFVDGVPFVVSTGYHFRELGVVHNQDVNLHSSRLSFKELLVYAADPAMHAASGNLLLDKRTTCFSVAALTNNVAFQTVKPGNFNKDFYDFAVSKGFFKEGSSVELKHFFFAQDGNAAISDYDYYRYNLPTMCDIRQLLFVVEVVDKYFDCYDGGCINANQVIVNNLDKSAGFPFNKWGKARLYYDSMSYEDQDALFAYTKRNVIPTITQMNLKYAISAKNRARTVAGVSICSTMTNRQFHQKLLKSIAATRGATVVIGTSKFYGGWHNMLKTVYSDVENPHLMGWDYPKCDRAMPNMLRIMASLVLARKHTTCCSLSHRFYRLANECAQVLSEMVMCGGSLYVKPGGTSSGDATTAYANSVFNICQAVTANVNALLSTDGNKIADKYVRNLQHRLYECLYRNRDVDTDFVNEFYAYLRKHFSMMILSDDAVVCFNSTYASQGLVASIKNFKSVLYYQNNVFMSEAKCWTETDLTKGPHEFCSQHTMLVKQGDDYVYLPYPDPSRILGAGCFVDDIVKTDGTLMIERFVSLAIDAYPLTKHPNQEYADVFHLYLQYIRKLHDELTGHMLDMYSVMLTNDNTSRYWEPEFYEAMYTPHTVLQAVGACVLCNSQTSLRCGACIRRPFLCCKCCYDHVISTSHKLVLSVNPYVCNAPGCDVTDVTQLYLGGMSYYCKSHKPPISFPLCANGQVFGLYKNTCVGSDNVTDFNAIATCDWTNAGDYILANTCTERLKLFAAETLKATEETFKLSYGIATVREVLSDRELHLSWEVGKPRPPLNRNYVFTGYRVTKNSKVQIGEYTFEKGDYGDAVVYRGTTTYKLNVGDYFVLTSHTVMPLSAPTLVPQEHYVRITGLYPTLNISDEFSSNVANYQKVGMQKYSTLQGPPGTGKSHFAIGLALYYPSARIVYTACSHAAVDALCEKALKYLPIDKCSRIIPARARVECFDKFKVNSTLEQYVFCTVNALPETTADIVVFDEISMATNYDLSVVNARLRAKHYVYIGDPAQLPAPRTLLTKGTLEPEYFNSVCRLMKTIGPDMFLGTCRRCPAEIVDTVSALVYDNKLKAHKDKSAQCFKMFYKGVITHDVSSAINRPQIGVVREFLTRNPAWRKAVFISPYNSQNAVASKILGLPTQTVDSSQGSEYDYVIFTQTTETAHSCNVNRFNVAITRAKVGILCIMSDRDLYDKLQFTSLEIPRRNVATLQAENVTGLFKDCSKVITGLHPTQAPTHLSVDTKFKTEGLCVDIPGIPKDMTYRRLISMMGFKMNYQVNGYPNMFITREEAIRHVRAWIGFDVEGCHATREAVGTNLPLQLGFSTGVNLVAVPTGYVDTPNNTDFSRVSAKPPPGDQFKHLIPLMYKGLPWNVVRIKIVQMLSDTLKNLSDRVVFVLWAHGFELTSMKYFVKIGPERTCCLCDRRATCFSTASDTYACWHHSIGFDYVYNPFMIDVQQWGFTGNLQSNHDLYCQVHGNAHVASCDAIMTRCLAVHECFVKRVDWTIEYPIIGDELKINAACRKVQHMVVKAALLADKFPVLHDIGNPKAIKCVPQADVEWKFYDAQPCSDKAYKIEELFYSYATHSDKFTDGVCLFWNCNVDRYPANSIVCRFDTRVLSNLNLPGCDGGSLYVNKHAFHTPAFDKSAFVNLKQLPFFYYSDSPCESHGKQVVSDIDYVPLKSATCITRCNLGGAVCRHHANEYRLYLDAYNMMISAGFSLWVYKQFDTYNLWNTFTRLQSLENVAFNVVNKGHFDGQQGEVPVSIINNTVYTKVDGVDVELFENKTTLPVNVAFELWAKRNIKPVPEVKILNNLGVDIAANTVIWDYKRDAPAHISTIGVCSMTDIAKKPTETICAPLTVFFDGRVDGQVDLFRNARNGVLITEGSVKGLQPSVGPKQASLNGVTLIGEAVKTQFNYYKKVDGVVQQLPETYFTQSRNLQEFKPRSQMEIDFLELAMDEFIERYKLEGYAFEHIVYGDFSHSQLGGLHLLIGLAKRFKESPFELEDFIPMDSTVKNYFITDAQTGSSKCVCSVIDLLLDDFVEIIKSQDLSVVSKVVKVTIDYTEISFMLWCKDGHVETFYPKLQSSQAWQPGVAMPNLYKMQRMLLEKCDLQNYGDSATLPKGIMMNVAKYTQLCQYLNTLTLAVPYNMRVIHFGAGSDKGVAPGTAVLRQWLPTGTLLVDSDLNDFVSDADSTLIGDCATVHTANKWDLIISDMYDPKTKNVTKENDSKEGFFTYICGFIQQKLALGGSVAIKITEHSWNADLYKLMGHFAWWTAFVTNVNASSSEAFLIGCNYLGKPREQIDGYVMHANYIFWRNTNPIQLSSYSLFDMSKFPLKLRGTAVMSLKEGQINDMILSLLSKGRLIIRENNRVVISSDVLVNN', 'TNNVCFSCFIATSL', 'SVC', 'SYNQNSITPCIH', 'FFHTWCLLP', 'QSFQILSFTFNSGLVLTFLFQCYLVPCYTCLWDQWY', 'EV', '', 'PCPTI', '', 'WCLFCFH', 'EV', 'HNKRLDFWYYFRFEDPVPTYC', '', 'RY', 'CCY', 'SL', 'ISIL', '', 'SIFGCLLPQKQQKLDGK', 'VQSLF', 'CE', 'LHF', 'ICLSAFSYGP', 'RKTG', 'FQKS', 'GICV', 'EY', 'WLF', 'NIF', 'AHAY', 'FSA', 'SPSGFFGFRTIGRFANRY', 'HH', 'VSNFTCFT', 'KLFDSW', 'FFFRLDSWCCSLLCGLSST', 'DFSIKI', '', 'KWNHYRCCRLCT', 'PSLRNKVYVEILHCRKRNLSNF', 'L', 'SPTNRIYC', 'IS', 'YYKLVPFW', 'SF', 'RHQICICLCLEQEENQQLCC', 'LFCPI', 'FRIIFHF', 'VLWSVSY', 'IK', 'SLLY', 'CLCRFICN', 'R', '', 'SQTNRSRANWKDC', 'L', 'L', 'ITR', 'FYRLRYSLEF', 'QS', 'F', 'GWW', 'L', 'LPV', 'IV', 'EV', 'SQTF', 'ERYFN', 'NLSGR', 'HTL', 'WC', 'RF', 'LLLSFTIIWFPTH', 'WCWLPTIQSSSTFF', 'TSTCTSNCLWT', 'KVY', 'FG', 'KQMCQFQLQWFNRHRCSY', 'V', 'QKVSAFPTIWQRHC', 'HY', 'CCP', 'STDT', 'DS', 'HYTMFFWWCQCYNTRNKYF', 'PGCCSLSGC', 'LHRSPCCYSCRSTYSYLACLFYRF', 'CFSNTCRLFNRG', 'TCQQLI', 'V', 'HTHWCRYMR', 'LSDSD', 'FSSAGT', 'CS', 'SIHHCLHYVTWCRKFSCLL', '', 'LYCHTHKFYY', 'CYHRNSTSVYDQDISRLYNVHLW', 'FN', 'MQQSFVAIWQFLYTIKPCFNWNSC', 'TRQKHPRSFCTSQTNLQNTTN', 'RFWWF', 'FFTNITRSIKTKQEVIY', 'RSTFQQSDTCRCWLHQTIW', 'LPW', 'YCC', 'RPHLCTKV', 'RPYCFATFAHR', 'NDCSIHFCTVSGYNHFWLDLWCRCCITNTICYANGL', 'V', 'WYWSYTECSL', 'EPKIDCQPI', '', 'CYWQNSRLTFFHSKCTWKTSRCGQPKCTSFKHAC', 'TT', 'LQFWCNFKCFK', 'YPFTS', 'QS', 'G', 'SAN', '', 'VDHRQTSKFADICDSTIN', 'SCRNQSFC', 'SCCY', 'NVRVCTWTIKKS', 'FLWKGLSSYVLPSVSTSWCSLLACDLCPCTRKELHNCSCHLS', 'WKSTLSS', 'RCLCFKWHTLVCNTKEFL', 'TTNHYYRQHICVW', 'L', 'CCNRNCQQHSL', 'SFAT', 'IRLIQGGVR', 'IF', 'ESYITRC', 'FR', 'HLWH', 'CFSCKHSKRN', 'PPQ', 'GCQEFK', 'ISHRSPRTWKV', 'AVYKMAMVHLARFYSWLDCHSNGDNYALLYDQLL', 'LSQGLLFLWILLQI', '', 'RRL', 'ASAQRSQITLHINELMDLFMRIFTIGTVTLKQGEIKDATPSDFVRATATIPIQASLPFGWLIVGVALLAVFQSASKIITLKKRWQLALSKGVHFVCNLLLLFVTVYSHLLLVAAGLEAPFLYLYALVYFLQSINFVRIIMRLWLCWKCRSKNPLLYDANYFLCWHTNCYDYCIPYNSVTSSIVITSGDGTTSPISEHDYQIGGYTEKWESGVKDCVVLHSYFTSDYYQLYSTQLSTDTGVEHVTFFIYNKIVDEPEEHVQIHTIDGSSGVVNPVMEPIYDEPTTTTSVPL', 'AQADEYELMYSFVSEETGTLIVNSVLLFLAFVVFLLVTLAILTALRLCAYCCNIVNVSLVKPSFYVYSRVKNLNSSRVPDLLV', 'TN', 'ILY', 'FFCLEL', 'F', 'PWQIPTVLLPLKSLKSSLNNGT', '', '', 'VSYSLHGFVFYNLPMPTGIGFCI', 'LS', 'FSSGCYGQ', 'L', 'LVLCLLLFTE', 'IGSPVELLSQWLVL', 'A', 'CGSATSLLLSDCLRVRVPCGHSIQKLTFFSTCHSMALF', 'PDRF', 'KVNS', 'SEL', 'SFVDIFVLLDTI', 'DAVTSRTCLKKSLLLHHERFLITNWELRSV', 'QVTQVLLHTVATGLATIN', 'TQTIPVAVTILLCLYSK', 'QQMFHLVDFQVTIAEILLIIMRTFKVSIWNLDYIINLIIKNLSKSLTENKYSQLDEEQPMEID', 'TNMKIILFLALITLATCELYHYQECVRGTTVLLKEPCSSGTYEGNSPFHPLADNKFALTCFSTQFAFACPDGVKHVYQLRARSVSPKLFIRQEEVQELYSPIFLIVAAIVFITLCFTLKRKTE', 'LNFH', 'LTSICAF', 'PFCYSLF', 'LCLLSFGSHLNCKIIMKLVTPKRT', 'NFLFS', 'ESSQL', 'LHFTKNVVYSHVLNINHM', 'LMTRVLFTSILNGILE', 'ELENQHL', 'LNCAWMRLVLNHPFSTSISVIIQFPVYLLQLIARNLNWVVL', 'CVVRSMKTF', 'SIMTFVLF', 'ISSKRTN', 'NV', '', 'WTPKSAKCTPHYVWWTLRFNWQ', 'PEWRTQWGAIKTTSAPRFTQ', 'YCVLVHRSHSTWQGRP', 'IPSRTRRSN', 'HQ', 'QSR', 'PNWLLPKSYQTNSWW', 'R', 'NERSQSKMVFLLPRNWARSWTSLWC', 'QRRHHMGCN', 'GSLEYTKRSHWHPQSC', 'QCCNRATTSSRNNIAKRLLRRREQRRQSSLFSFLIT', 'SQQFKKFNSRQQ', 'GNFSC', 'NGWQWR', 'CCSCFAAA', 'QIEPA', 'EQNVW', 'RPTTTRPNCH', 'EICC', 'GF', 'EASAKTYCH', 'SIQCNTSFRQTWSRTNPRKFWGPGTNQTRN', 'LQTLAANCTICPQRFSVLRNVAHWHGSHTFGNVVDLHRCHQIG', 'QRSKFQRSSHFAE', 'AY', 'RIQNIPTNRA', 'KGQKEEG', '', 'NSSLTAETEETANCDSSSCCRFG', 'FLQTIATIHEQC', 'LNSGLNSCRPHKADGLYKRFRFSVYDI', 'STLVQNEFS', 'LHSTSRCS', 'L', 'SHIAIFNQCVTLGRT', 'KSHHIFTEATRSTIECTVNNARESCLYGRALMCKINFSSAIPM', 'F', '', 'LLRRMTKKKKKKKKKK']\n"
     ]
    }
   ],
   "source": [
    "covid_clean= [str(i) for i in covid_aa]\n",
    "print(covid_clean)"
   ]
  },
  {
   "cell_type": "code",
   "execution_count": 32,
   "metadata": {},
   "outputs": [
    {
     "data": {
      "text/html": [
       "<div>\n",
       "<style scoped>\n",
       "    .dataframe tbody tr th:only-of-type {\n",
       "        vertical-align: middle;\n",
       "    }\n",
       "\n",
       "    .dataframe tbody tr th {\n",
       "        vertical-align: top;\n",
       "    }\n",
       "\n",
       "    .dataframe thead th {\n",
       "        text-align: right;\n",
       "    }\n",
       "</style>\n",
       "<table border=\"1\" class=\"dataframe\">\n",
       "  <thead>\n",
       "    <tr style=\"text-align: right;\">\n",
       "      <th></th>\n",
       "      <th>amino_acid</th>\n",
       "    </tr>\n",
       "  </thead>\n",
       "  <tbody>\n",
       "    <tr>\n",
       "      <th>0</th>\n",
       "      <td>IKGLYLPR</td>\n",
       "    </tr>\n",
       "    <tr>\n",
       "      <th>1</th>\n",
       "      <td>QTNQLSISCRSVL</td>\n",
       "    </tr>\n",
       "    <tr>\n",
       "      <th>2</th>\n",
       "      <td>TNFKICVAVTRLHA</td>\n",
       "    </tr>\n",
       "    <tr>\n",
       "      <th>3</th>\n",
       "      <td>CTHAV</td>\n",
       "    </tr>\n",
       "    <tr>\n",
       "      <th>4</th>\n",
       "      <td>LITNYCR</td>\n",
       "    </tr>\n",
       "  </tbody>\n",
       "</table>\n",
       "</div>"
      ],
      "text/plain": [
       "       amino_acid\n",
       "0        IKGLYLPR\n",
       "1   QTNQLSISCRSVL\n",
       "2  TNFKICVAVTRLHA\n",
       "3           CTHAV\n",
       "4         LITNYCR"
      ]
     },
     "execution_count": 32,
     "metadata": {},
     "output_type": "execute_result"
    }
   ],
   "source": [
    "# CONVERT INTO READABLE DATAFRAME\n",
    "import pandas as pd\n",
    "covid= pd.DataFrame({'amino_acid':covid_clean})\n",
    "covid.head()"
   ]
  },
  {
   "cell_type": "code",
   "execution_count": 33,
   "metadata": {},
   "outputs": [
    {
     "data": {
      "text/html": [
       "<div>\n",
       "<style scoped>\n",
       "    .dataframe tbody tr th:only-of-type {\n",
       "        vertical-align: middle;\n",
       "    }\n",
       "\n",
       "    .dataframe tbody tr th {\n",
       "        vertical-align: top;\n",
       "    }\n",
       "\n",
       "    .dataframe thead th {\n",
       "        text-align: right;\n",
       "    }\n",
       "</style>\n",
       "<table border=\"1\" class=\"dataframe\">\n",
       "  <thead>\n",
       "    <tr style=\"text-align: right;\">\n",
       "      <th></th>\n",
       "      <th>amino_acid</th>\n",
       "      <th>count</th>\n",
       "    </tr>\n",
       "  </thead>\n",
       "  <tbody>\n",
       "    <tr>\n",
       "      <th>0</th>\n",
       "      <td>IKGLYLPR</td>\n",
       "      <td>8</td>\n",
       "    </tr>\n",
       "    <tr>\n",
       "      <th>1</th>\n",
       "      <td>QTNQLSISCRSVL</td>\n",
       "      <td>13</td>\n",
       "    </tr>\n",
       "    <tr>\n",
       "      <th>2</th>\n",
       "      <td>TNFKICVAVTRLHA</td>\n",
       "      <td>14</td>\n",
       "    </tr>\n",
       "    <tr>\n",
       "      <th>3</th>\n",
       "      <td>CTHAV</td>\n",
       "      <td>5</td>\n",
       "    </tr>\n",
       "    <tr>\n",
       "      <th>4</th>\n",
       "      <td>LITNYCR</td>\n",
       "      <td>7</td>\n",
       "    </tr>\n",
       "  </tbody>\n",
       "</table>\n",
       "</div>"
      ],
      "text/plain": [
       "       amino_acid  count\n",
       "0        IKGLYLPR      8\n",
       "1   QTNQLSISCRSVL     13\n",
       "2  TNFKICVAVTRLHA     14\n",
       "3           CTHAV      5\n",
       "4         LITNYCR      7"
      ]
     },
     "execution_count": 33,
     "metadata": {},
     "output_type": "execute_result"
    }
   ],
   "source": [
    "covid['count']= covid['amino_acid'].str.len()\n",
    "covid.head()"
   ]
  },
  {
   "cell_type": "code",
   "execution_count": 34,
   "metadata": {},
   "outputs": [
    {
     "data": {
      "text/html": [
       "<div>\n",
       "<style scoped>\n",
       "    .dataframe tbody tr th:only-of-type {\n",
       "        vertical-align: middle;\n",
       "    }\n",
       "\n",
       "    .dataframe tbody tr th {\n",
       "        vertical-align: top;\n",
       "    }\n",
       "\n",
       "    .dataframe thead th {\n",
       "        text-align: right;\n",
       "    }\n",
       "</style>\n",
       "<table border=\"1\" class=\"dataframe\">\n",
       "  <thead>\n",
       "    <tr style=\"text-align: right;\">\n",
       "      <th></th>\n",
       "      <th>amino_acid</th>\n",
       "      <th>count</th>\n",
       "    </tr>\n",
       "  </thead>\n",
       "  <tbody>\n",
       "    <tr>\n",
       "      <th>548</th>\n",
       "      <td>CTIVFKRVCGVSAARLTPCGTGTSTDVVYRAFDIYNDKVAGFAKFL...</td>\n",
       "      <td>2701</td>\n",
       "    </tr>\n",
       "    <tr>\n",
       "      <th>694</th>\n",
       "      <td>ASAQRSQITLHINELMDLFMRIFTIGTVTLKQGEIKDATPSDFVRA...</td>\n",
       "      <td>290</td>\n",
       "    </tr>\n",
       "    <tr>\n",
       "      <th>719</th>\n",
       "      <td>TNMKIILFLALITLATCELYHYQECVRGTTVLLKEPCSSGTYEGNS...</td>\n",
       "      <td>123</td>\n",
       "    </tr>\n",
       "    <tr>\n",
       "      <th>695</th>\n",
       "      <td>AQADEYELMYSFVSEETGTLIVNSVLLFLAFVVFLLVTLAILTALR...</td>\n",
       "      <td>83</td>\n",
       "    </tr>\n",
       "    <tr>\n",
       "      <th>718</th>\n",
       "      <td>QQMFHLVDFQVTIAEILLIIMRTFKVSIWNLDYIINLIIKNLSKSL...</td>\n",
       "      <td>63</td>\n",
       "    </tr>\n",
       "    <tr>\n",
       "      <th>6</th>\n",
       "      <td>DGEPCPWFQRENTRPTQFACFTGSRRARTWLWRLRGGGLIRGTSTS</td>\n",
       "      <td>46</td>\n",
       "    </tr>\n",
       "    <tr>\n",
       "      <th>464</th>\n",
       "      <td>TMLRCYFPKCSEKNNQGYTPLVVTHNFDFTFSFSPEYSMVFVLFFV</td>\n",
       "      <td>46</td>\n",
       "    </tr>\n",
       "    <tr>\n",
       "      <th>539</th>\n",
       "      <td>DVVYTHWYWSGNNSYTGSQYGSRILWWCIVLSVLPLPHRSSKS</td>\n",
       "      <td>43</td>\n",
       "    </tr>\n",
       "    <tr>\n",
       "      <th>758</th>\n",
       "      <td>LQTLAANCTICPQRFSVLRNVAHWHGSHTFGNVVDLHRCHQIG</td>\n",
       "      <td>43</td>\n",
       "    </tr>\n",
       "    <tr>\n",
       "      <th>771</th>\n",
       "      <td>KSHHIFTEATRSTIECTVNNARESCLYGRALMCKINFSSAIPM</td>\n",
       "      <td>43</td>\n",
       "    </tr>\n",
       "  </tbody>\n",
       "</table>\n",
       "</div>"
      ],
      "text/plain": [
       "                                            amino_acid  count\n",
       "548  CTIVFKRVCGVSAARLTPCGTGTSTDVVYRAFDIYNDKVAGFAKFL...   2701\n",
       "694  ASAQRSQITLHINELMDLFMRIFTIGTVTLKQGEIKDATPSDFVRA...    290\n",
       "719  TNMKIILFLALITLATCELYHYQECVRGTTVLLKEPCSSGTYEGNS...    123\n",
       "695  AQADEYELMYSFVSEETGTLIVNSVLLFLAFVVFLLVTLAILTALR...     83\n",
       "718  QQMFHLVDFQVTIAEILLIIMRTFKVSIWNLDYIINLIIKNLSKSL...     63\n",
       "6       DGEPCPWFQRENTRPTQFACFTGSRRARTWLWRLRGGGLIRGTSTS     46\n",
       "464     TMLRCYFPKCSEKNNQGYTPLVVTHNFDFTFSFSPEYSMVFVLFFV     46\n",
       "539        DVVYTHWYWSGNNSYTGSQYGSRILWWCIVLSVLPLPHRSSKS     43\n",
       "758        LQTLAANCTICPQRFSVLRNVAHWHGSHTFGNVVDLHRCHQIG     43\n",
       "771        KSHHIFTEATRSTIECTVNNARESCLYGRALMCKINFSSAIPM     43"
      ]
     },
     "execution_count": 34,
     "metadata": {},
     "output_type": "execute_result"
    }
   ],
   "source": [
    "#Determine the length of the longest polypeptide chain\n",
    "covid.nlargest(10, 'count')"
   ]
  },
  {
   "cell_type": "code",
   "execution_count": 35,
   "metadata": {},
   "outputs": [
    {
     "data": {
      "text/plain": [
       "['FRSLVDLFSKRTLKSVWLSLGCMLSALTQYN',\n",
       " '',\n",
       " 'LITVVDRTRVTRLSSAGCLRFRPCCSRSSAHLGFVRV',\n",
       " 'PKGKMESLVPGFNEKTHVQLSLPVLQVRDVLVRGFGDSVEEVLSEARQHLKDGTCGLVEVEKGVLPQLEQPYVFIKRSDARTAPHGHVMVELVAELEGIQYGRSGETLGVLVPHVGEIPVAYRKVLLRKNGNKGAGGHSYGADLKSFDLGDELGTDPYEDFQENWNTKHSSGVTRELMRELNGGAYTRYVDNNFCGPDGYPLECIKDLLARAGKASCTLSEQLDFIDTKRGVYCCREHEHEIAWYTERSEKSYELQTPFEIKLAKKFDTFNGECPNFVFPLNSIIKTIQPRVEKKKLDGFMGRIRSVYPVASPNECNQMCLSTLMKCDHCGETSWQTGDFVKATCEFCGTENLTKEGATTCGYLPQNAVVKIYCPACHNSEVGPEHSLAEYHNESGLKTILRKGGRTIAFGGCVFSYVGCHNKCAYWVPRASANIGCNHTGVVGEGSEGLNDNLLEILQKEKVNINIVGDFKLNEEIAIILASFSASTSAFVETVKGLDYKAFKQIVESCGNFKVTKGKAKKGAWNIGEQKSILSPLYAFASEAARVVRSIFSRTLETAQNSVRVLQKAAITILDGISQYSLRLIDAMMFTSDLATNNLVVMAYITGGVVQLTSQWLTNIFGTVYEKLKPVLDWLEEKFKEGVEFLRDGWEIVKFISTCACEIVGGQIVTCAKEIKESVQTFFKLVNKFLALCADSIIIGGAKLKALNLGETFVTHSKGLYRKCVKSREETGLLMPLKAPKEIIFLEGETLPTEVLTEEVVLKTGDLQPLEQPTSEAVEAPLVGTPVCINGLMLLEIKDTEKYCALAPNMMVTNNTFTLKGGAPTKVTFGDDTVIEVQGYKSVNITFELDERIDKVLNEKCSAYTVELGTEVNEFACVVADAVIKTLQPVSELLTPLGIDLDEWSMATYYLFDESGEFKLASHMYCSFYPPDEDEEEGDCEEEEFEPSTQYEYGTEDDYQGKPLEFGATSAALQPEEEQEEDWLDDDSQQTVGQQDGSEDNQTTTIQTIVEVQPQLEMELTPVVQTIEVNSFSGYLKLTDNVYIKNADIVEEAKKVKPTVVVNAANVYLKHGGGVAGALNKATNNAMQVESDDYIATNGPLKVGGSCVLSGHNLAKHCLHVVGPNVNKGEDIQLLKSAYENFNQHEVLLAPLLSAGIFGADPIHSLRVCVDTVRTNVYLAVFDKNLYDKLVSSFLEMKSEKQVEQKIAEIPKEEVKPFITESKPSVEQRKQDDKKIKACVEEVTTTLEETKFLTENLLLYIDINGNLHPDSATLVSDIDITFLKKDAPYIVGDVVQEGVLTAVVIPTKKAGGTTEMLAKALRKVPTDNYITTYPGQGLNGYTVEEAKTVLKKCKSAFYILPSIISNEKQEILGTVSWNLREMLAHAEETRKLMPVCVETKAIVSTIQRKYKGIKIQEGVVDYGARFYFYTSKTTVASLINTLNDLNETLVTMPLGYVTHGLNLEEAARYMRSLKVPATVSVSSPDAVTAYNGYLTSSSKTPEEHFIETISLAGSYKDWSYSGQSTQLGIEFLKRGDKSVYYTSNPTTFHLDGEVITFDNLKTLLSLREVRTIKVFTTVDNINLHTQVVDMSMTYGQQFGPTYLDGADVTKIKPHNSHEGKTFYVLPNDDTLRVEAFEYYHTTDPSFLGRYMSALNHTKKWKYPQVNGLTSIKWADNNCYLATALLTLQQIELKFNPPALQDAYYRARAGEAANFCALILAYCNKTVGELGDVRETMSYLFQHANLDSCKRVLNVVCKTCGQQQTTLKGVEAVMYMGTLSYEQFKKGVQIPCTCGKQATKYLVQQESPFVMMSAPPAQYELKHGTFTCASEYTGNYQCGHYKHITSKETLYCIDGALLTKSSEYKGPITDVFYKENSYTTTIKPVTYKLDGVVCTEIDPKLDNYYKKDNSYFTEQPIDLVPNQPYPNASFDNFKFVCDNIKFADDLNQLTGYKKPASRELKVTFFPDLNGDVVAIDYKHYTPSFKKGAKLLHKPIVWHVNNATNKATYKPNTWCIRCLWSTKPVETSNSFDVLKSEDAQGMDNLACEDLKPVSEEVVENPTIQKDVLECNVKTTEVVGDIILKPANNSLKITEEVGHTDLMAAYVDNSSLTIKKPNELSRVLGLKTLATHGLAAVNSVPWDTIANYAKPFLNKVVSTTTNIVTRCLNRVCTNYMPYFFTLLLQLCTFTRSTNSRIKASMPTTIAKNTVKSVGKFCLEASFNYLKSPNFSKLINIIIWFLLLSVCLGSLIYSTAALGVLMSNLGMPSYCTGYREGYLNSTNVTIATYCTGSIPCSVCLSGLDSLDTYPSLETIQITISSFKWDLTAFGLVAEWFLAYILFTRFFYVLGLAAIMQLFFSYFAVHFISNSWLMWLIINLVQMAPISAMVRMYIFFASFYYVWKSYVHVVDGCNSSTCMMCYKRNRATRVECTTIVNGVRRSFYVYANGGKGFCKLHNWNCVNCDTFCAGSTFISDEVARDLSLQFKRPINPTDQSSYIVDSVTVKNGSIHLYFDKAGQKTYERHSLSHFVNLDNLRANNTKGSLPINVIVFDGKSKCEESSAKSASVYYSQLMCQPILLLDQALVSDVGDSAEVAVKMFDAYVNTFSSTFNVPMEKLKTLVATAEAELAKNVSLDNVLSTFISAARQGFVDSDVETKDVVECLKLSHQSDIEVTGDSCNNYMLTYNKVENMTPRDLGACIDCSARHINAQVAKSHNIALIWNVKDFMSLSEQLRKQIRSAAKKNNLPFKLTCATTRQVVNVVTTKIALKGGKIVNNWLKQLIKVTLVFLFVAAIFYLITPVHVMSKHTDFSSEIIGYKAIDGGVTRDIASTDTCFANKHADFDTWFSQRGGSYTNDKACPLIAAVITREVGFVVPGLPGTILRTTNGDFLHFLPRVFSAVGNICYTPSKLIEYTDFATSACVLAAECTIFKDASGKPVPYCYDTNVLEGSVAYESLRPDTRYVLMDGSIIQFPNTYLEGSVRVVTTFDSEYCRHGTCERSEAGVCVSTSGRWVLNNDYYRSLPGVFCGVDAVNLLTNMFTPLIQPIGALDISASIVAGGIVAIVVTCLAYYFMRFRRAFGEYSHVVAFNTLLFLMSFTVLCLTPVYSFLPGVYSVIYLYLTFYLTNDVSFLAHIQWMVMFTPLVPFWITIAYIICISTKHFYWFFSNYLKRRVVFNGVSFSTFEEAALCTFLLNKEMYLKLRSDVLLPLTQYNRYLALYNKYKYFSGAMDTTSYREAACCHLAKALNDFSNSGSDVLYQPPQTSITSAVLQSGFRKMAFPSGKVEGCMVQVTCGTTTLNGLWLDDVVYCPRHVICTSEDMLNPNYEDLLIRKSNHNFLVQAGNVQLRVIGHSMQNCVLKLKVDTANPKTPKYKFVRIQPGQTFSVLACYNGSPSGVYQCAMRPNFTIKGSFLNGSCGSVGFNIDYDCVSFCYMHHMELPTGVHAGTDLEGNFYGPFVDRQTAQAAGTDTTITVNVLAWLYAAVINGDRWFLNRFTTTLNDFNLVAMKYNYEPLTQDHVDILGPLSAQTGIAVLDMCASLKELLQNGMNGRTILGSALLEDEFTPFDVVRQCSGVTFQSAVKRTIKGTHHWLLLTILTSLLVLVQSTQWSLFFFLYENAFLPFAMGIIAMSAFAMMFVKHKHAFLCLFLLPSLATVAYFNMVYMPASWVMRIMTWLDMVDTSLSGFKLKDCVMYASAVVLLILMTARTVYDDGARRVWTLMNVLTLVYKVYYGNALDQAISMWALIISVTSNYSGVVTTVMFLARGIVFMCVEYCPIFFITGNTLQCIMLVYCFLGYFCTCYFGLFCLLNRYFRLTLGVYDYLVSTQEFRYMNSQGLLPPKNSIDAFKLNIKLLGVGGKPCIKVATVQSKMSDVKCTSVVLLSVLQQLRVESSSKLWAQCVQLHNDILLAKDTTEAFEKMVSLLSVLLSMQGAVDINKLCEEMLDNRATLQAIASEFSSLPSYAAFATAQEAYEQAVANGDSEVVLKKLKKSLNVAKSEFDRDAAMQRKLEKMADQAMTQMYKQARSEDKRAKVTSAMQTMLFTMLRKLDNDALNNIINNARDGCVPLNIIPLTTAAKLMVVIPDYNTYKNTCDGTTFTYASALWEIQQVVDADSKIVQLSEISMDNSPNLAWPLIVTALRANSAVKLQNNELSPVALRQMSCAAGTTQTACTDDNALAYYNTTKGGRFVLALLSDLQDLKWARFPKSDGTGTIYTELEPPCRFVTDTPKGPKVKYLYFIKGLNNLNRGMVLGSLAATVRLQAGNATEVPANSTVLSFCAFAVDAAKAYKDYLASGGQPITNCVKMLCTHTGTGQAITVTPEANMDQESFGGASCCLYCRCHIDHPNPKGFCDLKGKYVQIPTTCANDPVGFTLKNTVCTVCGMWKGYGCSCDQLREPMLQSADAQSFLNGFAV',\n",
       " 'VQPVLHRAAQALVLMSYTGLLTSTMIK',\n",
       " 'LVLLNS',\n",
       " 'KLIVVASKKRTKMTI',\n",
       " 'LILTL',\n",
       " 'LRDTLSLTTNMKKQFIIYLRIVQLLLNMTSLSLE',\n",
       " 'TVTWYHIYHVNVLLNTQWQTSSML',\n",
       " 'GILMKVIVTH',\n",
       " 'KKYLSHTIVVMMIISIKRTGMIL',\n",
       " 'KTQIYYAYTPT',\n",
       " 'VNVYAKLC',\n",
       " 'KQYNSVMPCEMLVLLVY',\n",
       " 'H',\n",
       " 'IIKISMVTGMISVISYKPRQVVEFLL',\n",
       " 'ILIIHC',\n",
       " 'CLY',\n",
       " 'P',\n",
       " 'PGL',\n",
       " 'LQSHMLTLT',\n",
       " 'QSLTLSGIC',\n",
       " 'NMTSRKRG',\n",
       " 'NSLTVILNIGIRHTTQIVLTVWMTDAFCIVQTLMFYSLQCSHLQVLDH',\n",
       " '',\n",
       " 'EKYLLMVFHL',\n",
       " 'FQLDTTSES',\n",
       " 'VLYIIRM',\n",
       " 'TYIALDLVLRNYLCMLLTLLCTLLLVIYY',\n",
       " 'INALRAFQ',\n",
       " 'LHLLTMLLFKLSNPVILTKTSMTLLCLRVSLRKEVLLN',\n",
       " 'NTSSLLRMVMLLSAIMTTIVIIYQQCVISDNYYL',\n",
       " 'LKLLISTLIVTMVAVLMLTKSSSTT',\n",
       " 'TNQLVFHLINGVRLDFIMIQ',\n",
       " 'VMRIKMHFSHIQNVMSSLL',\n",
       " 'LK',\n",
       " 'ILSMPLVQRIELAP',\n",
       " 'LVSLSVVL',\n",
       " 'PIDSFIKNY',\n",
       " 'NQ',\n",
       " 'PPLEELL',\n",
       " '',\n",
       " 'LEQANSMVVGTTC',\n",
       " 'KLFIVM',\n",
       " 'KTLTLWVGIILNVIEPCLTCLELWPHLFLLANIQRVVACHTVSID',\n",
       " 'LMSVLKY',\n",
       " 'VKWSCVAVHYMLNQVEPHQEMPQLLMLIVFLTFVKLSRPMLMHFYLLMVTKLPISMSAIYNTDFMSVSIEIEMLTQTL',\n",
       " 'MSFTHICVNISQ',\n",
       " '',\n",
       " 'YSLTMLLCVSIALMHLKV',\n",
       " 'WLA',\n",
       " 'RTLSQFFIIKTMFLCLKQNVGLRLTLLKDLMNFALNIQC',\n",
       " 'LNRVMIMCTFLTQIHQES',\n",
       " 'GPAVL',\n",
       " 'MIS',\n",
       " 'KQMVHL',\n",
       " 'LNGSCL',\n",
       " 'L',\n",
       " 'MLTHLLNILIRSMLMSFICTYNT',\n",
       " 'ESYMMS',\n",
       " 'QDTC',\n",
       " 'TCILLCLLMITLQGIGNLSFMRLCTHRIQSYRLLGLVFFAIHRLH',\n",
       " 'DVVLAYVDHSYVVNAVTTMSYQHHIN',\n",
       " 'SCLLIRMFAMLQVVMSQM',\n",
       " 'LNFT',\n",
       " 'EV',\n",
       " 'AIIVNHINHPLVFHCVLMDKFLVYIKIHVLVAIMLLTLMQLQHVIGQMLVITF',\n",
       " 'LTPVLKDSSFLQQKRSKLLRRHLNCLMVLLLYVKCCLTENYIFHGKLVNLDHHLTEIMSLLVIV',\n",
       " 'LKTVKYK',\n",
       " 'ESTPLKKVTMVMLLFTEVQQLTN',\n",
       " 'MLVIILC',\n",
       " 'HHIQ',\n",
       " 'CH',\n",
       " 'VHLH',\n",
       " 'CHKSTMLELLAYTQHSISQMSFLAMLQIIKRLVCKSILHSRDHLVLVRVILLLA',\n",
       " 'LSTTLLLA',\n",
       " 'CIQLALMPLLMHYVRRH',\n",
       " 'NICL',\n",
       " 'INVVELYLHVLV',\n",
       " 'SVLINSK',\n",
       " 'IQH',\n",
       " 'NSMSFVL',\n",
       " 'MHCLRRQQI',\n",
       " 'LSLMKFQWPQIMI',\n",
       " 'VLSMPDYVLSTMCTLATLLNYLHHAHC',\n",
       " 'LRAH',\n",
       " 'NQNISIQCVDL',\n",
       " 'KL',\n",
       " 'VQTCSSELVGVVLLKLLTL',\n",
       " 'VLWFMIISLKHIKTNQLNALKCFIRVLSRMMFHLQLTGHK',\n",
       " 'AW',\n",
       " 'ENSLHVTLLGEKLSLFHLIIHRML',\n",
       " 'PQRFWDYQLKLLIHHRAQNMTMSYSLKPLKQLTLVM',\n",
       " 'TDLMLLLPEQK',\n",
       " 'AYFA',\n",
       " 'CLIETFMTSCNLQVLKFHVGMWQLYKLKM',\n",
       " 'QDSLKIVVR',\n",
       " 'SLGYILHRHLHTSVLTLNSKLKVYVLTYLAYLRT',\n",
       " 'PIEDSSL',\n",
       " 'WVLK',\n",
       " 'IIKLMVTLTCLSPAKKL',\n",
       " 'DMYVHGLASMSRGVMLLEKLLVPIYLYS',\n",
       " 'VFLQVLT',\n",
       " 'LLYLQVMLIHLIIQIFPELVLNHRLEINLNTSYHLCTKDFLGM',\n",
       " 'CV',\n",
       " 'RLYKC',\n",
       " 'VTHLKISLTESYLSYGHMALS',\n",
       " 'HL',\n",
       " 'SIL',\n",
       " 'K',\n",
       " 'DLSAPVVYVIDVPHAFPLLQTLMPVGIILLDLITSIIRL',\n",
       " 'LMFNNGVLQVTYKATMICIVKSMVMHM',\n",
       " 'LVVMQS',\n",
       " 'LGV',\n",
       " 'LSTSALLSVLTGLLNIL',\n",
       " 'LVMN',\n",
       " 'RLMRLVERFNTWLLKLHY',\n",
       " 'QTNSQFFTTLVTLKLLSVYLKLM',\n",
       " 'NGSSMMHSLVVTKLIK',\n",
       " 'KNYSILMPHILTNSQMVYAYFGIAMSIDILLIPLFVDLTLECYLTLTCLVVMVAVCM',\n",
       " 'INMHSTHQLLIKVLLLI',\n",
       " 'NNYHFSITLTVHVSLMENK',\n",
       " 'CQI',\n",
       " 'IMYH',\n",
       " 'SLLRV',\n",
       " 'HVAI',\n",
       " 'VVLSVDIMLMSTDCISMLIT',\n",
       " '',\n",
       " 'SQLALACGFTNNLILITSGTLLQDFRV',\n",
       " 'KMWLLML',\n",
       " 'IRDTLMDNRVKYQFLSLITLFTQKLMVLM',\n",
       " 'NCLKIKQHYLLM',\n",
       " 'HLSFGLSATLNQYQR',\n",
       " 'KYSIIWVWTLLLIL',\n",
       " 'SGTTKEMLQHIYLLLVFVL',\n",
       " 'LT',\n",
       " 'PRNQLKRFVHHSLSFLMVELMVK',\n",
       " 'TYLEMPVMVFLLQKVVLKVYNHL',\n",
       " 'VPNKLVLMESH',\n",
       " 'LEKP',\n",
       " 'KHSSIIIRKLMVLSNNYLKLTLLRVEIYKNLNPGVKWKLIS',\n",
       " 'N',\n",
       " 'LWMNSLNGIN',\n",
       " 'KAMPSNISFMEILVIVS',\n",
       " 'VVYIYWLD',\n",
       " 'LNVLRNHLLN',\n",
       " 'KILFLWTVQLKTIS',\n",
       " 'QMRKQVHLSVCVLLLIYYLMILLK',\n",
       " '',\n",
       " 'NPKIYL',\n",
       " 'FLRLSK',\n",
       " 'LLTIQKFHLCFGVKMAM',\n",
       " 'KHFTQNYNLVKRGNRVLLCLIFTKCKECY',\n",
       " 'KSVTFKIMVIVQHYLKA',\n",
       " '',\n",
       " '',\n",
       " 'MSQNILNCVNI',\n",
       " 'TH',\n",
       " 'H',\n",
       " 'LYPII',\n",
       " 'ELYILVLVLIKELHQVQLF',\n",
       " 'DSGCLRVRCLSIQILMTLSLMQIQL',\n",
       " 'LVIVQLYIQLINGISLLVICTTLRLKMLQKKMTLKRVFSLTFVGLYNKS',\n",
       " 'LLEVPWL',\n",
       " 'R',\n",
       " 'QNILGMLIFISSWDTSHGGQPLLLM',\n",
       " 'MRHHLKHF',\n",
       " 'LDVIILANHANK',\n",
       " 'MVMSCMQITYFGGIQIQFSCLPILYLT',\n",
       " 'VNFPLN',\n",
       " 'GVLLLCL',\n",
       " 'KKVKSMI',\n",
       " 'FYLFLVKVDL',\n",
       " 'LEKTTELLFLVMFLLTTKRTMFVFLVLLPLVSSQCVNLTTRTQLPPAYTNSFTRGVYYPDKVFRSSVLHSTQDLFLPFFSNVTWFHAIHVSGTNGTKRFDNPVLPFNDGVYFASTEKSNIIRGWIFGTTLDSKTQSLLIVNNATNVVIKVCEFQFCNDPFLGVYYHKNNKSWMESEFRVYSSANNCTFEYVSQPFLMDLEGKQGNFKNLREFVFKNIDGYFKIYSKHTPINLVRDLPQGFSALEPLVDLPIGINITRFQTLLALHRSYLTPGDSSSGWTAGAAAYYVGYLQPRTFLLKYNENGTITDAVDCALDPLSETKCTLKSFTVEKGIYQTSNFRVQPTESIVRFPNITNLCPFGEVFNATRFASVYAWNRKRISNCVADYSVLYNSASFSTFKCYGVSPTKLNDLCFTNVYADSFVIRGDEVRQIAPGQTGKIADYNYKLPDDFTGCVIAWNSNNLDSKVGGNYNYLYRLFRKSNLKPFERDISTEIYQAGSTPCNGVEGFNCYFPLQSYGFQPTNGVGYQPYRVVVLSFELLHAPATVCGPKKSTNLVKNKCVNFNFNGLTGTGVLTESNKKFLPFQQFGRDIADTTDAVRDPQTLEILDITPCSFGGVSVITPGTNTSNQVAVLYQGVNCTEVPVAIHADQLTPTWRVYSTGSNVFQTRAGCLIGAEHVNNSYECDIPIGAGICASYQTQTNSPRRARSVASQSIIAYTMSLGAENSVAYSNNSIAIPTNFTISVTTEILPVSMTKTSVDCTMYICGDSTECSNLLLQYGSFCTQLNRALTGIAVEQDKNTQEVFAQVKQIYKTPPIKDFGGFNFSQILPDPSKPSKRSFIEDLLFNKVTLADAGFIKQYGDCLGDIAARDLICAQKFNGLTVLPPLLTDEMIAQYTSALLAGTITSGWTFGAGAALQIPFAMQMAYRFNGIGVTQNVLYENQKLIANQFNSAIGKIQDSLSSTASALGKLQDVVNQNAQALNTLVKQLSSNFGAISSVLNDILSRLDKVEAEVQIDRLITGRLQSLQTYVTQQLIRAAEIRASANLAATKMSECVLGQSKRVDFCGKGYHLMSFPQSAPHGVVFLHVTYVPAQEKNFTTAPAICHDGKAHFPREGVFVSNGTHWFVTQRNFYEPQIITTDNTFVSGNCDVVIGIVNNTVYDPLQPELDSFKEELDKYFKNHTSPDVDLGDISGINASVVNIQKEIDRLNEVAKNLNESLIDLQELGKYEQYIKWPWYIWLGFIAGLIAIVMVTIMLCCMTSCCSCLKGCCSCGSCCKFDEDDSEPVLKGVKLHYT',\n",
       " 'TNLWICL',\n",
       " 'ESSQLEL',\n",
       " 'L',\n",
       " 'SKVKSRMLLLQILFALLQRYRYKPHSLSDGLLLALHFLLFFRALPKS',\n",
       " 'PSKRDGN',\n",
       " 'HSPRVFTLFATCCCCL',\n",
       " 'QFTHTFCSLLLALKPLFSIFML',\n",
       " 'STSCRV',\n",
       " 'TL',\n",
       " 'E',\n",
       " '',\n",
       " '',\n",
       " 'GFGFAGNAVPKTHYFMMPTIFFAGILIVTTIVYLTIV',\n",
       " 'LLQLSLLQVMAQQVLFLNMTTRLVVILKNGNLE',\n",
       " 'KTVLYYTVTSLQTITSCTQLN',\n",
       " 'VQTLVLNMLPSSSTIKLLMSLKNMSKFTQSTVHPELLIQ',\n",
       " 'WNQFMMNRRRLLACLCKHKLMSTNLCTHSFRKRQVR',\n",
       " '',\n",
       " 'LIAYFFFLLSWYSC',\n",
       " 'LH',\n",
       " 'PSLLRFDCVRTAAILLT',\n",
       " 'VL',\n",
       " 'NLLFTFTLVLKI',\n",
       " 'ILLEFLIFWSKRTKYYISFSVWNFNFSHGRFQRYYYR',\n",
       " 'RA',\n",
       " 'KAP',\n",
       " 'TMEPSNRFPIPYMDLSSTICLCQQE',\n",
       " 'VFVYN',\n",
       " 'VNFPLAVMASNFSLFCACCCLQNKLDHRWNCYRNGLSCRLDVAQLLHCFFQTVCAYAFHVVIQSRN',\n",
       " 'HSSQRATPWHYSDQTASRK',\n",
       " 'TRNRSCDPSWTSSYCWTPSRTL',\n",
       " 'HQGPA',\n",
       " 'RNHCCYITNAFLLQIGSFAACSR',\n",
       " 'LRFCCIQSLQDWQL',\n",
       " 'IKHRPFQ',\n",
       " 'Q',\n",
       " 'QYCFACTVSDNRCFISLTFRLL',\n",
       " 'QRYY',\n",
       " 'LL',\n",
       " 'GLLKFPFGILITS',\n",
       " 'TS',\n",
       " 'LKIYLSH',\n",
       " 'LRINILN',\n",
       " 'MKSNQWRLIKRT',\n",
       " 'KLFFSWH',\n",
       " '',\n",
       " 'HSLLVSFITTKSVLEVQQYF',\n",
       " 'KNLALLEHTRAIHHFIL',\n",
       " 'LITNLH',\n",
       " 'LALALNLLLLVLTA',\n",
       " 'NTSISYVPDQFHLNCSSDKRKFKNFTLQFFLLLRQ',\n",
       " 'CL',\n",
       " 'HFASHSKERQND',\n",
       " 'TFIN',\n",
       " 'LLFVLFSLSAIPCFNYAYYLLVLT',\n",
       " 'TARS',\n",
       " '',\n",
       " 'NLSRLNEHEISCFLRNHHNCSCISPRM',\n",
       " 'FTVMYSTSTICS',\n",
       " '',\n",
       " 'PVSYSLLF',\n",
       " 'MVY',\n",
       " 'SRS',\n",
       " 'KISTFN',\n",
       " 'IVRG',\n",
       " 'GWF',\n",
       " 'ITHSVHRYR',\n",
       " 'LYSFLFTFYN',\n",
       " 'LPGT',\n",
       " 'IG',\n",
       " 'SCSALFVL',\n",
       " 'RLFRVS',\n",
       " 'RSCCFRFHLNEQTKMSDNGPQNQRNAPRITFGGPSDSTGSNQNGERSGARSKQRRPQGLPNNTASWFTALTQHGKEDLKFPRGQGVPINTNSSPDDQIGYYRRATRRIRGGDGKMKDLSPRWYFYYLGTGPEAGLPYGANKDGIIWVATEGALNTPKDHIGTRNPANNAAIVLQLPQGTTLPKGFYAEGSRGGSQASSRSSSRSRNSSRNSTPGSSKRTSPARMAGNGGDAALALLLLDRLNQLESKMSGKGQQQQGQTVTKKSAAEASKKPRQKRTATKAYNVTQAFGRRGPEQTQGNFGDQELIRQGTDYKHWPQIAQFAPSASAFFGMSRIGMEVTPSGTWLTYTGAIKLDDKDPNFKDQVILLNKHIDAYKTFPPTEPKKDKKKKADETQALPQRQKKQQTVTLLPAADLDDFSKQLQQSMSSADSTQA',\n",
       " 'THADHTRQMGYINVFAFPFTIYSLLLCRMNSRNYIAQVDVVNFNLT',\n",
       " 'QSLISV',\n",
       " 'H',\n",
       " 'GGLERATTFSPRPRGVRSSVQ',\n",
       " 'TMLGRAAYMEE']"
      ]
     },
     "execution_count": 35,
     "metadata": {},
     "output_type": "execute_result"
    }
   ],
   "source": [
    "Nig_aa= Nig_protein.split('*')\n",
    "Nig_clean= [str(i) for i in Nig_aa]\n",
    "Nig_clean"
   ]
  },
  {
   "cell_type": "code",
   "execution_count": 36,
   "metadata": {},
   "outputs": [
    {
     "data": {
      "text/html": [
       "<div>\n",
       "<style scoped>\n",
       "    .dataframe tbody tr th:only-of-type {\n",
       "        vertical-align: middle;\n",
       "    }\n",
       "\n",
       "    .dataframe tbody tr th {\n",
       "        vertical-align: top;\n",
       "    }\n",
       "\n",
       "    .dataframe thead th {\n",
       "        text-align: right;\n",
       "    }\n",
       "</style>\n",
       "<table border=\"1\" class=\"dataframe\">\n",
       "  <thead>\n",
       "    <tr style=\"text-align: right;\">\n",
       "      <th></th>\n",
       "      <th>amino_acids</th>\n",
       "      <th>count</th>\n",
       "    </tr>\n",
       "  </thead>\n",
       "  <tbody>\n",
       "    <tr>\n",
       "      <th>0</th>\n",
       "      <td>FRSLVDLFSKRTLKSVWLSLGCMLSALTQYN</td>\n",
       "      <td>31</td>\n",
       "    </tr>\n",
       "    <tr>\n",
       "      <th>1</th>\n",
       "      <td></td>\n",
       "      <td>0</td>\n",
       "    </tr>\n",
       "    <tr>\n",
       "      <th>2</th>\n",
       "      <td>LITVVDRTRVTRLSSAGCLRFRPCCSRSSAHLGFVRV</td>\n",
       "      <td>37</td>\n",
       "    </tr>\n",
       "    <tr>\n",
       "      <th>3</th>\n",
       "      <td>PKGKMESLVPGFNEKTHVQLSLPVLQVRDVLVRGFGDSVEEVLSEA...</td>\n",
       "      <td>4409</td>\n",
       "    </tr>\n",
       "    <tr>\n",
       "      <th>4</th>\n",
       "      <td>VQPVLHRAAQALVLMSYTGLLTSTMIK</td>\n",
       "      <td>27</td>\n",
       "    </tr>\n",
       "  </tbody>\n",
       "</table>\n",
       "</div>"
      ],
      "text/plain": [
       "                                         amino_acids  count\n",
       "0                    FRSLVDLFSKRTLKSVWLSLGCMLSALTQYN     31\n",
       "1                                                         0\n",
       "2              LITVVDRTRVTRLSSAGCLRFRPCCSRSSAHLGFVRV     37\n",
       "3  PKGKMESLVPGFNEKTHVQLSLPVLQVRDVLVRGFGDSVEEVLSEA...   4409\n",
       "4                        VQPVLHRAAQALVLMSYTGLLTSTMIK     27"
      ]
     },
     "execution_count": 36,
     "metadata": {},
     "output_type": "execute_result"
    }
   ],
   "source": [
    "Nig= pd.DataFrame({'amino_acids':Nig_clean})\n",
    "Nig['count']= Nig['amino_acids'].str.len()\n",
    "Nig.head()"
   ]
  },
  {
   "cell_type": "code",
   "execution_count": 37,
   "metadata": {},
   "outputs": [
    {
     "data": {
      "text/html": [
       "<div>\n",
       "<style scoped>\n",
       "    .dataframe tbody tr th:only-of-type {\n",
       "        vertical-align: middle;\n",
       "    }\n",
       "\n",
       "    .dataframe tbody tr th {\n",
       "        vertical-align: top;\n",
       "    }\n",
       "\n",
       "    .dataframe thead th {\n",
       "        text-align: right;\n",
       "    }\n",
       "</style>\n",
       "<table border=\"1\" class=\"dataframe\">\n",
       "  <thead>\n",
       "    <tr style=\"text-align: right;\">\n",
       "      <th></th>\n",
       "      <th>amino_acids</th>\n",
       "      <th>count</th>\n",
       "    </tr>\n",
       "  </thead>\n",
       "  <tbody>\n",
       "    <tr>\n",
       "      <th>3</th>\n",
       "      <td>PKGKMESLVPGFNEKTHVQLSLPVLQVRDVLVRGFGDSVEEVLSEA...</td>\n",
       "      <td>4409</td>\n",
       "    </tr>\n",
       "    <tr>\n",
       "      <th>174</th>\n",
       "      <td>LEKTTELLFLVMFLLTTKRTMFVFLVLLPLVSSQCVNLTTRTQLPP...</td>\n",
       "      <td>1293</td>\n",
       "    </tr>\n",
       "    <tr>\n",
       "      <th>247</th>\n",
       "      <td>RSCCFRFHLNEQTKMSDNGPQNQRNAPRITFGGPSDSTGSNQNGER...</td>\n",
       "      <td>433</td>\n",
       "    </tr>\n",
       "    <tr>\n",
       "      <th>47</th>\n",
       "      <td>VKWSCVAVHYMLNQVEPHQEMPQLLMLIVFLTFVKLSRPMLMHFYL...</td>\n",
       "      <td>78</td>\n",
       "    </tr>\n",
       "    <tr>\n",
       "      <th>203</th>\n",
       "      <td>VNFPLAVMASNFSLFCACCCLQNKLDHRWNCYRNGLSCRLDVAQLL...</td>\n",
       "      <td>66</td>\n",
       "    </tr>\n",
       "    <tr>\n",
       "      <th>68</th>\n",
       "      <td>LTPVLKDSSFLQQKRSKLLRRHLNCLMVLLLYVKCCLTENYIFHGK...</td>\n",
       "      <td>64</td>\n",
       "    </tr>\n",
       "    <tr>\n",
       "      <th>120</th>\n",
       "      <td>KNYSILMPHILTNSQMVYAYFGIAMSIDILLIPLFVDLTLECYLTL...</td>\n",
       "      <td>57</td>\n",
       "    </tr>\n",
       "    <tr>\n",
       "      <th>75</th>\n",
       "      <td>CHKSTMLELLAYTQHSISQMSFLAMLQIIKRLVCKSILHSRDHLVL...</td>\n",
       "      <td>54</td>\n",
       "    </tr>\n",
       "    <tr>\n",
       "      <th>67</th>\n",
       "      <td>AIIVNHINHPLVFHCVLMDKFLVYIKIHVLVAIMLLTLMQLQHVIG...</td>\n",
       "      <td>53</td>\n",
       "    </tr>\n",
       "    <tr>\n",
       "      <th>163</th>\n",
       "      <td>LVIVQLYIQLINGISLLVICTTLRLKMLQKKMTLKRVFSLTFVGLYNKS</td>\n",
       "      <td>49</td>\n",
       "    </tr>\n",
       "  </tbody>\n",
       "</table>\n",
       "</div>"
      ],
      "text/plain": [
       "                                           amino_acids  count\n",
       "3    PKGKMESLVPGFNEKTHVQLSLPVLQVRDVLVRGFGDSVEEVLSEA...   4409\n",
       "174  LEKTTELLFLVMFLLTTKRTMFVFLVLLPLVSSQCVNLTTRTQLPP...   1293\n",
       "247  RSCCFRFHLNEQTKMSDNGPQNQRNAPRITFGGPSDSTGSNQNGER...    433\n",
       "47   VKWSCVAVHYMLNQVEPHQEMPQLLMLIVFLTFVKLSRPMLMHFYL...     78\n",
       "203  VNFPLAVMASNFSLFCACCCLQNKLDHRWNCYRNGLSCRLDVAQLL...     66\n",
       "68   LTPVLKDSSFLQQKRSKLLRRHLNCLMVLLLYVKCCLTENYIFHGK...     64\n",
       "120  KNYSILMPHILTNSQMVYAYFGIAMSIDILLIPLFVDLTLECYLTL...     57\n",
       "75   CHKSTMLELLAYTQHSISQMSFLAMLQIIKRLVCKSILHSRDHLVL...     54\n",
       "67   AIIVNHINHPLVFHCVLMDKFLVYIKIHVLVAIMLLTLMQLQHVIG...     53\n",
       "163  LVIVQLYIQLINGISLLVICTTLRLKMLQKKMTLKRVFSLTFVGLYNKS     49"
      ]
     },
     "execution_count": 37,
     "metadata": {},
     "output_type": "execute_result"
    }
   ],
   "source": [
    "Nig.nlargest(10, 'count')"
   ]
  },
  {
   "cell_type": "code",
   "execution_count": 38,
   "metadata": {},
   "outputs": [],
   "source": [
    "# Determine the most frequent amino acid in each viral protein\n",
    "from Bio.SeqUtils.ProtParam import ProteinAnalysis"
   ]
  },
  {
   "cell_type": "code",
   "execution_count": 39,
   "metadata": {},
   "outputs": [
    {
     "data": {
      "text/plain": [
       "{'A': 375,\n",
       " 'C': 635,\n",
       " 'D': 290,\n",
       " 'E': 270,\n",
       " 'F': 593,\n",
       " 'G': 394,\n",
       " 'H': 332,\n",
       " 'I': 436,\n",
       " 'K': 413,\n",
       " 'L': 886,\n",
       " 'M': 117,\n",
       " 'N': 472,\n",
       " 'P': 292,\n",
       " 'Q': 325,\n",
       " 'R': 558,\n",
       " 'S': 810,\n",
       " 'T': 679,\n",
       " 'V': 548,\n",
       " 'W': 263,\n",
       " 'Y': 505}"
      ]
     },
     "execution_count": 39,
     "metadata": {},
     "output_type": "execute_result"
    }
   ],
   "source": [
    "covid_count= ProteinAnalysis(str(covid_protein))\n",
    "covid_count.count_amino_acids()"
   ]
  },
  {
   "cell_type": "code",
   "execution_count": 40,
   "metadata": {},
   "outputs": [
    {
     "data": {
      "text/plain": [
       "['__class__',\n",
       " '__delattr__',\n",
       " '__dict__',\n",
       " '__dir__',\n",
       " '__doc__',\n",
       " '__eq__',\n",
       " '__format__',\n",
       " '__ge__',\n",
       " '__getattribute__',\n",
       " '__gt__',\n",
       " '__hash__',\n",
       " '__init__',\n",
       " '__init_subclass__',\n",
       " '__le__',\n",
       " '__lt__',\n",
       " '__module__',\n",
       " '__ne__',\n",
       " '__new__',\n",
       " '__reduce__',\n",
       " '__reduce_ex__',\n",
       " '__repr__',\n",
       " '__setattr__',\n",
       " '__sizeof__',\n",
       " '__str__',\n",
       " '__subclasshook__',\n",
       " '__weakref__',\n",
       " '_weight_list',\n",
       " 'aromaticity',\n",
       " 'charge_at_pH',\n",
       " 'count_amino_acids',\n",
       " 'flexibility',\n",
       " 'get_amino_acids_percent',\n",
       " 'gravy',\n",
       " 'instability_index',\n",
       " 'isoelectric_point',\n",
       " 'molar_extinction_coefficient',\n",
       " 'molecular_weight',\n",
       " 'protein_scale',\n",
       " 'secondary_structure_fraction']"
      ]
     },
     "execution_count": 40,
     "metadata": {},
     "output_type": "execute_result"
    }
   ],
   "source": [
    "dir(ProteinAnalysis)"
   ]
  },
  {
   "cell_type": "code",
   "execution_count": 41,
   "metadata": {},
   "outputs": [],
   "source": [
    "# Method 2 is the use of COUNT\n",
    "from collections import Counter"
   ]
  },
  {
   "cell_type": "code",
   "execution_count": 42,
   "metadata": {},
   "outputs": [
    {
     "data": {
      "text/plain": [
       "[('L', 886),\n",
       " ('S', 810),\n",
       " ('*', 774),\n",
       " ('T', 679),\n",
       " ('C', 635),\n",
       " ('F', 593),\n",
       " ('R', 558),\n",
       " ('V', 548),\n",
       " ('Y', 505),\n",
       " ('N', 472)]"
      ]
     },
     "execution_count": 42,
     "metadata": {},
     "output_type": "execute_result"
    }
   ],
   "source": [
    "Counter(covid_protein).most_common(10)"
   ]
  },
  {
   "cell_type": "code",
   "execution_count": 43,
   "metadata": {},
   "outputs": [
    {
     "data": {
      "text/plain": [
       "[('L', 1241),\n",
       " ('V', 763),\n",
       " ('T', 719),\n",
       " ('S', 705),\n",
       " ('I', 566),\n",
       " ('K', 547),\n",
       " ('A', 533),\n",
       " ('N', 502),\n",
       " ('F', 469),\n",
       " ('G', 466)]"
      ]
     },
     "execution_count": 43,
     "metadata": {},
     "output_type": "execute_result"
    }
   ],
   "source": [
    "Counter(Nig_protein).most_common(10)"
   ]
  },
  {
   "cell_type": "code",
   "execution_count": 44,
   "metadata": {},
   "outputs": [
    {
     "data": {
      "text/plain": [
       "[('L', 1368),\n",
       " ('S', 737),\n",
       " ('T', 689),\n",
       " ('V', 683),\n",
       " ('A', 575),\n",
       " ('I', 566),\n",
       " ('K', 503),\n",
       " ('G', 438),\n",
       " ('F', 437),\n",
       " ('N', 418)]"
      ]
     },
     "execution_count": 44,
     "metadata": {},
     "output_type": "execute_result"
    }
   ],
   "source": [
    "Counter(SARS_protein).most_common(10)"
   ]
  },
  {
   "cell_type": "code",
   "execution_count": 45,
   "metadata": {},
   "outputs": [
    {
     "data": {
      "text/plain": [
       "[('L', 1118),\n",
       " ('S', 836),\n",
       " ('*', 721),\n",
       " ('V', 638),\n",
       " ('C', 609),\n",
       " ('R', 568),\n",
       " ('T', 549),\n",
       " ('F', 523),\n",
       " ('Y', 507),\n",
       " ('A', 468)]"
      ]
     },
     "execution_count": 45,
     "metadata": {},
     "output_type": "execute_result"
    }
   ],
   "source": [
    "Counter(MERS_protein).most_common(10)"
   ]
  },
  {
   "cell_type": "code",
   "execution_count": 46,
   "metadata": {},
   "outputs": [
    {
     "data": {
      "text/plain": [
       "[('L', 562),\n",
       " ('S', 555),\n",
       " ('I', 456),\n",
       " ('T', 449),\n",
       " ('R', 411),\n",
       " ('*', 377),\n",
       " ('K', 348),\n",
       " ('P', 331),\n",
       " ('N', 312),\n",
       " ('Q', 282)]"
      ]
     },
     "execution_count": 46,
     "metadata": {},
     "output_type": "execute_result"
    }
   ],
   "source": [
    "Counter(ebola_protein).most_common(10)"
   ]
  },
  {
   "cell_type": "code",
   "execution_count": 47,
   "metadata": {},
   "outputs": [],
   "source": [
    "covid_freq= Counter(covid_protein)\n",
    "Nig_freq= Counter(Nig_protein)\n",
    "SARS_freq= Counter(SARS_protein)\n",
    "MERS_freq= Counter(MERS_protein)\n",
    "ebola_freq= Counter(ebola_protein)"
   ]
  },
  {
   "cell_type": "markdown",
   "metadata": {},
   "source": [
    "CREATE A BARPLOT TO COMPARE THE FREQUENCY OF EACH AMINO ACID"
   ]
  },
  {
   "cell_type": "code",
   "execution_count": 48,
   "metadata": {},
   "outputs": [
    {
     "data": {
      "image/png": "[encoded data removed]",
      "text/plain": [
       "<Figure size 432x288 with 1 Axes>"
      ]
     },
     "metadata": {
      "needs_background": "light"
     },
     "output_type": "display_data"
    }
   ],
   "source": [
    "import matplotlib.pyplot as plt\n",
    "plt.bar(covid_freq.keys(), covid_freq.values())\n",
    "plt.show()"
   ]
  },
  {
   "cell_type": "code",
   "execution_count": 49,
   "metadata": {},
   "outputs": [
    {
     "data": {
      "text/plain": [
       "<function matplotlib.pyplot.show(*args, **kw)>"
      ]
     },
     "execution_count": 49,
     "metadata": {},
     "output_type": "execute_result"
    },
    {
     "data": {
      "text/plain": [
       "<Figure size 432x288 with 0 Axes>"
      ]
     },
     "metadata": {},
     "output_type": "display_data"
    },
    {
     "data": {
      "image/png": "[encoded data removed]",
      "text/plain": [
       "<Figure size 1440x360 with 2 Axes>"
      ]
     },
     "metadata": {
      "needs_background": "light"
     },
     "output_type": "display_data"
    }
   ],
   "source": [
    "fig= plt.figure()\n",
    "fig, (ax1,ax2)= plt.subplots(1,2, figsize=(20,5))\n",
    "ax1.bar(covid_freq.keys(),covid_freq.values())\n",
    "ax1.set_title('WUHAN SARS-CoV-2')\n",
    "ax2.bar(Nig_freq.keys(), Nig_freq.values())\n",
    "ax2.set_title('NIGERA SARS-CoV-2')\n",
    "plt.suptitle('COMPARISM OF A.A CONTENT OF THE WUHAN AND NIG STRAINS OF SARS-CoV-2')\n",
    "plt.show"
   ]
  },
  {
   "cell_type": "code",
   "execution_count": 50,
   "metadata": {},
   "outputs": [],
   "source": [
    "fig.savefig('SARS-CoV-2')"
   ]
  },
  {
   "cell_type": "code",
   "execution_count": 51,
   "metadata": {},
   "outputs": [
    {
     "data": {
      "text/plain": [
       "22013"
      ]
     },
     "execution_count": 51,
     "metadata": {},
     "output_type": "execute_result"
    }
   ],
   "source": [
    "# Hamming Distance of Dissimilarity\n",
    "def hamming_distance(lhs,rhs):\n",
    "    return len([(x,y) for x,y in zip (lhs,rhs) if x!=y])\n",
    "hamming_distance(Nig_DNA, covid_dna)"
   ]
  },
  {
   "cell_type": "code",
   "execution_count": 57,
   "metadata": {},
   "outputs": [
    {
     "data": {
      "text/plain": [
       "1570641.6322000679"
      ]
     },
     "execution_count": 57,
     "metadata": {},
     "output_type": "execute_result"
    }
   ],
   "source": [
    "# DETERMINE THE MOLECULAR WEIGHT OF THE VIRAL PROTEINS\n",
    "ebola_weight= ProteinAnalysis(str(ebola_dna))\n",
    "ebola_weight.molecular_weight()"
   ]
  },
  {
   "cell_type": "code",
   "execution_count": 58,
   "metadata": {},
   "outputs": [
    {
     "data": {
      "text/plain": [
       "2492867.8620002586"
      ]
     },
     "execution_count": 58,
     "metadata": {},
     "output_type": "execute_result"
    }
   ],
   "source": [
    "SARS_weight= ProteinAnalysis(str(SARS_dna))\n",
    "SARS_weight.molecular_weight()"
   ]
  },
  {
   "cell_type": "code",
   "execution_count": 59,
   "metadata": {},
   "outputs": [
    {
     "data": {
      "text/plain": [
       "2507392.9272002894"
      ]
     },
     "execution_count": 59,
     "metadata": {},
     "output_type": "execute_result"
    }
   ],
   "source": [
    "covid_weight= ProteinAnalysis(str(covid_dna))\n",
    "covid_weight.molecular_weight()"
   ]
  },
  {
   "cell_type": "code",
   "execution_count": 60,
   "metadata": {},
   "outputs": [
    {
     "data": {
      "text/plain": [
       "2495734.808700287"
      ]
     },
     "execution_count": 60,
     "metadata": {},
     "output_type": "execute_result"
    }
   ],
   "source": [
    "Nig_weight= ProteinAnalysis(str(Nig_DNA))\n",
    "Nig_weight.molecular_weight()"
   ]
  },
  {
   "cell_type": "code",
   "execution_count": 61,
   "metadata": {},
   "outputs": [
    {
     "data": {
      "text/plain": [
       "2523262.4203002807"
      ]
     },
     "execution_count": 61,
     "metadata": {},
     "output_type": "execute_result"
    }
   ],
   "source": [
    "MERS_weight= ProteinAnalysis(str(MERS_dna))\n",
    "MERS_weight.molecular_weight()"
   ]
  },
  {
   "cell_type": "code",
   "execution_count": 63,
   "metadata": {},
   "outputs": [
    {
     "data": {
      "text/plain": [
       "{'A': 0.03762415972709943,\n",
       " 'C': 0.06371024380455503,\n",
       " 'D': 0.029096016855623557,\n",
       " 'E': 0.02708939500351159,\n",
       " 'F': 0.05949633791511989,\n",
       " 'G': 0.0395304504866058,\n",
       " 'H': 0.033309922745058694,\n",
       " 'I': 0.04374435637604093,\n",
       " 'K': 0.04143674124611217,\n",
       " 'L': 0.08889334804856025,\n",
       " 'M': 0.011738737834855021,\n",
       " 'N': 0.04735627570984248,\n",
       " 'P': 0.029296679040834755,\n",
       " 'Q': 0.0326076050968195,\n",
       " 'R': 0.05598474967392395,\n",
       " 'S': 0.08126818501053476,\n",
       " 'T': 0.06812481187920136,\n",
       " 'V': 0.05498143874786796,\n",
       " 'W': 0.0263870773552724,\n",
       " 'Y': 0.05066720176582723}"
      ]
     },
     "execution_count": 63,
     "metadata": {},
     "output_type": "execute_result"
    }
   ],
   "source": [
    "covid_amino= ProteinAnalysis(str(covid_protein))\n",
    "covid_amino.get_amino_acids_percent()"
   ]
  },
  {
   "cell_type": "code",
   "execution_count": 65,
   "metadata": {},
   "outputs": [
    {
     "data": {
      "text/plain": [
       "60.0"
      ]
     },
     "execution_count": 65,
     "metadata": {},
     "output_type": "execute_result"
    }
   ],
   "source": [
    "# PAIRWISE ALLIGNMENT OF NUCLEOTIDE SEQUENCES\n",
    "covid_n_NigCovid= pairwise2.align.globalxx(covid_dna[0:100],Nig_DNA[0:100], one_alignment_only=True, score_only=True)\n",
    "covid_n_NigCovid"
   ]
  },
  {
   "cell_type": "code",
   "execution_count": 66,
   "metadata": {},
   "outputs": [
    {
     "data": {
      "text/plain": [
       "89.0"
      ]
     },
     "execution_count": 66,
     "metadata": {},
     "output_type": "execute_result"
    }
   ],
   "source": [
    "covid_n_SARS= pairwise2.align.globalxx(covid_dna[0:100],SARS_dna[0:100], one_alignment_only=True, score_only=True)\n",
    "covid_n_SARS"
   ]
  },
  {
   "cell_type": "code",
   "execution_count": 67,
   "metadata": {},
   "outputs": [
    {
     "data": {
      "text/plain": [
       "62.0"
      ]
     },
     "execution_count": 67,
     "metadata": {},
     "output_type": "execute_result"
    }
   ],
   "source": [
    "covid_n_MERS= pairwise2.align.globalxx(covid_dna[0:100],MERS_dna[0:100], one_alignment_only=True, score_only=True)\n",
    "covid_n_MERS"
   ]
  },
  {
   "cell_type": "code",
   "execution_count": 68,
   "metadata": {},
   "outputs": [
    {
     "data": {
      "text/plain": [
       "64.0"
      ]
     },
     "execution_count": 68,
     "metadata": {},
     "output_type": "execute_result"
    }
   ],
   "source": [
    "covid_n_ebola= pairwise2.align.globalxx(covid_dna[0:100],ebola_dna[0:100], one_alignment_only=True, score_only=True)\n",
    "covid_n_ebola"
   ]
  },
  {
   "cell_type": "markdown",
   "metadata": {},
   "source": [
    "# COMPARE THE 3D STRUCTURES OF EACH VIRUS"
   ]
  },
  {
   "cell_type": "code",
   "execution_count": 70,
   "metadata": {},
   "outputs": [
    {
     "name": "stderr",
     "output_type": "stream",
     "text": [
      "C:\\Users\\HP\\anaconda3\\lib\\site-packages\\Bio\\PDB\\StructureBuilder.py:92: PDBConstructionWarning: WARNING: Chain A is discontinuous at line 23721.\n",
      "  PDBConstructionWarning,\n",
      "C:\\Users\\HP\\anaconda3\\lib\\site-packages\\Bio\\PDB\\StructureBuilder.py:92: PDBConstructionWarning: WARNING: Chain B is discontinuous at line 23723.\n",
      "  PDBConstructionWarning,\n",
      "C:\\Users\\HP\\anaconda3\\lib\\site-packages\\Bio\\PDB\\StructureBuilder.py:92: PDBConstructionWarning: WARNING: Chain C is discontinuous at line 23725.\n",
      "  PDBConstructionWarning,\n",
      "C:\\Users\\HP\\anaconda3\\lib\\site-packages\\Bio\\PDB\\StructureBuilder.py:92: PDBConstructionWarning: WARNING: Chain D is discontinuous at line 23727.\n",
      "  PDBConstructionWarning,\n",
      "C:\\Users\\HP\\anaconda3\\lib\\site-packages\\Bio\\PDB\\StructureBuilder.py:92: PDBConstructionWarning: WARNING: Chain E is discontinuous at line 23729.\n",
      "  PDBConstructionWarning,\n",
      "C:\\Users\\HP\\anaconda3\\lib\\site-packages\\Bio\\PDB\\StructureBuilder.py:92: PDBConstructionWarning: WARNING: Chain F is discontinuous at line 23731.\n",
      "  PDBConstructionWarning,\n",
      "C:\\Users\\HP\\anaconda3\\lib\\site-packages\\Bio\\PDB\\StructureBuilder.py:92: PDBConstructionWarning: WARNING: Chain G is discontinuous at line 23733.\n",
      "  PDBConstructionWarning,\n",
      "C:\\Users\\HP\\anaconda3\\lib\\site-packages\\Bio\\PDB\\StructureBuilder.py:92: PDBConstructionWarning: WARNING: Chain H is discontinuous at line 23735.\n",
      "  PDBConstructionWarning,\n",
      "C:\\Users\\HP\\anaconda3\\lib\\site-packages\\Bio\\PDB\\StructureBuilder.py:92: PDBConstructionWarning: WARNING: Chain I is discontinuous at line 23737.\n",
      "  PDBConstructionWarning,\n",
      "C:\\Users\\HP\\anaconda3\\lib\\site-packages\\Bio\\PDB\\StructureBuilder.py:92: PDBConstructionWarning: WARNING: Chain J is discontinuous at line 23739.\n",
      "  PDBConstructionWarning,\n",
      "C:\\Users\\HP\\anaconda3\\lib\\site-packages\\Bio\\PDB\\StructureBuilder.py:92: PDBConstructionWarning: WARNING: Chain K is discontinuous at line 23741.\n",
      "  PDBConstructionWarning,\n",
      "C:\\Users\\HP\\anaconda3\\lib\\site-packages\\Bio\\PDB\\StructureBuilder.py:92: PDBConstructionWarning: WARNING: Chain L is discontinuous at line 23743.\n",
      "  PDBConstructionWarning,\n",
      "C:\\Users\\HP\\anaconda3\\lib\\site-packages\\Bio\\PDB\\StructureBuilder.py:92: PDBConstructionWarning: WARNING: Chain M is discontinuous at line 23745.\n",
      "  PDBConstructionWarning,\n",
      "C:\\Users\\HP\\anaconda3\\lib\\site-packages\\Bio\\PDB\\StructureBuilder.py:92: PDBConstructionWarning: WARNING: Chain N is discontinuous at line 23747.\n",
      "  PDBConstructionWarning,\n",
      "C:\\Users\\HP\\anaconda3\\lib\\site-packages\\Bio\\PDB\\StructureBuilder.py:92: PDBConstructionWarning: WARNING: Chain O is discontinuous at line 23749.\n",
      "  PDBConstructionWarning,\n",
      "C:\\Users\\HP\\anaconda3\\lib\\site-packages\\Bio\\PDB\\StructureBuilder.py:92: PDBConstructionWarning: WARNING: Chain P is discontinuous at line 23751.\n",
      "  PDBConstructionWarning,\n",
      "C:\\Users\\HP\\anaconda3\\lib\\site-packages\\Bio\\PDB\\StructureBuilder.py:92: PDBConstructionWarning: WARNING: Chain Q is discontinuous at line 23753.\n",
      "  PDBConstructionWarning,\n",
      "C:\\Users\\HP\\anaconda3\\lib\\site-packages\\Bio\\PDB\\StructureBuilder.py:92: PDBConstructionWarning: WARNING: Chain R is discontinuous at line 23755.\n",
      "  PDBConstructionWarning,\n",
      "C:\\Users\\HP\\anaconda3\\lib\\site-packages\\Bio\\PDB\\StructureBuilder.py:92: PDBConstructionWarning: WARNING: Chain S is discontinuous at line 23757.\n",
      "  PDBConstructionWarning,\n",
      "C:\\Users\\HP\\anaconda3\\lib\\site-packages\\Bio\\PDB\\StructureBuilder.py:92: PDBConstructionWarning: WARNING: Chain T is discontinuous at line 23759.\n",
      "  PDBConstructionWarning,\n",
      "C:\\Users\\HP\\anaconda3\\lib\\site-packages\\Bio\\PDB\\StructureBuilder.py:92: PDBConstructionWarning: WARNING: Chain U is discontinuous at line 23761.\n",
      "  PDBConstructionWarning,\n",
      "C:\\Users\\HP\\anaconda3\\lib\\site-packages\\Bio\\PDB\\StructureBuilder.py:92: PDBConstructionWarning: WARNING: Chain V is discontinuous at line 23763.\n",
      "  PDBConstructionWarning,\n",
      "C:\\Users\\HP\\anaconda3\\lib\\site-packages\\Bio\\PDB\\StructureBuilder.py:92: PDBConstructionWarning: WARNING: Chain W is discontinuous at line 23765.\n",
      "  PDBConstructionWarning,\n",
      "C:\\Users\\HP\\anaconda3\\lib\\site-packages\\Bio\\PDB\\StructureBuilder.py:92: PDBConstructionWarning: WARNING: Chain X is discontinuous at line 23767.\n",
      "  PDBConstructionWarning,\n",
      "C:\\Users\\HP\\anaconda3\\lib\\site-packages\\Bio\\PDB\\StructureBuilder.py:92: PDBConstructionWarning: WARNING: Chain A is discontinuous at line 23769.\n",
      "  PDBConstructionWarning,\n",
      "C:\\Users\\HP\\anaconda3\\lib\\site-packages\\Bio\\PDB\\StructureBuilder.py:92: PDBConstructionWarning: WARNING: Chain B is discontinuous at line 23838.\n",
      "  PDBConstructionWarning,\n",
      "C:\\Users\\HP\\anaconda3\\lib\\site-packages\\Bio\\PDB\\StructureBuilder.py:92: PDBConstructionWarning: WARNING: Chain C is discontinuous at line 23897.\n",
      "  PDBConstructionWarning,\n",
      "C:\\Users\\HP\\anaconda3\\lib\\site-packages\\Bio\\PDB\\StructureBuilder.py:92: PDBConstructionWarning: WARNING: Chain D is discontinuous at line 23963.\n",
      "  PDBConstructionWarning,\n",
      "C:\\Users\\HP\\anaconda3\\lib\\site-packages\\Bio\\PDB\\StructureBuilder.py:92: PDBConstructionWarning: WARNING: Chain E is discontinuous at line 24026.\n",
      "  PDBConstructionWarning,\n",
      "C:\\Users\\HP\\anaconda3\\lib\\site-packages\\Bio\\PDB\\StructureBuilder.py:92: PDBConstructionWarning: WARNING: Chain F is discontinuous at line 24089.\n",
      "  PDBConstructionWarning,\n",
      "C:\\Users\\HP\\anaconda3\\lib\\site-packages\\Bio\\PDB\\StructureBuilder.py:92: PDBConstructionWarning: WARNING: Chain G is discontinuous at line 24147.\n",
      "  PDBConstructionWarning,\n",
      "C:\\Users\\HP\\anaconda3\\lib\\site-packages\\Bio\\PDB\\StructureBuilder.py:92: PDBConstructionWarning: WARNING: Chain H is discontinuous at line 24212.\n",
      "  PDBConstructionWarning,\n",
      "C:\\Users\\HP\\anaconda3\\lib\\site-packages\\Bio\\PDB\\StructureBuilder.py:92: PDBConstructionWarning: WARNING: Chain I is discontinuous at line 24271.\n",
      "  PDBConstructionWarning,\n",
      "C:\\Users\\HP\\anaconda3\\lib\\site-packages\\Bio\\PDB\\StructureBuilder.py:92: PDBConstructionWarning: WARNING: Chain J is discontinuous at line 24326.\n",
      "  PDBConstructionWarning,\n",
      "C:\\Users\\HP\\anaconda3\\lib\\site-packages\\Bio\\PDB\\StructureBuilder.py:92: PDBConstructionWarning: WARNING: Chain K is discontinuous at line 24399.\n",
      "  PDBConstructionWarning,\n",
      "C:\\Users\\HP\\anaconda3\\lib\\site-packages\\Bio\\PDB\\StructureBuilder.py:92: PDBConstructionWarning: WARNING: Chain L is discontinuous at line 24470.\n",
      "  PDBConstructionWarning,\n",
      "C:\\Users\\HP\\anaconda3\\lib\\site-packages\\Bio\\PDB\\StructureBuilder.py:92: PDBConstructionWarning: WARNING: Chain M is discontinuous at line 24541.\n",
      "  PDBConstructionWarning,\n",
      "C:\\Users\\HP\\anaconda3\\lib\\site-packages\\Bio\\PDB\\StructureBuilder.py:92: PDBConstructionWarning: WARNING: Chain N is discontinuous at line 24615.\n",
      "  PDBConstructionWarning,\n",
      "C:\\Users\\HP\\anaconda3\\lib\\site-packages\\Bio\\PDB\\StructureBuilder.py:92: PDBConstructionWarning: WARNING: Chain O is discontinuous at line 24666.\n",
      "  PDBConstructionWarning,\n",
      "C:\\Users\\HP\\anaconda3\\lib\\site-packages\\Bio\\PDB\\StructureBuilder.py:92: PDBConstructionWarning: WARNING: Chain P is discontinuous at line 24711.\n",
      "  PDBConstructionWarning,\n",
      "C:\\Users\\HP\\anaconda3\\lib\\site-packages\\Bio\\PDB\\StructureBuilder.py:92: PDBConstructionWarning: WARNING: Chain Q is discontinuous at line 24769.\n",
      "  PDBConstructionWarning,\n",
      "C:\\Users\\HP\\anaconda3\\lib\\site-packages\\Bio\\PDB\\StructureBuilder.py:92: PDBConstructionWarning: WARNING: Chain R is discontinuous at line 24850.\n",
      "  PDBConstructionWarning,\n",
      "C:\\Users\\HP\\anaconda3\\lib\\site-packages\\Bio\\PDB\\StructureBuilder.py:92: PDBConstructionWarning: WARNING: Chain S is discontinuous at line 24911.\n",
      "  PDBConstructionWarning,\n",
      "C:\\Users\\HP\\anaconda3\\lib\\site-packages\\Bio\\PDB\\StructureBuilder.py:92: PDBConstructionWarning: WARNING: Chain T is discontinuous at line 24978.\n",
      "  PDBConstructionWarning,\n",
      "C:\\Users\\HP\\anaconda3\\lib\\site-packages\\Bio\\PDB\\StructureBuilder.py:92: PDBConstructionWarning: WARNING: Chain U is discontinuous at line 25040.\n",
      "  PDBConstructionWarning,\n",
      "C:\\Users\\HP\\anaconda3\\lib\\site-packages\\Bio\\PDB\\StructureBuilder.py:92: PDBConstructionWarning: WARNING: Chain V is discontinuous at line 25117.\n",
      "  PDBConstructionWarning,\n",
      "C:\\Users\\HP\\anaconda3\\lib\\site-packages\\Bio\\PDB\\StructureBuilder.py:92: PDBConstructionWarning: WARNING: Chain W is discontinuous at line 25166.\n",
      "  PDBConstructionWarning,\n",
      "C:\\Users\\HP\\anaconda3\\lib\\site-packages\\Bio\\PDB\\StructureBuilder.py:92: PDBConstructionWarning: WARNING: Chain X is discontinuous at line 25211.\n",
      "  PDBConstructionWarning,\n"
     ]
    }
   ],
   "source": [
    "from Bio.PDB import PDBParser\n",
    "parser= PDBParser()\n",
    "sars_structure= parser.get_structure('SARS-CoV-2','2g9t.pdb')"
   ]
  },
  {
   "cell_type": "code",
   "execution_count": 72,
   "metadata": {},
   "outputs": [
    {
     "data": {
      "application/vnd.jupyter.widget-view+json": {
       "model_id": "46c5956a5ec644228a499204c9e1ce4f",
       "version_major": 2,
       "version_minor": 0
      },
      "text/plain": [
       "NGLWidget()"
      ]
     },
     "metadata": {},
     "output_type": "display_data"
    }
   ],
   "source": [
    "import nglview as nv\n",
    "view= nv.show_biopython(sars_structure)\n",
    "view"
   ]
  },
  {
   "cell_type": "code",
   "execution_count": 74,
   "metadata": {},
   "outputs": [
    {
     "data": {
      "application/3dmoljs_load.v0": "<div id=\"3dmolviewer_1592146681198457\"  style=\"position: relative; width: 640px; height: 480px\">\n        <p id=\"3dmolwarning_1592146681198457\" style=\"background-color:#ffcccc;color:black\">You appear to be running in JupyterLab (or JavaScript failed to load for some other reason).  You need to install the 3dmol extension: <br>\n        <tt>jupyter labextension install jupyterlab_3dmol</tt></p>\n        </div>\n<script>\n\nvar loadScriptAsync = function(uri){\n  return new Promise((resolve, reject) => {\n    var tag = document.createElement('script');\n    tag.src = uri;\n    tag.async = true;\n    tag.onload = () => {\n      resolve();\n    };\n  var firstScriptTag = document.getElementsByTagName('script')[0];\n  firstScriptTag.parentNode.insertBefore(tag, firstScriptTag);\n});\n};\n\nif(typeof $3Dmolpromise === 'undefined') {\n$3Dmolpromise = null;\n  $3Dmolpromise = loadScriptAsync('https://3dmol.csb.pitt.edu/build/3Dmol.js');\n}\n\nvar viewer_1592146681198457 = null;\nvar warn = document.getElementById(\"3dmolwarning_1592146681198457\");\nif(warn) {\n    warn.parentNode.removeChild(warn);\n}\n$3Dmolpromise.then(function() {\nviewer_1592146681198457 = $3Dmol.createViewer($(\"#3dmolviewer_1592146681198457\"),{backgroundColor:\"white\"});\n$3Dmol.download(\"pdb:2g9t\", viewer_1592146681198457, {}, function() {\n\tviewer_1592146681198457.setStyle({\"cartoon\": {\"color\": \"spectrum\"}});\nviewer_1592146681198457.render();\n})\n});\n</script>",
      "text/html": [
       "<div id=\"3dmolviewer_1592146681198457\"  style=\"position: relative; width: 640px; height: 480px\">\n",
       "        <p id=\"3dmolwarning_1592146681198457\" style=\"background-color:#ffcccc;color:black\">You appear to be running in JupyterLab (or JavaScript failed to load for some other reason).  You need to install the 3dmol extension: <br>\n",
       "        <tt>jupyter labextension install jupyterlab_3dmol</tt></p>\n",
       "        </div>\n",
       "<script>\n",
       "\n",
       "var loadScriptAsync = function(uri){\n",
       "  return new Promise((resolve, reject) => {\n",
       "    var tag = document.createElement('script');\n",
       "    tag.src = uri;\n",
       "    tag.async = true;\n",
       "    tag.onload = () => {\n",
       "      resolve();\n",
       "    };\n",
       "  var firstScriptTag = document.getElementsByTagName('script')[0];\n",
       "  firstScriptTag.parentNode.insertBefore(tag, firstScriptTag);\n",
       "});\n",
       "};\n",
       "\n",
       "if(typeof $3Dmolpromise === 'undefined') {\n",
       "$3Dmolpromise = null;\n",
       "  $3Dmolpromise = loadScriptAsync('https://3dmol.csb.pitt.edu/build/3Dmol.js');\n",
       "}\n",
       "\n",
       "var viewer_1592146681198457 = null;\n",
       "var warn = document.getElementById(\"3dmolwarning_1592146681198457\");\n",
       "if(warn) {\n",
       "    warn.parentNode.removeChild(warn);\n",
       "}\n",
       "$3Dmolpromise.then(function() {\n",
       "viewer_1592146681198457 = $3Dmol.createViewer($(\"#3dmolviewer_1592146681198457\"),{backgroundColor:\"white\"});\n",
       "$3Dmol.download(\"pdb:2g9t\", viewer_1592146681198457, {}, function() {\n",
       "\tviewer_1592146681198457.setStyle({\"cartoon\": {\"color\": \"spectrum\"}});\n",
       "viewer_1592146681198457.render();\n",
       "})\n",
       "});\n",
       "</script>"
      ]
     },
     "metadata": {},
     "output_type": "display_data"
    },
    {
     "data": {
      "text/plain": [
       "<py3Dmol.view at 0x262621c5088>"
      ]
     },
     "execution_count": 74,
     "metadata": {},
     "output_type": "execute_result"
    }
   ],
   "source": [
    "import py3Dmol\n",
    "sars_view= py3Dmol.view(query='pdb:2g9t')\n",
    "sars_view.setStyle({'cartoon':{'color':'spectrum'}})"
   ]
  },
  {
   "cell_type": "code",
   "execution_count": 80,
   "metadata": {},
   "outputs": [
    {
     "name": "stderr",
     "output_type": "stream",
     "text": [
      "C:\\Users\\HP\\anaconda3\\lib\\site-packages\\Bio\\PDB\\StructureBuilder.py:92: PDBConstructionWarning: WARNING: Chain A is discontinuous at line 40236.\n",
      "  PDBConstructionWarning,\n",
      "C:\\Users\\HP\\anaconda3\\lib\\site-packages\\Bio\\PDB\\StructureBuilder.py:92: PDBConstructionWarning: WARNING: Chain D is discontinuous at line 40362.\n",
      "  PDBConstructionWarning,\n",
      "C:\\Users\\HP\\anaconda3\\lib\\site-packages\\Bio\\PDB\\StructureBuilder.py:92: PDBConstructionWarning: WARNING: Chain G is discontinuous at line 40488.\n",
      "  PDBConstructionWarning,\n",
      "C:\\Users\\HP\\anaconda3\\lib\\site-packages\\Bio\\PDB\\StructureBuilder.py:92: PDBConstructionWarning: WARNING: Chain p is discontinuous at line 40614.\n",
      "  PDBConstructionWarning,\n",
      "C:\\Users\\HP\\anaconda3\\lib\\site-packages\\Bio\\PDB\\StructureBuilder.py:92: PDBConstructionWarning: WARNING: Chain q is discontinuous at line 40782.\n",
      "  PDBConstructionWarning,\n",
      "C:\\Users\\HP\\anaconda3\\lib\\site-packages\\Bio\\PDB\\StructureBuilder.py:92: PDBConstructionWarning: WARNING: Chain r is discontinuous at line 40950.\n",
      "  PDBConstructionWarning,\n"
     ]
    },
    {
     "data": {
      "text/plain": [
       "<Structure id=MERS>"
      ]
     },
     "execution_count": 80,
     "metadata": {},
     "output_type": "execute_result"
    }
   ],
   "source": [
    "MERS_structure= parser.get_structure('MERS','5w9h.pdb')\n",
    "MERS_structure"
   ]
  },
  {
   "cell_type": "code",
   "execution_count": 82,
   "metadata": {},
   "outputs": [
    {
     "data": {
      "application/vnd.jupyter.widget-view+json": {
       "model_id": "b2b12d180b9b468ca5dbcfef34896a97",
       "version_major": 2,
       "version_minor": 0
      },
      "text/plain": [
       "NGLWidget()"
      ]
     },
     "metadata": {},
     "output_type": "display_data"
    }
   ],
   "source": [
    "MERS_view= nv.show_biopython(MERS_structure)\n",
    "MERS_view"
   ]
  },
  {
   "cell_type": "code",
   "execution_count": 83,
   "metadata": {},
   "outputs": [
    {
     "data": {
      "application/3dmoljs_load.v0": "<div id=\"3dmolviewer_159215198863861\"  style=\"position: relative; width: 640px; height: 480px\">\n        <p id=\"3dmolwarning_159215198863861\" style=\"background-color:#ffcccc;color:black\">You appear to be running in JupyterLab (or JavaScript failed to load for some other reason).  You need to install the 3dmol extension: <br>\n        <tt>jupyter labextension install jupyterlab_3dmol</tt></p>\n        </div>\n<script>\n\nvar loadScriptAsync = function(uri){\n  return new Promise((resolve, reject) => {\n    var tag = document.createElement('script');\n    tag.src = uri;\n    tag.async = true;\n    tag.onload = () => {\n      resolve();\n    };\n  var firstScriptTag = document.getElementsByTagName('script')[0];\n  firstScriptTag.parentNode.insertBefore(tag, firstScriptTag);\n});\n};\n\nif(typeof $3Dmolpromise === 'undefined') {\n$3Dmolpromise = null;\n  $3Dmolpromise = loadScriptAsync('https://3dmol.csb.pitt.edu/build/3Dmol.js');\n}\n\nvar viewer_159215198863861 = null;\nvar warn = document.getElementById(\"3dmolwarning_159215198863861\");\nif(warn) {\n    warn.parentNode.removeChild(warn);\n}\n$3Dmolpromise.then(function() {\nviewer_159215198863861 = $3Dmol.createViewer($(\"#3dmolviewer_159215198863861\"),{backgroundColor:\"white\"});\n$3Dmol.download(\"pdb:5w9h\", viewer_159215198863861, {}, function() {\n\tviewer_159215198863861.setStyle({\"cartoon\": {\"color\": \"spectrum\"}});\nviewer_159215198863861.render();\n})\n});\n</script>",
      "text/html": [
       "<div id=\"3dmolviewer_159215198863861\"  style=\"position: relative; width: 640px; height: 480px\">\n",
       "        <p id=\"3dmolwarning_159215198863861\" style=\"background-color:#ffcccc;color:black\">You appear to be running in JupyterLab (or JavaScript failed to load for some other reason).  You need to install the 3dmol extension: <br>\n",
       "        <tt>jupyter labextension install jupyterlab_3dmol</tt></p>\n",
       "        </div>\n",
       "<script>\n",
       "\n",
       "var loadScriptAsync = function(uri){\n",
       "  return new Promise((resolve, reject) => {\n",
       "    var tag = document.createElement('script');\n",
       "    tag.src = uri;\n",
       "    tag.async = true;\n",
       "    tag.onload = () => {\n",
       "      resolve();\n",
       "    };\n",
       "  var firstScriptTag = document.getElementsByTagName('script')[0];\n",
       "  firstScriptTag.parentNode.insertBefore(tag, firstScriptTag);\n",
       "});\n",
       "};\n",
       "\n",
       "if(typeof $3Dmolpromise === 'undefined') {\n",
       "$3Dmolpromise = null;\n",
       "  $3Dmolpromise = loadScriptAsync('https://3dmol.csb.pitt.edu/build/3Dmol.js');\n",
       "}\n",
       "\n",
       "var viewer_159215198863861 = null;\n",
       "var warn = document.getElementById(\"3dmolwarning_159215198863861\");\n",
       "if(warn) {\n",
       "    warn.parentNode.removeChild(warn);\n",
       "}\n",
       "$3Dmolpromise.then(function() {\n",
       "viewer_159215198863861 = $3Dmol.createViewer($(\"#3dmolviewer_159215198863861\"),{backgroundColor:\"white\"});\n",
       "$3Dmol.download(\"pdb:5w9h\", viewer_159215198863861, {}, function() {\n",
       "\tviewer_159215198863861.setStyle({\"cartoon\": {\"color\": \"spectrum\"}});\n",
       "viewer_159215198863861.render();\n",
       "})\n",
       "});\n",
       "</script>"
      ]
     },
     "metadata": {},
     "output_type": "display_data"
    },
    {
     "data": {
      "text/plain": [
       "<py3Dmol.view at 0x262679c5508>"
      ]
     },
     "execution_count": 83,
     "metadata": {},
     "output_type": "execute_result"
    }
   ],
   "source": [
    "mers_view= py3Dmol.view(query='pdb:5w9h')\n",
    "mers_view.setStyle({'cartoon':{'color':'spectrum'}})"
   ]
  },
  {
   "cell_type": "code",
   "execution_count": 85,
   "metadata": {},
   "outputs": [
    {
     "name": "stderr",
     "output_type": "stream",
     "text": [
      "C:\\Users\\HP\\anaconda3\\lib\\site-packages\\Bio\\PDB\\StructureBuilder.py:92: PDBConstructionWarning: WARNING: Chain A is discontinuous at line 11495.\n",
      "  PDBConstructionWarning,\n",
      "C:\\Users\\HP\\anaconda3\\lib\\site-packages\\Bio\\PDB\\StructureBuilder.py:92: PDBConstructionWarning: WARNING: Chain B is discontinuous at line 11496.\n",
      "  PDBConstructionWarning,\n",
      "C:\\Users\\HP\\anaconda3\\lib\\site-packages\\Bio\\PDB\\StructureBuilder.py:92: PDBConstructionWarning: WARNING: Chain C is discontinuous at line 11498.\n",
      "  PDBConstructionWarning,\n",
      "C:\\Users\\HP\\anaconda3\\lib\\site-packages\\Bio\\PDB\\StructureBuilder.py:92: PDBConstructionWarning: WARNING: Chain D is discontinuous at line 11499.\n",
      "  PDBConstructionWarning,\n",
      "C:\\Users\\HP\\anaconda3\\lib\\site-packages\\Bio\\PDB\\StructureBuilder.py:92: PDBConstructionWarning: WARNING: Chain E is discontinuous at line 11502.\n",
      "  PDBConstructionWarning,\n",
      "C:\\Users\\HP\\anaconda3\\lib\\site-packages\\Bio\\PDB\\StructureBuilder.py:92: PDBConstructionWarning: WARNING: Chain F is discontinuous at line 11505.\n",
      "  PDBConstructionWarning,\n",
      "C:\\Users\\HP\\anaconda3\\lib\\site-packages\\Bio\\PDB\\StructureBuilder.py:92: PDBConstructionWarning: WARNING: Chain A is discontinuous at line 11508.\n",
      "  PDBConstructionWarning,\n",
      "C:\\Users\\HP\\anaconda3\\lib\\site-packages\\Bio\\PDB\\StructureBuilder.py:92: PDBConstructionWarning: WARNING: Chain B is discontinuous at line 11611.\n",
      "  PDBConstructionWarning,\n",
      "C:\\Users\\HP\\anaconda3\\lib\\site-packages\\Bio\\PDB\\StructureBuilder.py:92: PDBConstructionWarning: WARNING: Chain C is discontinuous at line 11709.\n",
      "  PDBConstructionWarning,\n",
      "C:\\Users\\HP\\anaconda3\\lib\\site-packages\\Bio\\PDB\\StructureBuilder.py:92: PDBConstructionWarning: WARNING: Chain D is discontinuous at line 11818.\n",
      "  PDBConstructionWarning,\n",
      "C:\\Users\\HP\\anaconda3\\lib\\site-packages\\Bio\\PDB\\StructureBuilder.py:92: PDBConstructionWarning: WARNING: Chain E is discontinuous at line 11918.\n",
      "  PDBConstructionWarning,\n",
      "C:\\Users\\HP\\anaconda3\\lib\\site-packages\\Bio\\PDB\\StructureBuilder.py:92: PDBConstructionWarning: WARNING: Chain F is discontinuous at line 12030.\n",
      "  PDBConstructionWarning,\n"
     ]
    },
    {
     "data": {
      "text/plain": [
       "<Structure id=covid>"
      ]
     },
     "execution_count": 85,
     "metadata": {},
     "output_type": "execute_result"
    }
   ],
   "source": [
    "covid_structure= parser.get_structure('covid','6wji.pdb')\n",
    "covid_structure"
   ]
  },
  {
   "cell_type": "code",
   "execution_count": 86,
   "metadata": {},
   "outputs": [
    {
     "data": {
      "application/vnd.jupyter.widget-view+json": {
       "model_id": "0a6902c03a0544cdaaaa0cc75b648747",
       "version_major": 2,
       "version_minor": 0
      },
      "text/plain": [
       "NGLWidget()"
      ]
     },
     "metadata": {},
     "output_type": "display_data"
    }
   ],
   "source": [
    "covid_view= nv.show_biopython(covid_structure)\n",
    "covid_view"
   ]
  },
  {
   "cell_type": "code",
   "execution_count": 87,
   "metadata": {},
   "outputs": [
    {
     "data": {
      "application/3dmoljs_load.v0": "<div id=\"3dmolviewer_15921565043315\"  style=\"position: relative; width: 640px; height: 480px\">\n        <p id=\"3dmolwarning_15921565043315\" style=\"background-color:#ffcccc;color:black\">You appear to be running in JupyterLab (or JavaScript failed to load for some other reason).  You need to install the 3dmol extension: <br>\n        <tt>jupyter labextension install jupyterlab_3dmol</tt></p>\n        </div>\n<script>\n\nvar loadScriptAsync = function(uri){\n  return new Promise((resolve, reject) => {\n    var tag = document.createElement('script');\n    tag.src = uri;\n    tag.async = true;\n    tag.onload = () => {\n      resolve();\n    };\n  var firstScriptTag = document.getElementsByTagName('script')[0];\n  firstScriptTag.parentNode.insertBefore(tag, firstScriptTag);\n});\n};\n\nif(typeof $3Dmolpromise === 'undefined') {\n$3Dmolpromise = null;\n  $3Dmolpromise = loadScriptAsync('https://3dmol.csb.pitt.edu/build/3Dmol.js');\n}\n\nvar viewer_15921565043315 = null;\nvar warn = document.getElementById(\"3dmolwarning_15921565043315\");\nif(warn) {\n    warn.parentNode.removeChild(warn);\n}\n$3Dmolpromise.then(function() {\nviewer_15921565043315 = $3Dmol.createViewer($(\"#3dmolviewer_15921565043315\"),{backgroundColor:\"white\"});\n$3Dmol.download(\"pdb:6wji\", viewer_15921565043315, {}, function() {\n\tviewer_15921565043315.setStyle({\"cartoon\": {\"color\": \"spectrum\"}});\nviewer_15921565043315.render();\n})\n});\n</script>",
      "text/html": [
       "<div id=\"3dmolviewer_15921565043315\"  style=\"position: relative; width: 640px; height: 480px\">\n",
       "        <p id=\"3dmolwarning_15921565043315\" style=\"background-color:#ffcccc;color:black\">You appear to be running in JupyterLab (or JavaScript failed to load for some other reason).  You need to install the 3dmol extension: <br>\n",
       "        <tt>jupyter labextension install jupyterlab_3dmol</tt></p>\n",
       "        </div>\n",
       "<script>\n",
       "\n",
       "var loadScriptAsync = function(uri){\n",
       "  return new Promise((resolve, reject) => {\n",
       "    var tag = document.createElement('script');\n",
       "    tag.src = uri;\n",
       "    tag.async = true;\n",
       "    tag.onload = () => {\n",
       "      resolve();\n",
       "    };\n",
       "  var firstScriptTag = document.getElementsByTagName('script')[0];\n",
       "  firstScriptTag.parentNode.insertBefore(tag, firstScriptTag);\n",
       "});\n",
       "};\n",
       "\n",
       "if(typeof $3Dmolpromise === 'undefined') {\n",
       "$3Dmolpromise = null;\n",
       "  $3Dmolpromise = loadScriptAsync('https://3dmol.csb.pitt.edu/build/3Dmol.js');\n",
       "}\n",
       "\n",
       "var viewer_15921565043315 = null;\n",
       "var warn = document.getElementById(\"3dmolwarning_15921565043315\");\n",
       "if(warn) {\n",
       "    warn.parentNode.removeChild(warn);\n",
       "}\n",
       "$3Dmolpromise.then(function() {\n",
       "viewer_15921565043315 = $3Dmol.createViewer($(\"#3dmolviewer_15921565043315\"),{backgroundColor:\"white\"});\n",
       "$3Dmol.download(\"pdb:6wji\", viewer_15921565043315, {}, function() {\n",
       "\tviewer_15921565043315.setStyle({\"cartoon\": {\"color\": \"spectrum\"}});\n",
       "viewer_15921565043315.render();\n",
       "})\n",
       "});\n",
       "</script>"
      ]
     },
     "metadata": {},
     "output_type": "display_data"
    },
    {
     "data": {
      "text/plain": [
       "<py3Dmol.view at 0x2626b802d48>"
      ]
     },
     "execution_count": 87,
     "metadata": {},
     "output_type": "execute_result"
    }
   ],
   "source": [
    "covid= py3Dmol.view(query='pdb:6wji')\n",
    "covid.setStyle({'cartoon':{'color':'spectrum'}})"
   ]
  },
  {
   "cell_type": "code",
   "execution_count": 88,
   "metadata": {},
   "outputs": [
    {
     "data": {
      "application/3dmoljs_load.v0": "<div id=\"3dmolviewer_15921567712876186\"  style=\"position: relative; width: 640px; height: 480px\">\n        <p id=\"3dmolwarning_15921567712876186\" style=\"background-color:#ffcccc;color:black\">You appear to be running in JupyterLab (or JavaScript failed to load for some other reason).  You need to install the 3dmol extension: <br>\n        <tt>jupyter labextension install jupyterlab_3dmol</tt></p>\n        </div>\n<script>\n\nvar loadScriptAsync = function(uri){\n  return new Promise((resolve, reject) => {\n    var tag = document.createElement('script');\n    tag.src = uri;\n    tag.async = true;\n    tag.onload = () => {\n      resolve();\n    };\n  var firstScriptTag = document.getElementsByTagName('script')[0];\n  firstScriptTag.parentNode.insertBefore(tag, firstScriptTag);\n});\n};\n\nif(typeof $3Dmolpromise === 'undefined') {\n$3Dmolpromise = null;\n  $3Dmolpromise = loadScriptAsync('https://3dmol.csb.pitt.edu/build/3Dmol.js');\n}\n\nvar viewer_15921567712876186 = null;\nvar warn = document.getElementById(\"3dmolwarning_15921567712876186\");\nif(warn) {\n    warn.parentNode.removeChild(warn);\n}\n$3Dmolpromise.then(function() {\nviewer_15921567712876186 = $3Dmol.createViewer($(\"#3dmolviewer_15921567712876186\"),{backgroundColor:\"white\"});\n$3Dmol.download(\"pdb:6wji\", viewer_15921567712876186, {}, function() {\n\tviewer_15921567712876186.setStyle({\"cartoon\": {\"color\": \"spectrum\"}});\n\tviewer_15921567712876186.render_image();\nviewer_15921567712876186.render();\n})\n});\n</script>",
      "text/html": [
       "<div id=\"3dmolviewer_15921567712876186\"  style=\"position: relative; width: 640px; height: 480px\">\n",
       "        <p id=\"3dmolwarning_15921567712876186\" style=\"background-color:#ffcccc;color:black\">You appear to be running in JupyterLab (or JavaScript failed to load for some other reason).  You need to install the 3dmol extension: <br>\n",
       "        <tt>jupyter labextension install jupyterlab_3dmol</tt></p>\n",
       "        </div>\n",
       "<script>\n",
       "\n",
       "var loadScriptAsync = function(uri){\n",
       "  return new Promise((resolve, reject) => {\n",
       "    var tag = document.createElement('script');\n",
       "    tag.src = uri;\n",
       "    tag.async = true;\n",
       "    tag.onload = () => {\n",
       "      resolve();\n",
       "    };\n",
       "  var firstScriptTag = document.getElementsByTagName('script')[0];\n",
       "  firstScriptTag.parentNode.insertBefore(tag, firstScriptTag);\n",
       "});\n",
       "};\n",
       "\n",
       "if(typeof $3Dmolpromise === 'undefined') {\n",
       "$3Dmolpromise = null;\n",
       "  $3Dmolpromise = loadScriptAsync('https://3dmol.csb.pitt.edu/build/3Dmol.js');\n",
       "}\n",
       "\n",
       "var viewer_15921567712876186 = null;\n",
       "var warn = document.getElementById(\"3dmolwarning_15921567712876186\");\n",
       "if(warn) {\n",
       "    warn.parentNode.removeChild(warn);\n",
       "}\n",
       "$3Dmolpromise.then(function() {\n",
       "viewer_15921567712876186 = $3Dmol.createViewer($(\"#3dmolviewer_15921567712876186\"),{backgroundColor:\"white\"});\n",
       "$3Dmol.download(\"pdb:6wji\", viewer_15921567712876186, {}, function() {\n",
       "\tviewer_15921567712876186.setStyle({\"cartoon\": {\"color\": \"spectrum\"}});\n",
       "\tviewer_15921567712876186.render_image();\n",
       "viewer_15921567712876186.render();\n",
       "})\n",
       "});\n",
       "</script>"
      ]
     },
     "metadata": {},
     "output_type": "display_data"
    },
    {
     "data": {
      "text/plain": [
       "<py3Dmol.view at 0x2626b802d48>"
      ]
     },
     "execution_count": 88,
     "metadata": {},
     "output_type": "execute_result"
    }
   ],
   "source": [
    "covid.render_image()"
   ]
  },
  {
   "cell_type": "code",
   "execution_count": 75,
   "metadata": {},
   "outputs": [
    {
     "name": "stderr",
     "output_type": "stream",
     "text": [
      "C:\\Users\\HP\\anaconda3\\lib\\site-packages\\Bio\\PDB\\StructureBuilder.py:92: PDBConstructionWarning: WARNING: Chain A is discontinuous at line 16788.\n",
      "  PDBConstructionWarning,\n",
      "C:\\Users\\HP\\anaconda3\\lib\\site-packages\\Bio\\PDB\\StructureBuilder.py:92: PDBConstructionWarning: WARNING: Chain B is discontinuous at line 16826.\n",
      "  PDBConstructionWarning,\n",
      "C:\\Users\\HP\\anaconda3\\lib\\site-packages\\Bio\\PDB\\StructureBuilder.py:92: PDBConstructionWarning: WARNING: Chain C is discontinuous at line 16926.\n",
      "  PDBConstructionWarning,\n",
      "C:\\Users\\HP\\anaconda3\\lib\\site-packages\\Bio\\PDB\\StructureBuilder.py:92: PDBConstructionWarning: WARNING: Chain D is discontinuous at line 16940.\n",
      "  PDBConstructionWarning,\n",
      "C:\\Users\\HP\\anaconda3\\lib\\site-packages\\Bio\\PDB\\StructureBuilder.py:92: PDBConstructionWarning: WARNING: Chain E is discontinuous at line 17040.\n",
      "  PDBConstructionWarning,\n",
      "C:\\Users\\HP\\anaconda3\\lib\\site-packages\\Bio\\PDB\\StructureBuilder.py:92: PDBConstructionWarning: WARNING: Chain F is discontinuous at line 17054.\n",
      "  PDBConstructionWarning,\n"
     ]
    },
    {
     "data": {
      "application/vnd.jupyter.widget-view+json": {
       "model_id": "d1dfc597c0fe4ab39990f98f166ce8a1",
       "version_major": 2,
       "version_minor": 0
      },
      "text/plain": [
       "NGLWidget()"
      ]
     },
     "metadata": {},
     "output_type": "display_data"
    }
   ],
   "source": [
    "ebola_structure= parser.get_structure('Ebola', '6ea7.pdb')\n",
    "ebola_structure"
   ]
  },
  {
   "cell_type": "code",
   "execution_count": 77,
   "metadata": {},
   "outputs": [
    {
     "data": {
      "application/vnd.jupyter.widget-view+json": {
       "model_id": "67738eebfe754f0bbfbf02672ccdcd79",
       "version_major": 2,
       "version_minor": 0
      },
      "text/plain": [
       "NGLWidget()"
      ]
     },
     "metadata": {},
     "output_type": "display_data"
    }
   ],
   "source": [
    "ebola= nv.show_biopython(ebola_structure)\n",
    "ebola"
   ]
  },
  {
   "cell_type": "code",
   "execution_count": 78,
   "metadata": {},
   "outputs": [
    {
     "data": {
      "application/3dmoljs_load.v0": "<div id=\"3dmolviewer_15921509207783139\"  style=\"position: relative; width: 640px; height: 480px\">\n        <p id=\"3dmolwarning_15921509207783139\" style=\"background-color:#ffcccc;color:black\">You appear to be running in JupyterLab (or JavaScript failed to load for some other reason).  You need to install the 3dmol extension: <br>\n        <tt>jupyter labextension install jupyterlab_3dmol</tt></p>\n        </div>\n<script>\n\nvar loadScriptAsync = function(uri){\n  return new Promise((resolve, reject) => {\n    var tag = document.createElement('script');\n    tag.src = uri;\n    tag.async = true;\n    tag.onload = () => {\n      resolve();\n    };\n  var firstScriptTag = document.getElementsByTagName('script')[0];\n  firstScriptTag.parentNode.insertBefore(tag, firstScriptTag);\n});\n};\n\nif(typeof $3Dmolpromise === 'undefined') {\n$3Dmolpromise = null;\n  $3Dmolpromise = loadScriptAsync('https://3dmol.csb.pitt.edu/build/3Dmol.js');\n}\n\nvar viewer_15921509207783139 = null;\nvar warn = document.getElementById(\"3dmolwarning_15921509207783139\");\nif(warn) {\n    warn.parentNode.removeChild(warn);\n}\n$3Dmolpromise.then(function() {\nviewer_15921509207783139 = $3Dmol.createViewer($(\"#3dmolviewer_15921509207783139\"),{backgroundColor:\"white\"});\n$3Dmol.download(\"pdb:6ea7\", viewer_15921509207783139, {}, function() {\n\tviewer_15921509207783139.setStyle({\"cartoon\": {\"color\": \"spectrum\"}});\nviewer_15921509207783139.render();\n})\n});\n</script>",
      "text/html": [
       "<div id=\"3dmolviewer_15921509207783139\"  style=\"position: relative; width: 640px; height: 480px\">\n",
       "        <p id=\"3dmolwarning_15921509207783139\" style=\"background-color:#ffcccc;color:black\">You appear to be running in JupyterLab (or JavaScript failed to load for some other reason).  You need to install the 3dmol extension: <br>\n",
       "        <tt>jupyter labextension install jupyterlab_3dmol</tt></p>\n",
       "        </div>\n",
       "<script>\n",
       "\n",
       "var loadScriptAsync = function(uri){\n",
       "  return new Promise((resolve, reject) => {\n",
       "    var tag = document.createElement('script');\n",
       "    tag.src = uri;\n",
       "    tag.async = true;\n",
       "    tag.onload = () => {\n",
       "      resolve();\n",
       "    };\n",
       "  var firstScriptTag = document.getElementsByTagName('script')[0];\n",
       "  firstScriptTag.parentNode.insertBefore(tag, firstScriptTag);\n",
       "});\n",
       "};\n",
       "\n",
       "if(typeof $3Dmolpromise === 'undefined') {\n",
       "$3Dmolpromise = null;\n",
       "  $3Dmolpromise = loadScriptAsync('https://3dmol.csb.pitt.edu/build/3Dmol.js');\n",
       "}\n",
       "\n",
       "var viewer_15921509207783139 = null;\n",
       "var warn = document.getElementById(\"3dmolwarning_15921509207783139\");\n",
       "if(warn) {\n",
       "    warn.parentNode.removeChild(warn);\n",
       "}\n",
       "$3Dmolpromise.then(function() {\n",
       "viewer_15921509207783139 = $3Dmol.createViewer($(\"#3dmolviewer_15921509207783139\"),{backgroundColor:\"white\"});\n",
       "$3Dmol.download(\"pdb:6ea7\", viewer_15921509207783139, {}, function() {\n",
       "\tviewer_15921509207783139.setStyle({\"cartoon\": {\"color\": \"spectrum\"}});\n",
       "viewer_15921509207783139.render();\n",
       "})\n",
       "});\n",
       "</script>"
      ]
     },
     "metadata": {},
     "output_type": "display_data"
    },
    {
     "data": {
      "text/plain": [
       "<py3Dmol.view at 0x262625aa448>"
      ]
     },
     "execution_count": 78,
     "metadata": {},
     "output_type": "execute_result"
    }
   ],
   "source": [
    "ebola_view= py3Dmol.view(query='pdb:6ea7')\n",
    "ebola_view.setStyle({'cartoon':{'color':'spectrum'}})"
   ]
  },
  {
   "cell_type": "code",
   "execution_count": 79,
   "metadata": {},
   "outputs": [
    {
     "data": {
      "application/3dmoljs_load.v0": "<div id=\"3dmolviewer_15921509658534584\"  style=\"position: relative; width: 640px; height: 480px\">\n        <p id=\"3dmolwarning_15921509658534584\" style=\"background-color:#ffcccc;color:black\">You appear to be running in JupyterLab (or JavaScript failed to load for some other reason).  You need to install the 3dmol extension: <br>\n        <tt>jupyter labextension install jupyterlab_3dmol</tt></p>\n        </div>\n<script>\n\nvar loadScriptAsync = function(uri){\n  return new Promise((resolve, reject) => {\n    var tag = document.createElement('script');\n    tag.src = uri;\n    tag.async = true;\n    tag.onload = () => {\n      resolve();\n    };\n  var firstScriptTag = document.getElementsByTagName('script')[0];\n  firstScriptTag.parentNode.insertBefore(tag, firstScriptTag);\n});\n};\n\nif(typeof $3Dmolpromise === 'undefined') {\n$3Dmolpromise = null;\n  $3Dmolpromise = loadScriptAsync('https://3dmol.csb.pitt.edu/build/3Dmol.js');\n}\n\nvar viewer_15921509658534584 = null;\nvar warn = document.getElementById(\"3dmolwarning_15921509658534584\");\nif(warn) {\n    warn.parentNode.removeChild(warn);\n}\n$3Dmolpromise.then(function() {\nviewer_15921509658534584 = $3Dmol.createViewer($(\"#3dmolviewer_15921509658534584\"),{backgroundColor:\"white\"});\n$3Dmol.download(\"pdb:6ea7\", viewer_15921509658534584, {}, function() {\n\tviewer_15921509658534584.setStyle({\"cartoon\": {\"color\": \"spectrum\"}});\n\tviewer_15921509658534584.render_image();\nviewer_15921509658534584.render();\n})\n});\n</script>",
      "text/html": [
       "<div id=\"3dmolviewer_15921509658534584\"  style=\"position: relative; width: 640px; height: 480px\">\n",
       "        <p id=\"3dmolwarning_15921509658534584\" style=\"background-color:#ffcccc;color:black\">You appear to be running in JupyterLab (or JavaScript failed to load for some other reason).  You need to install the 3dmol extension: <br>\n",
       "        <tt>jupyter labextension install jupyterlab_3dmol</tt></p>\n",
       "        </div>\n",
       "<script>\n",
       "\n",
       "var loadScriptAsync = function(uri){\n",
       "  return new Promise((resolve, reject) => {\n",
       "    var tag = document.createElement('script');\n",
       "    tag.src = uri;\n",
       "    tag.async = true;\n",
       "    tag.onload = () => {\n",
       "      resolve();\n",
       "    };\n",
       "  var firstScriptTag = document.getElementsByTagName('script')[0];\n",
       "  firstScriptTag.parentNode.insertBefore(tag, firstScriptTag);\n",
       "});\n",
       "};\n",
       "\n",
       "if(typeof $3Dmolpromise === 'undefined') {\n",
       "$3Dmolpromise = null;\n",
       "  $3Dmolpromise = loadScriptAsync('https://3dmol.csb.pitt.edu/build/3Dmol.js');\n",
       "}\n",
       "\n",
       "var viewer_15921509658534584 = null;\n",
       "var warn = document.getElementById(\"3dmolwarning_15921509658534584\");\n",
       "if(warn) {\n",
       "    warn.parentNode.removeChild(warn);\n",
       "}\n",
       "$3Dmolpromise.then(function() {\n",
       "viewer_15921509658534584 = $3Dmol.createViewer($(\"#3dmolviewer_15921509658534584\"),{backgroundColor:\"white\"});\n",
       "$3Dmol.download(\"pdb:6ea7\", viewer_15921509658534584, {}, function() {\n",
       "\tviewer_15921509658534584.setStyle({\"cartoon\": {\"color\": \"spectrum\"}});\n",
       "\tviewer_15921509658534584.render_image();\n",
       "viewer_15921509658534584.render();\n",
       "})\n",
       "});\n",
       "</script>"
      ]
     },
     "metadata": {},
     "output_type": "display_data"
    },
    {
     "data": {
      "text/plain": [
       "<py3Dmol.view at 0x262625aa448>"
      ]
     },
     "execution_count": 79,
     "metadata": {},
     "output_type": "execute_result"
    }
   ],
   "source": [
    "ebola_view.render_image()"
   ]
  },
  {
   "cell_type": "code",
   "execution_count": null,
   "metadata": {},
   "outputs": [],
   "source": []
  }
 ],
 "metadata": {
  "kernelspec": {
   "display_name": "Python 3",
   "language": "python",
   "name": "python3"
  },
  "language_info": {
   "codemirror_mode": {
    "name": "ipython",
    "version": 3
   },
   "file_extension": ".py",
   "mimetype": "text/x-python",
   "name": "python",
   "nbconvert_exporter": "python",
   "pygments_lexer": "ipython3",
   "version": "3.7.6"
  }
 },
 "nbformat": 4,
 "nbformat_minor": 4
}
