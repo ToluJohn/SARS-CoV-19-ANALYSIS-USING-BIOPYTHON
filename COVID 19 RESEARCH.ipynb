{
 "cells": [
  {
   "cell_type": "code",
   "execution_count": 1,
   "metadata": {},
   "outputs": [],
   "source": [
    "import Bio"
   ]
  },
  {
   "cell_type": "code",
   "execution_count": 2,
   "metadata": {},
   "outputs": [],
   "source": [
    "from Bio.Alphabet import generic_dna, generic_rna, generic_protein, IUPAC"
   ]
  },
  {
   "cell_type": "code",
   "execution_count": 3,
   "metadata": {},
   "outputs": [
    {
     "data": {
      "text/plain": [
       "Seq('ATACCGCTAGCC', DNAAlphabet())"
      ]
     },
     "execution_count": 3,
     "metadata": {},
     "output_type": "execute_result"
    }
   ],
   "source": [
    "from Bio.Seq import Seq\n",
    "dna= Seq('ATACCGCTAGCC', generic_dna)\n",
    "dna"
   ]
  },
  {
   "cell_type": "code",
   "execution_count": 4,
   "metadata": {},
   "outputs": [
    {
     "data": {
      "text/plain": [
       "DNAAlphabet()"
      ]
     },
     "execution_count": 4,
     "metadata": {},
     "output_type": "execute_result"
    }
   ],
   "source": [
    "dna.alphabet"
   ]
  },
  {
   "cell_type": "code",
   "execution_count": 5,
   "metadata": {},
   "outputs": [
    {
     "data": {
      "text/plain": [
       "Seq('ATA', DNAAlphabet())"
      ]
     },
     "execution_count": 5,
     "metadata": {},
     "output_type": "execute_result"
    }
   ],
   "source": [
    "#SEQUENCE INDEX\n",
    "dna[0:3]"
   ]
  },
  {
   "cell_type": "code",
   "execution_count": 6,
   "metadata": {},
   "outputs": [
    {
     "data": {
      "text/plain": [
       "Seq('ACCG', DNAAlphabet())"
      ]
     },
     "execution_count": 6,
     "metadata": {},
     "output_type": "execute_result"
    }
   ],
   "source": [
    "dna[0::3]"
   ]
  },
  {
   "cell_type": "code",
   "execution_count": 7,
   "metadata": {},
   "outputs": [
    {
     "data": {
      "text/plain": [
       "Seq('ATAATCGGATGAGCA')"
      ]
     },
     "execution_count": 7,
     "metadata": {},
     "output_type": "execute_result"
    }
   ],
   "source": [
    "# JOINING OF SEQUENCES\n",
    "seq= Seq('ATCGGATGAGCA')\n",
    "seq2= dna[0:3]+seq\n",
    "seq2"
   ]
  },
  {
   "cell_type": "code",
   "execution_count": 8,
   "metadata": {},
   "outputs": [
    {
     "data": {
      "text/plain": [
       "6"
      ]
     },
     "execution_count": 8,
     "metadata": {},
     "output_type": "execute_result"
    }
   ],
   "source": [
    "# FINDING THE NUMBER OF A SPECIFIC NUCLEOTIDE PRESENT\n",
    "seq2.count('A')"
   ]
  },
  {
   "cell_type": "code",
   "execution_count": 9,
   "metadata": {},
   "outputs": [
    {
     "data": {
      "text/plain": [
       "40.0"
      ]
     },
     "execution_count": 9,
     "metadata": {},
     "output_type": "execute_result"
    }
   ],
   "source": [
    "# FINDING THE GC CONTENT\n",
    "from Bio.SeqUtils import GC\n",
    "GC(seq2)"
   ]
  },
  {
   "cell_type": "code",
   "execution_count": 10,
   "metadata": {},
   "outputs": [
    {
     "data": {
      "text/plain": [
       "1"
      ]
     },
     "execution_count": 10,
     "metadata": {},
     "output_type": "execute_result"
    }
   ],
   "source": [
    "seq2.count('ATG')"
   ]
  },
  {
   "cell_type": "code",
   "execution_count": 11,
   "metadata": {},
   "outputs": [
    {
     "data": {
      "text/plain": [
       "6"
      ]
     },
     "execution_count": 11,
     "metadata": {},
     "output_type": "execute_result"
    }
   ],
   "source": [
    "#Determine the location of a nucleotide sequence\n",
    "seq2.find('G')"
   ]
  },
  {
   "cell_type": "code",
   "execution_count": 12,
   "metadata": {},
   "outputs": [
    {
     "data": {
      "text/plain": [
       "3"
      ]
     },
     "execution_count": 12,
     "metadata": {},
     "output_type": "execute_result"
    }
   ],
   "source": [
    "seq2.count_overlap('AT')"
   ]
  },
  {
   "cell_type": "markdown",
   "metadata": {},
   "source": [
    "# PROTEIN SYNTHESIS"
   ]
  },
  {
   "cell_type": "code",
   "execution_count": 13,
   "metadata": {},
   "outputs": [
    {
     "data": {
      "text/plain": [
       "Seq('AUGACUGCAUUAGAUACGA', RNAAlphabet())"
      ]
     },
     "execution_count": 13,
     "metadata": {},
     "output_type": "execute_result"
    }
   ],
   "source": [
    "# Transcribe DNA to mRNA\n",
    "seq3= Seq('ATGACTGCATTAGATACGA')\n",
    "mRNA= seq3.transcribe()\n",
    "mRNA"
   ]
  },
  {
   "cell_type": "code",
   "execution_count": 14,
   "metadata": {},
   "outputs": [
    {
     "name": "stderr",
     "output_type": "stream",
     "text": [
      "C:\\Users\\HP\\anaconda3\\lib\\site-packages\\Bio\\Seq.py:2742: BiopythonWarning: Partial codon, len(sequence) not a multiple of three. Explicitly trim the sequence or add trailing N before translation. This may become an error in future.\n",
      "  BiopythonWarning,\n"
     ]
    },
    {
     "data": {
      "text/plain": [
       "Seq('MTALDT', ExtendedIUPACProtein())"
      ]
     },
     "execution_count": 14,
     "metadata": {},
     "output_type": "execute_result"
    }
   ],
   "source": [
    "# TRANSLATE mRNA to Proteins\n",
    "mRNA.translate()"
   ]
  },
  {
   "cell_type": "code",
   "execution_count": 15,
   "metadata": {},
   "outputs": [],
   "source": [
    "from Bio.Data import CodonTable"
   ]
  },
  {
   "cell_type": "code",
   "execution_count": 16,
   "metadata": {},
   "outputs": [
    {
     "data": {
      "text/plain": [
       "['Alphabet',\n",
       " 'AmbiguousCodonTable',\n",
       " 'AmbiguousForwardTable',\n",
       " 'CodonTable',\n",
       " 'IUPAC',\n",
       " 'IUPACData',\n",
       " 'NCBICodonTable',\n",
       " 'NCBICodonTableDNA',\n",
       " 'NCBICodonTableRNA',\n",
       " 'TranslationError',\n",
       " '__builtins__',\n",
       " '__cached__',\n",
       " '__doc__',\n",
       " '__file__',\n",
       " '__loader__',\n",
       " '__name__',\n",
       " '__package__',\n",
       " '__spec__',\n",
       " 'ambiguous_dna_by_id',\n",
       " 'ambiguous_dna_by_name',\n",
       " 'ambiguous_generic_by_id',\n",
       " 'ambiguous_generic_by_name',\n",
       " 'ambiguous_rna_by_id',\n",
       " 'ambiguous_rna_by_name',\n",
       " 'generic_by_id',\n",
       " 'generic_by_name',\n",
       " 'list_ambiguous_codons',\n",
       " 'list_possible_proteins',\n",
       " 'make_back_table',\n",
       " 'register_ncbi_table',\n",
       " 'standard_dna_table',\n",
       " 'standard_rna_table',\n",
       " 'unambiguous_dna_by_id',\n",
       " 'unambiguous_dna_by_name',\n",
       " 'unambiguous_rna_by_id',\n",
       " 'unambiguous_rna_by_name']"
      ]
     },
     "execution_count": 16,
     "metadata": {},
     "output_type": "execute_result"
    }
   ],
   "source": [
    "dir(CodonTable)"
   ]
  },
  {
   "cell_type": "code",
   "execution_count": 17,
   "metadata": {},
   "outputs": [
    {
     "name": "stdout",
     "output_type": "stream",
     "text": [
      "Table 1 Standard, SGC0\n",
      "\n",
      "  |  T      |  C      |  A      |  G      |\n",
      "--+---------+---------+---------+---------+--\n",
      "T | TTT F   | TCT S   | TAT Y   | TGT C   | T\n",
      "T | TTC F   | TCC S   | TAC Y   | TGC C   | C\n",
      "T | TTA L   | TCA S   | TAA Stop| TGA Stop| A\n",
      "T | TTG L(s)| TCG S   | TAG Stop| TGG W   | G\n",
      "--+---------+---------+---------+---------+--\n",
      "C | CTT L   | CCT P   | CAT H   | CGT R   | T\n",
      "C | CTC L   | CCC P   | CAC H   | CGC R   | C\n",
      "C | CTA L   | CCA P   | CAA Q   | CGA R   | A\n",
      "C | CTG L(s)| CCG P   | CAG Q   | CGG R   | G\n",
      "--+---------+---------+---------+---------+--\n",
      "A | ATT I   | ACT T   | AAT N   | AGT S   | T\n",
      "A | ATC I   | ACC T   | AAC N   | AGC S   | C\n",
      "A | ATA I   | ACA T   | AAA K   | AGA R   | A\n",
      "A | ATG M(s)| ACG T   | AAG K   | AGG R   | G\n",
      "--+---------+---------+---------+---------+--\n",
      "G | GTT V   | GCT A   | GAT D   | GGT G   | T\n",
      "G | GTC V   | GCC A   | GAC D   | GGC G   | C\n",
      "G | GTA V   | GCA A   | GAA E   | GGA G   | A\n",
      "G | GTG V   | GCG A   | GAG E   | GGG G   | G\n",
      "--+---------+---------+---------+---------+--\n"
     ]
    }
   ],
   "source": [
    "print(CodonTable.unambiguous_dna_by_name['Standard'])"
   ]
  },
  {
   "cell_type": "code",
   "execution_count": 18,
   "metadata": {},
   "outputs": [
    {
     "name": "stdout",
     "output_type": "stream",
     "text": [
      "<class 'Bio.Data.CodonTable.NCBICodonTable'>\n"
     ]
    }
   ],
   "source": [
    "print(CodonTable.NCBICodonTable)"
   ]
  },
  {
   "cell_type": "code",
   "execution_count": 19,
   "metadata": {},
   "outputs": [
    {
     "data": {
      "text/plain": [
       "Seq('TACTGACGTAATCTATGCT')"
      ]
     },
     "execution_count": 19,
     "metadata": {},
     "output_type": "execute_result"
    }
   ],
   "source": [
    "seq3.complement()"
   ]
  },
  {
   "cell_type": "code",
   "execution_count": 20,
   "metadata": {},
   "outputs": [
    {
     "data": {
      "text/plain": [
       "Seq('UCGUAUCUAAUGCAGUCAU', RNAAlphabet())"
      ]
     },
     "execution_count": 20,
     "metadata": {},
     "output_type": "execute_result"
    }
   ],
   "source": [
    "mRNA.reverse_complement()"
   ]
  },
  {
   "cell_type": "code",
   "execution_count": 21,
   "metadata": {},
   "outputs": [
    {
     "data": {
      "text/plain": [
       "Seq('MTALDT', ExtendedIUPACProtein())"
      ]
     },
     "execution_count": 21,
     "metadata": {},
     "output_type": "execute_result"
    }
   ],
   "source": [
    "#DIRECT TRANSLATION\n",
    "seq3.translate()"
   ]
  },
  {
   "cell_type": "code",
   "execution_count": 22,
   "metadata": {},
   "outputs": [
    {
     "data": {
      "text/plain": [
       "Seq('ATGACTGCATTAGATACGA', DNAAlphabet())"
      ]
     },
     "execution_count": 22,
     "metadata": {},
     "output_type": "execute_result"
    }
   ],
   "source": [
    "mRNA.back_transcribe()"
   ]
  },
  {
   "cell_type": "markdown",
   "metadata": {},
   "source": [
    "# ANALYSIS OF SARS-CoV-19 "
   ]
  },
  {
   "cell_type": "code",
   "execution_count": 23,
   "metadata": {},
   "outputs": [],
   "source": [
    "from Bio import SeqIO"
   ]
  },
  {
   "cell_type": "code",
   "execution_count": 24,
   "metadata": {},
   "outputs": [
    {
     "name": "stdout",
     "output_type": "stream",
     "text": [
      "NC_004718.3\n",
      "SeqRecord(seq=Seq('ATATTAGGTTTTTACCTACCCAGGAAAAGCCAACCAACCTCGATCTCTTGTAGA...AAA', SingleLetterAlphabet()), id='NC_004718.3', name='NC_004718.3', description='NC_004718.3 SARS coronavirus, complete genome', dbxrefs=[])\n",
      "29751\n"
     ]
    }
   ],
   "source": [
    "covid= open('sequence.fasta')\n",
    "for seq_record in SeqIO.parse(covid,'fasta'):\n",
    "    print(seq_record.id)\n",
    "    print(repr(seq_record))\n",
    "    print(len(seq_record))"
   ]
  },
  {
   "cell_type": "code",
   "execution_count": 25,
   "metadata": {},
   "outputs": [
    {
     "data": {
      "text/plain": [
       "SeqRecord(seq=Seq('ATATTAGGTTTTTACCTACCCAGGAAAAGCCAACCAACCTCGATCTCTTGTAGA...AAA', SingleLetterAlphabet()), id='NC_004718.3', name='NC_004718.3', description='NC_004718.3 SARS coronavirus, complete genome', dbxrefs=[])"
      ]
     },
     "execution_count": 25,
     "metadata": {},
     "output_type": "execute_result"
    }
   ],
   "source": [
    "nCoV_record= SeqIO.read('sequence.fasta','fasta')\n",
    "nCoV_record"
   ]
  },
  {
   "cell_type": "code",
   "execution_count": 26,
   "metadata": {},
   "outputs": [
    {
     "data": {
      "text/plain": [
       "Seq('ATATTAGGTTTTTACCTACCCAGGAAAAGCCAACCAACCTCGATCTCTTGTAGA...AAA', SingleLetterAlphabet())"
      ]
     },
     "execution_count": 26,
     "metadata": {},
     "output_type": "execute_result"
    }
   ],
   "source": [
    "nCoV_DNA= nCoV_record.seq\n",
    "nCoV_DNA"
   ]
  },
  {
   "cell_type": "code",
   "execution_count": 27,
   "metadata": {},
   "outputs": [
    {
     "data": {
      "text/plain": [
       "Seq('AUAUUAGGUUUUUACCUACCCAGGAAAAGCCAACCAACCUCGAUCUCUUGUAGA...AAA', RNAAlphabet())"
      ]
     },
     "execution_count": 27,
     "metadata": {},
     "output_type": "execute_result"
    }
   ],
   "source": [
    "nCoV_mRNA= nCoV_DNA.transcribe()\n",
    "nCoV_mRNA"
   ]
  },
  {
   "cell_type": "code",
   "execution_count": 28,
   "metadata": {},
   "outputs": [
    {
     "data": {
      "text/plain": [
       "Seq('ILGFYLPRKSQPTSISCRSVL*TNFKICVAVARLHA*CTYAV*TIINFTVVDKK...KKK', HasStopCodon(ExtendedIUPACProtein(), '*'))"
      ]
     },
     "execution_count": 28,
     "metadata": {},
     "output_type": "execute_result"
    }
   ],
   "source": [
    "nCoV_protein= nCoV_mRNA.translate()\n",
    "nCoV_protein"
   ]
  },
  {
   "cell_type": "code",
   "execution_count": 29,
   "metadata": {},
   "outputs": [
    {
     "data": {
      "text/plain": [
       "9917"
      ]
     },
     "execution_count": 29,
     "metadata": {},
     "output_type": "execute_result"
    }
   ],
   "source": [
    "len(nCoV_protein)"
   ]
  },
  {
   "cell_type": "code",
   "execution_count": 30,
   "metadata": {},
   "outputs": [
    {
     "data": {
      "text/plain": [
       "9917.0"
      ]
     },
     "execution_count": 30,
     "metadata": {},
     "output_type": "execute_result"
    }
   ],
   "source": [
    "len(nCoV_DNA)/3"
   ]
  },
  {
   "cell_type": "code",
   "execution_count": 31,
   "metadata": {},
   "outputs": [
    {
     "data": {
      "text/plain": [
       "[Seq('ILGFYLPRKSQPTSISCRSVL', HasStopCodon(ExtendedIUPACProtein(), '*')),\n",
       " Seq('TNFKICVAVARLHA', HasStopCodon(ExtendedIUPACProtein(), '*')),\n",
       " Seq('CTYAV', HasStopCodon(ExtendedIUPACProtein(), '*')),\n",
       " Seq('TIINFTVVDKKRVTRPSSADCLRFRPCCSRSSAYLGFVRV', HasStopCodon(ExtendedIUPACProtein(), '*')),\n",
       " Seq('PKGKMESLVLGVNEKTHVQLSLPVLQVRDVLVRGFGDSVEEALSEAREHLKNGT...FAV', HasStopCodon(ExtendedIUPACProtein(), '*')),\n",
       " Seq('VQPVLHRAAQALVLMSSTGLLIFTTKKLLVLQSS', HasStopCodon(ExtendedIUPACProtein(), '*')),\n",
       " Seq('KLIAVASRRRMRKAIY', HasStopCodon(ExtendedIUPACProtein(), '*')),\n",
       " Seq('TLTL', HasStopCodon(ExtendedIUPACProtein(), '*')),\n",
       " Seq('LRGILCLTTNMKRLFITWLKIVQRLLSMTFSSLE', HasStopCodon(ExtendedIUPACProtein(), '*')),\n",
       " Seq('MVTWYHIYHVSV', HasStopCodon(ExtendedIUPACProtein(), '*')),\n",
       " Seq('LNTQWLI', HasStopCodon(ExtendedIUPACProtein(), '*')),\n",
       " Seq('SMLYVILMRVIVIH', HasStopCodon(ExtendedIUPACProtein(), '*')),\n",
       " Seq('KKYSSHTIAVMMIISIRRIGMTS', HasStopCodon(ExtendedIUPACProtein(), '*')),\n",
       " Seq('RILTSYAYMLT', HasStopCodon(ExtendedIUPACProtein(), '*')),\n",
       " Seq('VSVYANHY', HasStopCodon(ExtendedIUPACProtein(), '*')),\n",
       " Seq('RLYNSAMLCVMQAL', HasStopCodon(ExtendedIUPACProtein(), '*')),\n",
       " Seq('AY', HasStopCodon(ExtendedIUPACProtein(), '*')),\n",
       " Seq('H', HasStopCodon(ExtendedIUPACProtein(), '*')),\n",
       " Seq('IIRILMGTGTISVISYK', HasStopCodon(ExtendedIUPACProtein(), '*')),\n",
       " Seq('HQAAEFLLWIHITHC', HasStopCodon(ExtendedIUPACProtein(), '*')),\n",
       " Seq('CPSSL', HasStopCodon(ExtendedIUPACProtein(), '*')),\n",
       " Seq('LGHWLLSPIWMLISQNHLLSGIC', HasStopCodon(ExtendedIUPACProtein(), '*')),\n",
       " Seq('NMILRKRDFVSSTVILNIGTRHTIPIVLTVWMIGVSFIVQTLMCYFLLCFHLQVLDH', HasStopCodon(ExtendedIUPACProtein(), '*')),\n",
       " Seq('', HasStopCodon(ExtendedIUPACProtein(), '*')),\n",
       " Seq('EKYL', HasStopCodon(ExtendedIUPACProtein(), '*')),\n",
       " Seq('MVFLLLFQLDTIFVS', HasStopCodon(ExtendedIUPACProtein(), '*')),\n",
       " Seq('ESYIIRM', HasStopCodon(ExtendedIUPACProtein(), '*')),\n",
       " Seq('TYIARVSVSRNF', HasStopCodon(ExtendedIUPACProtein(), '*')),\n",
       " Seq('CMLLIQLCMQLLAIYC', HasStopCodon(ExtendedIUPACProtein(), '*')),\n",
       " Seq('INALHAFQ', HasStopCodon(ExtendedIUPACProtein(), '*')),\n",
       " Seq('LH', HasStopCodon(ExtendedIUPACProtein(), '*')),\n",
       " Seq('QTMLLFKLSNPVILIKTFMTLLCLKVSLRKEVLLN', HasStopCodon(ExtendedIUPACProtein(), '*')),\n",
       " Seq('NTSSLLRMATLLSVIMTIIVIICQQCVISDNSYS', HasStopCodon(ExtendedIUPACProtein(), '*')),\n",
       " Seq('LKLLINTLIVTMVAVLMPTK', HasStopCodon(ExtendedIUPACProtein(), '*')),\n",
       " Seq('SLTIWINQLVSHLINGVRLDFIMTQ', HasStopCodon(ExtendedIUPACProtein(), '*')),\n",
       " Seq('VMRIKMHFSRILSVMSSLL', HasStopCodon(ExtendedIUPACProtein(), '*')),\n",
       " Seq('LK', HasStopCodon(ExtendedIUPACProtein(), '*')),\n",
       " Seq('ILSMPLVQRIELAP', HasStopCodon(ExtendedIUPACProtein(), '*')),\n",
       " Seq('LVSLSVVL', HasStopCodon(ExtendedIUPACProtein(), '*')),\n",
       " Seq('QIDSFIRNY', HasStopCodon(ExtendedIUPACProtein(), '*')),\n",
       " Seq('SQ', HasStopCodon(ExtendedIUPACProtein(), '*')),\n",
       " Seq('PPLEELLW', HasStopCodon(ExtendedIUPACProtein(), '*')),\n",
       " Seq('LEQASFTVAGIIC', HasStopCodon(ExtendedIUPACProtein(), '*')),\n",
       " Seq('KLFTVM', HasStopCodon(ExtendedIUPACProtein(), '*')),\n",
       " Seq('KLHTLWVGIIQNVTEPCLTCLG', HasStopCodon(ExtendedIUPACProtein(), '*')),\n",
       " Seq('WPLLFLLANITLAVTYHTVSTG', HasStopCodon(ExtendedIUPACProtein(), '*')),\n",
       " Seq('LTSVRKY', HasStopCodon(ExtendedIUPACProtein(), '*')),\n",
       " Seq('VRWSCVAAHYMLNQVEHHPVMLQLLMLIVSLTFVKLLQPM', HasStopCodon(ExtendedIUPACProtein(), '*')),\n",
       " Seq('MHFFQLMVIR', HasStopCodon(ExtendedIUPACProtein(), '*')),\n",
       " Seq('LTSMSAIYNTGSMSVSIEIGMLIMNSWMSFTLTCVNISP', HasStopCodon(ExtendedIUPACProtein(), '*')),\n",
       " Seq('', HasStopCodon(ExtendedIUPACProtein(), '*')),\n",
       " Seq('FFLMMPLCAITVTMRLKV', HasStopCodon(ExtendedIUPACProtein(), '*')),\n",
       " Seq('', HasStopCodon(ExtendedIUPACProtein(), '*')),\n",
       " Seq('LALRTLRQFFIIKIMCSCLRQNVGLRLTLLKDLTNFAHSIQC', HasStopCodon(ExtendedIUPACProtein(), '*')),\n",
       " Seq('LNKEMITCTCLTQIHQEY', HasStopCodon(ExtendedIUPACProtein(), '*')),\n",
       " Seq('AQAVLSMILSKQMVHL', HasStopCodon(ExtendedIUPACProtein(), '*')),\n",
       " Seq('LKGSCHWLLMLTHLQNILIRSMLMSFTCIYNTLESYMMSLLATCWTCIP', HasStopCodon(ExtendedIUPACProtein(), '*')),\n",
       " Seq('C', HasStopCodon(ExtendedIUPACProtein(), '*')),\n",
       " Seq('LMITPHGTGNLSFMRLCTHHIQSCRL', HasStopCodon(ExtendedIUPACProtein(), '*')),\n",
       " Seq('VLVYCAIHRLHFVAVPVLGDHSYVASAAMTMSFQHHTN', HasStopCodon(ExtendedIUPACProtein(), '*')),\n",
       " Seq('CCLLIPMFAMPQVVMSLM', HasStopCodon(ExtendedIUPACProtein(), '*')),\n",
       " Seq('HNCI', HasStopCodon(ExtendedIUPACProtein(), '*')),\n",
       " Seq('EV', HasStopCodon(ExtendedIUPACProtein(), '*')),\n",
       " Seq('AIIASHISLPLVFHYVLMVRFLVYTKTHV', HasStopCodon(ExtendedIUPACProtein(), '*')),\n",
       " Seq('AVTMSLTSMR', HasStopCodon(ExtendedIUPACProtein(), '*')),\n",
       " Seq('QHVIGLMLAITYLPTLVLRDSSFSQQKRSKPLRKHLSCHMVLPLYAKYSLTENC...DHH', HasStopCodon(ExtendedIUPACProtein(), '*')),\n",
       " Seq('TETMSLLVTV', HasStopCodon(ExtendedIUPACProtein(), '*')),\n",
       " Seq('LKIVKYRLESTPLKKVTMVMLLCTEVLRHTS', HasStopCodon(ExtendedIUPACProtein(), '*')),\n",
       " Seq('MLVITLC', HasStopCodon(ExtendedIUPACProtein(), '*')),\n",
       " Seq('HLTL', HasStopCodon(ExtendedIUPACProtein(), '*')),\n",
       " Seq('CHLVHLL', HasStopCodon(ExtendedIUPACProtein(), '*')),\n",
       " Seq('CHKSTM', HasStopCodon(ExtendedIUPACProtein(), '*')),\n",
       " Seq('ELLACTQHSTSQMSFLAMLQIIKRSACKSTLHSKDHLVLVRVILPSDLLSITHLLA', HasStopCodon(ExtendedIUPACProtein(), '*')),\n",
       " Seq('CIRHALMQLLMPYVKRH', HasStopCodon(ExtendedIUPACProtein(), '*')),\n",
       " Seq('NICP', HasStopCodon(ExtendedIUPACProtein(), '*')),\n",
       " Seq('INVVESYLRVRA', HasStopCodon(ExtendedIUPACProtein(), '*')),\n",
       " Seq('SVLINSK', HasStopCodon(ExtendedIUPACProtein(), '*')),\n",
       " Seq('IQH', HasStopCodon(ExtendedIUPACProtein(), '*')),\n",
       " Seq('NSMFSAL', HasStopCodon(ExtendedIUPACProtein(), '*')),\n",
       " Seq('MHCQKQLLTL', HasStopCodon(ExtendedIUPACProtein(), '*')),\n",
       " Seq('SLMKSLWLLIMT', HasStopCodon(ExtendedIUPACProtein(), '*')),\n",
       " Seq('VLSMLDFVQNTTSILAILLNYQPPAHC', HasStopCodon(ExtendedIUPACProtein(), '*')),\n",
       " Seq('LKAH', HasStopCodon(ExtendedIUPACProtein(), '*')),\n",
       " Seq('NQNILIQCADL', HasStopCodon(ExtendedIUPACProtein(), '*')),\n",
       " Seq('KQ', HasStopCodon(ExtendedIUPACProtein(), '*')),\n",
       " Seq('VQTCSLELVAVVLLKLLTL', HasStopCodon(ExtendedIUPACProtein(), '*')),\n",
       " Seq('VL', HasStopCodon(ExtendedIUPACProtein(), '*')),\n",
       " Seq('FMTIS', HasStopCodon(ExtendedIUPACProtein(), '*')),\n",
       " Seq('KHTRISQLNASKCSTKVLLHMMFHLQSTDLK', HasStopCodon(ExtendedIUPACProtein(), '*')),\n",
       " Seq('AL', HasStopCodon(ExtendedIUPACProtein(), '*')),\n",
       " Seq('ENFLHAILLGEKLFLSHLIIHRTL', HasStopCodon(ExtendedIUPACProtein(), '*')),\n",
       " Seq('LQKS', HasStopCodon(ExtendedIUPACProtein(), '*')),\n",
       " Seq('DCLRRLLIHHRVLNMTMSYSHKLLKQHTLVMSTASMWLSQGQKLAFCA', HasStopCodon(ExtendedIUPACProtein(), '*')),\n",
       " Seq('CLIEIFMTNCNLQV', HasStopCodon(ExtendedIUPACProtein(), '*')),\n",
       " Seq('KYHVAMWLHYKQKM', HasStopCodon(ExtendedIUPACProtein(), '*')),\n",
       " Seq('LDFLRTVVRSLLVFILHRHLHTSALI', HasStopCodon(ExtendedIUPACProtein(), '*')),\n",
       " Seq('SSRLKDYVLTYQAYQRT', HasStopCodon(ExtendedIUPACProtein(), '*')),\n",
       " Seq('PTVDSSL', HasStopCodon(ExtendedIUPACProtein(), '*')),\n",
       " Seq('WVSK', HasStopCodon(ExtendedIUPACProtein(), '*')),\n",
       " Seq('ITKSMVTLICLSPAKKLFVTFVRGLALM', HasStopCodon(ExtendedIUPACProtein(), '*')),\n",
       " Seq('RAVMQLEMLWVLTYLSS', HasStopCodon(ExtendedIUPACProtein(), '*')),\n",
       " Seq('DFLQVLT', HasStopCodon(ExtendedIUPACProtein(), '*')),\n",
       " Seq('', HasStopCodon(ExtendedIUPACProtein(), '*')),\n",
       " Seq('LYRLVMLTLKITQNSPELMQNLHQVTSLNILYHSCIKACPGM', HasStopCodon(ExtendedIUPACProtein(), '*')),\n",
       " Seq('CVLR', HasStopCodon(ExtendedIUPACProtein(), '*')),\n",
       " Seq('YKCSVIH', HasStopCodon(ExtendedIUPACProtein(), '*')),\n",
       " Seq('KDCQTESCSSFGRMALSLHQ', HasStopCodon(ExtendedIUPACProtein(), '*')),\n",
       " Seq('STLSRLDLKERVVCVTNVQLAFLLHQILMPAGIILWVLTMSITHL', HasStopCodon(ExtendedIUPACProtein(), '*')),\n",
       " Seq('LMFSSGALRVTFRVTMTNIARYMEMHMWLVVMLS', HasStopCodon(ExtendedIUPACProtein(), '*')),\n",
       " Seq('LDV', HasStopCodon(ExtendedIUPACProtein(), '*')),\n",
       " Seq('QSMSALLSALIGLLNTLL', HasStopCodon(ExtendedIUPACProtein(), '*')),\n",
       " Seq('EMN', HasStopCodon(ExtendedIUPACProtein(), '*')),\n",
       " Seq('GLILLAEKYNTWL', HasStopCodon(ExtendedIUPACProtein(), '*')),\n",
       " Seq('SLHCLLISFQFFMTLEIQRLSSVCLRLK', HasStopCodon(ExtendedIUPACProtein(), '*')),\n",
       " Seq('NGSSTMLSHVVTKLTK', HasStopCodon(ExtendedIUPACProtein(), '*')),\n",
       " Seq('RNSSILMLHITINSLMVFVCFGIVTLIVTQPMQLCVGLTQESCQT', HasStopCodon(ExtendedIUPACProtein(), '*')),\n",
       " Seq('TYQAVMVVVCM', HasStopCodon(ExtendedIUPACProtein(), '*')),\n",
       " Seq('ISMHSTLQLSIKVHLLI', HasStopCodon(ExtendedIUPACProtein(), '*')),\n",
       " Seq('SNCLSFTILIVLVSLMANK', HasStopCodon(ExtendedIUPACProtein(), '*')),\n",
       " Seq('CRILIMFHSNLLRVLHDAI', HasStopCodon(ExtendedIUPACProtein(), '*')),\n",
       " Seq('VVLFADTMQMSTDSTWMHII', HasStopCodon(ExtendedIUPACProtein(), '*')),\n",
       " Seq('', HasStopCodon(ExtendedIUPACProtein(), '*')),\n",
       " Seq('FLLDLAYGFTNNLILITCGIHLPGYRV', HasStopCodon(ExtendedIUPACProtein(), '*')),\n",
       " Seq('KMWLIMLLIKDTLMDTPAKHLFPSLIMLFTQR', HasStopCodon(ExtendedIUPACProtein(), '*')),\n",
       " Seq('MVLMWRSLKIRQHFLLMLHLSFGLSVTLNQCQRLRYSIIWVLISLLIL', HasStopCodon(ExtendedIUPACProtein(), '*')),\n",
       " Seq('SGTTKEKPQHMYLQ', HasStopCodon(ExtendedIUPACProtein(), '*')),\n",
       " Seq('VSAQ', HasStopCodon(ExtendedIUPACProtein(), '*')),\n",
       " Seq('LTLPRNLLRVLVLHLLSCLMVEWKDR', HasStopCodon(ExtendedIUPACProtein(), '*')),\n",
       " Seq('TFLETPVMVF', HasStopCodon(ExtendedIUPACProtein(), '*')),\n",
       " Seq('', HasStopCodon(ExtendedIUPACProtein(), '*')),\n",
       " Seq('QKVQSKV', HasStopCodon(ExtendedIUPACProtein(), '*')),\n",
       " Seq('HLQRDQHKLASMESH', HasStopCodon(ExtendedIUPACProtein(), '*')),\n",
       " Seq('LENQ', HasStopCodon(ExtendedIUPACProtein(), '*')),\n",
       " Seq('KHSLTTLRK', HasStopCodon(ExtendedIUPACProtein(), '*')),\n",
       " Seq('TALFNSCLKPTLLRAET', HasStopCodon(ExtendedIUPACProtein(), '*')),\n",
       " Seq('RILSPDHKWKLTFSSSLWMNSYSDISSRAMPSNTSFMEISVMDNLAVFI', HasStopCodon(ExtendedIUPACProtein(), '*')),\n",
       " Seq('', HasStopCodon(ExtendedIUPACProtein(), '*')),\n",
       " Seq('', HasStopCodon(ExtendedIUPACProtein(), '*')),\n",
       " Seq('A', HasStopCodon(ExtendedIUPACProtein(), '*')),\n",
       " Seq('PSAHKIHHLN', HasStopCodon(ExtendedIUPACProtein(), '*')),\n",
       " Seq('RILSLWTAQ', HasStopCodon(ExtendedIUPACProtein(), '*')),\n",
       " Seq('KITS', HasStopCodon(ExtendedIUPACProtein(), '*')),\n",
       " Seq('QMRKQVHQNVCVL', HasStopCodon(ExtendedIUPACProtein(), '*')),\n",
       " Seq('LIFYLMTLSR', HasStopCodon(ExtendedIUPACProtein(), '*')),\n",
       " Seq('', HasStopCodon(ExtendedIUPACProtein(), '*')),\n",
       " Seq('SHKICQ', HasStopCodon(ExtendedIUPACProtein(), '*')),\n",
       " Seq('FQKWSRLQLTMLKFHSCFGVRMDMLKPSTQNYKQVKRGNQVLRCLTCTRCKECF...QKE', HasStopCodon(ExtendedIUPACProtein(), '*')),\n",
       " Seq('', HasStopCodon(ExtendedIUPACProtein(), '*')),\n",
       " Seq('', HasStopCodon(ExtendedIUPACProtein(), '*')),\n",
       " Seq('MSQSILNCVNT', HasStopCodon(ExtendedIUPACProtein(), '*')),\n",
       " Seq('IHLL', HasStopCodon(ExtendedIUPACProtein(), '*')),\n",
       " Seq('LYPTT', HasStopCodon(ExtendedIUPACProtein(), '*')),\n",
       " Seq('ELFTLVLALIKELHQVQLCSDNGCQLAHYLSIQILMTSSPTQILL', HasStopCodon(ExtendedIUPACProtein(), '*')),\n",
       " Seq('LETVQQYIRLINGTLLLAICMTLGPNM', HasStopCodon(ExtendedIUPACProtein(), '*')),\n",
       " Seq('QKRMTLKKGFSLICVDL', HasStopCodon(ExtendedIUPACProtein(), '*')),\n",
       " Seq('SKN', HasStopCodon(ExtendedIUPACProtein(), '*')),\n",
       " Seq('PWVVL', HasStopCodon(ExtendedIUPACProtein(), '*')),\n",
       " Seq('L', HasStopCodon(ExtendedIUPACProtein(), '*')),\n",
       " Seq('R', HasStopCodon(ExtendedIUPACProtein(), '*')),\n",
       " Seq('QSILGMLTFTSLWAISHGGQLLLQM', HasStopCodon(ExtendedIUPACProtein(), '*')),\n",
       " Seq('MHHHRKHF', HasStopCodon(ExtendedIUPACProtein(), '*')),\n",
       " Seq('LGLTILASRRNKLMAIPCMLTTFSGGTQILSSCLPIHSLT', HasStopCodon(ExtendedIUPACProtein(), '*')),\n",
       " Seq('ANFLLN', HasStopCodon(ExtendedIUPACProtein(), '*')),\n",
       " Seq('EELL', HasStopCodon(ExtendedIUPACProtein(), '*')),\n",
       " Seq('CLLRRIKSMI', HasStopCodon(ExtendedIUPACProtein(), '*')),\n",
       " Seq('FILFWKKVGLSLEKTTELWFQVIFLLTTKRTCLFSYYFLLSLVVVTLTGAPLLM...LHL', HasStopCodon(ExtendedIUPACProtein(), '*')),\n",
       " Seq('GGFTILMKFLDQTLFI', HasStopCodon(ExtendedIUPACProtein(), '*')),\n",
       " Seq('LRIYFFHFILMLQGFILLIIRLATLSYLLRMVFILLPQRNQMLSVVGFLVLP', HasStopCodon(ExtendedIUPACProtein(), '*')),\n",
       " Seq('TTSHSR', HasStopCodon(ExtendedIUPACProtein(), '*')),\n",
       " Seq('LLLTILLMLLYEHVTLNCVTTLSLLFLNPWVHRHIL', HasStopCodon(ExtendedIUPACProtein(), '*')),\n",
       " Seq('YSIMHLIALSSTYLMPFRLMFQKSQVILNTYESLCLKIKMGFSMFIRAINL', HasStopCodon(ExtendedIUPACProtein(), '*')),\n",
       " Seq('M', HasStopCodon(ExtendedIUPACProtein(), '*')),\n",
       " Seq('FVIYLLVLTL', HasStopCodon(ExtendedIUPACProtein(), '*')),\n",
       " Seq('NLFLSCLLVLTLQILEPFLQPFHLLKTFGARQLQPILLAI', HasStopCodon(ExtendedIUPACProtein(), '*')),\n",
       " Seq('SQLHLCSSMMKMVQSQMLLIVLKIHLLNSNALLRALRLTKEFTRPLISGLFPQEML', HasStopCodon(ExtendedIUPACProtein(), '*')),\n",
       " Seq('DSLILQTCVLLERFLMLLNSLLSMHGREKKFLIVLLITLCSTTQHFFQPLSAMAFLPLS', HasStopCodon(ExtendedIUPACProtein(), '*')),\n",
       " Seq('MIFASPMSMQILL', HasStopCodon(ExtendedIUPACProtein(), '*')),\n",
       " Seq('SREMM', HasStopCodon(ExtendedIUPACProtein(), '*')),\n",
       " Seq('DK', HasStopCodon(ExtendedIUPACProtein(), '*')),\n",
       " Seq('RQDKLVLLLIIIINCQMISWVVSLLGILGTLMLLQLVIIIINIGILDMASLGPL...IGH', HasStopCodon(ExtendedIUPACProtein(), '*')),\n",
       " Seq('MIMVFTPLLALATNLTEL', HasStopCodon(ExtendedIUPACProtein(), '*')),\n",
       " Seq('YFLLNF', HasStopCodon(ExtendedIUPACProtein(), '*')),\n",
       " Seq('MHRPRFVDQNYPLTLLRTSVSILILMDSLVLVC', HasStopCodon(ExtendedIUPACProtein(), '*')),\n",
       " Seq('LLLQRDFNHFNNLAVMFLISLIPFEILKHLKY', HasStopCodon(ExtendedIUPACProtein(), '*')),\n",
       " Seq('TFHLALLGV', HasStopCodon(ExtendedIUPACProtein(), '*')),\n",
       " Seq('V', HasStopCodon(ExtendedIUPACProtein(), '*')),\n",
       " Seq('LHLEQMLHLKLLFYIKMLTALMFLQQFMQINSHQLGAYILLETMYSRLKQAVL', HasStopCodon(ExtendedIUPACProtein(), '*')),\n",
       " Seq('ELSMSTLLMSATFLLELAFVLVTIQFLYYVVLAKNLLWLILCL', HasStopCodon(ExtendedIUPACProtein(), '*')),\n",
       " Seq('VLIVQLLTLITPLLYLLTFQLALLQK', HasStopCodon(ExtendedIUPACProtein(), '*')),\n",
       " Seq('CLFLWLKPP', HasStopCodon(ExtendedIUPACProtein(), '*')),\n",
       " Seq('IVICTSAEILLNVLICFSNMVAFAHN', HasStopCodon(ExtendedIUPACProtein(), '*')),\n",
       " Seq('IVHSQVLLLNRIATHVKCSLKSNKCTKPQL', HasStopCodon(ExtendedIUPACProtein(), '*')),\n",
       " Seq('NILVVLIFHKYYLTL', HasStopCodon(ExtendedIUPACProtein(), '*')),\n",
       " Seq('SQLRGLLLRTCSLIR', HasStopCodon(ExtendedIUPACProtein(), '*')),\n",
       " Seq('HSLMLAS', HasStopCodon(ExtendedIUPACProtein(), '*')),\n",
       " Seq('SNMANA', HasStopCodon(ExtendedIUPACProtein(), '*')),\n",
       " Seq('VILMLEISFVRRSSMDLQCCHLCSLMI', HasStopCodon(ExtendedIUPACProtein(), '*')),\n",
       " Seq('LLPTLLL', HasStopCodon(ExtendedIUPACProtein(), '*')),\n",
       " Seq('LVVLPLLDGHLVLALLFKYLLLCKWHIGSMALELPKMFSMRTKNKSPTNLTRRL...LKH', HasStopCodon(ExtendedIUPACProtein(), '*')),\n",
       " Seq('THLLNNLALILVQFQVC', HasStopCodon(ExtendedIUPACProtein(), '*')),\n",
       " Seq('MISFRDLIKSRRRYKLTG', HasStopCodon(ExtendedIUPACProtein(), '*')),\n",
       " Seq('LQADFKAFKPM', HasStopCodon(ExtendedIUPACProtein(), '*')),\n",
       " Seq('HNN', HasStopCodon(ExtendedIUPACProtein(), '*')),\n",
       " Seq('SGLLKSGLLLILLLLKCLSVFLDNQKELTFVERATTLCPSHKQPRMVLSSYMSR...LHK', HasStopCodon(ExtendedIUPACProtein(), '*')),\n",
       " Seq('LLQTIHLSQEIVMSLLASLTTQFMILCNLSLTHSKKSWTSTSKIIHHQMLILAT...LKI', HasStopCodon(ExtendedIUPACProtein(), '*')),\n",
       " Seq('MNHSLTFKNWENMSNILNGLGMFGSASLLD', HasStopCodon(ExtendedIUPACProtein(), '*')),\n",
       " Seq('LPSSWLQSCFVA', HasStopCodon(ExtendedIUPACProtein(), '*')),\n",
       " Seq('LVVAVASRVHALVVLAASLMRMTLSQFSRVSNYITHKRTYGFVYEIFYS', HasStopCodon(ExtendedIUPACProtein(), '*')),\n",
       " Seq('INYCTASKN', HasStopCodon(ExtendedIUPACProtein(), '*')),\n",
       " Seq('QCFSCKYCSCYSNDTATSLTPFRMACYWRCISCCFSERYQNNCAQ', HasStopCodon(ExtendedIUPACProtein(), '*')),\n",
       " Seq('KMAASPL', HasStopCodon(ExtendedIUPACProtein(), '*')),\n",
       " Seq('GLPVHLQFTAAICYHLFTSFACRCRYGGAIFVPLCLDIFSTMHQRM', HasStopCodon(ExtendedIUPACProtein(), '*')),\n",
       " Seq('NYYEMLALLEVQIQEPITL', HasStopCodon(ExtendedIUPACProtein(), '*')),\n",
       " Seq('CQLLCLLAHT', HasStopCodon(ExtendedIUPACProtein(), '*')),\n",
       " Seq('L', HasStopCodon(ExtendedIUPACProtein(), '*')),\n",
       " Seq('LLYTI', HasStopCodon(ExtendedIUPACProtein(), '*')),\n",
       " Seq('QCHRYNCRY', HasStopCodon(ExtendedIUPACProtein(), '*')),\n",
       " Seq('R', HasStopCodon(ExtendedIUPACProtein(), '*')),\n",
       " Seq('RHFNTKTQRRLPNWWLF', HasStopCodon(ExtendedIUPACProtein(), '*')),\n",
       " Seq('G', HasStopCodon(ExtendedIUPACProtein(), '*')),\n",
       " Seq('ALRC', HasStopCodon(ExtendedIUPACProtein(), '*')),\n",
       " Seq('RLCRCTWLFHRSLLPA', HasStopCodon(ExtendedIUPACProtein(), '*')),\n",
       " Seq('VYTNYYRHWY', HasStopCodon(ExtendedIUPACProtein(), '*')),\n",
       " Seq('KCYILHL', HasStopCodon(ExtendedIUPACProtein(), '*')),\n",
       " Seq('QAC', HasStopCodon(ExtendedIUPACProtein(), '*')),\n",
       " Seq('RPTECANTHNRRLFRSC', HasStopCodon(ExtendedIUPACProtein(), '*')),\n",
       " Seq('SSNGSNL', HasStopCodon(ExtendedIUPACProtein(), '*')),\n",
       " Seq('', HasStopCodon(ExtendedIUPACProtein(), '*')),\n",
       " Seq('ADDDY', HasStopCodon(ExtendedIUPACProtein(), '*')),\n",
       " Seq('RAFVSTRK', HasStopCodon(ExtendedIUPACProtein(), '*')),\n",
       " Seq('VRTYVLIRFGRNRYVNS', HasStopCodon(ExtendedIUPACProtein(), '*')),\n",
       " Seq('', HasStopCodon(ExtendedIUPACProtein(), '*')),\n",
       " Seq('RTSFSCFRGILASHTSHPYCASIVCVLLQYC', HasStopCodon(ExtendedIUPACProtein(), '*')),\n",
       " Seq('REFSKTNGLRLLAC', HasStopCodon(ExtendedIUPACProtein(), '*')),\n",
       " Seq('KSELF', HasStopCodon(ExtendedIUPACProtein(), '*')),\n",
       " Seq('RSS', HasStopCodon(ExtendedIUPACProtein(), '*')),\n",
       " Seq('SSGLNELTIIIILFGTLTLLIMADNGTITVEELKQLLEQWNLVIGFLFLAWIML...LVQ', HasStopCodon(ExtendedIUPACProtein(), '*')),\n",
       " Seq('VTTDVSSC', HasStopCodon(ExtendedIUPACProtein(), '*')),\n",
       " Seq('LPGYNSRDIDYHYEDFQDCYLES', HasStopCodon(ExtendedIUPACProtein(), '*')),\n",
       " Seq('RYNKFNSETII', HasStopCodon(ExtendedIUPACProtein(), '*')),\n",
       " Seq('ASN', HasStopCodon(ExtendedIUPACProtein(), '*')),\n",
       " Seq('EELFGVR', HasStopCodon(ExtendedIUPACProtein(), '*')),\n",
       " Seq('', HasStopCodon(ExtendedIUPACProtein(), '*')),\n",
       " Seq('RTYGVRLSIKRT', HasStopCodon(ExtendedIUPACProtein(), '*')),\n",
       " Seq('KLFSS', HasStopCodon(ExtendedIUPACProtein(), '*')),\n",
       " Seq('H', HasStopCodon(ExtendedIUPACProtein(), '*')),\n",
       " Seq('LYLHLASYITIRSVLEVRLYY', HasStopCodon(ExtendedIUPACProtein(), '*')),\n",
       " Seq('KNLAHQEHTRAIHHFTLLLTINLH', HasStopCodon(ExtendedIUPACProtein(), '*')),\n",
       " Seq('LALAHTLLLLVLTVLDIPISCVQDQFHQNFSSDKRRFNKSSTRHFFSLLLL', HasStopCodon(ExtendedIUPACProtein(), '*')),\n",
       " Seq('YF', HasStopCodon(ExtendedIUPACProtein(), '*')),\n",
       " Seq('YFASPLRERQNE', HasStopCodon(ExtendedIUPACProtein(), '*')),\n",
       " Seq('AHFN', HasStopCodon(ExtendedIUPACProtein(), '*')),\n",
       " Seq('LLFVLFSLSAIPCFNNAYYILVFTRNPGSRRTLYQSLNEHETSHCFDLYFSMQL...LCI', HasStopCodon(ExtendedIUPACProtein(), '*')),\n",
       " Seq('', HasStopCodon(ExtendedIUPACProtein(), '*')),\n",
       " Seq('TSCA', HasStopCodon(ExtendedIUPACProtein(), '*')),\n",
       " Seq('RSL', HasStopCodon(ExtendedIUPACProtein(), '*')),\n",
       " Seq('GTTLGVILIALLGFVL', HasStopCodon(ExtendedIUPACProtein(), '*')),\n",
       " Seq('ERFYLFIDGTLWFKHAHLMLLSTVKIQLVVRL', HasStopCodon(ExtendedIUPACProtein(), '*')),\n",
       " Seq('LGVGTFMKVTKLLHLETYLLF', HasStopCodon(ExtendedIUPACProtein(), '*')),\n",
       " Seq('INEQIKMSDNGPQSNQRSAPRITFGGPTDSTDNNQNGGRNGARPKQRRPQGLPN...TQA', HasStopCodon(ExtendedIUPACProtein(), '*')),\n",
       " Seq('TLMMTTQGRWAM', HasStopCodon(ExtendedIUPACProtein(), '*')),\n",
       " Seq('TFSQFRLRYIVYSCAE', HasStopCodon(ExtendedIUPACProtein(), '*')),\n",
       " Seq('ILVTKQHK', HasStopCodon(ExtendedIUPACProtein(), '*')),\n",
       " Seq('V', HasStopCodon(ExtendedIUPACProtein(), '*')),\n",
       " Seq('LTLISHSNL', HasStopCodon(ExtendedIUPACProtein(), '*')),\n",
       " Seq('SMCNIREDLKEPPHFHRGHAEYDRGYSE', HasStopCodon(ExtendedIUPACProtein(), '*')),\n",
       " Seq('C', HasStopCodon(ExtendedIUPACProtein(), '*')),\n",
       " Seq('GELPIWKSPNV', HasStopCodon(ExtendedIUPACProtein(), '*')),\n",
       " Seq('N', HasStopCodon(ExtendedIUPACProtein(), '*')),\n",
       " Seq('F', HasStopCodon(ExtendedIUPACProtein(), '*')),\n",
       " Seq('', HasStopCodon(ExtendedIUPACProtein(), '*')),\n",
       " Seq('CYPHVILIAS', HasStopCodon(ExtendedIUPACProtein(), '*')),\n",
       " Seq('ENDKKKKKKKK', HasStopCodon(ExtendedIUPACProtein(), '*'))]"
      ]
     },
     "execution_count": 31,
     "metadata": {},
     "output_type": "execute_result"
    }
   ],
   "source": [
    "nCoV_aa= nCoV_protein.split('*')\n",
    "nCoV_aa"
   ]
  },
  {
   "cell_type": "code",
   "execution_count": 32,
   "metadata": {},
   "outputs": [
    {
     "data": {
      "text/plain": [
       "['ILGFYLPRKSQPTSISCRSVL',\n",
       " 'TNFKICVAVARLHA',\n",
       " 'CTYAV',\n",
       " 'TIINFTVVDKKRVTRPSSADCLRFRPCCSRSSAYLGFVRV',\n",
       " 'PKGKMESLVLGVNEKTHVQLSLPVLQVRDVLVRGFGDSVEEALSEAREHLKNGTCGLVELEKGVLPQLEQPYVFIKRSDALSTNHGHKVVELVAEMDGIQYGRSGITLGVLVPHVGETPIAYRNVLLRKNGNKGAGGHSYGIDLKSYDLGDELGTDPIEDYEQNWNTKHGSGALRELTRELNGGAVTRYVDNNFCGPDGYPLDCIKDFLARAGKSMCTLSEQLDYIESKRGVYCCRDHEHEIAWFTERSDKSYEHQTPFEIKSAKKFDTFKGECPKFVFPLNSKVKVIQPRVEKKKTEGFMGRIRSVYPVASPQECNNMHLSTLMKCNHCDEVSWQTCDFLKATCEHCGTENLVIEGPTTCGYLPTNAVVKMPCPACQDPEIGPEHSVADYHNHSNIETRLRKGGRTRCFGGCVFAYVGCYNKRAYWVPRASADIGSGHTGITGDNVETLNEDLLEILSRERVNINIVGDFHLNEEVAIILASFSASTSAFIDTIKSLDYKSFKTIVESCGNYKVTKGKPVKGAWNIGQQRSVLTPLCGFPSQAAGVIRSIFARTLDAANHSIPDLQRAAVTILDGISEQSLRLVDAMVYTSDLLTNSVIIMAYVTGGLVQQTSQWLSNLLGTTVEKLRPIFEWIEAKLSAGVEFLKDAWEILKFLITGVFDIVKGQIQVASDNIKDCVKCFIDVVNKALEMCIDQVTIAGAKLRSLNLGEVFIAQSKGLYRQCIRGKEQLQLLMPLKAPKEVTFLEGDSHDTVLTSEEVVLKNGELEALETPVDSFTNGAIVGTPVCVNGLMLLEIKDKEQYCALSPGLLATNNVFRLKGGAPIKGVTFGEDTVWEVQGYKNVRITFELDERVDKVLNEKCSVYTVESGTEVTEFACVVAEAVVKTLQPVSDLLTNMGIDLDEWSVATFYLFDDAGEENFSSRMYCSFYPPDEEEEDDAECEEEEIDETCEHEYGTEDDYQGLPLEFGASAETVRVEEEEEEDWLDDTTEQSEIEPEPEPTPEEPVNQFTGYLKLTDNVAIKCVDIVKEAQSANPMVIVNAANIHLKHGGGVAGALNKATNGAMQKESDDYIKLNGPLTVGGSCLLSGHNLAKKCLHVVGPNLNAGEDIQLLKAAYENFNSQDILLAPLLSAGIFGAKPLQSLQVCVQTVRTQVYIAVNDKALYEQVVMDYLDNLKPRVEAPKQEEPPNTEDSKTEEKSVVQKPVDVKPKIKACIDEVTTTLEETKFLTNKLLLFADINGKLYHDSQNMLRGEDMSFLEKDAPYMVGDVITSGDITCVVIPSKKAGGTTEMLSRALKKVPVDEYITTYPGQGCAGYTLEEAKTALKKCKSAFYVLPSEAPNAKEEILGTVSWNLREMLAHAEETRKLMPICMDVRAIMATIQRKYKGIKIQEGIVDYGVRFFFYTSKEPVASIITKLNSLNEPLVTMPIGYVTHGFNLEEAARCMRSLKAPAVVSVSSPDAVTTYNGYLTSSSKTSEEHFVETVSLAGSYRDWSYSGQRTELGVEFLKRGDKIVYHTLESPVEFHLDGEVLSLDKLKSLLSLREVKTIKVFTTVDNTNLHTQLVDMSMTYGQQFGPTYLDGADVTKIKPHVNHEGKTFFVLPSDDTLRSEAFEYYHTLDESFLGRYMSALNHTKKWKFPQVGGLTSIKWADNNCYLSSVLLALQQLEVKFNAPALQEAYYRARAGDAANFCALILAYSNKTVGELGDVRETMTHLLQHANLESAKRVLNVVCKHCGQKTTTLTGVEAVMYMGTLSYDNLKTGVSIPCVCGRDATQYLVQQESSFVMMSAPPAEYKLQQGTFLCANEYTGNYQCGHYTHITAKETLYRIDGAHLTKMSEYKGPVTDVFYKETSYTTTIKPVSYKLDGVTYTEIEPKLDGYYKKDNAYYTEQPIDLVPTQPLPNASFDNFKLTCSNTKFADDLNQMTGFTKPASRELSVTFFPDLNGDVVAIDYRHYSASFKKGAKLLHKPIVWHINQATTKTTFKPNTWCLRCLWSTKPVDTSNSFEVLAVEDTQGMDNLACESQQPTSEEVVENPTIQKEVIECDVKTTEVVGNVILKPSDEGVKVTQELGHEDLMAAYVENTSITIKKPNELSLALGLKTIATHGIAAINSVPWSKILAYVKPFLGQAAITTSNCAKRLAQRVFNNYMPYVFTLLFQLCTFTKSTNSRIRASLPTTIAKNSVKSVAKLCLDAGINYVKSPKFSKLFTIAMWLLLLSICLGSLICVTAAFGVLLSNFGAPSYCNGVRELYLNSSNVTTMDFCEGSFPCSICLSGLDSLDSYPALETIQVTISSYKLDLTILGLAAEWVLAYMLFTKFFYLLGLSAIMQVFFGYFASHFISNSWLMWFIISIVQMAPVSAMVRMYIFFASFYYIWKSYVHIMDGCTSSTCMMCYKRNRATRVECTTIVNGMKRSFYVYANGGRGFCKTHNWNCLNCDTFCTGSTFISDEVARDLSLQFKRPINPTDQSSYIVDSVAVKNGALHLYFDKAGQKTYERHPLSHFVNLDNLRANNTKGSLPINVIVFDGKSKCDESASKSASVYYSQLMCQPILLLDQALVSDVGDSTEVSVKMFDAYVDTFSATFSVPMEKLKALVATAHSELAKGVALDGVLSTFVSAARQGVVDTDVDTKDVIECLKLSHHSDLEVTGDSCNNFMLTYNKVENMTPRDLGACIDCNARHINAQVAKSHNVSLIWNVKDYMSLSEQLRKQIRSAAKKNNIPFRLTCATTRQVVNVITTKISLKGGKIVSTCFKLMLKATLLCVLAALVCYIVMPVHTLSIHDGYTNEIIGYKAIQDGVTRDIISTDDCFANKHAGFDAWFSQRGGSYKNDKSCPVVAAIITREIGFIVPGLPGTVLRAINGDFLHFLPRVFSAVGNICYTPSKLIEYSDFATSACVLAAECTIFKDAMGKPVPYCYDTNLLEGSISYSELRPDTRYVLMDGSIIQFPNTYLEGSVRVVTTFDAEYCRHGTCERSEVGICLSTSGRWVLNNEHYRALSGVFCGVDAMNLIANIFTPLVQPVGALDVSASVVAGGIIAILVTCAAYYFMKFRRVFGEYNHVVAANALLFLMSFTILCLVPAYSFLPGVYSVFYLYLTFYFTNDVSFLAHLQWFAMFSPIVPFWITAIYVFCISLKHCHWFFNNYLRKRVMFNGVTFSTFEEAALCTFLLNKEMYLKLRSETLLPLTQYNRYLALYNKYKYFSGALDTTSYREAACCHLAKALNDFSNSGADVLYQPPQTSITSAVLQSGFRKMAFPSGKVEGCMVQVTCGTTTLNGLWLDDTVYCPRHVICTAEDMLNPNYEDLLIRKSNHSFLVQAGNVQLRVIGHSMQNCLLRLKVDTSNPKTPKYKFVRIQPGQTFSVLACYNGSPSGVYQCAMRPNHTIKGSFLNGSCGSVGFNIDYDCVSFCYMHHMELPTGVHAGTDLEGKFYGPFVDRQTAQAAGTDTTITLNVLAWLYAAVINGDRWFLNRFTTTLNDFNLVAMKYNYEPLTQDHVDILGPLSAQTGIAVLDMCAALKELLQNGMNGRTILGSTILEDEFTPFDVVRQCSGVTFQGKFKKIVKGTHHWMLLTFLTSLLILVQSTQWSLFFFVYENAFLPFTLGIMAIAACAMLLVKHKHAFLCLFLLPSLATVAYFNMVYMPASWVMRIMTWLELADTSLSGYRLKDCVMYASALVLLILMTARTVYDDAARRVWTLMNVITLVYKVYYGNALDQAISMWALVISVTSNYSGVVTTIMFLARAIVFVCVEYYPLLFITGNTLQCIMLVYCFLGYCCCCYFGLFCLLNRYFRLTLGVYDYLVSTQEFRYMNSQGLLPPKSSIDAFKLNIKLLGIGGKPCIKVATVQSKMSDVKCTSVVLLSVLQQLRVESSSKLWAQCVQLHNDILLAKDTTEAFEKMVSLLSVLLSMQGAVDINRLCEEMLDNRATLQAIASEFSSLPSYAAYATAQEAYEQAVANGDSEVVLKKLKKSLNVAKSEFDRDAAMQRKLEKMADQAMTQMYKQARSEDKRAKVTSAMQTMLFTMLRKLDNDALNNIINNARDGCVPLNIIPLTTAAKLMVVVPDYGTYKNTCDGNTFTYASALWEIQQVVDADSKIVQLSEINMDNSPNLAWPLIVTALRANSAVKLQNNELSPVALRQMSCAAGTTQTACTDDNALAYYNNSKGGRFVLALLSDHQDLKWARFPKSDGTGTIYTELEPPCRFVTDTPKGPKVKYLYFIKGLNNLNRGMVLGSLAATVRLQAGNATEVPANSTVLSFCAFAVDPAKAYKDYLASGGQPITNCVKMLCTHTGTGQAITVTPEANMDQESFGGASCCLYCRCHIDHPNPKGFCDLKGKYVQIPTTCANDPVGFTLRNTVCTVCGMWKGYGCSCDQLREPLMQSADASTFLNGFAV',\n",
       " 'VQPVLHRAAQALVLMSSTGLLIFTTKKLLVLQSS',\n",
       " 'KLIAVASRRRMRKAIY',\n",
       " 'TLTL',\n",
       " 'LRGILCLTTNMKRLFITWLKIVQRLLSMTFSSLE',\n",
       " 'MVTWYHIYHVSV',\n",
       " 'LNTQWLI',\n",
       " 'SMLYVILMRVIVIH',\n",
       " 'KKYSSHTIAVMMIISIRRIGMTS',\n",
       " 'RILTSYAYMLT',\n",
       " 'VSVYANHY',\n",
       " 'RLYNSAMLCVMQAL',\n",
       " 'AY',\n",
       " 'H',\n",
       " 'IIRILMGTGTISVISYK',\n",
       " 'HQAAEFLLWIHITHC',\n",
       " 'CPSSL',\n",
       " 'LGHWLLSPIWMLISQNHLLSGIC',\n",
       " 'NMILRKRDFVSSTVILNIGTRHTIPIVLTVWMIGVSFIVQTLMCYFLLCFHLQVLDH',\n",
       " '',\n",
       " 'EKYL',\n",
       " 'MVFLLLFQLDTIFVS',\n",
       " 'ESYIIRM',\n",
       " 'TYIARVSVSRNF',\n",
       " 'CMLLIQLCMQLLAIYC',\n",
       " 'INALHAFQ',\n",
       " 'LH',\n",
       " 'QTMLLFKLSNPVILIKTFMTLLCLKVSLRKEVLLN',\n",
       " 'NTSSLLRMATLLSVIMTIIVIICQQCVISDNSYS',\n",
       " 'LKLLINTLIVTMVAVLMPTK',\n",
       " 'SLTIWINQLVSHLINGVRLDFIMTQ',\n",
       " 'VMRIKMHFSRILSVMSSLL',\n",
       " 'LK',\n",
       " 'ILSMPLVQRIELAP',\n",
       " 'LVSLSVVL',\n",
       " 'QIDSFIRNY',\n",
       " 'SQ',\n",
       " 'PPLEELLW',\n",
       " 'LEQASFTVAGIIC',\n",
       " 'KLFTVM',\n",
       " 'KLHTLWVGIIQNVTEPCLTCLG',\n",
       " 'WPLLFLLANITLAVTYHTVSTG',\n",
       " 'LTSVRKY',\n",
       " 'VRWSCVAAHYMLNQVEHHPVMLQLLMLIVSLTFVKLLQPM',\n",
       " 'MHFFQLMVIR',\n",
       " 'LTSMSAIYNTGSMSVSIEIGMLIMNSWMSFTLTCVNISP',\n",
       " '',\n",
       " 'FFLMMPLCAITVTMRLKV',\n",
       " '',\n",
       " 'LALRTLRQFFIIKIMCSCLRQNVGLRLTLLKDLTNFAHSIQC',\n",
       " 'LNKEMITCTCLTQIHQEY',\n",
       " 'AQAVLSMILSKQMVHL',\n",
       " 'LKGSCHWLLMLTHLQNILIRSMLMSFTCIYNTLESYMMSLLATCWTCIP',\n",
       " 'C',\n",
       " 'LMITPHGTGNLSFMRLCTHHIQSCRL',\n",
       " 'VLVYCAIHRLHFVAVPVLGDHSYVASAAMTMSFQHHTN',\n",
       " 'CCLLIPMFAMPQVVMSLM',\n",
       " 'HNCI',\n",
       " 'EV',\n",
       " 'AIIASHISLPLVFHYVLMVRFLVYTKTHV',\n",
       " 'AVTMSLTSMR',\n",
       " 'QHVIGLMLAITYLPTLVLRDSSFSQQKRSKPLRKHLSCHMVLPLYAKYSLTENCIFHGRLENLDHH',\n",
       " 'TETMSLLVTV',\n",
       " 'LKIVKYRLESTPLKKVTMVMLLCTEVLRHTS',\n",
       " 'MLVITLC',\n",
       " 'HLTL',\n",
       " 'CHLVHLL',\n",
       " 'CHKSTM',\n",
       " 'ELLACTQHSTSQMSFLAMLQIIKRSACKSTLHSKDHLVLVRVILPSDLLSITHLLA',\n",
       " 'CIRHALMQLLMPYVKRH',\n",
       " 'NICP',\n",
       " 'INVVESYLRVRA',\n",
       " 'SVLINSK',\n",
       " 'IQH',\n",
       " 'NSMFSAL',\n",
       " 'MHCQKQLLTL',\n",
       " 'SLMKSLWLLIMT',\n",
       " 'VLSMLDFVQNTTSILAILLNYQPPAHC',\n",
       " 'LKAH',\n",
       " 'NQNILIQCADL',\n",
       " 'KQ',\n",
       " 'VQTCSLELVAVVLLKLLTL',\n",
       " 'VL',\n",
       " 'FMTIS',\n",
       " 'KHTRISQLNASKCSTKVLLHMMFHLQSTDLK',\n",
       " 'AL',\n",
       " 'ENFLHAILLGEKLFLSHLIIHRTL',\n",
       " 'LQKS',\n",
       " 'DCLRRLLIHHRVLNMTMSYSHKLLKQHTLVMSTASMWLSQGQKLAFCA',\n",
       " 'CLIEIFMTNCNLQV',\n",
       " 'KYHVAMWLHYKQKM',\n",
       " 'LDFLRTVVRSLLVFILHRHLHTSALI',\n",
       " 'SSRLKDYVLTYQAYQRT',\n",
       " 'PTVDSSL',\n",
       " 'WVSK',\n",
       " 'ITKSMVTLICLSPAKKLFVTFVRGLALM',\n",
       " 'RAVMQLEMLWVLTYLSS',\n",
       " 'DFLQVLT',\n",
       " '',\n",
       " 'LYRLVMLTLKITQNSPELMQNLHQVTSLNILYHSCIKACPGM',\n",
       " 'CVLR',\n",
       " 'YKCSVIH',\n",
       " 'KDCQTESCSSFGRMALSLHQ',\n",
       " 'STLSRLDLKERVVCVTNVQLAFLLHQILMPAGIILWVLTMSITHL',\n",
       " 'LMFSSGALRVTFRVTMTNIARYMEMHMWLVVMLS',\n",
       " 'LDV',\n",
       " 'QSMSALLSALIGLLNTLL',\n",
       " 'EMN',\n",
       " 'GLILLAEKYNTWL',\n",
       " 'SLHCLLISFQFFMTLEIQRLSSVCLRLK',\n",
       " 'NGSSTMLSHVVTKLTK',\n",
       " 'RNSSILMLHITINSLMVFVCFGIVTLIVTQPMQLCVGLTQESCQT',\n",
       " 'TYQAVMVVVCM',\n",
       " 'ISMHSTLQLSIKVHLLI',\n",
       " 'SNCLSFTILIVLVSLMANK',\n",
       " 'CRILIMFHSNLLRVLHDAI',\n",
       " 'VVLFADTMQMSTDSTWMHII',\n",
       " '',\n",
       " 'FLLDLAYGFTNNLILITCGIHLPGYRV',\n",
       " 'KMWLIMLLIKDTLMDTPAKHLFPSLIMLFTQR',\n",
       " 'MVLMWRSLKIRQHFLLMLHLSFGLSVTLNQCQRLRYSIIWVLISLLIL',\n",
       " 'SGTTKEKPQHMYLQ',\n",
       " 'VSAQ',\n",
       " 'LTLPRNLLRVLVLHLLSCLMVEWKDR',\n",
       " 'TFLETPVMVF',\n",
       " '',\n",
       " 'QKVQSKV',\n",
       " 'HLQRDQHKLASMESH',\n",
       " 'LENQ',\n",
       " 'KHSLTTLRK',\n",
       " 'TALFNSCLKPTLLRAET',\n",
       " 'RILSPDHKWKLTFSSSLWMNSYSDISSRAMPSNTSFMEISVMDNLAVFI',\n",
       " '',\n",
       " '',\n",
       " 'A',\n",
       " 'PSAHKIHHLN',\n",
       " 'RILSLWTAQ',\n",
       " 'KITS',\n",
       " 'QMRKQVHQNVCVL',\n",
       " 'LIFYLMTLSR',\n",
       " '',\n",
       " 'SHKICQ',\n",
       " 'FQKWSRLQLTMLKFHSCFGVRMDMLKPSTQNYKQVKRGNQVLRCLTCTRCKECFLKSVTFRIMVKMLLYQKE',\n",
       " '',\n",
       " '',\n",
       " 'MSQSILNCVNT',\n",
       " 'IHLL',\n",
       " 'LYPTT',\n",
       " 'ELFTLVLALIKELHQVQLCSDNGCQLAHYLSIQILMTSSPTQILL',\n",
       " 'LETVQQYIRLINGTLLLAICMTLGPNM',\n",
       " 'QKRMTLKKGFSLICVDL',\n",
       " 'SKN',\n",
       " 'PWVVL',\n",
       " 'L',\n",
       " 'R',\n",
       " 'QSILGMLTFTSLWAISHGGQLLLQM',\n",
       " 'MHHHRKHF',\n",
       " 'LGLTILASRRNKLMAIPCMLTTFSGGTQILSSCLPIHSLT',\n",
       " 'ANFLLN',\n",
       " 'EELL',\n",
       " 'CLLRRIKSMI',\n",
       " 'FILFWKKVGLSLEKTTELWFQVIFLLTTKRTCLFSYYFLLSLVVVTLTGAPLLMMFKLLITLNILHL',\n",
       " 'GGFTILMKFLDQTLFI',\n",
       " 'LRIYFFHFILMLQGFILLIIRLATLSYLLRMVFILLPQRNQMLSVVGFLVLP',\n",
       " 'TTSHSR',\n",
       " 'LLLTILLMLLYEHVTLNCVTTLSLLFLNPWVHRHIL',\n",
       " 'YSIMHLIALSSTYLMPFRLMFQKSQVILNTYESLCLKIKMGFSMFIRAINL',\n",
       " 'M',\n",
       " 'FVIYLLVLTL',\n",
       " 'NLFLSCLLVLTLQILEPFLQPFHLLKTFGARQLQPILLAI',\n",
       " 'SQLHLCSSMMKMVQSQMLLIVLKIHLLNSNALLRALRLTKEFTRPLISGLFPQEML',\n",
       " 'DSLILQTCVLLERFLMLLNSLLSMHGREKKFLIVLLITLCSTTQHFFQPLSAMAFLPLS',\n",
       " 'MIFASPMSMQILL',\n",
       " 'SREMM',\n",
       " 'DK',\n",
       " 'RQDKLVLLLIIIINCQMISWVVSLLGILGTLMLLQLVIIIINIGILDMASLGPLRETYLMCLSPLMANLAPHLLLIVIGH',\n",
       " 'MIMVFTPLLALATNLTEL',\n",
       " 'YFLLNF',\n",
       " 'MHRPRFVDQNYPLTLLRTSVSILILMDSLVLVC',\n",
       " 'LLLQRDFNHFNNLAVMFLISLIPFEILKHLKY',\n",
       " 'TFHLALLGV',\n",
       " 'V',\n",
       " 'LHLEQMLHLKLLFYIKMLTALMFLQQFMQINSHQLGAYILLETMYSRLKQAVL',\n",
       " 'ELSMSTLLMSATFLLELAFVLVTIQFLYYVVLAKNLLWLILCL',\n",
       " 'VLIVQLLTLITPLLYLLTFQLALLQK',\n",
       " 'CLFLWLKPP',\n",
       " 'IVICTSAEILLNVLICFSNMVAFAHN',\n",
       " 'IVHSQVLLLNRIATHVKCSLKSNKCTKPQL',\n",
       " 'NILVVLIFHKYYLTL',\n",
       " 'SQLRGLLLRTCSLIR',\n",
       " 'HSLMLAS',\n",
       " 'SNMANA',\n",
       " 'VILMLEISFVRRSSMDLQCCHLCSLMI',\n",
       " 'LLPTLLL',\n",
       " 'LVVLPLLDGHLVLALLFKYLLLCKWHIGSMALELPKMFSMRTKNKSPTNLTRRLVKFKNHLQQHQLHWASCKTLLTRMLKH',\n",
       " 'THLLNNLALILVQFQVC',\n",
       " 'MISFRDLIKSRRRYKLTG',\n",
       " 'LQADFKAFKPM',\n",
       " 'HNN',\n",
       " 'SGLLKSGLLLILLLLKCLSVFLDNQKELTFVERATTLCPSHKQPRMVLSSYMSRMCHPRRGTSPQRQQFVMKAKHTSLVKVFLCLMALLGLLHRGTSFLHK',\n",
       " 'LLQTIHLSQEIVMSLLASLTTQFMILCNLSLTHSKKSWTSTSKIIHHQMLILATFQALTLLSSTFKKKLTASMRSLKI',\n",
       " 'MNHSLTFKNWENMSNILNGLGMFGSASLLD',\n",
       " 'LPSSWLQSCFVA',\n",
       " 'LVVAVASRVHALVVLAASLMRMTLSQFSRVSNYITHKRTYGFVYEIFYS',\n",
       " 'INYCTASKN',\n",
       " 'QCFSCKYCSCYSNDTATSLTPFRMACYWRCISCCFSERYQNNCAQ',\n",
       " 'KMAASPL',\n",
       " 'GLPVHLQFTAAICYHLFTSFACRCRYGGAIFVPLCLDIFSTMHQRM',\n",
       " 'NYYEMLALLEVQIQEPITL',\n",
       " 'CQLLCLLAHT',\n",
       " 'L',\n",
       " 'LLYTI',\n",
       " 'QCHRYNCRY',\n",
       " 'R',\n",
       " 'RHFNTKTQRRLPNWWLF',\n",
       " 'G',\n",
       " 'ALRC',\n",
       " 'RLCRCTWLFHRSLLPA',\n",
       " 'VYTNYYRHWY',\n",
       " 'KCYILHL',\n",
       " 'QAC',\n",
       " 'RPTECANTHNRRLFRSC',\n",
       " 'SSNGSNL',\n",
       " '',\n",
       " 'ADDDY',\n",
       " 'RAFVSTRK',\n",
       " 'VRTYVLIRFGRNRYVNS',\n",
       " '',\n",
       " 'RTSFSCFRGILASHTSHPYCASIVCVLLQYC',\n",
       " 'REFSKTNGLRLLAC',\n",
       " 'KSELF',\n",
       " 'RSS',\n",
       " 'SSGLNELTIIIILFGTLTLLIMADNGTITVEELKQLLEQWNLVIGFLFLAWIMLLQFAYSNRNRFLYIIKLVFLWLLWPVTLACFVLAAVYRINWVTGGIAIAMACIVGLMWLSYFVASFRLFARTRSMWSFNPETNILLNVPLRGTIVTRPLMESELVIGAVIIRGHLRMAGHSLGRCDIKDLPKEITVATSRTLSYYKLGASQRVGTDSGFAAYNRYRIGNYKLNTDHAGSNDNIALLVQ',\n",
       " 'VTTDVSSC',\n",
       " 'LPGYNSRDIDYHYEDFQDCYLES',\n",
       " 'RYNKFNSETII',\n",
       " 'ASN',\n",
       " 'EELFGVR',\n",
       " '',\n",
       " 'RTYGVRLSIKRT',\n",
       " 'KLFSS',\n",
       " 'H',\n",
       " 'LYLHLASYITIRSVLEVRLYY',\n",
       " 'KNLAHQEHTRAIHHFTLLLTINLH',\n",
       " 'LALAHTLLLLVLTVLDIPISCVQDQFHQNFSSDKRRFNKSSTRHFFSLLLL',\n",
       " 'YF',\n",
       " 'YFASPLRERQNE',\n",
       " 'AHFN',\n",
       " 'LLFVLFSLSAIPCFNNAYYILVFTRNPGSRRTLYQSLNEHETSHCFDLYFSMQLHMHCSTALCI',\n",
       " '',\n",
       " 'TSCA',\n",
       " 'RSL',\n",
       " 'GTTLGVILIALLGFVL',\n",
       " 'ERFYLFIDGTLWFKHAHLMLLSTVKIQLVVRL',\n",
       " 'LGVGTFMKVTKLLHLETYLLF',\n",
       " 'INEQIKMSDNGPQSNQRSAPRITFGGPTDSTDNNQNGGRNGARPKQRRPQGLPNNTASWFTALTQHGKEELRFPRGQGVPINTNSGPDDQIGYYRRATRRVRGGDGKMKELSPRWYFYYLGTGPEASLPYGANKEGIVWVATEGALNTPKDHIGTRNPNNNAATVLQLPQGTTLPKGFYAEGSRGGSQASSRSSSRSRGNSRNSTPGSSRGNSPARMASGGGETALALLLLDRLNQLESKVSGKGQQQQGQTVTKKSAAEASKKPRQKRTATKQYNVTQAFGRRGPEQTQGNFGDQDLIRQGTDYKHWPQIAQFAPSASAFFGMSRIGMEVTPSGTWLTYHGAIKLDDKDPQFKDNVILLNKHIDAYKTFPPTEPKKDKKKKTDEAQPLPQRQKKQPTVTLLPAADMDDFSRQLQNSMSGASADSTQA',\n",
       " 'TLMMTTQGRWAM',\n",
       " 'TFSQFRLRYIVYSCAE',\n",
       " 'ILVTKQHK',\n",
       " 'V',\n",
       " 'LTLISHSNL',\n",
       " 'SMCNIREDLKEPPHFHRGHAEYDRGYSE',\n",
       " 'C',\n",
       " 'GELPIWKSPNV',\n",
       " 'N',\n",
       " 'F',\n",
       " '',\n",
       " 'CYPHVILIAS',\n",
       " 'ENDKKKKKKKK']"
      ]
     },
     "execution_count": 32,
     "metadata": {},
     "output_type": "execute_result"
    }
   ],
   "source": [
    "n_CoV_clean= [str(i) for i in nCoV_aa]\n",
    "n_CoV_clean"
   ]
  },
  {
   "cell_type": "code",
   "execution_count": 33,
   "metadata": {},
   "outputs": [
    {
     "data": {
      "text/html": [
       "<div>\n",
       "<style scoped>\n",
       "    .dataframe tbody tr th:only-of-type {\n",
       "        vertical-align: middle;\n",
       "    }\n",
       "\n",
       "    .dataframe tbody tr th {\n",
       "        vertical-align: top;\n",
       "    }\n",
       "\n",
       "    .dataframe thead th {\n",
       "        text-align: right;\n",
       "    }\n",
       "</style>\n",
       "<table border=\"1\" class=\"dataframe\">\n",
       "  <thead>\n",
       "    <tr style=\"text-align: right;\">\n",
       "      <th></th>\n",
       "      <th>amino acids</th>\n",
       "    </tr>\n",
       "  </thead>\n",
       "  <tbody>\n",
       "    <tr>\n",
       "      <th>0</th>\n",
       "      <td>ILGFYLPRKSQPTSISCRSVL</td>\n",
       "    </tr>\n",
       "    <tr>\n",
       "      <th>1</th>\n",
       "      <td>TNFKICVAVARLHA</td>\n",
       "    </tr>\n",
       "    <tr>\n",
       "      <th>2</th>\n",
       "      <td>CTYAV</td>\n",
       "    </tr>\n",
       "    <tr>\n",
       "      <th>3</th>\n",
       "      <td>TIINFTVVDKKRVTRPSSADCLRFRPCCSRSSAYLGFVRV</td>\n",
       "    </tr>\n",
       "    <tr>\n",
       "      <th>4</th>\n",
       "      <td>PKGKMESLVLGVNEKTHVQLSLPVLQVRDVLVRGFGDSVEEALSEA...</td>\n",
       "    </tr>\n",
       "    <tr>\n",
       "      <th>...</th>\n",
       "      <td>...</td>\n",
       "    </tr>\n",
       "    <tr>\n",
       "      <th>268</th>\n",
       "      <td>N</td>\n",
       "    </tr>\n",
       "    <tr>\n",
       "      <th>269</th>\n",
       "      <td>F</td>\n",
       "    </tr>\n",
       "    <tr>\n",
       "      <th>270</th>\n",
       "      <td></td>\n",
       "    </tr>\n",
       "    <tr>\n",
       "      <th>271</th>\n",
       "      <td>CYPHVILIAS</td>\n",
       "    </tr>\n",
       "    <tr>\n",
       "      <th>272</th>\n",
       "      <td>ENDKKKKKKKK</td>\n",
       "    </tr>\n",
       "  </tbody>\n",
       "</table>\n",
       "<p>273 rows × 1 columns</p>\n",
       "</div>"
      ],
      "text/plain": [
       "                                           amino acids\n",
       "0                                ILGFYLPRKSQPTSISCRSVL\n",
       "1                                       TNFKICVAVARLHA\n",
       "2                                                CTYAV\n",
       "3             TIINFTVVDKKRVTRPSSADCLRFRPCCSRSSAYLGFVRV\n",
       "4    PKGKMESLVLGVNEKTHVQLSLPVLQVRDVLVRGFGDSVEEALSEA...\n",
       "..                                                 ...\n",
       "268                                                  N\n",
       "269                                                  F\n",
       "270                                                   \n",
       "271                                         CYPHVILIAS\n",
       "272                                        ENDKKKKKKKK\n",
       "\n",
       "[273 rows x 1 columns]"
      ]
     },
     "execution_count": 33,
     "metadata": {},
     "output_type": "execute_result"
    }
   ],
   "source": [
    "import pandas as pd\n",
    "df= pd.DataFrame({'amino acids':n_CoV_clean})\n",
    "df"
   ]
  },
  {
   "cell_type": "code",
   "execution_count": 34,
   "metadata": {},
   "outputs": [
    {
     "data": {
      "text/html": [
       "<div>\n",
       "<style scoped>\n",
       "    .dataframe tbody tr th:only-of-type {\n",
       "        vertical-align: middle;\n",
       "    }\n",
       "\n",
       "    .dataframe tbody tr th {\n",
       "        vertical-align: top;\n",
       "    }\n",
       "\n",
       "    .dataframe thead th {\n",
       "        text-align: right;\n",
       "    }\n",
       "</style>\n",
       "<table border=\"1\" class=\"dataframe\">\n",
       "  <thead>\n",
       "    <tr style=\"text-align: right;\">\n",
       "      <th></th>\n",
       "      <th>amino acids</th>\n",
       "      <th>count</th>\n",
       "    </tr>\n",
       "  </thead>\n",
       "  <tbody>\n",
       "    <tr>\n",
       "      <th>0</th>\n",
       "      <td>ILGFYLPRKSQPTSISCRSVL</td>\n",
       "      <td>21</td>\n",
       "    </tr>\n",
       "    <tr>\n",
       "      <th>1</th>\n",
       "      <td>TNFKICVAVARLHA</td>\n",
       "      <td>14</td>\n",
       "    </tr>\n",
       "    <tr>\n",
       "      <th>2</th>\n",
       "      <td>CTYAV</td>\n",
       "      <td>5</td>\n",
       "    </tr>\n",
       "    <tr>\n",
       "      <th>3</th>\n",
       "      <td>TIINFTVVDKKRVTRPSSADCLRFRPCCSRSSAYLGFVRV</td>\n",
       "      <td>40</td>\n",
       "    </tr>\n",
       "    <tr>\n",
       "      <th>4</th>\n",
       "      <td>PKGKMESLVLGVNEKTHVQLSLPVLQVRDVLVRGFGDSVEEALSEA...</td>\n",
       "      <td>4386</td>\n",
       "    </tr>\n",
       "    <tr>\n",
       "      <th>...</th>\n",
       "      <td>...</td>\n",
       "      <td>...</td>\n",
       "    </tr>\n",
       "    <tr>\n",
       "      <th>268</th>\n",
       "      <td>N</td>\n",
       "      <td>1</td>\n",
       "    </tr>\n",
       "    <tr>\n",
       "      <th>269</th>\n",
       "      <td>F</td>\n",
       "      <td>1</td>\n",
       "    </tr>\n",
       "    <tr>\n",
       "      <th>270</th>\n",
       "      <td></td>\n",
       "      <td>0</td>\n",
       "    </tr>\n",
       "    <tr>\n",
       "      <th>271</th>\n",
       "      <td>CYPHVILIAS</td>\n",
       "      <td>10</td>\n",
       "    </tr>\n",
       "    <tr>\n",
       "      <th>272</th>\n",
       "      <td>ENDKKKKKKKK</td>\n",
       "      <td>11</td>\n",
       "    </tr>\n",
       "  </tbody>\n",
       "</table>\n",
       "<p>273 rows × 2 columns</p>\n",
       "</div>"
      ],
      "text/plain": [
       "                                           amino acids  count\n",
       "0                                ILGFYLPRKSQPTSISCRSVL     21\n",
       "1                                       TNFKICVAVARLHA     14\n",
       "2                                                CTYAV      5\n",
       "3             TIINFTVVDKKRVTRPSSADCLRFRPCCSRSSAYLGFVRV     40\n",
       "4    PKGKMESLVLGVNEKTHVQLSLPVLQVRDVLVRGFGDSVEEALSEA...   4386\n",
       "..                                                 ...    ...\n",
       "268                                                  N      1\n",
       "269                                                  F      1\n",
       "270                                                         0\n",
       "271                                         CYPHVILIAS     10\n",
       "272                                        ENDKKKKKKKK     11\n",
       "\n",
       "[273 rows x 2 columns]"
      ]
     },
     "execution_count": 34,
     "metadata": {},
     "output_type": "execute_result"
    }
   ],
   "source": [
    "df['count']= df['amino acids'].str.len()\n",
    "df"
   ]
  },
  {
   "cell_type": "code",
   "execution_count": 35,
   "metadata": {},
   "outputs": [
    {
     "data": {
      "text/html": [
       "<div>\n",
       "<style scoped>\n",
       "    .dataframe tbody tr th:only-of-type {\n",
       "        vertical-align: middle;\n",
       "    }\n",
       "\n",
       "    .dataframe tbody tr th {\n",
       "        vertical-align: top;\n",
       "    }\n",
       "\n",
       "    .dataframe thead th {\n",
       "        text-align: right;\n",
       "    }\n",
       "</style>\n",
       "<table border=\"1\" class=\"dataframe\">\n",
       "  <thead>\n",
       "    <tr style=\"text-align: right;\">\n",
       "      <th></th>\n",
       "      <th>amino acids</th>\n",
       "      <th>count</th>\n",
       "    </tr>\n",
       "  </thead>\n",
       "  <tbody>\n",
       "    <tr>\n",
       "      <th>4</th>\n",
       "      <td>PKGKMESLVLGVNEKTHVQLSLPVLQVRDVLVRGFGDSVEEALSEA...</td>\n",
       "      <td>4386</td>\n",
       "    </tr>\n",
       "    <tr>\n",
       "      <th>259</th>\n",
       "      <td>INEQIKMSDNGPQSNQRSAPRITFGGPTDSTDNNQNGGRNGARPKQ...</td>\n",
       "      <td>428</td>\n",
       "    </tr>\n",
       "    <tr>\n",
       "      <th>236</th>\n",
       "      <td>SSGLNELTIIIILFGTLTLLIMADNGTITVEELKQLLEQWNLVIGF...</td>\n",
       "      <td>242</td>\n",
       "    </tr>\n",
       "    <tr>\n",
       "      <th>203</th>\n",
       "      <td>SGLLKSGLLLILLLLKCLSVFLDNQKELTFVERATTLCPSHKQPRM...</td>\n",
       "      <td>101</td>\n",
       "    </tr>\n",
       "    <tr>\n",
       "      <th>198</th>\n",
       "      <td>LVVLPLLDGHLVLALLFKYLLLCKWHIGSMALELPKMFSMRTKNKS...</td>\n",
       "      <td>81</td>\n",
       "    </tr>\n",
       "    <tr>\n",
       "      <th>179</th>\n",
       "      <td>RQDKLVLLLIIIINCQMISWVVSLLGILGTLMLLQLVIIIINIGIL...</td>\n",
       "      <td>80</td>\n",
       "    </tr>\n",
       "    <tr>\n",
       "      <th>204</th>\n",
       "      <td>LLQTIHLSQEIVMSLLASLTTQFMILCNLSLTHSKKSWTSTSKIIH...</td>\n",
       "      <td>78</td>\n",
       "    </tr>\n",
       "    <tr>\n",
       "      <th>146</th>\n",
       "      <td>FQKWSRLQLTMLKFHSCFGVRMDMLKPSTQNYKQVKRGNQVLRCLT...</td>\n",
       "      <td>72</td>\n",
       "    </tr>\n",
       "    <tr>\n",
       "      <th>165</th>\n",
       "      <td>FILFWKKVGLSLEKTTELWFQVIFLLTTKRTCLFSYYFLLSLVVVT...</td>\n",
       "      <td>67</td>\n",
       "    </tr>\n",
       "    <tr>\n",
       "      <th>65</th>\n",
       "      <td>QHVIGLMLAITYLPTLVLRDSSFSQQKRSKPLRKHLSCHMVLPLYA...</td>\n",
       "      <td>66</td>\n",
       "    </tr>\n",
       "  </tbody>\n",
       "</table>\n",
       "</div>"
      ],
      "text/plain": [
       "                                           amino acids  count\n",
       "4    PKGKMESLVLGVNEKTHVQLSLPVLQVRDVLVRGFGDSVEEALSEA...   4386\n",
       "259  INEQIKMSDNGPQSNQRSAPRITFGGPTDSTDNNQNGGRNGARPKQ...    428\n",
       "236  SSGLNELTIIIILFGTLTLLIMADNGTITVEELKQLLEQWNLVIGF...    242\n",
       "203  SGLLKSGLLLILLLLKCLSVFLDNQKELTFVERATTLCPSHKQPRM...    101\n",
       "198  LVVLPLLDGHLVLALLFKYLLLCKWHIGSMALELPKMFSMRTKNKS...     81\n",
       "179  RQDKLVLLLIIIINCQMISWVVSLLGILGTLMLLQLVIIIINIGIL...     80\n",
       "204  LLQTIHLSQEIVMSLLASLTTQFMILCNLSLTHSKKSWTSTSKIIH...     78\n",
       "146  FQKWSRLQLTMLKFHSCFGVRMDMLKPSTQNYKQVKRGNQVLRCLT...     72\n",
       "165  FILFWKKVGLSLEKTTELWFQVIFLLTTKRTCLFSYYFLLSLVVVT...     67\n",
       "65   QHVIGLMLAITYLPTLVLRDSSFSQQKRSKPLRKHLSCHMVLPLYA...     66"
      ]
     },
     "execution_count": 35,
     "metadata": {},
     "output_type": "execute_result"
    }
   ],
   "source": [
    "df.nlargest(10,'count')"
   ]
  },
  {
   "cell_type": "code",
   "execution_count": 36,
   "metadata": {},
   "outputs": [],
   "source": [
    "from collections import Counter"
   ]
  },
  {
   "cell_type": "code",
   "execution_count": 37,
   "metadata": {},
   "outputs": [
    {
     "data": {
      "text/plain": [
       "[('L', 1368),\n",
       " ('S', 737),\n",
       " ('T', 689),\n",
       " ('V', 683),\n",
       " ('A', 575),\n",
       " ('I', 566),\n",
       " ('K', 503),\n",
       " ('G', 438),\n",
       " ('F', 437),\n",
       " ('N', 418)]"
      ]
     },
     "execution_count": 37,
     "metadata": {},
     "output_type": "execute_result"
    }
   ],
   "source": [
    "Counter(nCoV_protein).most_common(10)"
   ]
  },
  {
   "cell_type": "code",
   "execution_count": 38,
   "metadata": {},
   "outputs": [],
   "source": [
    "from Bio.PDB import PDBParser"
   ]
  },
  {
   "cell_type": "code",
   "execution_count": 39,
   "metadata": {
    "scrolled": true
   },
   "outputs": [
    {
     "data": {
      "text/plain": [
       "['AbstractPropertyMap',\n",
       " 'Atom',\n",
       " 'CaPPBuilder',\n",
       " 'Chain',\n",
       " 'DSSP',\n",
       " 'Dice',\n",
       " 'Entity',\n",
       " 'ExposureCN',\n",
       " 'FastMMCIFParser',\n",
       " 'FragmentMapper',\n",
       " 'HSExposure',\n",
       " 'HSExposureCA',\n",
       " 'HSExposureCB',\n",
       " 'MMCIF2Dict',\n",
       " 'MMCIFIO',\n",
       " 'MMCIFParser',\n",
       " 'Model',\n",
       " 'NeighborSearch',\n",
       " 'PDBExceptions',\n",
       " 'PDBIO',\n",
       " 'PDBList',\n",
       " 'PDBParser',\n",
       " 'PPBuilder',\n",
       " 'Polypeptide',\n",
       " 'Residue',\n",
       " 'ResidueDepth',\n",
       " 'Select',\n",
       " 'Selection',\n",
       " 'Structure',\n",
       " 'StructureAlignment',\n",
       " 'StructureBuilder',\n",
       " 'Superimposer',\n",
       " 'Vector',\n",
       " '__builtins__',\n",
       " '__cached__',\n",
       " '__doc__',\n",
       " '__file__',\n",
       " '__loader__',\n",
       " '__name__',\n",
       " '__package__',\n",
       " '__path__',\n",
       " '__spec__',\n",
       " 'calc_angle',\n",
       " 'calc_dihedral',\n",
       " 'extract',\n",
       " 'get_surface',\n",
       " 'ic_data',\n",
       " 'internal_coords',\n",
       " 'is_aa',\n",
       " 'm2rotaxis',\n",
       " 'make_dssp_dict',\n",
       " 'mmcifio',\n",
       " 'parse_pdb_header',\n",
       " 'protein_letters_3to1',\n",
       " 'refmat',\n",
       " 'rotaxis',\n",
       " 'rotaxis2m',\n",
       " 'rotmat',\n",
       " 'standard_aa_names',\n",
       " 'vector_to_axis',\n",
       " 'vectors']"
      ]
     },
     "execution_count": 39,
     "metadata": {},
     "output_type": "execute_result"
    }
   ],
   "source": [
    "dir(Bio.PDB)"
   ]
  },
  {
   "cell_type": "code",
   "execution_count": 40,
   "metadata": {},
   "outputs": [],
   "source": [
    "parser= PDBParser()"
   ]
  },
  {
   "cell_type": "code",
   "execution_count": 41,
   "metadata": {},
   "outputs": [
    {
     "name": "stderr",
     "output_type": "stream",
     "text": [
      "C:\\Users\\HP\\anaconda3\\lib\\site-packages\\Bio\\PDB\\StructureBuilder.py:92: PDBConstructionWarning: WARNING: Chain A is discontinuous at line 23721.\n",
      "  PDBConstructionWarning,\n",
      "C:\\Users\\HP\\anaconda3\\lib\\site-packages\\Bio\\PDB\\StructureBuilder.py:92: PDBConstructionWarning: WARNING: Chain B is discontinuous at line 23723.\n",
      "  PDBConstructionWarning,\n",
      "C:\\Users\\HP\\anaconda3\\lib\\site-packages\\Bio\\PDB\\StructureBuilder.py:92: PDBConstructionWarning: WARNING: Chain C is discontinuous at line 23725.\n",
      "  PDBConstructionWarning,\n",
      "C:\\Users\\HP\\anaconda3\\lib\\site-packages\\Bio\\PDB\\StructureBuilder.py:92: PDBConstructionWarning: WARNING: Chain D is discontinuous at line 23727.\n",
      "  PDBConstructionWarning,\n",
      "C:\\Users\\HP\\anaconda3\\lib\\site-packages\\Bio\\PDB\\StructureBuilder.py:92: PDBConstructionWarning: WARNING: Chain E is discontinuous at line 23729.\n",
      "  PDBConstructionWarning,\n",
      "C:\\Users\\HP\\anaconda3\\lib\\site-packages\\Bio\\PDB\\StructureBuilder.py:92: PDBConstructionWarning: WARNING: Chain F is discontinuous at line 23731.\n",
      "  PDBConstructionWarning,\n",
      "C:\\Users\\HP\\anaconda3\\lib\\site-packages\\Bio\\PDB\\StructureBuilder.py:92: PDBConstructionWarning: WARNING: Chain G is discontinuous at line 23733.\n",
      "  PDBConstructionWarning,\n",
      "C:\\Users\\HP\\anaconda3\\lib\\site-packages\\Bio\\PDB\\StructureBuilder.py:92: PDBConstructionWarning: WARNING: Chain H is discontinuous at line 23735.\n",
      "  PDBConstructionWarning,\n",
      "C:\\Users\\HP\\anaconda3\\lib\\site-packages\\Bio\\PDB\\StructureBuilder.py:92: PDBConstructionWarning: WARNING: Chain I is discontinuous at line 23737.\n",
      "  PDBConstructionWarning,\n",
      "C:\\Users\\HP\\anaconda3\\lib\\site-packages\\Bio\\PDB\\StructureBuilder.py:92: PDBConstructionWarning: WARNING: Chain J is discontinuous at line 23739.\n",
      "  PDBConstructionWarning,\n",
      "C:\\Users\\HP\\anaconda3\\lib\\site-packages\\Bio\\PDB\\StructureBuilder.py:92: PDBConstructionWarning: WARNING: Chain K is discontinuous at line 23741.\n",
      "  PDBConstructionWarning,\n",
      "C:\\Users\\HP\\anaconda3\\lib\\site-packages\\Bio\\PDB\\StructureBuilder.py:92: PDBConstructionWarning: WARNING: Chain L is discontinuous at line 23743.\n",
      "  PDBConstructionWarning,\n",
      "C:\\Users\\HP\\anaconda3\\lib\\site-packages\\Bio\\PDB\\StructureBuilder.py:92: PDBConstructionWarning: WARNING: Chain M is discontinuous at line 23745.\n",
      "  PDBConstructionWarning,\n",
      "C:\\Users\\HP\\anaconda3\\lib\\site-packages\\Bio\\PDB\\StructureBuilder.py:92: PDBConstructionWarning: WARNING: Chain N is discontinuous at line 23747.\n",
      "  PDBConstructionWarning,\n",
      "C:\\Users\\HP\\anaconda3\\lib\\site-packages\\Bio\\PDB\\StructureBuilder.py:92: PDBConstructionWarning: WARNING: Chain O is discontinuous at line 23749.\n",
      "  PDBConstructionWarning,\n",
      "C:\\Users\\HP\\anaconda3\\lib\\site-packages\\Bio\\PDB\\StructureBuilder.py:92: PDBConstructionWarning: WARNING: Chain P is discontinuous at line 23751.\n",
      "  PDBConstructionWarning,\n",
      "C:\\Users\\HP\\anaconda3\\lib\\site-packages\\Bio\\PDB\\StructureBuilder.py:92: PDBConstructionWarning: WARNING: Chain Q is discontinuous at line 23753.\n",
      "  PDBConstructionWarning,\n",
      "C:\\Users\\HP\\anaconda3\\lib\\site-packages\\Bio\\PDB\\StructureBuilder.py:92: PDBConstructionWarning: WARNING: Chain R is discontinuous at line 23755.\n",
      "  PDBConstructionWarning,\n",
      "C:\\Users\\HP\\anaconda3\\lib\\site-packages\\Bio\\PDB\\StructureBuilder.py:92: PDBConstructionWarning: WARNING: Chain S is discontinuous at line 23757.\n",
      "  PDBConstructionWarning,\n",
      "C:\\Users\\HP\\anaconda3\\lib\\site-packages\\Bio\\PDB\\StructureBuilder.py:92: PDBConstructionWarning: WARNING: Chain T is discontinuous at line 23759.\n",
      "  PDBConstructionWarning,\n",
      "C:\\Users\\HP\\anaconda3\\lib\\site-packages\\Bio\\PDB\\StructureBuilder.py:92: PDBConstructionWarning: WARNING: Chain U is discontinuous at line 23761.\n",
      "  PDBConstructionWarning,\n",
      "C:\\Users\\HP\\anaconda3\\lib\\site-packages\\Bio\\PDB\\StructureBuilder.py:92: PDBConstructionWarning: WARNING: Chain V is discontinuous at line 23763.\n",
      "  PDBConstructionWarning,\n",
      "C:\\Users\\HP\\anaconda3\\lib\\site-packages\\Bio\\PDB\\StructureBuilder.py:92: PDBConstructionWarning: WARNING: Chain W is discontinuous at line 23765.\n",
      "  PDBConstructionWarning,\n",
      "C:\\Users\\HP\\anaconda3\\lib\\site-packages\\Bio\\PDB\\StructureBuilder.py:92: PDBConstructionWarning: WARNING: Chain X is discontinuous at line 23767.\n",
      "  PDBConstructionWarning,\n",
      "C:\\Users\\HP\\anaconda3\\lib\\site-packages\\Bio\\PDB\\StructureBuilder.py:92: PDBConstructionWarning: WARNING: Chain A is discontinuous at line 23769.\n",
      "  PDBConstructionWarning,\n",
      "C:\\Users\\HP\\anaconda3\\lib\\site-packages\\Bio\\PDB\\StructureBuilder.py:92: PDBConstructionWarning: WARNING: Chain B is discontinuous at line 23838.\n",
      "  PDBConstructionWarning,\n",
      "C:\\Users\\HP\\anaconda3\\lib\\site-packages\\Bio\\PDB\\StructureBuilder.py:92: PDBConstructionWarning: WARNING: Chain C is discontinuous at line 23897.\n",
      "  PDBConstructionWarning,\n",
      "C:\\Users\\HP\\anaconda3\\lib\\site-packages\\Bio\\PDB\\StructureBuilder.py:92: PDBConstructionWarning: WARNING: Chain D is discontinuous at line 23963.\n",
      "  PDBConstructionWarning,\n",
      "C:\\Users\\HP\\anaconda3\\lib\\site-packages\\Bio\\PDB\\StructureBuilder.py:92: PDBConstructionWarning: WARNING: Chain E is discontinuous at line 24026.\n",
      "  PDBConstructionWarning,\n",
      "C:\\Users\\HP\\anaconda3\\lib\\site-packages\\Bio\\PDB\\StructureBuilder.py:92: PDBConstructionWarning: WARNING: Chain F is discontinuous at line 24089.\n",
      "  PDBConstructionWarning,\n",
      "C:\\Users\\HP\\anaconda3\\lib\\site-packages\\Bio\\PDB\\StructureBuilder.py:92: PDBConstructionWarning: WARNING: Chain G is discontinuous at line 24147.\n",
      "  PDBConstructionWarning,\n",
      "C:\\Users\\HP\\anaconda3\\lib\\site-packages\\Bio\\PDB\\StructureBuilder.py:92: PDBConstructionWarning: WARNING: Chain H is discontinuous at line 24212.\n",
      "  PDBConstructionWarning,\n",
      "C:\\Users\\HP\\anaconda3\\lib\\site-packages\\Bio\\PDB\\StructureBuilder.py:92: PDBConstructionWarning: WARNING: Chain I is discontinuous at line 24271.\n",
      "  PDBConstructionWarning,\n",
      "C:\\Users\\HP\\anaconda3\\lib\\site-packages\\Bio\\PDB\\StructureBuilder.py:92: PDBConstructionWarning: WARNING: Chain J is discontinuous at line 24326.\n",
      "  PDBConstructionWarning,\n",
      "C:\\Users\\HP\\anaconda3\\lib\\site-packages\\Bio\\PDB\\StructureBuilder.py:92: PDBConstructionWarning: WARNING: Chain K is discontinuous at line 24399.\n",
      "  PDBConstructionWarning,\n",
      "C:\\Users\\HP\\anaconda3\\lib\\site-packages\\Bio\\PDB\\StructureBuilder.py:92: PDBConstructionWarning: WARNING: Chain L is discontinuous at line 24470.\n",
      "  PDBConstructionWarning,\n",
      "C:\\Users\\HP\\anaconda3\\lib\\site-packages\\Bio\\PDB\\StructureBuilder.py:92: PDBConstructionWarning: WARNING: Chain M is discontinuous at line 24541.\n",
      "  PDBConstructionWarning,\n",
      "C:\\Users\\HP\\anaconda3\\lib\\site-packages\\Bio\\PDB\\StructureBuilder.py:92: PDBConstructionWarning: WARNING: Chain N is discontinuous at line 24615.\n",
      "  PDBConstructionWarning,\n",
      "C:\\Users\\HP\\anaconda3\\lib\\site-packages\\Bio\\PDB\\StructureBuilder.py:92: PDBConstructionWarning: WARNING: Chain O is discontinuous at line 24666.\n",
      "  PDBConstructionWarning,\n",
      "C:\\Users\\HP\\anaconda3\\lib\\site-packages\\Bio\\PDB\\StructureBuilder.py:92: PDBConstructionWarning: WARNING: Chain P is discontinuous at line 24711.\n",
      "  PDBConstructionWarning,\n",
      "C:\\Users\\HP\\anaconda3\\lib\\site-packages\\Bio\\PDB\\StructureBuilder.py:92: PDBConstructionWarning: WARNING: Chain Q is discontinuous at line 24769.\n",
      "  PDBConstructionWarning,\n",
      "C:\\Users\\HP\\anaconda3\\lib\\site-packages\\Bio\\PDB\\StructureBuilder.py:92: PDBConstructionWarning: WARNING: Chain R is discontinuous at line 24850.\n",
      "  PDBConstructionWarning,\n",
      "C:\\Users\\HP\\anaconda3\\lib\\site-packages\\Bio\\PDB\\StructureBuilder.py:92: PDBConstructionWarning: WARNING: Chain S is discontinuous at line 24911.\n",
      "  PDBConstructionWarning,\n",
      "C:\\Users\\HP\\anaconda3\\lib\\site-packages\\Bio\\PDB\\StructureBuilder.py:92: PDBConstructionWarning: WARNING: Chain T is discontinuous at line 24978.\n",
      "  PDBConstructionWarning,\n",
      "C:\\Users\\HP\\anaconda3\\lib\\site-packages\\Bio\\PDB\\StructureBuilder.py:92: PDBConstructionWarning: WARNING: Chain U is discontinuous at line 25040.\n",
      "  PDBConstructionWarning,\n",
      "C:\\Users\\HP\\anaconda3\\lib\\site-packages\\Bio\\PDB\\StructureBuilder.py:92: PDBConstructionWarning: WARNING: Chain V is discontinuous at line 25117.\n",
      "  PDBConstructionWarning,\n",
      "C:\\Users\\HP\\anaconda3\\lib\\site-packages\\Bio\\PDB\\StructureBuilder.py:92: PDBConstructionWarning: WARNING: Chain W is discontinuous at line 25166.\n",
      "  PDBConstructionWarning,\n",
      "C:\\Users\\HP\\anaconda3\\lib\\site-packages\\Bio\\PDB\\StructureBuilder.py:92: PDBConstructionWarning: WARNING: Chain X is discontinuous at line 25211.\n",
      "  PDBConstructionWarning,\n"
     ]
    },
    {
     "data": {
      "text/plain": [
       "1"
      ]
     },
     "execution_count": 41,
     "metadata": {},
     "output_type": "execute_result"
    }
   ],
   "source": [
    "structure= parser.get_structure('SARS-CoV-19','2g9t.pdb')\n",
    "len(structure)"
   ]
  },
  {
   "cell_type": "code",
   "execution_count": 42,
   "metadata": {},
   "outputs": [
    {
     "data": {
      "text/plain": [
       "1"
      ]
     },
     "execution_count": 42,
     "metadata": {},
     "output_type": "execute_result"
    }
   ],
   "source": [
    "len(structure)"
   ]
  },
  {
   "cell_type": "code",
   "execution_count": 43,
   "metadata": {},
   "outputs": [
    {
     "name": "stderr",
     "output_type": "stream",
     "text": [
      "C:\\Users\\HP\\anaconda3\\lib\\site-packages\\Bio\\PDB\\StructureBuilder.py:92: PDBConstructionWarning: WARNING: Chain A is discontinuous at line 23801.\n",
      "  PDBConstructionWarning,\n",
      "C:\\Users\\HP\\anaconda3\\lib\\site-packages\\Bio\\PDB\\StructureBuilder.py:92: PDBConstructionWarning: WARNING: Chain B is discontinuous at line 23803.\n",
      "  PDBConstructionWarning,\n",
      "C:\\Users\\HP\\anaconda3\\lib\\site-packages\\Bio\\PDB\\StructureBuilder.py:92: PDBConstructionWarning: WARNING: Chain C is discontinuous at line 23805.\n",
      "  PDBConstructionWarning,\n",
      "C:\\Users\\HP\\anaconda3\\lib\\site-packages\\Bio\\PDB\\StructureBuilder.py:92: PDBConstructionWarning: WARNING: Chain D is discontinuous at line 23807.\n",
      "  PDBConstructionWarning,\n",
      "C:\\Users\\HP\\anaconda3\\lib\\site-packages\\Bio\\PDB\\StructureBuilder.py:92: PDBConstructionWarning: WARNING: Chain E is discontinuous at line 23809.\n",
      "  PDBConstructionWarning,\n",
      "C:\\Users\\HP\\anaconda3\\lib\\site-packages\\Bio\\PDB\\StructureBuilder.py:92: PDBConstructionWarning: WARNING: Chain F is discontinuous at line 23811.\n",
      "  PDBConstructionWarning,\n",
      "C:\\Users\\HP\\anaconda3\\lib\\site-packages\\Bio\\PDB\\StructureBuilder.py:92: PDBConstructionWarning: WARNING: Chain G is discontinuous at line 23813.\n",
      "  PDBConstructionWarning,\n",
      "C:\\Users\\HP\\anaconda3\\lib\\site-packages\\Bio\\PDB\\StructureBuilder.py:92: PDBConstructionWarning: WARNING: Chain H is discontinuous at line 23815.\n",
      "  PDBConstructionWarning,\n",
      "C:\\Users\\HP\\anaconda3\\lib\\site-packages\\Bio\\PDB\\StructureBuilder.py:92: PDBConstructionWarning: WARNING: Chain I is discontinuous at line 23817.\n",
      "  PDBConstructionWarning,\n",
      "C:\\Users\\HP\\anaconda3\\lib\\site-packages\\Bio\\PDB\\StructureBuilder.py:92: PDBConstructionWarning: WARNING: Chain J is discontinuous at line 23819.\n",
      "  PDBConstructionWarning,\n",
      "C:\\Users\\HP\\anaconda3\\lib\\site-packages\\Bio\\PDB\\StructureBuilder.py:92: PDBConstructionWarning: WARNING: Chain K is discontinuous at line 23821.\n",
      "  PDBConstructionWarning,\n",
      "C:\\Users\\HP\\anaconda3\\lib\\site-packages\\Bio\\PDB\\StructureBuilder.py:92: PDBConstructionWarning: WARNING: Chain L is discontinuous at line 23823.\n",
      "  PDBConstructionWarning,\n",
      "C:\\Users\\HP\\anaconda3\\lib\\site-packages\\Bio\\PDB\\StructureBuilder.py:92: PDBConstructionWarning: WARNING: Chain M is discontinuous at line 23825.\n",
      "  PDBConstructionWarning,\n",
      "C:\\Users\\HP\\anaconda3\\lib\\site-packages\\Bio\\PDB\\StructureBuilder.py:92: PDBConstructionWarning: WARNING: Chain N is discontinuous at line 23827.\n",
      "  PDBConstructionWarning,\n",
      "C:\\Users\\HP\\anaconda3\\lib\\site-packages\\Bio\\PDB\\StructureBuilder.py:92: PDBConstructionWarning: WARNING: Chain O is discontinuous at line 23829.\n",
      "  PDBConstructionWarning,\n",
      "C:\\Users\\HP\\anaconda3\\lib\\site-packages\\Bio\\PDB\\StructureBuilder.py:92: PDBConstructionWarning: WARNING: Chain P is discontinuous at line 23831.\n",
      "  PDBConstructionWarning,\n",
      "C:\\Users\\HP\\anaconda3\\lib\\site-packages\\Bio\\PDB\\StructureBuilder.py:92: PDBConstructionWarning: WARNING: Chain Q is discontinuous at line 23833.\n",
      "  PDBConstructionWarning,\n",
      "C:\\Users\\HP\\anaconda3\\lib\\site-packages\\Bio\\PDB\\StructureBuilder.py:92: PDBConstructionWarning: WARNING: Chain R is discontinuous at line 23835.\n",
      "  PDBConstructionWarning,\n",
      "C:\\Users\\HP\\anaconda3\\lib\\site-packages\\Bio\\PDB\\StructureBuilder.py:92: PDBConstructionWarning: WARNING: Chain S is discontinuous at line 23837.\n",
      "  PDBConstructionWarning,\n",
      "C:\\Users\\HP\\anaconda3\\lib\\site-packages\\Bio\\PDB\\StructureBuilder.py:92: PDBConstructionWarning: WARNING: Chain T is discontinuous at line 23839.\n",
      "  PDBConstructionWarning,\n",
      "C:\\Users\\HP\\anaconda3\\lib\\site-packages\\Bio\\PDB\\StructureBuilder.py:92: PDBConstructionWarning: WARNING: Chain U is discontinuous at line 23841.\n",
      "  PDBConstructionWarning,\n",
      "C:\\Users\\HP\\anaconda3\\lib\\site-packages\\Bio\\PDB\\StructureBuilder.py:92: PDBConstructionWarning: WARNING: Chain V is discontinuous at line 23843.\n",
      "  PDBConstructionWarning,\n",
      "C:\\Users\\HP\\anaconda3\\lib\\site-packages\\Bio\\PDB\\StructureBuilder.py:92: PDBConstructionWarning: WARNING: Chain W is discontinuous at line 23845.\n",
      "  PDBConstructionWarning,\n",
      "C:\\Users\\HP\\anaconda3\\lib\\site-packages\\Bio\\PDB\\StructureBuilder.py:92: PDBConstructionWarning: WARNING: Chain X is discontinuous at line 23847.\n",
      "  PDBConstructionWarning,\n",
      "C:\\Users\\HP\\anaconda3\\lib\\site-packages\\Bio\\PDB\\StructureBuilder.py:92: PDBConstructionWarning: WARNING: Chain A is discontinuous at line 23849.\n",
      "  PDBConstructionWarning,\n",
      "C:\\Users\\HP\\anaconda3\\lib\\site-packages\\Bio\\PDB\\StructureBuilder.py:92: PDBConstructionWarning: WARNING: Chain B is discontinuous at line 23895.\n",
      "  PDBConstructionWarning,\n",
      "C:\\Users\\HP\\anaconda3\\lib\\site-packages\\Bio\\PDB\\StructureBuilder.py:92: PDBConstructionWarning: WARNING: Chain C is discontinuous at line 23932.\n",
      "  PDBConstructionWarning,\n",
      "C:\\Users\\HP\\anaconda3\\lib\\site-packages\\Bio\\PDB\\StructureBuilder.py:92: PDBConstructionWarning: WARNING: Chain D is discontinuous at line 23975.\n",
      "  PDBConstructionWarning,\n",
      "C:\\Users\\HP\\anaconda3\\lib\\site-packages\\Bio\\PDB\\StructureBuilder.py:92: PDBConstructionWarning: WARNING: Chain E is discontinuous at line 24004.\n",
      "  PDBConstructionWarning,\n",
      "C:\\Users\\HP\\anaconda3\\lib\\site-packages\\Bio\\PDB\\StructureBuilder.py:92: PDBConstructionWarning: WARNING: Chain F is discontinuous at line 24046.\n",
      "  PDBConstructionWarning,\n",
      "C:\\Users\\HP\\anaconda3\\lib\\site-packages\\Bio\\PDB\\StructureBuilder.py:92: PDBConstructionWarning: WARNING: Chain G is discontinuous at line 24090.\n",
      "  PDBConstructionWarning,\n",
      "C:\\Users\\HP\\anaconda3\\lib\\site-packages\\Bio\\PDB\\StructureBuilder.py:92: PDBConstructionWarning: WARNING: Chain H is discontinuous at line 24138.\n",
      "  PDBConstructionWarning,\n",
      "C:\\Users\\HP\\anaconda3\\lib\\site-packages\\Bio\\PDB\\StructureBuilder.py:92: PDBConstructionWarning: WARNING: Chain I is discontinuous at line 24181.\n",
      "  PDBConstructionWarning,\n",
      "C:\\Users\\HP\\anaconda3\\lib\\site-packages\\Bio\\PDB\\StructureBuilder.py:92: PDBConstructionWarning: WARNING: Chain J is discontinuous at line 24218.\n",
      "  PDBConstructionWarning,\n",
      "C:\\Users\\HP\\anaconda3\\lib\\site-packages\\Bio\\PDB\\StructureBuilder.py:92: PDBConstructionWarning: WARNING: Chain K is discontinuous at line 24248.\n",
      "  PDBConstructionWarning,\n",
      "C:\\Users\\HP\\anaconda3\\lib\\site-packages\\Bio\\PDB\\StructureBuilder.py:92: PDBConstructionWarning: WARNING: Chain L is discontinuous at line 24288.\n",
      "  PDBConstructionWarning,\n",
      "C:\\Users\\HP\\anaconda3\\lib\\site-packages\\Bio\\PDB\\StructureBuilder.py:92: PDBConstructionWarning: WARNING: Chain M is discontinuous at line 24336.\n",
      "  PDBConstructionWarning,\n",
      "C:\\Users\\HP\\anaconda3\\lib\\site-packages\\Bio\\PDB\\StructureBuilder.py:92: PDBConstructionWarning: WARNING: Chain N is discontinuous at line 24392.\n",
      "  PDBConstructionWarning,\n",
      "C:\\Users\\HP\\anaconda3\\lib\\site-packages\\Bio\\PDB\\StructureBuilder.py:92: PDBConstructionWarning: WARNING: Chain O is discontinuous at line 24423.\n",
      "  PDBConstructionWarning,\n",
      "C:\\Users\\HP\\anaconda3\\lib\\site-packages\\Bio\\PDB\\StructureBuilder.py:92: PDBConstructionWarning: WARNING: Chain P is discontinuous at line 24476.\n",
      "  PDBConstructionWarning,\n",
      "C:\\Users\\HP\\anaconda3\\lib\\site-packages\\Bio\\PDB\\StructureBuilder.py:92: PDBConstructionWarning: WARNING: Chain Q is discontinuous at line 24527.\n",
      "  PDBConstructionWarning,\n",
      "C:\\Users\\HP\\anaconda3\\lib\\site-packages\\Bio\\PDB\\StructureBuilder.py:92: PDBConstructionWarning: WARNING: Chain R is discontinuous at line 24561.\n",
      "  PDBConstructionWarning,\n",
      "C:\\Users\\HP\\anaconda3\\lib\\site-packages\\Bio\\PDB\\StructureBuilder.py:92: PDBConstructionWarning: WARNING: Chain S is discontinuous at line 24600.\n",
      "  PDBConstructionWarning,\n",
      "C:\\Users\\HP\\anaconda3\\lib\\site-packages\\Bio\\PDB\\StructureBuilder.py:92: PDBConstructionWarning: WARNING: Chain T is discontinuous at line 24634.\n",
      "  PDBConstructionWarning,\n",
      "C:\\Users\\HP\\anaconda3\\lib\\site-packages\\Bio\\PDB\\StructureBuilder.py:92: PDBConstructionWarning: WARNING: Chain U is discontinuous at line 24667.\n",
      "  PDBConstructionWarning,\n",
      "C:\\Users\\HP\\anaconda3\\lib\\site-packages\\Bio\\PDB\\StructureBuilder.py:92: PDBConstructionWarning: WARNING: Chain V is discontinuous at line 24693.\n",
      "  PDBConstructionWarning,\n",
      "C:\\Users\\HP\\anaconda3\\lib\\site-packages\\Bio\\PDB\\StructureBuilder.py:92: PDBConstructionWarning: WARNING: Chain W is discontinuous at line 24740.\n",
      "  PDBConstructionWarning,\n",
      "C:\\Users\\HP\\anaconda3\\lib\\site-packages\\Bio\\PDB\\StructureBuilder.py:92: PDBConstructionWarning: WARNING: Chain X is discontinuous at line 24777.\n",
      "  PDBConstructionWarning,\n"
     ]
    }
   ],
   "source": [
    "structure_2= parser.get_structure('Structure','2ga6.pdb')"
   ]
  },
  {
   "cell_type": "code",
   "execution_count": 44,
   "metadata": {},
   "outputs": [
    {
     "data": {
      "text/plain": [
       "1"
      ]
     },
     "execution_count": 44,
     "metadata": {},
     "output_type": "execute_result"
    }
   ],
   "source": [
    "len(structure_2)"
   ]
  },
  {
   "cell_type": "code",
   "execution_count": 45,
   "metadata": {},
   "outputs": [
    {
     "name": "stdout",
     "output_type": "stream",
     "text": [
      "<Chain id=A>\n",
      "<Chain id=B>\n",
      "<Chain id=C>\n",
      "<Chain id=D>\n",
      "<Chain id=E>\n",
      "<Chain id=F>\n",
      "<Chain id=G>\n",
      "<Chain id=H>\n",
      "<Chain id=I>\n",
      "<Chain id=J>\n",
      "<Chain id=K>\n",
      "<Chain id=L>\n",
      "<Chain id=M>\n",
      "<Chain id=N>\n",
      "<Chain id=O>\n",
      "<Chain id=P>\n",
      "<Chain id=Q>\n",
      "<Chain id=R>\n",
      "<Chain id=S>\n",
      "<Chain id=T>\n",
      "<Chain id=U>\n",
      "<Chain id=V>\n",
      "<Chain id=W>\n",
      "<Chain id=X>\n"
     ]
    }
   ],
   "source": [
    "model= structure[0]\n",
    "for chain in model:\n",
    "    print(chain)"
   ]
  },
  {
   "cell_type": "code",
   "execution_count": 46,
   "metadata": {},
   "outputs": [
    {
     "data": {
      "application/vnd.jupyter.widget-view+json": {
       "model_id": "5bba465072a744f3a3a6f37db9ba41fa",
       "version_major": 2,
       "version_minor": 0
      },
      "text/plain": [
       "_ColormakerRegistry()"
      ]
     },
     "metadata": {},
     "output_type": "display_data"
    }
   ],
   "source": [
    "import nglview as nv"
   ]
  },
  {
   "cell_type": "code",
   "execution_count": 47,
   "metadata": {},
   "outputs": [
    {
     "data": {
      "application/vnd.jupyter.widget-view+json": {
       "model_id": "c6499aa37e844a5c87cb2287c43fbd7e",
       "version_major": 2,
       "version_minor": 0
      },
      "text/plain": [
       "NGLWidget()"
      ]
     },
     "metadata": {},
     "output_type": "display_data"
    }
   ],
   "source": [
    "nv.demo()"
   ]
  },
  {
   "cell_type": "code",
   "execution_count": 48,
   "metadata": {},
   "outputs": [
    {
     "data": {
      "application/vnd.jupyter.widget-view+json": {
       "model_id": "44a44cf4008246978ceb88e03927da72",
       "version_major": 2,
       "version_minor": 0
      },
      "text/plain": [
       "NGLWidget()"
      ]
     },
     "metadata": {},
     "output_type": "display_data"
    }
   ],
   "source": [
    "view= nv.show_biopython(structure)\n",
    "view"
   ]
  },
  {
   "cell_type": "code",
   "execution_count": 52,
   "metadata": {},
   "outputs": [],
   "source": [
    "import py3Dmol"
   ]
  },
  {
   "cell_type": "code",
   "execution_count": 55,
   "metadata": {},
   "outputs": [
    {
     "data": {
      "application/3dmoljs_load.v0": "<div id=\"3dmolviewer_15918813105168262\"  style=\"position: relative; width: 640px; height: 480px\">\n        <p id=\"3dmolwarning_15918813105168262\" style=\"background-color:#ffcccc;color:black\">You appear to be running in JupyterLab (or JavaScript failed to load for some other reason).  You need to install the 3dmol extension: <br>\n        <tt>jupyter labextension install jupyterlab_3dmol</tt></p>\n        </div>\n<script>\n\nvar loadScriptAsync = function(uri){\n  return new Promise((resolve, reject) => {\n    var tag = document.createElement('script');\n    tag.src = uri;\n    tag.async = true;\n    tag.onload = () => {\n      resolve();\n    };\n  var firstScriptTag = document.getElementsByTagName('script')[0];\n  firstScriptTag.parentNode.insertBefore(tag, firstScriptTag);\n});\n};\n\nif(typeof $3Dmolpromise === 'undefined') {\n$3Dmolpromise = null;\n  $3Dmolpromise = loadScriptAsync('https://3dmol.csb.pitt.edu/build/3Dmol.js');\n}\n\nvar viewer_15918813105168262 = null;\nvar warn = document.getElementById(\"3dmolwarning_15918813105168262\");\nif(warn) {\n    warn.parentNode.removeChild(warn);\n}\n$3Dmolpromise.then(function() {\nviewer_15918813105168262 = $3Dmol.createViewer($(\"#3dmolviewer_15918813105168262\"),{backgroundColor:\"white\"});\n$3Dmol.download(\"pdb:2GA6\", viewer_15918813105168262, {}, function() {\n\tviewer_15918813105168262.setStyle({\"cartoon\": {\"color\": \"spectrum\"}});\nviewer_15918813105168262.render();\n})\n});\n</script>",
      "text/html": [
       "<div id=\"3dmolviewer_15918813105168262\"  style=\"position: relative; width: 640px; height: 480px\">\n",
       "        <p id=\"3dmolwarning_15918813105168262\" style=\"background-color:#ffcccc;color:black\">You appear to be running in JupyterLab (or JavaScript failed to load for some other reason).  You need to install the 3dmol extension: <br>\n",
       "        <tt>jupyter labextension install jupyterlab_3dmol</tt></p>\n",
       "        </div>\n",
       "<script>\n",
       "\n",
       "var loadScriptAsync = function(uri){\n",
       "  return new Promise((resolve, reject) => {\n",
       "    var tag = document.createElement('script');\n",
       "    tag.src = uri;\n",
       "    tag.async = true;\n",
       "    tag.onload = () => {\n",
       "      resolve();\n",
       "    };\n",
       "  var firstScriptTag = document.getElementsByTagName('script')[0];\n",
       "  firstScriptTag.parentNode.insertBefore(tag, firstScriptTag);\n",
       "});\n",
       "};\n",
       "\n",
       "if(typeof $3Dmolpromise === 'undefined') {\n",
       "$3Dmolpromise = null;\n",
       "  $3Dmolpromise = loadScriptAsync('https://3dmol.csb.pitt.edu/build/3Dmol.js');\n",
       "}\n",
       "\n",
       "var viewer_15918813105168262 = null;\n",
       "var warn = document.getElementById(\"3dmolwarning_15918813105168262\");\n",
       "if(warn) {\n",
       "    warn.parentNode.removeChild(warn);\n",
       "}\n",
       "$3Dmolpromise.then(function() {\n",
       "viewer_15918813105168262 = $3Dmol.createViewer($(\"#3dmolviewer_15918813105168262\"),{backgroundColor:\"white\"});\n",
       "$3Dmol.download(\"pdb:2GA6\", viewer_15918813105168262, {}, function() {\n",
       "\tviewer_15918813105168262.setStyle({\"cartoon\": {\"color\": \"spectrum\"}});\n",
       "viewer_15918813105168262.render();\n",
       "})\n",
       "});\n",
       "</script>"
      ]
     },
     "metadata": {},
     "output_type": "display_data"
    },
    {
     "data": {
      "text/plain": [
       "<py3Dmol.view at 0x2353f29bb08>"
      ]
     },
     "execution_count": 55,
     "metadata": {},
     "output_type": "execute_result"
    }
   ],
   "source": [
    "view2= py3Dmol.view(query='pdb:2GA6')\n",
    "view2.setStyle({'cartoon':{'color':'spectrum'}})"
   ]
  },
  {
   "cell_type": "code",
   "execution_count": 56,
   "metadata": {},
   "outputs": [
    {
     "data": {
      "application/3dmoljs_load.v0": "<div id=\"3dmolviewer_1591883264765672\"  style=\"position: relative; width: 640px; height: 480px\">\n        <p id=\"3dmolwarning_1591883264765672\" style=\"background-color:#ffcccc;color:black\">You appear to be running in JupyterLab (or JavaScript failed to load for some other reason).  You need to install the 3dmol extension: <br>\n        <tt>jupyter labextension install jupyterlab_3dmol</tt></p>\n        </div>\n<script>\n\nvar loadScriptAsync = function(uri){\n  return new Promise((resolve, reject) => {\n    var tag = document.createElement('script');\n    tag.src = uri;\n    tag.async = true;\n    tag.onload = () => {\n      resolve();\n    };\n  var firstScriptTag = document.getElementsByTagName('script')[0];\n  firstScriptTag.parentNode.insertBefore(tag, firstScriptTag);\n});\n};\n\nif(typeof $3Dmolpromise === 'undefined') {\n$3Dmolpromise = null;\n  $3Dmolpromise = loadScriptAsync('https://3dmol.csb.pitt.edu/build/3Dmol.js');\n}\n\nvar viewer_1591883264765672 = null;\nvar warn = document.getElementById(\"3dmolwarning_1591883264765672\");\nif(warn) {\n    warn.parentNode.removeChild(warn);\n}\n$3Dmolpromise.then(function() {\nviewer_1591883264765672 = $3Dmol.createViewer($(\"#3dmolviewer_1591883264765672\"),{backgroundColor:\"white\"});\n$3Dmol.download(\"pdb:2GA6\", viewer_1591883264765672, {}, function() {\n\tviewer_1591883264765672.setStyle({\"cartoon\": {\"color\": \"spectrum\"}});\n\tviewer_1591883264765672.render_image();\nviewer_1591883264765672.render();\n})\n});\n</script>",
      "text/html": [
       "<div id=\"3dmolviewer_1591883264765672\"  style=\"position: relative; width: 640px; height: 480px\">\n",
       "        <p id=\"3dmolwarning_1591883264765672\" style=\"background-color:#ffcccc;color:black\">You appear to be running in JupyterLab (or JavaScript failed to load for some other reason).  You need to install the 3dmol extension: <br>\n",
       "        <tt>jupyter labextension install jupyterlab_3dmol</tt></p>\n",
       "        </div>\n",
       "<script>\n",
       "\n",
       "var loadScriptAsync = function(uri){\n",
       "  return new Promise((resolve, reject) => {\n",
       "    var tag = document.createElement('script');\n",
       "    tag.src = uri;\n",
       "    tag.async = true;\n",
       "    tag.onload = () => {\n",
       "      resolve();\n",
       "    };\n",
       "  var firstScriptTag = document.getElementsByTagName('script')[0];\n",
       "  firstScriptTag.parentNode.insertBefore(tag, firstScriptTag);\n",
       "});\n",
       "};\n",
       "\n",
       "if(typeof $3Dmolpromise === 'undefined') {\n",
       "$3Dmolpromise = null;\n",
       "  $3Dmolpromise = loadScriptAsync('https://3dmol.csb.pitt.edu/build/3Dmol.js');\n",
       "}\n",
       "\n",
       "var viewer_1591883264765672 = null;\n",
       "var warn = document.getElementById(\"3dmolwarning_1591883264765672\");\n",
       "if(warn) {\n",
       "    warn.parentNode.removeChild(warn);\n",
       "}\n",
       "$3Dmolpromise.then(function() {\n",
       "viewer_1591883264765672 = $3Dmol.createViewer($(\"#3dmolviewer_1591883264765672\"),{backgroundColor:\"white\"});\n",
       "$3Dmol.download(\"pdb:2GA6\", viewer_1591883264765672, {}, function() {\n",
       "\tviewer_1591883264765672.setStyle({\"cartoon\": {\"color\": \"spectrum\"}});\n",
       "\tviewer_1591883264765672.render_image();\n",
       "viewer_1591883264765672.render();\n",
       "})\n",
       "});\n",
       "</script>"
      ]
     },
     "metadata": {},
     "output_type": "display_data"
    },
    {
     "data": {
      "text/plain": [
       "<py3Dmol.view at 0x2353f29bb08>"
      ]
     },
     "execution_count": 56,
     "metadata": {},
     "output_type": "execute_result"
    }
   ],
   "source": [
    "view2.render_image()"
   ]
  },
  {
   "cell_type": "code",
   "execution_count": null,
   "metadata": {},
   "outputs": [],
   "source": []
  }
 ],
 "metadata": {
  "kernelspec": {
   "display_name": "Python 3",
   "language": "python",
   "name": "python3"
  },
  "language_info": {
   "codemirror_mode": {
    "name": "ipython",
    "version": 3
   },
   "file_extension": ".py",
   "mimetype": "text/x-python",
   "name": "python",
   "nbconvert_exporter": "python",
   "pygments_lexer": "ipython3",
   "version": "3.7.6"
  }
 },
 "nbformat": 4,
 "nbformat_minor": 4
}
